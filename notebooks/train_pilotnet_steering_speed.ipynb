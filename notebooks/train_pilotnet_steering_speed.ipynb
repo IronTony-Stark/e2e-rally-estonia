{
 "cells": [
  {
   "cell_type": "code",
   "execution_count": 1,
   "id": "f1197580",
   "metadata": {},
   "outputs": [],
   "source": [
    "import numpy as np\n",
    "import pandas as pd\n",
    "import matplotlib.pyplot as plt\n",
    "from pathlib import Path\n",
    "from tqdm.auto import tqdm\n",
    "\n",
    "import torch\n",
    "import torch.nn as nn\n",
    "from torch.utils.data import ConcatDataset\n",
    "import torchvision\n",
    "from torchvision import transforms\n",
    "\n",
    "from dataloading.nvidia import NvidiaCropWide, Normalize, NvidiaDataset\n",
    "from network import PilotNet\n",
    "from trainer import Trainer\n",
    "\n",
    "import wandb\n",
    "\n",
    "%load_ext autoreload\n",
    "%autoreload 2"
   ]
  },
  {
   "cell_type": "markdown",
   "id": "e249da46",
   "metadata": {},
   "source": [
    "# Config"
   ]
  },
  {
   "cell_type": "code",
   "execution_count": 4,
   "id": "4be2babc",
   "metadata": {},
   "outputs": [],
   "source": [
    "# Set path to where you bag files are extracted\n",
    "#root_path = Path(\"/home/romet/data/datasets/ut/nvidia-data\")\n",
    "root_path = Path(\"/home/romet/projects/ut/wp4/dataset\")\n",
    "use_augmentation = False\n",
    "model_name = f\"models/1-pilotnet-steering-speed-v1\"\n",
    "\n",
    "# Hyperparameters\n",
    "n_epochs = 100\n",
    "learning_rate = 1e-3\n",
    "weight_decay = 0.01"
   ]
  },
  {
   "cell_type": "markdown",
   "id": "cc2cc6b8",
   "metadata": {},
   "source": [
    "## Datasets"
   ]
  },
  {
   "cell_type": "code",
   "execution_count": 5,
   "id": "f7788f9c",
   "metadata": {},
   "outputs": [],
   "source": [
    "\n",
    "train_paths = [\n",
    "    root_path / \"2021-05-20-12-36-10_e2e_sulaoja_20_30\",\n",
    "    root_path / \"2021-05-20-12-43-17_e2e_sulaoja_20_30\", \n",
    "    root_path / \"2021-05-20-12-51-29_e2e_sulaoja_20_30\",\n",
    "    root_path / \"2021-05-20-13-44-06_e2e_sulaoja_10_10\",\n",
    "    root_path / \"2021-05-20-13-51-21_e2e_sulaoja_10_10\",\n",
    "    root_path / \"2021-05-20-13-59-00_e2e_sulaoja_10_10\",\n",
    "    root_path / \"2021-05-28-15-07-56_e2e_sulaoja_20_30\",\n",
    "    root_path / \"2021-05-28-15-17-19_e2e_sulaoja_20_30\",               \n",
    "    root_path / \"2021-06-07-14-06-31_e2e_rec_ss6\",\n",
    "    root_path / \"2021-06-07-14-09-18_e2e_rec_ss6\",\n",
    "    root_path / \"2021-06-07-14-36-16_e2e_rec_ss6\",\n",
    "    root_path / \"2021-06-09-13-14-51_e2e_rec_ss2\",\n",
    "    root_path / \"2021-06-09-13-55-03_e2e_rec_ss2_backwards\",\n",
    "    root_path / \"2021-06-09-14-58-11_e2e_rec_ss3\",\n",
    "    root_path / \"2021-06-09-15-42-05_e2e_rec_ss3_backwards\",\n",
    "    root_path / \"2021-06-09-16-24-59_e2e_rec_ss13\",\n",
    "    root_path / \"2021-06-09-16-50-22_e2e_rec_ss13_backwards\",\n",
    "    root_path / \"2021-06-10-12-59-59_e2e_ss4\",\n",
    "    root_path / \"2021-06-10-13-19-22_e2e_ss4_backwards\",\n",
    "    root_path / \"2021-06-10-13-51-34_e2e_ss12\",\n",
    "    root_path / \"2021-06-10-14-02-24_e2e_ss12_backwards\",\n",
    "    root_path / \"2021-06-10-14-44-24_e2e_ss3_backwards\",\n",
    "    root_path / \"2021-06-10-15-03-16_e2e_ss3_backwards\",\n",
    "    root_path / \"2021-06-14-11-08-19_e2e_rec_ss14\",\n",
    "    root_path / \"2021-06-14-11-43-48_e2e_rec_ss14_backwards\"\n",
    "]\n",
    "\n",
    "tr = transforms.Compose([NvidiaCropWide(), Normalize()])\n",
    "trainset = NvidiaDataset(train_paths, camera=\"front_wide\", transform=tr)\n",
    "trainloader = torch.utils.data.DataLoader(trainset, batch_size=64, shuffle=True,\n",
    "                                         num_workers=32, pin_memory=True, persistent_workers=True)"
   ]
  },
  {
   "cell_type": "code",
   "execution_count": 6,
   "id": "cbef27bf",
   "metadata": {},
   "outputs": [],
   "source": [
    "valid_paths = [\n",
    "               root_path / \"2021-05-28-15-19-48_e2e_sulaoja_20_30\",\n",
    "               root_path / \"2021-06-07-14-20-07_e2e_rec_ss6\",\n",
    "               root_path / \"2021-06-14-11-22-05_e2e_rec_ss14\"\n",
    "              ]\n",
    "validset = NvidiaDataset(valid_paths, camera=\"front_wide\", transform=tr)\n",
    "validloader = torch.utils.data.DataLoader(validset, batch_size=64, shuffle=False,\n",
    "                                         num_workers=32, pin_memory=True, persistent_workers=True)"
   ]
  },
  {
   "cell_type": "markdown",
   "id": "9e2b6318",
   "metadata": {},
   "source": [
    "## Train model"
   ]
  },
  {
   "cell_type": "code",
   "execution_count": null,
   "id": "c0284be0",
   "metadata": {
    "scrolled": false
   },
   "outputs": [],
   "source": [
    "device = torch.device('cuda' if torch.cuda.is_available() else 'cpu')\n",
    "\n",
    "model = trainer.load_model(f\"models/1-pilotnet-steering-v1/best.pt\")\n",
    "\n",
    "criterion = nn.L1Loss()\n",
    "criterion = criterion.to(device)\n",
    "optimizer = torch.optim.AdamW(model.parameters(), lr=learning_rate, betas=(0.9, 0.999), \n",
    "                              eps=1e-08, weight_decay=weight_decay, amsgrad=False)\n"
   ]
  },
  {
   "cell_type": "code",
   "execution_count": null,
   "id": "ddcf643c",
   "metadata": {},
   "outputs": [],
   "source": [
    "# freeze feature layers (convolutional layers)\n",
    "for param in model.features.parameters():\n",
    "    param.requires_grad = False"
   ]
  },
  {
   "cell_type": "code",
   "execution_count": null,
   "id": "0723d060",
   "metadata": {},
   "outputs": [],
   "source": [
    "for name, param in model.named_parameters():\n",
    "    print(f\"{name}: {param.requires_grad}\")"
   ]
  },
  {
   "cell_type": "code",
   "execution_count": null,
   "id": "1727c79a",
   "metadata": {},
   "outputs": [],
   "source": [
    "trainer.train(model, trainloader, validloader, optimizer, criterion, n_epochs)"
   ]
  },
  {
   "cell_type": "markdown",
   "id": "cbae442e",
   "metadata": {},
   "source": [
    "## Save models"
   ]
  },
  {
   "cell_type": "code",
   "execution_count": null,
   "id": "864cd214",
   "metadata": {},
   "outputs": [],
   "source": [
    "torch.save(model.state_dict(), f\"{model_name}/last.pt\")\n",
    "# wandb.save(f\"{model_name}/last.pt\")\n",
    "# wandb.save(f\"{model_name}/best.pt\")"
   ]
  },
  {
   "cell_type": "code",
   "execution_count": null,
   "id": "95f965ef",
   "metadata": {},
   "outputs": [],
   "source": [
    "# model_name = f\"models/1-pilotnet-base/1cam-batch-v1\"\n",
    "# trainer = Trainer(model_name, wandb_logging=False)"
   ]
  },
  {
   "cell_type": "code",
   "execution_count": 8,
   "id": "1a73a315",
   "metadata": {},
   "outputs": [],
   "source": [
    "trainer = Trainer(model_name, target_name=\"vehicle_speed\", wandb_logging=False)\n",
    "device = torch.device('cuda' if torch.cuda.is_available() else 'cpu')\n",
    "data = iter(validloader).next()\n",
    "inputs = data['image'].to(device)\n",
    "best_model = trainer.load_model(f\"{model_name}/best.pt\")\n",
    "best_model.eval()\n",
    "ONNX_FILE_PATH = f\"{model_name}/best.onnx\"\n",
    "torch.onnx.export(best_model, inputs, ONNX_FILE_PATH)\n",
    "#wandb.save(f\"{model_name}/best.onnx\")"
   ]
  },
  {
   "cell_type": "code",
   "execution_count": 9,
   "id": "3205fb05",
   "metadata": {},
   "outputs": [],
   "source": [
    "import onnx\n",
    "onnx.checker.check_model(f\"{model_name}/best.onnx\")"
   ]
  },
  {
   "cell_type": "code",
   "execution_count": null,
   "id": "87628380",
   "metadata": {},
   "outputs": [],
   "source": []
  },
  {
   "cell_type": "code",
   "execution_count": null,
   "id": "f07f2e07",
   "metadata": {},
   "outputs": [],
   "source": []
  }
 ],
 "metadata": {
  "kernelspec": {
   "display_name": "Python 3 (ipykernel)",
   "language": "python",
   "name": "python3"
  },
  "language_info": {
   "codemirror_mode": {
    "name": "ipython",
    "version": 3
   },
   "file_extension": ".py",
   "mimetype": "text/x-python",
   "name": "python",
   "nbconvert_exporter": "python",
   "pygments_lexer": "ipython3",
   "version": "3.9.6"
  }
 },
 "nbformat": 4,
 "nbformat_minor": 5
}
