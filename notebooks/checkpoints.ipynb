{
 "cells": [
  {
   "cell_type": "code",
   "execution_count": 179,
   "id": "10790798",
   "metadata": {},
   "outputs": [
    {
     "name": "stdout",
     "output_type": "stream",
     "text": [
      "The autoreload extension is already loaded. To reload it, use:\n",
      "  %reload_ext autoreload\n"
     ]
    }
   ],
   "source": [
    "import numpy as np\n",
    "import pandas as pd\n",
    "import matplotlib.pyplot as plt\n",
    "\n",
    "%load_ext autoreload\n",
    "%autoreload 2"
   ]
  },
  {
   "cell_type": "code",
   "execution_count": 191,
   "id": "efe294ad",
   "metadata": {},
   "outputs": [],
   "source": [
    "frames_df = pd.read_csv(\"/home/romet/projects/ut/wp4/nvidia-e2e/data_extract/temp/2021-05-28-15-17-19_e2e_sulaoja_20_30/frames.csv\")"
   ]
  },
  {
   "cell_type": "code",
   "execution_count": 192,
   "id": "2f931fa2",
   "metadata": {},
   "outputs": [
    {
     "name": "stdout",
     "output_type": "stream",
     "text": [
      "1\n",
      "2\n",
      "3\n",
      "4\n",
      "5\n"
     ]
    }
   ],
   "source": [
    "N_WAYPOINTS = 5\n",
    "\n",
    "for i in np.arange(1, N_WAYPOINTS+1):\n",
    "    print(i)\n",
    "    vehicle_x = frames_df[\"position_x\"]\n",
    "    vehicle_y = frames_df[\"position_y\"]\n",
    "    wp_global_x = frames_df[\"position_x\"].shift(-i)\n",
    "    wp_global_y = frames_df[\"position_y\"].shift(-i)\n",
    "    yaw = frames_df[\"yaw\"]\n",
    "\n",
    "    wp_local_x = (wp_global_x - vehicle_x)*np.cos(yaw) + (wp_global_y - vehicle_y)*np.sin(yaw)\n",
    "    wp_local_y = -(wp_global_x - vehicle_x)*np.sin(yaw) + (wp_global_y - vehicle_y)*np.cos(yaw)\n",
    "    frames_df[f\"x_{i}_offset\"] = wp_local_x\n",
    "    frames_df[f\"y_{i}_offset\"] = wp_local_y"
   ]
  },
  {
   "cell_type": "code",
   "execution_count": 194,
   "id": "b4e3b099",
   "metadata": {},
   "outputs": [
    {
     "data": {
      "text/html": [
       "<div>\n",
       "<style scoped>\n",
       "    .dataframe tbody tr th:only-of-type {\n",
       "        vertical-align: middle;\n",
       "    }\n",
       "\n",
       "    .dataframe tbody tr th {\n",
       "        vertical-align: top;\n",
       "    }\n",
       "\n",
       "    .dataframe thead th {\n",
       "        text-align: right;\n",
       "    }\n",
       "</style>\n",
       "<table border=\"1\" class=\"dataframe\">\n",
       "  <thead>\n",
       "    <tr style=\"text-align: right;\">\n",
       "      <th></th>\n",
       "      <th>index</th>\n",
       "      <th>front_wide_filename</th>\n",
       "      <th>autonomous_x</th>\n",
       "      <th>left_filename</th>\n",
       "      <th>autonomous_y</th>\n",
       "      <th>right_filename</th>\n",
       "      <th>autonomous</th>\n",
       "      <th>turn_signal</th>\n",
       "      <th>vehicle_speed</th>\n",
       "      <th>position_x</th>\n",
       "      <th>...</th>\n",
       "      <th>x_1_offset</th>\n",
       "      <th>y_1_offset</th>\n",
       "      <th>x_2_offset</th>\n",
       "      <th>y_2_offset</th>\n",
       "      <th>x_3_offset</th>\n",
       "      <th>y_3_offset</th>\n",
       "      <th>x_4_offset</th>\n",
       "      <th>y_4_offset</th>\n",
       "      <th>x_5_offset</th>\n",
       "      <th>y_5_offset</th>\n",
       "    </tr>\n",
       "  </thead>\n",
       "  <tbody>\n",
       "    <tr>\n",
       "      <th>0</th>\n",
       "      <td>2021-05-28 12:17:20.078470945</td>\n",
       "      <td>front_wide/1622204240078470945.jpg</td>\n",
       "      <td>False</td>\n",
       "      <td>left/1622204240078470945.jpg</td>\n",
       "      <td>False</td>\n",
       "      <td>right/1622204240078470945.jpg</td>\n",
       "      <td>False</td>\n",
       "      <td>1.0</td>\n",
       "      <td>12.710627</td>\n",
       "      <td>11016.239766</td>\n",
       "      <td>...</td>\n",
       "      <td>0.418236</td>\n",
       "      <td>0.001576</td>\n",
       "      <td>0.855385</td>\n",
       "      <td>0.003126</td>\n",
       "      <td>1.287842</td>\n",
       "      <td>0.004894</td>\n",
       "      <td>1.710359</td>\n",
       "      <td>0.006556</td>\n",
       "      <td>2.153108</td>\n",
       "      <td>0.008426</td>\n",
       "    </tr>\n",
       "    <tr>\n",
       "      <th>1</th>\n",
       "      <td>2021-05-28 12:17:20.111801863</td>\n",
       "      <td>front_wide/1622204240111801863.jpg</td>\n",
       "      <td>False</td>\n",
       "      <td>left/1622204240111801863.jpg</td>\n",
       "      <td>False</td>\n",
       "      <td>right/1622204240111801863.jpg</td>\n",
       "      <td>False</td>\n",
       "      <td>1.0</td>\n",
       "      <td>12.752279</td>\n",
       "      <td>11016.054091</td>\n",
       "      <td>...</td>\n",
       "      <td>0.437149</td>\n",
       "      <td>0.001515</td>\n",
       "      <td>0.869606</td>\n",
       "      <td>0.003248</td>\n",
       "      <td>1.292123</td>\n",
       "      <td>0.004876</td>\n",
       "      <td>1.734872</td>\n",
       "      <td>0.006710</td>\n",
       "      <td>2.168961</td>\n",
       "      <td>0.008576</td>\n",
       "    </tr>\n",
       "    <tr>\n",
       "      <th>2</th>\n",
       "      <td>2021-05-28 12:17:20.145134926</td>\n",
       "      <td>front_wide/1622204240145134926.jpg</td>\n",
       "      <td>False</td>\n",
       "      <td>left/1622204240145134926.jpg</td>\n",
       "      <td>False</td>\n",
       "      <td>right/1622204240145134926.jpg</td>\n",
       "      <td>False</td>\n",
       "      <td>1.0</td>\n",
       "      <td>12.768913</td>\n",
       "      <td>11015.860108</td>\n",
       "      <td>...</td>\n",
       "      <td>0.432457</td>\n",
       "      <td>0.001683</td>\n",
       "      <td>0.854975</td>\n",
       "      <td>0.003261</td>\n",
       "      <td>1.297724</td>\n",
       "      <td>0.005044</td>\n",
       "      <td>1.731813</td>\n",
       "      <td>0.006860</td>\n",
       "      <td>2.150847</td>\n",
       "      <td>0.008627</td>\n",
       "    </tr>\n",
       "    <tr>\n",
       "      <th>3</th>\n",
       "      <td>2021-05-28 12:17:20.178470850</td>\n",
       "      <td>front_wide/1622204240178470850.jpg</td>\n",
       "      <td>False</td>\n",
       "      <td>left/1622204240178470850.jpg</td>\n",
       "      <td>False</td>\n",
       "      <td>right/1622204240178470850.jpg</td>\n",
       "      <td>False</td>\n",
       "      <td>1.0</td>\n",
       "      <td>12.800000</td>\n",
       "      <td>11015.667997</td>\n",
       "      <td>...</td>\n",
       "      <td>0.422517</td>\n",
       "      <td>0.001552</td>\n",
       "      <td>0.865267</td>\n",
       "      <td>0.003308</td>\n",
       "      <td>1.299356</td>\n",
       "      <td>0.005096</td>\n",
       "      <td>1.718391</td>\n",
       "      <td>0.006836</td>\n",
       "      <td>2.165455</td>\n",
       "      <td>0.008718</td>\n",
       "    </tr>\n",
       "    <tr>\n",
       "      <th>4</th>\n",
       "      <td>2021-05-28 12:17:20.211793900</td>\n",
       "      <td>front_wide/1622204240211793900.jpg</td>\n",
       "      <td>False</td>\n",
       "      <td>left/1622204240211793900.jpg</td>\n",
       "      <td>False</td>\n",
       "      <td>right/1622204240211793900.jpg</td>\n",
       "      <td>False</td>\n",
       "      <td>1.0</td>\n",
       "      <td>12.808694</td>\n",
       "      <td>11015.480359</td>\n",
       "      <td>...</td>\n",
       "      <td>0.442749</td>\n",
       "      <td>0.001721</td>\n",
       "      <td>0.876839</td>\n",
       "      <td>0.003475</td>\n",
       "      <td>1.295873</td>\n",
       "      <td>0.005182</td>\n",
       "      <td>1.742938</td>\n",
       "      <td>0.007029</td>\n",
       "      <td>2.173033</td>\n",
       "      <td>0.008992</td>\n",
       "    </tr>\n",
       "    <tr>\n",
       "      <th>5</th>\n",
       "      <td>2021-05-28 12:17:20.245159864</td>\n",
       "      <td>front_wide/1622204240245159864.jpg</td>\n",
       "      <td>False</td>\n",
       "      <td>left/1622204240245159864.jpg</td>\n",
       "      <td>False</td>\n",
       "      <td>right/1622204240245159864.jpg</td>\n",
       "      <td>False</td>\n",
       "      <td>1.0</td>\n",
       "      <td>12.840000</td>\n",
       "      <td>11015.283622</td>\n",
       "      <td>...</td>\n",
       "      <td>0.434090</td>\n",
       "      <td>0.001716</td>\n",
       "      <td>0.853125</td>\n",
       "      <td>0.003387</td>\n",
       "      <td>1.300189</td>\n",
       "      <td>0.005194</td>\n",
       "      <td>1.730284</td>\n",
       "      <td>0.007119</td>\n",
       "      <td>2.163817</td>\n",
       "      <td>0.009061</td>\n",
       "    </tr>\n",
       "    <tr>\n",
       "      <th>6</th>\n",
       "      <td>2021-05-28 12:17:20.278507948</td>\n",
       "      <td>front_wide/1622204240278507948.jpg</td>\n",
       "      <td>False</td>\n",
       "      <td>left/1622204240278507948.jpg</td>\n",
       "      <td>False</td>\n",
       "      <td>right/1622204240278507948.jpg</td>\n",
       "      <td>False</td>\n",
       "      <td>1.0</td>\n",
       "      <td>12.842095</td>\n",
       "      <td>11015.090672</td>\n",
       "      <td>...</td>\n",
       "      <td>0.419034</td>\n",
       "      <td>0.001693</td>\n",
       "      <td>0.866099</td>\n",
       "      <td>0.003525</td>\n",
       "      <td>1.296194</td>\n",
       "      <td>0.005473</td>\n",
       "      <td>1.729727</td>\n",
       "      <td>0.007438</td>\n",
       "      <td>2.172902</td>\n",
       "      <td>0.009376</td>\n",
       "    </tr>\n",
       "    <tr>\n",
       "      <th>7</th>\n",
       "      <td>2021-05-28 12:17:20.311774969</td>\n",
       "      <td>front_wide/1622204240311774969.jpg</td>\n",
       "      <td>False</td>\n",
       "      <td>left/1622204240311774969.jpg</td>\n",
       "      <td>False</td>\n",
       "      <td>right/1622204240311774969.jpg</td>\n",
       "      <td>False</td>\n",
       "      <td>1.0</td>\n",
       "      <td>12.860134</td>\n",
       "      <td>11014.904401</td>\n",
       "      <td>...</td>\n",
       "      <td>0.447064</td>\n",
       "      <td>0.001821</td>\n",
       "      <td>0.877160</td>\n",
       "      <td>0.003760</td>\n",
       "      <td>1.310692</td>\n",
       "      <td>0.005715</td>\n",
       "      <td>1.753868</td>\n",
       "      <td>0.007644</td>\n",
       "      <td>2.190508</td>\n",
       "      <td>0.009351</td>\n",
       "    </tr>\n",
       "    <tr>\n",
       "      <th>8</th>\n",
       "      <td>2021-05-28 12:17:20.345118999</td>\n",
       "      <td>front_wide/1622204240345118999.jpg</td>\n",
       "      <td>False</td>\n",
       "      <td>left/1622204240345118999.jpg</td>\n",
       "      <td>False</td>\n",
       "      <td>right/1622204240345118999.jpg</td>\n",
       "      <td>False</td>\n",
       "      <td>1.0</td>\n",
       "      <td>12.909953</td>\n",
       "      <td>11014.705648</td>\n",
       "      <td>...</td>\n",
       "      <td>0.430095</td>\n",
       "      <td>0.001939</td>\n",
       "      <td>0.863628</td>\n",
       "      <td>0.003895</td>\n",
       "      <td>1.306803</td>\n",
       "      <td>0.005823</td>\n",
       "      <td>1.743443</td>\n",
       "      <td>0.007532</td>\n",
       "      <td>2.164173</td>\n",
       "      <td>0.009147</td>\n",
       "    </tr>\n",
       "    <tr>\n",
       "      <th>9</th>\n",
       "      <td>2021-05-28 12:17:20.378437996</td>\n",
       "      <td>front_wide/1622204240378437996.jpg</td>\n",
       "      <td>False</td>\n",
       "      <td>left/1622204240378437996.jpg</td>\n",
       "      <td>False</td>\n",
       "      <td>right/1622204240378437996.jpg</td>\n",
       "      <td>False</td>\n",
       "      <td>1.0</td>\n",
       "      <td>12.951948</td>\n",
       "      <td>11014.514272</td>\n",
       "      <td>...</td>\n",
       "      <td>0.433533</td>\n",
       "      <td>0.001979</td>\n",
       "      <td>0.876708</td>\n",
       "      <td>0.003930</td>\n",
       "      <td>1.313348</td>\n",
       "      <td>0.005661</td>\n",
       "      <td>1.734077</td>\n",
       "      <td>0.007299</td>\n",
       "      <td>2.190518</td>\n",
       "      <td>0.009074</td>\n",
       "    </tr>\n",
       "  </tbody>\n",
       "</table>\n",
       "<p>10 rows × 26 columns</p>\n",
       "</div>"
      ],
      "text/plain": [
       "                           index                 front_wide_filename  \\\n",
       "0  2021-05-28 12:17:20.078470945  front_wide/1622204240078470945.jpg   \n",
       "1  2021-05-28 12:17:20.111801863  front_wide/1622204240111801863.jpg   \n",
       "2  2021-05-28 12:17:20.145134926  front_wide/1622204240145134926.jpg   \n",
       "3  2021-05-28 12:17:20.178470850  front_wide/1622204240178470850.jpg   \n",
       "4  2021-05-28 12:17:20.211793900  front_wide/1622204240211793900.jpg   \n",
       "5  2021-05-28 12:17:20.245159864  front_wide/1622204240245159864.jpg   \n",
       "6  2021-05-28 12:17:20.278507948  front_wide/1622204240278507948.jpg   \n",
       "7  2021-05-28 12:17:20.311774969  front_wide/1622204240311774969.jpg   \n",
       "8  2021-05-28 12:17:20.345118999  front_wide/1622204240345118999.jpg   \n",
       "9  2021-05-28 12:17:20.378437996  front_wide/1622204240378437996.jpg   \n",
       "\n",
       "   autonomous_x                 left_filename autonomous_y  \\\n",
       "0         False  left/1622204240078470945.jpg        False   \n",
       "1         False  left/1622204240111801863.jpg        False   \n",
       "2         False  left/1622204240145134926.jpg        False   \n",
       "3         False  left/1622204240178470850.jpg        False   \n",
       "4         False  left/1622204240211793900.jpg        False   \n",
       "5         False  left/1622204240245159864.jpg        False   \n",
       "6         False  left/1622204240278507948.jpg        False   \n",
       "7         False  left/1622204240311774969.jpg        False   \n",
       "8         False  left/1622204240345118999.jpg        False   \n",
       "9         False  left/1622204240378437996.jpg        False   \n",
       "\n",
       "                  right_filename autonomous  turn_signal  vehicle_speed  \\\n",
       "0  right/1622204240078470945.jpg      False          1.0      12.710627   \n",
       "1  right/1622204240111801863.jpg      False          1.0      12.752279   \n",
       "2  right/1622204240145134926.jpg      False          1.0      12.768913   \n",
       "3  right/1622204240178470850.jpg      False          1.0      12.800000   \n",
       "4  right/1622204240211793900.jpg      False          1.0      12.808694   \n",
       "5  right/1622204240245159864.jpg      False          1.0      12.840000   \n",
       "6  right/1622204240278507948.jpg      False          1.0      12.842095   \n",
       "7  right/1622204240311774969.jpg      False          1.0      12.860134   \n",
       "8  right/1622204240345118999.jpg      False          1.0      12.909953   \n",
       "9  right/1622204240378437996.jpg      False          1.0      12.951948   \n",
       "\n",
       "     position_x  ...  x_1_offset  y_1_offset  x_2_offset  y_2_offset  \\\n",
       "0  11016.239766  ...    0.418236    0.001576    0.855385    0.003126   \n",
       "1  11016.054091  ...    0.437149    0.001515    0.869606    0.003248   \n",
       "2  11015.860108  ...    0.432457    0.001683    0.854975    0.003261   \n",
       "3  11015.667997  ...    0.422517    0.001552    0.865267    0.003308   \n",
       "4  11015.480359  ...    0.442749    0.001721    0.876839    0.003475   \n",
       "5  11015.283622  ...    0.434090    0.001716    0.853125    0.003387   \n",
       "6  11015.090672  ...    0.419034    0.001693    0.866099    0.003525   \n",
       "7  11014.904401  ...    0.447064    0.001821    0.877160    0.003760   \n",
       "8  11014.705648  ...    0.430095    0.001939    0.863628    0.003895   \n",
       "9  11014.514272  ...    0.433533    0.001979    0.876708    0.003930   \n",
       "\n",
       "   x_3_offset  y_3_offset  x_4_offset  y_4_offset  x_5_offset  y_5_offset  \n",
       "0    1.287842    0.004894    1.710359    0.006556    2.153108    0.008426  \n",
       "1    1.292123    0.004876    1.734872    0.006710    2.168961    0.008576  \n",
       "2    1.297724    0.005044    1.731813    0.006860    2.150847    0.008627  \n",
       "3    1.299356    0.005096    1.718391    0.006836    2.165455    0.008718  \n",
       "4    1.295873    0.005182    1.742938    0.007029    2.173033    0.008992  \n",
       "5    1.300189    0.005194    1.730284    0.007119    2.163817    0.009061  \n",
       "6    1.296194    0.005473    1.729727    0.007438    2.172902    0.009376  \n",
       "7    1.310692    0.005715    1.753868    0.007644    2.190508    0.009351  \n",
       "8    1.306803    0.005823    1.743443    0.007532    2.164173    0.009147  \n",
       "9    1.313348    0.005661    1.734077    0.007299    2.190518    0.009074  \n",
       "\n",
       "[10 rows x 26 columns]"
      ]
     },
     "execution_count": 194,
     "metadata": {},
     "output_type": "execute_result"
    }
   ],
   "source": [
    "frames_df.head(10)"
   ]
  },
  {
   "cell_type": "code",
   "execution_count": 104,
   "id": "08a296ac",
   "metadata": {},
   "outputs": [
    {
     "data": {
      "text/plain": [
       "array([ 1.10162398e+04, -2.01084875e+04,  2.02702219e+00])"
      ]
     },
     "execution_count": 104,
     "metadata": {},
     "output_type": "execute_result"
    }
   ],
   "source": [
    "vehicle_pose = np.array([t0[\"position_x\"], t0[\"position_y\"], t0[\"yaw\"]])\n",
    "vehicle_pose"
   ]
  },
  {
   "cell_type": "code",
   "execution_count": 132,
   "id": "8045be52",
   "metadata": {
    "scrolled": true
   },
   "outputs": [
    {
     "data": {
      "text/plain": [
       "array([[-0.44056313,  0.89772163],\n",
       "       [-0.89772163, -0.44056313]])"
      ]
     },
     "execution_count": 132,
     "metadata": {},
     "output_type": "execute_result"
    }
   ],
   "source": [
    "from math import sin, cos\n",
    "from numpy.linalg import inv\n",
    "\n",
    "transform = np.array([[cos(yaw), -sin(yaw)], [sin(yaw), cos(yaw)]])\n",
    "inv_transform = inv(transform)\n",
    "inv_transform"
   ]
  },
  {
   "cell_type": "code",
   "execution_count": 135,
   "id": "b1a7c919",
   "metadata": {},
   "outputs": [
    {
     "data": {
      "text/plain": [
       "array([[ 11016.05409126,  11015.860108  ,  11015.66799665],\n",
       "       [-20108.1127138 , -20107.72095903, -20107.33351195]])"
      ]
     },
     "execution_count": 135,
     "metadata": {},
     "output_type": "execute_result"
    }
   ],
   "source": [
    "waypoints_global = np.array([[t0[\"position_x_1\"], t0[\"position_y_1\"]], \n",
    "                             [t0[\"position_x_2\"], t0[\"position_y_2\"]],\n",
    "                             [t0[\"position_x_3\"], t0[\"position_y_3\"]]])\n",
    "waypoints_global.T"
   ]
  },
  {
   "cell_type": "code",
   "execution_count": 109,
   "id": "5483db7b",
   "metadata": {},
   "outputs": [],
   "source": [
    "def global_to_local(vehicel_pose, waypoint_global):\n",
    "    x_global = (waypoint_global[0] - vehicel_pose[0])*cos(vehicle_pose[2]) + (waypoint_global[1] - vehicle_pose[1])*sin(vehicle_pose[2])\n",
    "    y_global = -(waypoint_global[0] - vehicel_pose[0])*sin(vehicle_pose[2]) + (waypoint_global[1] - vehicle_pose[1])*cos(vehicle_pose[2])\n",
    "    return (x_global, y_global)"
   ]
  },
  {
   "cell_type": "code",
   "execution_count": 114,
   "id": "5ba21017",
   "metadata": {},
   "outputs": [
    {
     "data": {
      "text/plain": [
       "(0.41823642309858383, 0.0015762008480737777)"
      ]
     },
     "execution_count": 114,
     "metadata": {},
     "output_type": "execute_result"
    }
   ],
   "source": [
    "global_to_local(vehicle_pose, [t0[\"position_x_1\"], t0[\"position_y_1\"]])"
   ]
  },
  {
   "cell_type": "code",
   "execution_count": 115,
   "id": "a93fb6c5",
   "metadata": {},
   "outputs": [
    {
     "data": {
      "text/plain": [
       "(0.8553850254467427, 0.0031264527911915585)"
      ]
     },
     "execution_count": 115,
     "metadata": {},
     "output_type": "execute_result"
    }
   ],
   "source": [
    "global_to_local(vehicle_pose, [t0[\"position_x_2\"], t0[\"position_y_2\"]])"
   ]
  },
  {
   "cell_type": "code",
   "execution_count": 116,
   "id": "91c27755",
   "metadata": {},
   "outputs": [
    {
     "data": {
      "text/plain": [
       "(1.2878418306093513, 0.00489407765340133)"
      ]
     },
     "execution_count": 116,
     "metadata": {},
     "output_type": "execute_result"
    }
   ],
   "source": [
    "global_to_local(vehicle_pose, [t0[\"position_x_3\"], t0[\"position_y_3\"]])"
   ]
  },
  {
   "cell_type": "code",
   "execution_count": 162,
   "id": "9f282d8c",
   "metadata": {},
   "outputs": [
    {
     "data": {
      "text/plain": [
       "array([[0.41823642, 0.0015762 ],\n",
       "       [0.85538503, 0.00312645],\n",
       "       [1.28784183, 0.00489408]])"
      ]
     },
     "execution_count": 162,
     "metadata": {},
     "output_type": "execute_result"
    }
   ],
   "source": [
    "np.matmul(inv_transform, (waypoints_global-vehicle_pose[0:2]).T).T"
   ]
  },
  {
   "cell_type": "code",
   "execution_count": null,
   "id": "0eb27895",
   "metadata": {},
   "outputs": [],
   "source": []
  }
 ],
 "metadata": {
  "kernelspec": {
   "display_name": "Python 3 (ipykernel)",
   "language": "python",
   "name": "python3"
  },
  "language_info": {
   "codemirror_mode": {
    "name": "ipython",
    "version": 3
   },
   "file_extension": ".py",
   "mimetype": "text/x-python",
   "name": "python",
   "nbconvert_exporter": "python",
   "pygments_lexer": "ipython3",
   "version": "3.8.10"
  }
 },
 "nbformat": 4,
 "nbformat_minor": 5
}
