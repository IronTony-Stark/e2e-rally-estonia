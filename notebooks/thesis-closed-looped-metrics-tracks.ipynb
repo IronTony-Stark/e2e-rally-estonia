{
 "cells": [
  {
   "cell_type": "code",
   "execution_count": 1,
   "id": "12395f51",
   "metadata": {},
   "outputs": [
    {
     "name": "stdout",
     "output_type": "stream",
     "text": [
      "/home/romet/projects/ut/e2e-rally-estonia\n"
     ]
    }
   ],
   "source": [
    "%cd .."
   ]
  },
  {
   "cell_type": "code",
   "execution_count": 201,
   "id": "8bd83329",
   "metadata": {},
   "outputs": [
    {
     "name": "stdout",
     "output_type": "stream",
     "text": [
      "The autoreload extension is already loaded. To reload it, use:\n",
      "  %reload_ext autoreload\n"
     ]
    }
   ],
   "source": [
    "import numpy as np\n",
    "import pandas as pd\n",
    "import matplotlib.pyplot as plt\n",
    "from pathlib import Path\n",
    "from tqdm.auto import tqdm\n",
    "\n",
    "import torch\n",
    "import torch.nn as nn\n",
    "import torchvision\n",
    "\n",
    "from dataloading.nvidia import NvidiaDataset, NvidiaValidationDataset, Normalize\n",
    "from pilotnet import PilotnetControl, PilotNetConditional\n",
    "from metrics.metrics import calculate_open_loop_metrics\n",
    "from viz.analytics import create_waypoint_error_plot\n",
    "\n",
    "from metrics.metrics import calculate_trajectory_open_loop_metrics, calculate_open_loop_metrics\n",
    "from trajectory import calculate_steering_angle\n",
    "import math\n",
    "\n",
    "from trainer import ControlTrainer, ConditionalTrainer\n",
    "from torchvision import transforms\n",
    "\n",
    "from camera_frame import CameraFrameTransformer\n",
    "\n",
    "\n",
    "%load_ext autoreload \n",
    "%autoreload 2\n",
    "\n",
    "\n",
    "import warnings\n",
    "warnings.filterwarnings('ignore')"
   ]
  },
  {
   "cell_type": "code",
   "execution_count": 3,
   "id": "b2f34468",
   "metadata": {},
   "outputs": [],
   "source": [
    "from metrics.metrics import calculate_lateral_errors, read_frames_driving\n"
   ]
  },
  {
   "cell_type": "code",
   "execution_count": 482,
   "id": "fc00aeb0",
   "metadata": {},
   "outputs": [],
   "source": [
    "def draw_error_plot_ax(ax, model_ds, expert_ds, title=None, draw_road=True, intervention_types=None, draw_legend=False):\n",
    "    #lat_errors = calculate_lateral_errors(model_ds.frames, expert_ds.frames, only_autonomous=True)\n",
    "    positions_df = model_ds.frames\n",
    "    \n",
    "    #autonomous_df = positions_df[positions_df.autonomous].reset_index(drop=True)\n",
    "    if draw_road:\n",
    "        ax.scatter(positions_df[\"position_x\"], positions_df[\"position_y\"],\n",
    "                   s=1,\n",
    "                   marker='.',\n",
    "                   c=\"lightgray\", cmap=plt.cm.coolwarm)\n",
    "\n",
    "    #manual_df = positions_df[positions_df.autonomous == False].reset_index(drop=True)\n",
    "    #ax.scatter(manual_df[\"position_x\"], manual_df[\"position_y\"],\n",
    "    #            s=5,\n",
    "    #            c=\"#2BFA00\")\n",
    "    \n",
    "    positions_df['autonomous_next'] = positions_df.shift(-1)['autonomous']\n",
    "    interventions_df = positions_df[positions_df.autonomous & (positions_df.autonomous_next == False)]\n",
    "    if intervention_types:\n",
    "        interventions_df[\"type\"] = intervention_types\n",
    "    else:\n",
    "        interventions_df[\"type\"] = Intervention.CURB.value\n",
    "        \n",
    "    #print(interventions_df)\n",
    "    \n",
    "    intervention_groups = interventions_df.groupby('type')\n",
    "    for intervention_type, intervention in intervention_groups:\n",
    "        if intervention_type is not Intervention.EXCLUDED.value:\n",
    "            ax.scatter(intervention[\"position_x\"], intervention[\"position_y\"],\n",
    "                        s=60,\n",
    "                       alpha=alpha,\n",
    "                       marker='o',\n",
    "                       color=color_map[intervention_type],\n",
    "                        label=intervention_type)\n",
    "\n",
    "    if title:\n",
    "        ax.set_title(title)\n",
    "    \n",
    "    if draw_legend:\n",
    "        ax.legend(loc=\"lower left\")"
   ]
  },
  {
   "cell_type": "code",
   "execution_count": 361,
   "id": "a701e330",
   "metadata": {},
   "outputs": [],
   "source": [
    "def draw_error_plot(model_ds, expert_ds, title=None):\n",
    "    fig, ax = plt.subplots(1, 1, figsize=(10, 10))\n",
    "    draw_error_plot_ax(ax, model_ds, expert_ds, title)"
   ]
  },
  {
   "cell_type": "code",
   "execution_count": 362,
   "id": "67885ae5",
   "metadata": {},
   "outputs": [],
   "source": [
    "from enum import Enum\n",
    "\n",
    "class Intervention(Enum):\n",
    "    SIDE_ROAD = \"sideroad\"\n",
    "    CROSSROAD = \"crossroad\"\n",
    "    CURB = \"curb\"\n",
    "    OFF = \"off\"\n",
    "    EXCLUDED = \"excluded\""
   ]
  },
  {
   "cell_type": "code",
   "execution_count": 363,
   "id": "26f82832",
   "metadata": {},
   "outputs": [],
   "source": [
    "def load_dataset(paths):\n",
    "        return NvidiaDataset(paths,\n",
    "                             transform=tr,\n",
    "                             output_modality=\"steering_angle\", \n",
    "                             metadata_file=\"nvidia_frames.csv\")"
   ]
  },
  {
   "cell_type": "code",
   "execution_count": 364,
   "id": "786de25f",
   "metadata": {},
   "outputs": [
    {
     "data": {
      "text/plain": [
       "dict_values([(0.8941176470588236, 0.10196078431372549, 0.10980392156862745, 1.0), (0.21568627450980393, 0.49411764705882355, 0.7215686274509804, 1.0), (0.596078431372549, 0.3058823529411765, 0.6392156862745098, 1.0), (1.0, 0.4980392156862745, 0.0, 1.0)])"
      ]
     },
     "execution_count": 364,
     "metadata": {},
     "output_type": "execute_result"
    }
   ],
   "source": [
    "color_map.values()"
   ]
  },
  {
   "cell_type": "code",
   "execution_count": 488,
   "id": "53126aed",
   "metadata": {
    "scrolled": false
   },
   "outputs": [
    {
     "data": {
      "image/png": "[encoded data removed]",
      "text/plain": [
       "<Figure size 1440x720 with 12 Axes>"
      ]
     },
     "metadata": {
      "needs_background": "light"
     },
     "output_type": "display_data"
    }
   ],
   "source": [
    "fig, ax = plt.subplots(3, 4, figsize=(20, 10))\n",
    "\n",
    "[axi.set_axis_off() for axi in ax.ravel()]\n",
    "\n",
    "steering_1_forw_int = [ \n",
    "                        Intervention.CURB.value,\n",
    "                        Intervention.SIDE_ROAD.value,\n",
    "                        Intervention.EXCLUDED.value,\n",
    "                        Intervention.EXCLUDED.value,\n",
    "                        Intervention.CURB.value,\n",
    "                        Intervention.CURB.value,\n",
    "                        Intervention.CROSSROAD.value,\n",
    "                        Intervention.EXCLUDED.value,\n",
    "                        Intervention.OFF.value,\n",
    "                        Intervention.OFF.value,\n",
    "                        Intervention.CURB.value,\n",
    "                        Intervention.EXCLUDED.value,\n",
    "                        Intervention.CROSSROAD.value,\n",
    "                        Intervention.CURB.value,\n",
    "                        Intervention.CROSSROAD.value\n",
    "                        ]\n",
    "draw_error_plot_ax(ax[0, 0], steering_1_forward, expert_dataset, f\"Steering v1 forward\",\n",
    "                  intervention_types=steering_1_forw_int, draw_legend=True)\n",
    "\n",
    "steering_1_backw_int = [ \n",
    "                        Intervention.EXCLUDED.value,\n",
    "                        Intervention.SIDE_ROAD.value,\n",
    "                        Intervention.SIDE_ROAD.value,\n",
    "                        Intervention.CROSSROAD.value,\n",
    "                        Intervention.CROSSROAD.value,\n",
    "                        Intervention.EXCLUDED.value,\n",
    "                        Intervention.EXCLUDED.value,\n",
    "                        Intervention.SIDE_ROAD.value,\n",
    "                        Intervention.OFF.value,\n",
    "                        Intervention.EXCLUDED.value,\n",
    "                        Intervention.EXCLUDED.value,\n",
    "                        Intervention.CURB.value\n",
    "                        ]\n",
    "draw_error_plot_ax(ax[0, 1], steering_1_backward, expert_dataset, f\"Steering v1 backward\",\n",
    "                  intervention_types=steering_1_backw_int)\n",
    "\n",
    "steering_2_forw_int = [Intervention.SIDE_ROAD.value,\n",
    "                        Intervention.CURB.value,\n",
    "                        Intervention.EXCLUDED.value,\n",
    "                        Intervention.CROSSROAD.value,\n",
    "                        Intervention.CURB.value,\n",
    "                        Intervention.CURB.value,\n",
    "                        Intervention.EXCLUDED.value,\n",
    "                        Intervention.OFF.value,\n",
    "                        Intervention.EXCLUDED.value,\n",
    "                        Intervention.CURB.value,\n",
    "                        Intervention.EXCLUDED.value,\n",
    "                        Intervention.EXCLUDED.value,\n",
    "                        Intervention.SIDE_ROAD.value,\n",
    "                        Intervention.EXCLUDED.value\n",
    "                        ]\n",
    "draw_error_plot_ax(ax[1, 0], steering_2_forward, expert_dataset, f\"Steering v2 forward\",\n",
    "                  intervention_types=steering_2_forw_int)\n",
    "\n",
    "steering_2_backw_int = [Intervention.EXCLUDED.value,\n",
    "                        Intervention.EXCLUDED.value,\n",
    "                        Intervention.EXCLUDED.value,\n",
    "                        Intervention.SIDE_ROAD.value,\n",
    "                        Intervention.SIDE_ROAD.value,\n",
    "                        Intervention.CROSSROAD.value,\n",
    "                        Intervention.EXCLUDED.value,\n",
    "                        Intervention.EXCLUDED.value,\n",
    "                        Intervention.CURB.value,\n",
    "                        Intervention.EXCLUDED.value,\n",
    "                        Intervention.EXCLUDED.value,\n",
    "                        Intervention.EXCLUDED.value,\n",
    "                        Intervention.EXCLUDED.value,\n",
    "                        ]\n",
    "draw_error_plot_ax(ax[1, 1], steering_2_backward, expert_dataset, f\"Steering v2 backward\",\n",
    "                  intervention_types=steering_2_backw_int)\n",
    "\n",
    "steering_overfit_forw_int = [Intervention.CURB.value, \n",
    "                             Intervention.SIDE_ROAD.value, \n",
    "                             Intervention.CURB.value]\n",
    "draw_error_plot_ax(ax[2, 0], steering_overfit_forward, expert_dataset, f\"Steering overfit forward\", \n",
    "                   intervention_types=steering_overfit_forw_int)\n",
    "\n",
    "steering_overfit_backw_int = [Intervention.EXCLUDED.value, \n",
    "                              Intervention.SIDE_ROAD.value, \n",
    "                              Intervention.CROSSROAD.value,\n",
    "                              Intervention.SIDE_ROAD.value,\n",
    "                              Intervention.OFF.value,\n",
    "                              Intervention.OFF.value,\n",
    "                              Intervention.CURB.value,\n",
    "                              Intervention.EXCLUDED.value,\n",
    "                              Intervention.CROSSROAD.value,\n",
    "                              Intervention.EXCLUDED.value,\n",
    "                              Intervention.EXCLUDED.value\n",
    "                             ]\n",
    "draw_error_plot_ax(ax[2, 1], steering_overfit_backward, expert_dataset, f\"Steering overfit backward\",\n",
    "                  intervention_types=steering_overfit_backw_int)\n",
    "\n",
    "waypoints_1_forw_int = [Intervention.CURB.value, \n",
    "                              Intervention.CURB.value, \n",
    "                              Intervention.CROSSROAD.value,\n",
    "                              Intervention.EXCLUDED.value\n",
    "                             ]\n",
    "draw_error_plot_ax(ax[0, 2], waypoints_1_forward, expert_dataset, f\"Waypoints v1 forward\",\n",
    "                  intervention_types=waypoints_1_forw_int)\n",
    "\n",
    "waypoints_1_backw_int = [Intervention.EXCLUDED.value,\n",
    "                         Intervention.SIDE_ROAD.value, \n",
    "                         Intervention.SIDE_ROAD.value,\n",
    "                         Intervention.EXCLUDED.value,\n",
    "                         Intervention.EXCLUDED.value,\n",
    "                         Intervention.EXCLUDED.value,\n",
    "                         Intervention.SIDE_ROAD.value,\n",
    "                        ]\n",
    "\n",
    "draw_error_plot_ax(ax[0, 3], waypoints_1_backward, expert_dataset, f\"Waypoints v1 backward\",\n",
    "                  intervention_types=waypoints_1_backw_int)\n",
    "\n",
    "waypoints_2_forw_int = [Intervention.CURB.value,\n",
    "                        Intervention.CURB.value, \n",
    "                        Intervention.CURB.value,\n",
    "                        Intervention.CROSSROAD.value,\n",
    "                        Intervention.OFF.value,\n",
    "                        Intervention.EXCLUDED.value,\n",
    "                        Intervention.EXCLUDED.value,\n",
    "                        Intervention.EXCLUDED.value,\n",
    "                        Intervention.CROSSROAD.value,\n",
    "                        Intervention.CROSSROAD.value,\n",
    "                        Intervention.EXCLUDED.value\n",
    "                        ]\n",
    "draw_error_plot_ax(ax[1, 2], waypoints_2_forward, expert_dataset, f\"Waypoints v2 forward\",\n",
    "                  intervention_types=waypoints_2_forw_int)\n",
    "\n",
    "waypoints_2_backw_int = [Intervention.SIDE_ROAD.value,\n",
    "                        Intervention.EXCLUDED.value, \n",
    "                        Intervention.EXCLUDED.value,\n",
    "                        Intervention.EXCLUDED.value,\n",
    "                        Intervention.EXCLUDED.value,\n",
    "                        Intervention.CURB.value,\n",
    "                        Intervention.OFF.value\n",
    "                        ]\n",
    "draw_error_plot_ax(ax[1, 3], waypoints_2_backward, expert_dataset, f\"Waypoints v2 backward\",\n",
    "                  intervention_types=waypoints_2_backw_int)\n",
    "\n",
    "waypoints_overfit_forw_int = [Intervention.CROSSROAD.value,\n",
    "                              Intervention.CURB.value, \n",
    "                              Intervention.CURB.value,\n",
    "                              Intervention.EXCLUDED.value,\n",
    "                              Intervention.EXCLUDED.value,\n",
    "                              Intervention.CROSSROAD.value,\n",
    "                              Intervention.EXCLUDED.value\n",
    "                             ]\n",
    "draw_error_plot_ax(ax[2, 2], waypoints_overfit_forward, expert_dataset, f\"Waypoints overfit forward\",\n",
    "                  intervention_types=waypoints_overfit_forw_int)\n",
    "\n",
    "waypoints_overfit_backw = [Intervention.SIDE_ROAD.value,\n",
    "                              Intervention.OFF.value, \n",
    "                              Intervention.CURB.value,\n",
    "                              Intervention.EXCLUDED.value,\n",
    "                              Intervention.EXCLUDED.value,\n",
    "                              Intervention.OFF.value\n",
    "                             ]\n",
    "draw_error_plot_ax(ax[2, 3], waypoints_overfit_backward, expert_dataset, f\"Waypoints overfit backward\",\n",
    "                   intervention_types=waypoints_overfit_backw)\n",
    "\n",
    "# add map scale to bottom left\\n\"\n",
    "x_min = steering_2_forward.frames[\"position_y\"].min()\n",
    "y_min = steering_2_forward.frames[\"position_x\"].min()\n",
    "p1, p2 = [y_min+100, y_min+1000], [x_min+100, x_min+100],\n",
    "ax[2, 0].plot(p1, p2, marker = '|', color=\"black\", linewidth=1)\n",
    "ax[2, 0].text(y_min+330, x_min+200, \"1 km\")\n",
    "\n",
    "fig.savefig('drives.png', dpi=300)"
   ]
  },
  {
   "cell_type": "code",
   "execution_count": 450,
   "id": "dc7ae5b2",
   "metadata": {},
   "outputs": [],
   "source": [
    "steering_interventions = []\n",
    "steering_interventions.extend(steering_1_forw_int)\n",
    "steering_interventions.extend(steering_1_backw_int)\n",
    "steering_interventions.extend(steering_2_forw_int)\n",
    "steering_interventions.extend(steering_2_backw_int)\n",
    "steering_interventions.extend(steering_overfit_forw_int)\n",
    "steering_interventions.extend(steering_overfit_backw_int)\n",
    "steering_df = pd.DataFrame({\"intervention\": steering_interventions})\n",
    "\n",
    "waypoints_interventions = []\n",
    "waypoints_interventions.extend(waypoints_1_forw_int)\n",
    "waypoints_interventions.extend(waypoints_1_backw_int)\n",
    "waypoints_interventions.extend(waypoints_2_forw_int)\n",
    "waypoints_interventions.extend(waypoints_2_backw_int)\n",
    "waypoints_interventions.extend(waypoints_overfit_forw_int)\n",
    "waypoints_interventions.extend(waypoints_overfit_backw)\n",
    "waypoints_df = pd.DataFrame({\"intervention\": waypoints_interventions})"
   ]
  },
  {
   "cell_type": "code",
   "execution_count": 537,
   "id": "cadd8d53",
   "metadata": {},
   "outputs": [
    {
     "data": {
      "image/png": "[encoded data removed]",
      "text/plain": [
       "<Figure size 432x432 with 1 Axes>"
      ]
     },
     "metadata": {
      "needs_background": "light"
     },
     "output_type": "display_data"
    }
   ],
   "source": [
    "labels = [\"Steering\", \"Waypoints\"]\n",
    "steering_counts = steering_df.groupby([\"intervention\"])[\"intervention\"].count()\n",
    "waypoints_counts = waypoints_df.groupby([\"intervention\"])[\"intervention\"].count()\n",
    "\n",
    "cross_road_counts = np.array([steering_counts[\"crossroad\"], waypoints_counts[\"crossroad\"]])\n",
    "curb_counts = np.array([steering_counts[\"curb\"], waypoints_counts[\"curb\"]])\n",
    "sideroad_counts = np.array([steering_counts[\"sideroad\"], waypoints_counts[\"sideroad\"]])\n",
    "off_counts = np.array([steering_counts[\"off\"], waypoints_counts[\"off\"]])\n",
    "\n",
    "fig, ax = plt.subplots(figsize=(6, 6))\n",
    "\n",
    "bar_width = 0.9\n",
    "alpha = 0.6\n",
    "ax.bar(labels, curb_counts, bar_width, label='Curb', color=color_map[\"curb\"], alpha=alpha)\n",
    "ax.bar(labels, cross_road_counts, bar_width, label='Crossroads', bottom=curb_counts, color=color_map[\"crossroad\"], alpha=alpha)\n",
    "ax.bar(labels, sideroad_counts,  bar_width, bottom=cross_road_counts+curb_counts, label='Sideroad', color=color_map[\"sideroad\"], alpha=alpha)\n",
    "ax.bar(labels, off_counts,  bar_width, bottom=cross_road_counts+curb_counts+sideroad_counts, label='Off', color=color_map[\"off\"], alpha=alpha)\n",
    "\n",
    "# https://www.pythoncharts.com/matplotlib/stacked-bar-charts-labels/\n",
    "#\n",
    "# Let's put the annotations inside the bars themselves by using a\n",
    "# negative offset.\n",
    "y_offset = -2\n",
    "# For each patch (basically each rectangle within the bar), add a label.\n",
    "for bar in ax.patches:\n",
    "    ax.text(\n",
    "      # Put the text in the middle of each bar. get_x returns the start\n",
    "      # so we add half the width to get to the middle.\n",
    "      bar.get_x() + bar.get_width() / 2,\n",
    "      # Vertically, add the height of the bar to the start of the bar,\n",
    "      # along with the offset.\n",
    "      #bar.get_height() + bar.get_y() + y_offset,\n",
    "      (bar.get_y() + bar.get_height() / 2)-0.6,\n",
    "      # This is actual value we'll show.\n",
    "      round(bar.get_height()),\n",
    "      # Center the labels and style them a bit.\n",
    "      ha='center',\n",
    "      color='w',\n",
    "      weight='bold',\n",
    "      size=12\n",
    "    )\n",
    "    \n",
    "#ax.text(0, 40 + 0.8, 40, ha='center', size=12)\n",
    "#ax.text(1, 24 + 0.8, 24, ha='center', size=12)\n",
    "\n",
    "ax.legend()\n",
    "handles, labels = ax.get_legend_handles_labels()\n",
    "ax.legend(reversed(handles), reversed(labels), frameon=False)\n",
    "\n",
    "ax.set_ylabel('Intervention count')\n",
    "ax.spines['top'].set_visible(False)\n",
    "ax.spines['right'].set_visible(False)\n",
    "\n",
    "plt.show()\n",
    "fig.savefig('interventions.png', dpi=300)"
   ]
  },
  {
   "cell_type": "code",
   "execution_count": 325,
   "id": "685f382d",
   "metadata": {},
   "outputs": [],
   "source": [
    "colors = [plt.cm.Set1(i/float(len(vals)-1)) for i in range(7)]\n",
    "color_map = {\n",
    "    \"crossroad\": colors[0],\n",
    "    \"curb\": colors[1],\n",
    "    \"sideroad\": colors[2],\n",
    "    \"off\": colors[3]}\n",
    "    "
   ]
  },
  {
   "cell_type": "code",
   "execution_count": 445,
   "id": "bf1d278e",
   "metadata": {},
   "outputs": [
    {
     "data": {
      "text/plain": [
       "array([9, 6])"
      ]
     },
     "execution_count": 445,
     "metadata": {},
     "output_type": "execute_result"
    }
   ],
   "source": [
    "cross_road_counts"
   ]
  },
  {
   "cell_type": "code",
   "execution_count": 446,
   "id": "45d3c028",
   "metadata": {},
   "outputs": [
    {
     "data": {
      "text/plain": [
       "array([14,  9])"
      ]
     },
     "execution_count": 446,
     "metadata": {},
     "output_type": "execute_result"
    }
   ],
   "source": [
    "curb_counts"
   ]
  },
  {
   "cell_type": "code",
   "execution_count": 447,
   "id": "a0814de7",
   "metadata": {},
   "outputs": [
    {
     "data": {
      "text/plain": [
       "array([11,  5])"
      ]
     },
     "execution_count": 447,
     "metadata": {},
     "output_type": "execute_result"
    }
   ],
   "source": [
    "sideroad_counts"
   ]
  },
  {
   "cell_type": "code",
   "execution_count": 448,
   "id": "118ead58",
   "metadata": {},
   "outputs": [
    {
     "data": {
      "text/plain": [
       "array([6, 4])"
      ]
     },
     "execution_count": 448,
     "metadata": {},
     "output_type": "execute_result"
    }
   ],
   "source": [
    "off_counts"
   ]
  },
  {
   "cell_type": "code",
   "execution_count": 449,
   "id": "bcd08ea0",
   "metadata": {},
   "outputs": [],
   "source": [
    "steering_interventions.extend(steering_1_forw_int)\n",
    "steering_interventions.extend(steering_1_backw_int)\n",
    "steering_interventions.extend(steering_2_forw_int)\n",
    "steering_interventions.extend(steering_2_backw_int)\n",
    "steering_interventions.extend(steering_overfit_forw_int)\n",
    "steering_interventions.extend(steering_overfit_backw_int)"
   ]
  },
  {
   "cell_type": "code",
   "execution_count": 462,
   "id": "ac02583e",
   "metadata": {},
   "outputs": [
    {
     "data": {
      "text/plain": [
       "11"
      ]
     },
     "execution_count": 462,
     "metadata": {},
     "output_type": "execute_result"
    }
   ],
   "source": [
    "len([x for x in steering_1_forw_int if x is not 'excluded'])"
   ]
  },
  {
   "cell_type": "code",
   "execution_count": 463,
   "id": "37aab180",
   "metadata": {},
   "outputs": [
    {
     "data": {
      "text/plain": [
       "7"
      ]
     },
     "execution_count": 463,
     "metadata": {},
     "output_type": "execute_result"
    }
   ],
   "source": [
    "len([x for x in steering_1_backw_int if x is not 'excluded'])"
   ]
  },
  {
   "cell_type": "code",
   "execution_count": 464,
   "id": "c5b83bdb",
   "metadata": {},
   "outputs": [
    {
     "data": {
      "text/plain": [
       "8"
      ]
     },
     "execution_count": 464,
     "metadata": {},
     "output_type": "execute_result"
    }
   ],
   "source": [
    "len([x for x in steering_2_forw_int if x is not 'excluded'])"
   ]
  },
  {
   "cell_type": "code",
   "execution_count": 465,
   "id": "c04d817e",
   "metadata": {},
   "outputs": [
    {
     "data": {
      "text/plain": [
       "4"
      ]
     },
     "execution_count": 465,
     "metadata": {},
     "output_type": "execute_result"
    }
   ],
   "source": [
    "len([x for x in steering_2_backw_int if x is not 'excluded'])"
   ]
  },
  {
   "cell_type": "code",
   "execution_count": 466,
   "id": "8c5c2e32",
   "metadata": {},
   "outputs": [
    {
     "data": {
      "text/plain": [
       "3"
      ]
     },
     "execution_count": 466,
     "metadata": {},
     "output_type": "execute_result"
    }
   ],
   "source": [
    "len([x for x in steering_overfit_forw_int if x is not 'excluded'])"
   ]
  },
  {
   "cell_type": "code",
   "execution_count": 467,
   "id": "7407b3e3",
   "metadata": {},
   "outputs": [
    {
     "data": {
      "text/plain": [
       "7"
      ]
     },
     "execution_count": 467,
     "metadata": {},
     "output_type": "execute_result"
    }
   ],
   "source": [
    "len([x for x in steering_overfit_backw_int if x is not 'excluded'])"
   ]
  },
  {
   "cell_type": "code",
   "execution_count": 459,
   "id": "fccbbe4d",
   "metadata": {},
   "outputs": [
    {
     "data": {
      "text/plain": [
       "['excluded',\n",
       " 'sideroad',\n",
       " 'crossroad',\n",
       " 'sideroad',\n",
       " 'off',\n",
       " 'off',\n",
       " 'curb',\n",
       " 'excluded',\n",
       " 'crossroad',\n",
       " 'excluded',\n",
       " 'excluded']"
      ]
     },
     "execution_count": 459,
     "metadata": {},
     "output_type": "execute_result"
    }
   ],
   "source": [
    "steering_overfit_backw_int"
   ]
  },
  {
   "cell_type": "code",
   "execution_count": null,
   "id": "d5ae8795",
   "metadata": {},
   "outputs": [],
   "source": []
  }
 ],
 "metadata": {
  "kernelspec": {
   "display_name": "Python 3 (ipykernel)",
   "language": "python",
   "name": "python3"
  },
  "language_info": {
   "codemirror_mode": {
    "name": "ipython",
    "version": 3
   },
   "file_extension": ".py",
   "mimetype": "text/x-python",
   "name": "python",
   "nbconvert_exporter": "python",
   "pygments_lexer": "ipython3",
   "version": "3.9.7"
  }
 },
 "nbformat": 4,
 "nbformat_minor": 5
}