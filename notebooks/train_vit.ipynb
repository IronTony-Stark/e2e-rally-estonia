{
 "cells": [
  {
   "cell_type": "code",
   "execution_count": 1,
   "id": "9395d485",
   "metadata": {},
   "outputs": [],
   "source": [
    "from pathlib import Path\n",
    "\n",
    "import torch, torchvision\n",
    "from torchvision import transforms\n",
    "\n",
    "from network_vit import ViTForRegression, ViTTrainer\n",
    "from dataloading.nvidia import NvidiaDataset, NvidiaTrainDataset, NvidiaValidationDataset, CropViT\n",
    "import matplotlib.pyplot as plt\n",
    "\n",
    "%load_ext autoreload\n",
    "%autoreload 2"
   ]
  },
  {
   "cell_type": "code",
   "execution_count": 2,
   "id": "f116b146",
   "metadata": {},
   "outputs": [
    {
     "name": "stderr",
     "output_type": "stream",
     "text": [
      "Some weights of the model checkpoint at google/vit-base-patch16-224-in21k were not used when initializing ViTForRegression: ['pooler.dense.weight', 'pooler.dense.bias']\n",
      "- This IS expected if you are initializing ViTForRegression from the checkpoint of a model trained on another task or with another architecture (e.g. initializing a BertForSequenceClassification model from a BertForPreTraining model).\n",
      "- This IS NOT expected if you are initializing ViTForRegression from the checkpoint of a model that you expect to be exactly identical (initializing a BertForSequenceClassification model from a BertForSequenceClassification model).\n",
      "Some weights of ViTForRegression were not initialized from the model checkpoint at google/vit-base-patch16-224-in21k and are newly initialized: ['classifier.bias', 'classifier.weight']\n",
      "You should probably TRAIN this model on a down-stream task to be able to use it for predictions and inference.\n"
     ]
    }
   ],
   "source": [
    "pretrained_model_name = \"google/vit-base-patch16-224-in21k\"\n",
    "#pretrained_model_name = \"lane-follow-vit-combine4-best\"\n",
    "save_model_name = \"vit-v1\"\n",
    "trainer = ViTTrainer(pretrained_model_name, save_model_name, wandb_logging=True)"
   ]
  },
  {
   "cell_type": "code",
   "execution_count": null,
   "id": "3861dcdf",
   "metadata": {},
   "outputs": [],
   "source": [
    "root_path = Path(\"/media/romet/data2/datasets/rally-estonia/dataset\")\n",
    "\n",
    "trainset = NvidiaTrainDataset(root_path, crop=CropViT())\n",
    "trainloader = torch.utils.data.DataLoader(trainset, batch_size=64, shuffle=True,\n",
    "                                         num_workers=32, pin_memory=True, persistent_workers=True)\n",
    "\n",
    "print(len(trainset.frames))"
   ]
  },
  {
   "cell_type": "code",
   "execution_count": 4,
   "id": "60511ec8",
   "metadata": {},
   "outputs": [
    {
     "name": "stdout",
     "output_type": "stream",
     "text": [
      "/media/romet/data2/datasets/rally-estonia/dataset/2021-05-28-15-19-48_e2e_sulaoja_20_30: 10708\n",
      "/media/romet/data2/datasets/rally-estonia/dataset/2021-06-07-14-20-07_e2e_rec_ss6: 25836\n",
      "/media/romet/data2/datasets/rally-estonia/dataset/2021-06-07-14-06-31_e2e_rec_ss6: 3003\n",
      "/media/romet/data2/datasets/rally-estonia/dataset/2021-06-07-14-09-18_e2e_rec_ss6: 4551\n",
      "/media/romet/data2/datasets/rally-estonia/dataset/2021-06-07-14-36-16_e2e_rec_ss6: 25368\n",
      "/media/romet/data2/datasets/rally-estonia/dataset/2021-09-24-14-03-45_e2e_rec_ss11_backwards: 25172\n",
      "/media/romet/data2/datasets/rally-estonia/dataset/2021-10-26-10-49-06_e2e_rec_ss20_elva: 33045\n",
      "/media/romet/data2/datasets/rally-estonia/dataset/2021-10-26-11-08-59_e2e_rec_ss20_elva_back: 33281\n",
      "/media/romet/data2/datasets/rally-estonia/dataset/2021-10-20-15-11-29_e2e_rec_vastse_ss13_17_back: 26763\n",
      "/media/romet/data2/datasets/rally-estonia/dataset/2021-10-11-14-50-59_e2e_rec_vahi: 21211\n",
      "/media/romet/data2/datasets/rally-estonia/dataset/2021-10-14-13-08-51_e2e_rec_vahi_backwards: 13442\n",
      "222380\n"
     ]
    }
   ],
   "source": [
    "validset = NvidiaValidationDataset(root_path, crop=CropViT())\n",
    "validloader = torch.utils.data.DataLoader(validset, batch_size=64, shuffle=False,\n",
    "                                         num_workers=32, pin_memory=True, persistent_workers=True)\n",
    "print(len(validset.frames))"
   ]
  },
  {
   "cell_type": "code",
   "execution_count": 5,
   "id": "cd74aab7",
   "metadata": {},
   "outputs": [
    {
     "name": "stderr",
     "output_type": "stream",
     "text": [
      "\u001b[34m\u001b[1mwandb\u001b[0m: Currently logged in as: \u001b[33mrometaidla\u001b[0m (use `wandb login --relogin` to force relogin)\n"
     ]
    },
    {
     "data": {
      "text/html": [
       "\n",
       "                    Syncing run <strong><a href=\"https://wandb.ai/rometaidla/lanefollowing-ut-vahi/runs/165bgais\" target=\"_blank\">generous-firebrand-27</a></strong> to <a href=\"https://wandb.ai/rometaidla/lanefollowing-ut-vahi\" target=\"_blank\">Weights & Biases</a> (<a href=\"https://docs.wandb.com/integrations/jupyter.html\" target=\"_blank\">docs</a>).<br/>\n",
       "\n",
       "                "
      ],
      "text/plain": [
       "<IPython.core.display.HTML object>"
      ]
     },
     "metadata": {},
     "output_type": "display_data"
    },
    {
     "data": {
      "application/vnd.jupyter.widget-view+json": {
       "model_id": "385ed2cd27224ff49b0db4416e032a99",
       "version_major": 2,
       "version_minor": 0
      },
      "text/plain": [
       "  0%|          | 0/21048 [00:00<?, ?it/s]"
      ]
     },
     "metadata": {},
     "output_type": "display_data"
    },
    {
     "data": {
      "application/vnd.jupyter.widget-view+json": {
       "model_id": "31a03c4ec7d141f5ba31bbeee3035b5c",
       "version_major": 2,
       "version_minor": 0
      },
      "text/plain": [
       "  0%|          | 0/3475 [00:00<?, ?it/s]"
      ]
     },
     "metadata": {},
     "output_type": "display_data"
    },
    {
     "name": "stdout",
     "output_type": "stream",
     "text": [
      "Saving model.\n",
      "Saving best model.\n"
     ]
    },
    {
     "data": {
      "application/vnd.jupyter.widget-view+json": {
       "model_id": "1c4e8ce596464c2a88d52cd4bf5d3828",
       "version_major": 2,
       "version_minor": 0
      },
      "text/plain": [
       "  0%|          | 0/21048 [00:00<?, ?it/s]"
      ]
     },
     "metadata": {},
     "output_type": "display_data"
    },
    {
     "data": {
      "application/vnd.jupyter.widget-view+json": {
       "model_id": "ddf7acd80a1943b5ba15bbdabd2db18d",
       "version_major": 2,
       "version_minor": 0
      },
      "text/plain": [
       "  0%|          | 0/3475 [00:00<?, ?it/s]"
      ]
     },
     "metadata": {},
     "output_type": "display_data"
    },
    {
     "name": "stdout",
     "output_type": "stream",
     "text": [
      "Saving model.\n"
     ]
    },
    {
     "data": {
      "application/vnd.jupyter.widget-view+json": {
       "model_id": "af00e42d26fb4e4c8dfe91aebecf15d8",
       "version_major": 2,
       "version_minor": 0
      },
      "text/plain": [
       "  0%|          | 0/21048 [00:00<?, ?it/s]"
      ]
     },
     "metadata": {},
     "output_type": "display_data"
    },
    {
     "data": {
      "application/vnd.jupyter.widget-view+json": {
       "model_id": "9f5c2f52fc104905969637de9ce97f75",
       "version_major": 2,
       "version_minor": 0
      },
      "text/plain": [
       "  0%|          | 0/3475 [00:00<?, ?it/s]"
      ]
     },
     "metadata": {},
     "output_type": "display_data"
    },
    {
     "name": "stdout",
     "output_type": "stream",
     "text": [
      "Saving model.\n"
     ]
    },
    {
     "data": {
      "application/vnd.jupyter.widget-view+json": {
       "model_id": "be9a9b9c32a3445cb58a16d9923e8f6a",
       "version_major": 2,
       "version_minor": 0
      },
      "text/plain": [
       "  0%|          | 0/21048 [00:00<?, ?it/s]"
      ]
     },
     "metadata": {},
     "output_type": "display_data"
    },
    {
     "data": {
      "application/vnd.jupyter.widget-view+json": {
       "model_id": "3d8f19316b4840048176e6b10a6fc064",
       "version_major": 2,
       "version_minor": 0
      },
      "text/plain": [
       "  0%|          | 0/3475 [00:00<?, ?it/s]"
      ]
     },
     "metadata": {},
     "output_type": "display_data"
    },
    {
     "name": "stdout",
     "output_type": "stream",
     "text": [
      "Saving model.\n",
      "Saving best model.\n"
     ]
    },
    {
     "data": {
      "application/vnd.jupyter.widget-view+json": {
       "model_id": "852a047854304b19b9c092616b6dbac9",
       "version_major": 2,
       "version_minor": 0
      },
      "text/plain": [
       "  0%|          | 0/21048 [00:00<?, ?it/s]"
      ]
     },
     "metadata": {},
     "output_type": "display_data"
    },
    {
     "data": {
      "application/vnd.jupyter.widget-view+json": {
       "model_id": "4c8b95a6dd2043ecb89ab88780e7bc1b",
       "version_major": 2,
       "version_minor": 0
      },
      "text/plain": [
       "  0%|          | 0/3475 [00:00<?, ?it/s]"
      ]
     },
     "metadata": {},
     "output_type": "display_data"
    },
    {
     "name": "stdout",
     "output_type": "stream",
     "text": [
      "Saving model.\n"
     ]
    },
    {
     "data": {
      "application/vnd.jupyter.widget-view+json": {
       "model_id": "c795a8df9e9a4ab9b5841e5dadfb9adf",
       "version_major": 2,
       "version_minor": 0
      },
      "text/plain": [
       "  0%|          | 0/21048 [00:00<?, ?it/s]"
      ]
     },
     "metadata": {},
     "output_type": "display_data"
    },
    {
     "data": {
      "application/vnd.jupyter.widget-view+json": {
       "model_id": "1f50080794e5434faaa92c35782cd0fe",
       "version_major": 2,
       "version_minor": 0
      },
      "text/plain": [
       "  0%|          | 0/3475 [00:00<?, ?it/s]"
      ]
     },
     "metadata": {},
     "output_type": "display_data"
    },
    {
     "name": "stdout",
     "output_type": "stream",
     "text": [
      "Saving model.\n",
      "Saving best model.\n"
     ]
    },
    {
     "data": {
      "application/vnd.jupyter.widget-view+json": {
       "model_id": "ba2c956e278647c0b3a3f6c22864621a",
       "version_major": 2,
       "version_minor": 0
      },
      "text/plain": [
       "  0%|          | 0/21048 [00:00<?, ?it/s]"
      ]
     },
     "metadata": {},
     "output_type": "display_data"
    },
    {
     "data": {
      "application/vnd.jupyter.widget-view+json": {
       "model_id": "908630b074084c4db98a107d93f81ab2",
       "version_major": 2,
       "version_minor": 0
      },
      "text/plain": [
       "  0%|          | 0/3475 [00:00<?, ?it/s]"
      ]
     },
     "metadata": {},
     "output_type": "display_data"
    },
    {
     "name": "stdout",
     "output_type": "stream",
     "text": [
      "Saving model.\n",
      "Saving best model.\n"
     ]
    },
    {
     "data": {
      "application/vnd.jupyter.widget-view+json": {
       "model_id": "6a8344e5e9314d3c8b88ff92de36d907",
       "version_major": 2,
       "version_minor": 0
      },
      "text/plain": [
       "  0%|          | 0/21048 [00:00<?, ?it/s]"
      ]
     },
     "metadata": {},
     "output_type": "display_data"
    },
    {
     "data": {
      "application/vnd.jupyter.widget-view+json": {
       "model_id": "d55c063ab92d4737aaa0d42734b697c4",
       "version_major": 2,
       "version_minor": 0
      },
      "text/plain": [
       "  0%|          | 0/3475 [00:00<?, ?it/s]"
      ]
     },
     "metadata": {},
     "output_type": "display_data"
    },
    {
     "name": "stdout",
     "output_type": "stream",
     "text": [
      "Saving model.\n",
      "Saving best model.\n"
     ]
    },
    {
     "data": {
      "application/vnd.jupyter.widget-view+json": {
       "model_id": "118fed061d8545f2a966b9e8d82ce9a7",
       "version_major": 2,
       "version_minor": 0
      },
      "text/plain": [
       "  0%|          | 0/21048 [00:00<?, ?it/s]"
      ]
     },
     "metadata": {},
     "output_type": "display_data"
    },
    {
     "ename": "KeyboardInterrupt",
     "evalue": "",
     "output_type": "error",
     "traceback": [
      "\u001b[0;31m---------------------------------------------------------------------------\u001b[0m",
      "\u001b[0;31mKeyboardInterrupt\u001b[0m                         Traceback (most recent call last)",
      "\u001b[0;32m/tmp/ipykernel_159577/4181496727.py\u001b[0m in \u001b[0;36m<module>\u001b[0;34m\u001b[0m\n\u001b[0;32m----> 1\u001b[0;31m \u001b[0mtrainer\u001b[0m\u001b[0;34m.\u001b[0m\u001b[0mtrain\u001b[0m\u001b[0;34m(\u001b[0m\u001b[0mtrainloader\u001b[0m\u001b[0;34m,\u001b[0m \u001b[0mvalidloader\u001b[0m\u001b[0;34m)\u001b[0m\u001b[0;34m\u001b[0m\u001b[0;34m\u001b[0m\u001b[0m\n\u001b[0m",
      "\u001b[0;32m~/projects/ut/wp4/nvidia-e2e/network_vit.py\u001b[0m in \u001b[0;36mtrain\u001b[0;34m(self, trainloader, validloader, num_epochs, patience)\u001b[0m\n\u001b[1;32m     92\u001b[0m         \u001b[0;32mfor\u001b[0m \u001b[0mepoch\u001b[0m \u001b[0;32min\u001b[0m \u001b[0mrange\u001b[0m\u001b[0;34m(\u001b[0m\u001b[0mnum_epochs\u001b[0m\u001b[0;34m)\u001b[0m\u001b[0;34m:\u001b[0m\u001b[0;34m\u001b[0m\u001b[0;34m\u001b[0m\u001b[0m\n\u001b[1;32m     93\u001b[0m \u001b[0;34m\u001b[0m\u001b[0m\n\u001b[0;32m---> 94\u001b[0;31m             \u001b[0mtrain_loss\u001b[0m \u001b[0;34m=\u001b[0m \u001b[0mself\u001b[0m\u001b[0;34m.\u001b[0m\u001b[0mtrain_epoch\u001b[0m\u001b[0;34m(\u001b[0m\u001b[0mtrainloader\u001b[0m\u001b[0;34m)\u001b[0m\u001b[0;34m\u001b[0m\u001b[0;34m\u001b[0m\u001b[0m\n\u001b[0m\u001b[1;32m     95\u001b[0m             \u001b[0mvalid_loss\u001b[0m\u001b[0;34m,\u001b[0m \u001b[0m_\u001b[0m \u001b[0;34m=\u001b[0m \u001b[0mself\u001b[0m\u001b[0;34m.\u001b[0m\u001b[0mevaluate\u001b[0m\u001b[0;34m(\u001b[0m\u001b[0mvalidloader\u001b[0m\u001b[0;34m)\u001b[0m\u001b[0;34m\u001b[0m\u001b[0;34m\u001b[0m\u001b[0m\n\u001b[1;32m     96\u001b[0m \u001b[0;34m\u001b[0m\u001b[0m\n",
      "\u001b[0;32m~/projects/ut/wp4/nvidia-e2e/network_vit.py\u001b[0m in \u001b[0;36mtrain_epoch\u001b[0;34m(self, loader)\u001b[0m\n\u001b[1;32m    150\u001b[0m             \u001b[0mloss\u001b[0m\u001b[0;34m.\u001b[0m\u001b[0mbackward\u001b[0m\u001b[0;34m(\u001b[0m\u001b[0;34m)\u001b[0m\u001b[0;34m\u001b[0m\u001b[0;34m\u001b[0m\u001b[0m\n\u001b[1;32m    151\u001b[0m \u001b[0;34m\u001b[0m\u001b[0m\n\u001b[0;32m--> 152\u001b[0;31m             \u001b[0mself\u001b[0m\u001b[0;34m.\u001b[0m\u001b[0moptimizer\u001b[0m\u001b[0;34m.\u001b[0m\u001b[0mstep\u001b[0m\u001b[0;34m(\u001b[0m\u001b[0;34m)\u001b[0m\u001b[0;34m\u001b[0m\u001b[0;34m\u001b[0m\u001b[0m\n\u001b[0m\u001b[1;32m    153\u001b[0m             \u001b[0mself\u001b[0m\u001b[0;34m.\u001b[0m\u001b[0mlr_scheduler\u001b[0m\u001b[0;34m.\u001b[0m\u001b[0mstep\u001b[0m\u001b[0;34m(\u001b[0m\u001b[0;34m)\u001b[0m\u001b[0;34m\u001b[0m\u001b[0;34m\u001b[0m\u001b[0m\n\u001b[1;32m    154\u001b[0m             \u001b[0mself\u001b[0m\u001b[0;34m.\u001b[0m\u001b[0moptimizer\u001b[0m\u001b[0;34m.\u001b[0m\u001b[0mzero_grad\u001b[0m\u001b[0;34m(\u001b[0m\u001b[0;34m)\u001b[0m\u001b[0;34m\u001b[0m\u001b[0;34m\u001b[0m\u001b[0m\n",
      "\u001b[0;32m/opt/conda/envs/lanefollowing4/lib/python3.8/site-packages/torch/optim/lr_scheduler.py\u001b[0m in \u001b[0;36mwrapper\u001b[0;34m(*args, **kwargs)\u001b[0m\n\u001b[1;32m     63\u001b[0m                 \u001b[0minstance\u001b[0m\u001b[0;34m.\u001b[0m\u001b[0m_step_count\u001b[0m \u001b[0;34m+=\u001b[0m \u001b[0;36m1\u001b[0m\u001b[0;34m\u001b[0m\u001b[0;34m\u001b[0m\u001b[0m\n\u001b[1;32m     64\u001b[0m                 \u001b[0mwrapped\u001b[0m \u001b[0;34m=\u001b[0m \u001b[0mfunc\u001b[0m\u001b[0;34m.\u001b[0m\u001b[0m__get__\u001b[0m\u001b[0;34m(\u001b[0m\u001b[0minstance\u001b[0m\u001b[0;34m,\u001b[0m \u001b[0mcls\u001b[0m\u001b[0;34m)\u001b[0m\u001b[0;34m\u001b[0m\u001b[0;34m\u001b[0m\u001b[0m\n\u001b[0;32m---> 65\u001b[0;31m                 \u001b[0;32mreturn\u001b[0m \u001b[0mwrapped\u001b[0m\u001b[0;34m(\u001b[0m\u001b[0;34m*\u001b[0m\u001b[0margs\u001b[0m\u001b[0;34m,\u001b[0m \u001b[0;34m**\u001b[0m\u001b[0mkwargs\u001b[0m\u001b[0;34m)\u001b[0m\u001b[0;34m\u001b[0m\u001b[0;34m\u001b[0m\u001b[0m\n\u001b[0m\u001b[1;32m     66\u001b[0m \u001b[0;34m\u001b[0m\u001b[0m\n\u001b[1;32m     67\u001b[0m             \u001b[0;31m# Note that the returned function here is no longer a bound method,\u001b[0m\u001b[0;34m\u001b[0m\u001b[0;34m\u001b[0m\u001b[0;34m\u001b[0m\u001b[0m\n",
      "\u001b[0;32m/opt/conda/envs/lanefollowing4/lib/python3.8/site-packages/torch/optim/optimizer.py\u001b[0m in \u001b[0;36mwrapper\u001b[0;34m(*args, **kwargs)\u001b[0m\n\u001b[1;32m     86\u001b[0m                 \u001b[0mprofile_name\u001b[0m \u001b[0;34m=\u001b[0m \u001b[0;34m\"Optimizer.step#{}.step\"\u001b[0m\u001b[0;34m.\u001b[0m\u001b[0mformat\u001b[0m\u001b[0;34m(\u001b[0m\u001b[0mobj\u001b[0m\u001b[0;34m.\u001b[0m\u001b[0m__class__\u001b[0m\u001b[0;34m.\u001b[0m\u001b[0m__name__\u001b[0m\u001b[0;34m)\u001b[0m\u001b[0;34m\u001b[0m\u001b[0;34m\u001b[0m\u001b[0m\n\u001b[1;32m     87\u001b[0m                 \u001b[0;32mwith\u001b[0m \u001b[0mtorch\u001b[0m\u001b[0;34m.\u001b[0m\u001b[0mautograd\u001b[0m\u001b[0;34m.\u001b[0m\u001b[0mprofiler\u001b[0m\u001b[0;34m.\u001b[0m\u001b[0mrecord_function\u001b[0m\u001b[0;34m(\u001b[0m\u001b[0mprofile_name\u001b[0m\u001b[0;34m)\u001b[0m\u001b[0;34m:\u001b[0m\u001b[0;34m\u001b[0m\u001b[0;34m\u001b[0m\u001b[0m\n\u001b[0;32m---> 88\u001b[0;31m                     \u001b[0;32mreturn\u001b[0m \u001b[0mfunc\u001b[0m\u001b[0;34m(\u001b[0m\u001b[0;34m*\u001b[0m\u001b[0margs\u001b[0m\u001b[0;34m,\u001b[0m \u001b[0;34m**\u001b[0m\u001b[0mkwargs\u001b[0m\u001b[0;34m)\u001b[0m\u001b[0;34m\u001b[0m\u001b[0;34m\u001b[0m\u001b[0m\n\u001b[0m\u001b[1;32m     89\u001b[0m             \u001b[0;32mreturn\u001b[0m \u001b[0mwrapper\u001b[0m\u001b[0;34m\u001b[0m\u001b[0;34m\u001b[0m\u001b[0m\n\u001b[1;32m     90\u001b[0m \u001b[0;34m\u001b[0m\u001b[0m\n",
      "\u001b[0;32m/opt/conda/envs/lanefollowing4/lib/python3.8/site-packages/transformers/optimization.py\u001b[0m in \u001b[0;36mstep\u001b[0;34m(self, closure)\u001b[0m\n\u001b[1;32m    348\u001b[0m                 \u001b[0;31m# In-place operations to update the averages at the same time\u001b[0m\u001b[0;34m\u001b[0m\u001b[0;34m\u001b[0m\u001b[0;34m\u001b[0m\u001b[0m\n\u001b[1;32m    349\u001b[0m                 \u001b[0mexp_avg\u001b[0m\u001b[0;34m.\u001b[0m\u001b[0mmul_\u001b[0m\u001b[0;34m(\u001b[0m\u001b[0mbeta1\u001b[0m\u001b[0;34m)\u001b[0m\u001b[0;34m.\u001b[0m\u001b[0madd_\u001b[0m\u001b[0;34m(\u001b[0m\u001b[0mgrad\u001b[0m\u001b[0;34m,\u001b[0m \u001b[0malpha\u001b[0m\u001b[0;34m=\u001b[0m\u001b[0;34m(\u001b[0m\u001b[0;36m1.0\u001b[0m \u001b[0;34m-\u001b[0m \u001b[0mbeta1\u001b[0m\u001b[0;34m)\u001b[0m\u001b[0;34m)\u001b[0m\u001b[0;34m\u001b[0m\u001b[0;34m\u001b[0m\u001b[0m\n\u001b[0;32m--> 350\u001b[0;31m                 \u001b[0mexp_avg_sq\u001b[0m\u001b[0;34m.\u001b[0m\u001b[0mmul_\u001b[0m\u001b[0;34m(\u001b[0m\u001b[0mbeta2\u001b[0m\u001b[0;34m)\u001b[0m\u001b[0;34m.\u001b[0m\u001b[0maddcmul_\u001b[0m\u001b[0;34m(\u001b[0m\u001b[0mgrad\u001b[0m\u001b[0;34m,\u001b[0m \u001b[0mgrad\u001b[0m\u001b[0;34m,\u001b[0m \u001b[0mvalue\u001b[0m\u001b[0;34m=\u001b[0m\u001b[0;36m1.0\u001b[0m \u001b[0;34m-\u001b[0m \u001b[0mbeta2\u001b[0m\u001b[0;34m)\u001b[0m\u001b[0;34m\u001b[0m\u001b[0;34m\u001b[0m\u001b[0m\n\u001b[0m\u001b[1;32m    351\u001b[0m                 \u001b[0mdenom\u001b[0m \u001b[0;34m=\u001b[0m \u001b[0mexp_avg_sq\u001b[0m\u001b[0;34m.\u001b[0m\u001b[0msqrt\u001b[0m\u001b[0;34m(\u001b[0m\u001b[0;34m)\u001b[0m\u001b[0;34m.\u001b[0m\u001b[0madd_\u001b[0m\u001b[0;34m(\u001b[0m\u001b[0mgroup\u001b[0m\u001b[0;34m[\u001b[0m\u001b[0;34m\"eps\"\u001b[0m\u001b[0;34m]\u001b[0m\u001b[0;34m)\u001b[0m\u001b[0;34m\u001b[0m\u001b[0;34m\u001b[0m\u001b[0m\n\u001b[1;32m    352\u001b[0m \u001b[0;34m\u001b[0m\u001b[0m\n",
      "\u001b[0;31mKeyboardInterrupt\u001b[0m: "
     ]
    }
   ],
   "source": [
    "trainer.train(trainloader, validloader)"
   ]
  },
  {
   "cell_type": "code",
   "execution_count": null,
   "id": "71edaa8b",
   "metadata": {},
   "outputs": [],
   "source": []
  },
  {
   "cell_type": "code",
   "execution_count": null,
   "id": "9cffa4af",
   "metadata": {},
   "outputs": [],
   "source": []
  },
  {
   "cell_type": "code",
   "execution_count": null,
   "id": "5e260d3e",
   "metadata": {},
   "outputs": [],
   "source": []
  },
  {
   "cell_type": "code",
   "execution_count": null,
   "id": "1b5e0913",
   "metadata": {},
   "outputs": [],
   "source": []
  },
  {
   "cell_type": "code",
   "execution_count": null,
   "id": "8e608ffe",
   "metadata": {},
   "outputs": [],
   "source": []
  },
  {
   "cell_type": "code",
   "execution_count": null,
   "id": "55bc120c",
   "metadata": {},
   "outputs": [],
   "source": []
  },
  {
   "cell_type": "code",
   "execution_count": null,
   "id": "d3e11c4f",
   "metadata": {},
   "outputs": [],
   "source": [
    "train_paths = [\n",
    "#             root_path / \"2021-05-20-12-36-10_e2e_sulaoja_20_30\",\n",
    "#             root_path / \"2021-05-20-12-43-17_e2e_sulaoja_20_30\",\n",
    "#             root_path / \"2021-05-20-12-51-29_e2e_sulaoja_20_30\",\n",
    "#             root_path / \"2021-05-20-13-44-06_e2e_sulaoja_10_10\",\n",
    "#             root_path / \"2021-05-20-13-51-21_e2e_sulaoja_10_10\",\n",
    "#             root_path / \"2021-05-20-13-59-00_e2e_sulaoja_10_10\",\n",
    "#             root_path / \"2021-05-28-15-07-56_e2e_sulaoja_20_30\",\n",
    "#             root_path / \"2021-05-28-15-17-19_e2e_sulaoja_20_30\",\n",
    "#             root_path / \"2021-06-09-13-14-51_e2e_rec_ss2\",\n",
    "#             root_path / \"2021-06-09-13-55-03_e2e_rec_ss2_backwards\",\n",
    "#             root_path / \"2021-06-09-14-58-11_e2e_rec_ss3\",\n",
    "#             root_path / \"2021-06-09-15-42-05_e2e_rec_ss3_backwards\",\n",
    "#             root_path / \"2021-06-09-16-24-59_e2e_rec_ss13\",\n",
    "#             root_path / \"2021-06-09-16-50-22_e2e_rec_ss13_backwards\",\n",
    "#             root_path / \"2021-06-10-12-59-59_e2e_ss4\",\n",
    "#             root_path / \"2021-06-10-13-19-22_e2e_ss4_backwards\",\n",
    "#             root_path / \"2021-06-10-13-51-34_e2e_ss12\",\n",
    "#             root_path / \"2021-06-10-14-02-24_e2e_ss12_backwards\",\n",
    "#             root_path / \"2021-06-10-14-44-24_e2e_ss3_backwards\",\n",
    "#             root_path / \"2021-06-10-15-03-16_e2e_ss3_backwards\",\n",
    "#             root_path / \"2021-06-14-11-08-19_e2e_rec_ss14\",\n",
    "#             root_path / \"2021-06-14-11-22-05_e2e_rec_ss14\",\n",
    "#             root_path / \"2021-06-14-11-22-05_e2e_rec_ss14\",\n",
    "#             root_path / \"2021-06-14-11-43-48_e2e_rec_ss14_backwards\",\n",
    "#             root_path / \"2021-09-24-11-19-25_e2e_rec_ss10\",\n",
    "#             root_path / \"2021-09-24-11-40-24_e2e_rec_ss10_2\",\n",
    "#             root_path / \"2021-09-24-12-02-32_e2e_rec_ss10_3\",\n",
    "#             root_path / \"2021-09-24-12-21-20_e2e_rec_ss10_backwards\",\n",
    "#             root_path / \"2021-09-24-13-39-38_e2e_rec_ss11\",\n",
    "#             root_path / \"2021-09-30-13-57-00_e2e_rec_ss14\",\n",
    "#             root_path / \"2021-09-30-15-03-37_e2e_ss14_from_half_way\",\n",
    "#             root_path / \"2021-09-30-15-20-14_e2e_ss14_backwards\",\n",
    "#             root_path / \"2021-09-30-15-56-59_e2e_ss14_attempt_2\",\n",
    "#             root_path / \"2021-10-07-11-05-13_e2e_rec_ss3\",\n",
    "#             root_path / \"2021-10-07-11-44-52_e2e_rec_ss3_backwards\",\n",
    "#             root_path / \"2021-10-07-12-54-17_e2e_rec_ss4\",\n",
    "#             root_path / \"2021-10-07-13-22-35_e2e_rec_ss4_backwards\",\n",
    "#             root_path / \"2021-10-11-16-06-44_e2e_rec_ss2\",\n",
    "#             root_path / \"2021-10-11-17-10-23_e2e_rec_last_part\",\n",
    "#             root_path / \"2021-10-11-17-14-40_e2e_rec_backwards\",\n",
    "#             root_path / \"2021-10-11-17-20-12_e2e_rec_backwards\",\n",
    "            root_path / \"2021-10-20-14-55-47_e2e_rec_vastse_ss13_17\",\n",
    "            root_path / \"2021-10-20-13-57-51_e2e_rec_neeruti_ss19_22\",\n",
    "            root_path / \"2021-10-20-14-15-07_e2e_rec_neeruti_ss19_22_back\",\n",
    "            root_path / \"2021-10-25-17-31-48_e2e_rec_ss2_arula\",\n",
    "            root_path / \"2021-10-25-17-06-34_e2e_rec_ss2_arula_back\"\n",
    "        ]\n",
    "\n",
    "trainset = NvidiaDataset(dataset_paths=train_paths)"
   ]
  },
  {
   "cell_type": "code",
   "execution_count": null,
   "id": "50fb3ab2",
   "metadata": {},
   "outputs": [],
   "source": [
    "def draw_box(img, xmin, ymin, xmax, ymax):\n",
    "    return torchvision.utils.draw_bounding_boxes(img,\n",
    "                    boxes=torch.tensor([[xmin, ymin, xmax, ymax]]), \n",
    "                    colors=[\"red\"],\n",
    "                    width=2)"
   ]
  },
  {
   "cell_type": "code",
   "execution_count": null,
   "id": "c7d6455e",
   "metadata": {},
   "outputs": [],
   "source": [
    "data = trainset[0]\n",
    "image = data['image']\n",
    "print(image.shape)\n",
    "scale = 6.0\n",
    "#image = draw_box(image, 34*scale, 140*scale, 482*scale, 252*scale)\n",
    "\n",
    "\n",
    "plt.figure(figsize=(10,10))\n",
    "plt.imshow(image.permute(1, 2, 0))"
   ]
  },
  {
   "cell_type": "code",
   "execution_count": null,
   "id": "c2cd4528",
   "metadata": {},
   "outputs": [],
   "source": [
    "xmin = 240\n",
    "xmax = 1560\n",
    "\n",
    "ymin = 534\n",
    "ymax = 864\n",
    "\n",
    "scale = 0.17\n",
    "\n",
    "height = ymax - ymin\n",
    "print(int(scale*height))\n",
    "width = xmax - xmin\n",
    "print(int(scale*width))\n",
    "cropped = transforms.functional.resized_crop(image, ymin, xmin, height, width,\n",
    "                                             (int(scale*height), int(scale*width)))\n",
    "plt.figure(figsize=(10,10))\n",
    "plt.imshow(cropped.permute(1, 2, 0))"
   ]
  },
  {
   "cell_type": "code",
   "execution_count": null,
   "id": "835b74bb",
   "metadata": {},
   "outputs": [],
   "source": [
    "xmin = 540\n",
    "xmax = 1260\n",
    "\n",
    "ymin = 244\n",
    "ymax = 964\n",
    "\n",
    "scale = 0.312\n",
    "\n",
    "height = ymax - ymin\n",
    "width = xmax - xmin\n",
    "cropped = transforms.functional.resized_crop(image, ymin, xmin, height, width,\n",
    "                                             (int(scale*height), int(scale*width)))\n",
    "plt.figure(figsize=(10,10))\n",
    "plt.imshow(cropped.permute(1, 2, 0))"
   ]
  },
  {
   "cell_type": "code",
   "execution_count": null,
   "id": "a68c2d68",
   "metadata": {},
   "outputs": [],
   "source": [
    "xmin = 186\n",
    "ymin = 600\n",
    "\n",
    "scale = 6.0\n",
    "width = 258\n",
    "height = 66\n",
    "scaled_width = int(width * scale)\n",
    "scaled_height = int(height * scale)\n",
    "\n",
    "cropped = transforms.functional.resized_crop(data[\"image\"], ymin, xmin, scaled_height, scaled_width,\n",
    "                                                     (height, width))"
   ]
  }
 ],
 "metadata": {
  "kernelspec": {
   "display_name": "Python 3 (ipykernel)",
   "language": "python",
   "name": "python3"
  },
  "language_info": {
   "codemirror_mode": {
    "name": "ipython",
    "version": 3
   },
   "file_extension": ".py",
   "mimetype": "text/x-python",
   "name": "python",
   "nbconvert_exporter": "python",
   "pygments_lexer": "ipython3",
   "version": "3.8.12"
  }
 },
 "nbformat": 4,
 "nbformat_minor": 5
}
