{
 "cells": [
  {
   "cell_type": "code",
   "execution_count": 1,
   "id": "12395f51",
   "metadata": {},
   "outputs": [
    {
     "name": "stdout",
     "output_type": "stream",
     "text": [
      "/home/romet/projects/ut/e2e-rally-estonia\n"
     ]
    }
   ],
   "source": [
    "%cd .."
   ]
  },
  {
   "cell_type": "code",
   "execution_count": 17,
   "id": "8bd83329",
   "metadata": {},
   "outputs": [
    {
     "name": "stdout",
     "output_type": "stream",
     "text": [
      "The autoreload extension is already loaded. To reload it, use:\n",
      "  %reload_ext autoreload\n"
     ]
    }
   ],
   "source": [
    "import numpy as np\n",
    "import pandas as pd\n",
    "import matplotlib.pyplot as plt\n",
    "from pathlib import Path\n",
    "from tqdm.auto import tqdm\n",
    "\n",
    "import torch\n",
    "import torch.nn as nn\n",
    "import torchvision\n",
    "\n",
    "from dataloading.nvidia import NvidiaDataset, NvidiaValidationDataset, Normalize\n",
    "from pilotnet import PilotnetControl, PilotNetConditional\n",
    "from metrics.metrics import calculate_open_loop_metrics\n",
    "from viz.analytics import create_waypoint_error_plot\n",
    "\n",
    "from metrics.metrics import calculate_trajectory_open_loop_metrics, calculate_open_loop_metrics\n",
    "from trajectory import calculate_steering_angle\n",
    "import math\n",
    "\n",
    "from trainer import ControlTrainer, ConditionalTrainer\n",
    "from torchvision import transforms\n",
    "\n",
    "from camera_frame import CameraFrameTransformer\n",
    "\n",
    "\n",
    "%load_ext autoreload \n",
    "%autoreload 2"
   ]
  },
  {
   "cell_type": "code",
   "execution_count": 12,
   "id": "24031802",
   "metadata": {},
   "outputs": [],
   "source": [
    "def create_model_conditional(model_name, n_branches=3, n_outputs=20):\n",
    "    model = PilotNetConditional(3, n_branches=n_branches, n_outputs=n_outputs)\n",
    "    model.load_state_dict(torch.load(f\"/home/romet/projects/ut/e2e-rally-estonia/models/{model_name}/best.pt\"))\n",
    "\n",
    "    device = torch.device('cuda' if torch.cuda.is_available() else 'cpu')\n",
    "    model.to(device)\n",
    "    return model\n",
    "\n",
    "def create_model_control(model_name, n_outputs=20):\n",
    "    model = PilotnetControl(3, n_outputs)\n",
    "    model.load_state_dict(torch.load(f\"/home/romet/projects/ut/e2e-rally-estonia/models/{model_name}/best.pt\"))\n",
    "\n",
    "    device = torch.device('cuda' if torch.cuda.is_available() else 'cpu')\n",
    "    model.to(device)\n",
    "    return model"
   ]
  },
  {
   "cell_type": "code",
   "execution_count": 13,
   "id": "193a1872",
   "metadata": {},
   "outputs": [],
   "source": [
    "tracks = [\n",
    "#    \"2021-06-09-13-14-51_e2e_rec_ss2\",\n",
    "#    \"2021-06-09-13-55-03_e2e_rec_ss2_backwards\",\n",
    "#     \"2021-06-09-14-58-11_e2e_rec_ss3\",\n",
    "#     \"2021-06-09-15-42-05_e2e_rec_ss3_backwards\",\n",
    "#     \"2021-06-09-16-24-59_e2e_rec_ss13\",\n",
    "#     \"2021-06-09-16-50-22_e2e_rec_ss13_backwards\",\n",
    "#     \"2021-06-10-12-59-59_e2e_ss4\",\n",
    "#     \"2021-06-10-13-19-22_e2e_ss4_backwards\",\n",
    "#     \"2021-06-10-13-51-34_e2e_ss12\",\n",
    "#     \"2021-06-10-14-02-24_e2e_ss12_backwards\",\n",
    "#     \"2021-06-10-14-44-24_e2e_ss3_backwards\",\n",
    "#     \"2021-06-10-15-03-16_e2e_ss3_backwards\",\n",
    "#     \"2021-06-14-11-08-19_e2e_rec_ss14\",\n",
    "#     \"2021-06-14-11-22-05_e2e_rec_ss14\",\n",
    "#     \"2021-06-14-11-43-48_e2e_rec_ss14_backwards\",\n",
    "#     \"2021-09-24-11-19-25_e2e_rec_ss10\",\n",
    "#     \"2021-09-24-11-40-24_e2e_rec_ss10_2\",\n",
    "#     \"2021-09-24-12-02-32_e2e_rec_ss10_3\",\n",
    "#     \"2021-09-24-12-21-20_e2e_rec_ss10_backwards\",\n",
    "#     \"2021-09-24-13-39-38_e2e_rec_ss11\",\n",
    "#     \"2021-09-30-13-57-00_e2e_rec_ss14\",\n",
    "#     \"2021-09-30-15-03-37_e2e_ss14_from_half_way\",\n",
    "#     \"2021-09-30-15-20-14_e2e_ss14_backwards\",\n",
    "#     \"2021-09-30-15-56-59_e2e_ss14_attempt_2\",\n",
    "#     \"2021-10-07-11-05-13_e2e_rec_ss3\",\n",
    "#     \"2021-10-07-11-44-52_e2e_rec_ss3_backwards\",\n",
    "#     \"2021-10-07-12-54-17_e2e_rec_ss4\",\n",
    "#     \"2021-10-07-13-22-35_e2e_rec_ss4_backwards\",\n",
    "#     \"2021-10-11-16-06-44_e2e_rec_ss2\",\n",
    "#     \"2021-10-11-17-10-23_e2e_rec_last_part\",\n",
    "#     \"2021-10-11-17-14-40_e2e_rec_backwards\",\n",
    "#     \"2021-10-11-17-20-12_e2e_rec_backwards\",\n",
    "#     \"2021-10-20-14-55-47_e2e_rec_vastse_ss13_17\",\n",
    "#     \"2021-10-20-13-57-51_e2e_rec_neeruti_ss19_22\",\n",
    "#     \"2021-10-20-14-15-07_e2e_rec_neeruti_ss19_22_back\",\n",
    "#     \"2021-10-25-17-31-48_e2e_rec_ss2_arula\",\n",
    "#     \"2021-10-25-17-06-34_e2e_rec_ss2_arula_back\",\n",
    "#     \"2021-05-28-15-19-48_e2e_sulaoja_20_30\",\n",
    "#     \"2021-06-07-14-20-07_e2e_rec_ss6\",\n",
    "#     \"2021-06-07-14-06-31_e2e_rec_ss6\",\n",
    "#     \"2021-06-07-14-09-18_e2e_rec_ss6\",\n",
    "#     \"2021-06-07-14-36-16_e2e_rec_ss6\",\n",
    "#     \"2021-09-24-14-03-45_e2e_rec_ss11_backwards\",\n",
    "    \"2021-10-26-10-49-06_e2e_rec_ss20_elva\",\n",
    "    \"2021-10-26-11-08-59_e2e_rec_ss20_elva_back\",\n",
    "    \"2021-10-20-15-11-29_e2e_rec_vastse_ss13_17_back\",\n",
    "    \"2021-10-11-14-50-59_e2e_rec_vahi\",\n",
    "    \"2021-10-14-13-08-51_e2e_rec_vahi_backwards\"\n",
    "    \n",
    "]"
   ]
  },
  {
   "cell_type": "code",
   "execution_count": 14,
   "id": "ce4cb2ab",
   "metadata": {
    "scrolled": false
   },
   "outputs": [
    {
     "name": "stdout",
     "output_type": "stream",
     "text": [
      "/home/romet/data2/datasets/rally-estonia/dataset-new-small/summer2021/2021-10-26-11-08-59_e2e_rec_ss20_elva_back: lenght=33000, filtered=281\n"
     ]
    },
    {
     "data": {
      "application/vnd.jupyter.widget-view+json": {
       "model_id": "c49223414f554fd4a4601315e9f09c71",
       "version_major": 2,
       "version_minor": 0
      },
      "text/plain": [
       "  0%|          | 0/1032 [00:00<?, ?it/s]"
      ]
     },
     "metadata": {},
     "output_type": "display_data"
    }
   ],
   "source": [
    "root_path = Path(\"/home/romet/data2/datasets/rally-estonia/dataset-new-small/summer2021\")\n",
    "n_waypoints = 10\n",
    "n_branches = 3\n",
    "tr = transforms.Compose([Normalize()])\n",
    "dataset_name = tracks[1]\n",
    "dataset = NvidiaDataset([root_path / dataset_name], transform=tr, n_branches=n_branches,\n",
    "                            output_modality=\"waypoints\", n_waypoints=n_waypoints)\n",
    "dataloader = torch.utils.data.DataLoader(dataset, batch_size=32, shuffle=False, num_workers=16)\n",
    "conditional_trainer = ConditionalTrainer()\n",
    "conditional_model = create_model_conditional('20220528003119_waypoints-center-cam', n_branches=3, n_outputs=20)\n",
    "predicted_waypoints = conditional_trainer.predict(conditional_model, dataloader)\n",
    "true_waypoints = dataset.get_waypoints()\n",
    "trajectory_metrics = calculate_trajectory_open_loop_metrics(predicted_waypoints, true_waypoints, fps=30)"
   ]
  },
  {
   "cell_type": "code",
   "execution_count": 15,
   "id": "ca647367",
   "metadata": {},
   "outputs": [
    {
     "data": {
      "text/plain": [
       "{'first_wp_mae': 0.143492810386663,\n",
       " 'first_wp_rmse': 0.18273109914660093,\n",
       " 'first_wp_max': 1.0283037787889115,\n",
       " 'first_wp_whiteness': 0.9514921,\n",
       " 'first_wp_expert_whiteness': 0.1525434988830065,\n",
       " 'sixth_wp_mae': 0.48715350375072625,\n",
       " 'sixth_wp_whiteness': 5.221166,\n",
       " 'sixth_wp_expert_whiteness': 1.632353459345258,\n",
       " 'last_wp_mae': 1.2165482809732489,\n",
       " 'last_wp_rmse': 2.418229939688393,\n",
       " 'last_wp_max': 24.24644282173112,\n",
       " 'last_wp_whiteness': 14.276096,\n",
       " 'last_wp_expert_whiteness': 3.04398024363259}"
      ]
     },
     "execution_count": 15,
     "metadata": {},
     "output_type": "execute_result"
    }
   ],
   "source": [
    "trajectory_metrics"
   ]
  },
  {
   "cell_type": "code",
   "execution_count": 18,
   "id": "e1ac81d0",
   "metadata": {},
   "outputs": [
    {
     "data": {
      "application/vnd.jupyter.widget-view+json": {
       "model_id": "290078fb33fc4d4796f0036ba0ab4f1f",
       "version_major": 2,
       "version_minor": 0
      },
      "text/plain": [
       "  0%|          | 0/33000 [00:00<?, ?it/s]"
      ]
     },
     "metadata": {},
     "output_type": "display_data"
    }
   ],
   "source": [
    "true_steering_angles = dataset.frames.steering_angle.to_numpy()\n",
    "pred_steering_angles = []\n",
    "transformer = CameraFrameTransformer()\n",
    "for wp in tqdm(predicted_waypoints):\n",
    "    steering_angle_wp = [0.0, 0.0]\n",
    "    steering_angle_wp.extend(wp[:4])\n",
    "    wp_baselink = transformer.transform_waypoints(steering_angle_wp, \"interfacea_link2\")\n",
    "    pred_steering_angles.append(calculate_steering_angle(wp_baselink, ref_distance=9.5))\n",
    "\n",
    "fps = 30\n",
    "\n",
    "steering_metrics = calculate_open_loop_metrics(np.array(pred_steering_angles), true_steering_angles, fps=fps)"
   ]
  },
  {
   "cell_type": "code",
   "execution_count": 19,
   "id": "db80e0f1",
   "metadata": {},
   "outputs": [
    {
     "data": {
      "text/plain": [
       "{'first_wp_mae': 0.143492810386663,\n",
       " 'first_wp_rmse': 0.18273109914660093,\n",
       " 'first_wp_max': 1.0283037787889115,\n",
       " 'first_wp_whiteness': 0.9514921,\n",
       " 'first_wp_expert_whiteness': 0.1525434988830065,\n",
       " 'sixth_wp_mae': 0.48715350375072625,\n",
       " 'sixth_wp_whiteness': 5.221166,\n",
       " 'sixth_wp_expert_whiteness': 1.632353459345258,\n",
       " 'last_wp_mae': 1.2165482809732489,\n",
       " 'last_wp_rmse': 2.418229939688393,\n",
       " 'last_wp_max': 24.24644282173112,\n",
       " 'last_wp_whiteness': 14.276096,\n",
       " 'last_wp_expert_whiteness': 3.04398024363259,\n",
       " 'mae': 13.087206809847677,\n",
       " 'rmse': 27.47130154837776,\n",
       " 'max': 441.531984099373,\n",
       " 'whiteness': 149.2463790956363,\n",
       " 'expert_whiteness': 24.16830026201153}"
      ]
     },
     "execution_count": 19,
     "metadata": {},
     "output_type": "execute_result"
    }
   ],
   "source": [
    "trajectory_metrics.update(steering_metrics)\n",
    "trajectory_metrics"
   ]
  },
  {
   "cell_type": "code",
   "execution_count": 20,
   "id": "56a1596c",
   "metadata": {},
   "outputs": [],
   "source": [
    "def calculate_waypoint_metrics(model, trainer, dataset_name, n_waypoints=10, n_branches=3):\n",
    "    root_path = Path(\"/home/romet/data2/datasets/rally-estonia/dataset-new-small/summer2021\")\n",
    "    tr = transforms.Compose([Normalize()])\n",
    "    dataset = NvidiaDataset([root_path / dataset_name], transform=tr, n_branches=n_branches,\n",
    "                            output_modality=\"waypoints\", n_waypoints=n_waypoints)\n",
    "    #dataset = NvidiaValidationDataset(root_path, output_modality=\"waypoints\", transform=tr,\n",
    "    #                        n_waypoints=n_waypoints, n_branches=n_branches)\n",
    "    dataloader = torch.utils.data.DataLoader(dataset, batch_size=32, shuffle=False, num_workers=16)\n",
    "    predicted_waypoints = trainer.predict(model, dataloader)\n",
    "    true_waypoints = dataset.get_waypoints()\n",
    "    trajectory_metrics = calculate_trajectory_open_loop_metrics(predicted_waypoints, true_waypoints, fps=30)\n",
    "    \n",
    "    true_steering_angles = dataset.frames.steering_angle.to_numpy()\n",
    "    pred_steering_angles = []\n",
    "    \n",
    "    transformer = CameraFrameTransformer()\n",
    "    \n",
    "    for wp in tqdm(predicted_waypoints):\n",
    "        steering_angle_wp = [0.0, 0.0]\n",
    "        steering_angle_wp.extend(wp[:4])\n",
    "        wp_baselink = transformer.transform_waypoints(steering_angle_wp, \"interfacea_link2\")\n",
    "        pred_steering_angles.append(calculate_steering_angle(wp_baselink, ref_distance=9.5))\n",
    "    \n",
    "    steering_metrics = calculate_open_loop_metrics(np.array(pred_steering_angles), true_steering_angles, fps=30)\n",
    "    \n",
    "    trajectory_metrics.update(steering_metrics)\n",
    "    \n",
    "    return trajectory_metrics"
   ]
  },
  {
   "cell_type": "code",
   "execution_count": 21,
   "id": "b3d3bcf2",
   "metadata": {},
   "outputs": [],
   "source": [
    "import traceback\n",
    "\n",
    "def calculate_tracks_metrics(model, trainer, tracks, n_branches, n_waypoints):\n",
    "    results = []\n",
    "    for track in tracks:\n",
    "        try:\n",
    "            metrics = calculate_waypoint_metrics(model, trainer, track, n_waypoints=n_waypoints, n_branches=n_branches)\n",
    "            metrics['track'] = track\n",
    "            results.append(metrics)\n",
    "        except Exception as e:\n",
    "            traceback.print_exc()\n",
    "            print(f\"Cannot calculate metrics for {track}\")\n",
    "            print(e)\n",
    "        \n",
    "\n",
    "    df = pd.DataFrame(data=results)\n",
    "    df.set_index('track', inplace=True)\n",
    "    return df"
   ]
  },
  {
   "cell_type": "code",
   "execution_count": 22,
   "id": "52608efb",
   "metadata": {},
   "outputs": [],
   "source": [
    "tracks = [\n",
    "#    \"2021-06-09-13-14-51_e2e_rec_ss2\",\n",
    "#    \"2021-06-09-13-55-03_e2e_rec_ss2_backwards\",\n",
    "#     \"2021-06-09-14-58-11_e2e_rec_ss3\",\n",
    "#     \"2021-06-09-15-42-05_e2e_rec_ss3_backwards\",\n",
    "#     \"2021-06-09-16-24-59_e2e_rec_ss13\",\n",
    "#     \"2021-06-09-16-50-22_e2e_rec_ss13_backwards\",\n",
    "#     \"2021-06-10-12-59-59_e2e_ss4\",\n",
    "#     \"2021-06-10-13-19-22_e2e_ss4_backwards\",\n",
    "#     \"2021-06-10-13-51-34_e2e_ss12\",\n",
    "#     \"2021-06-10-14-02-24_e2e_ss12_backwards\",\n",
    "#     \"2021-06-10-14-44-24_e2e_ss3_backwards\",\n",
    "#     \"2021-06-10-15-03-16_e2e_ss3_backwards\",\n",
    "#     \"2021-06-14-11-08-19_e2e_rec_ss14\",\n",
    "#     \"2021-06-14-11-22-05_e2e_rec_ss14\",\n",
    "#     \"2021-06-14-11-43-48_e2e_rec_ss14_backwards\",\n",
    "#     \"2021-09-24-11-19-25_e2e_rec_ss10\",\n",
    "#     \"2021-09-24-11-40-24_e2e_rec_ss10_2\",\n",
    "#     \"2021-09-24-12-02-32_e2e_rec_ss10_3\",\n",
    "#     \"2021-09-24-12-21-20_e2e_rec_ss10_backwards\",\n",
    "#     \"2021-09-24-13-39-38_e2e_rec_ss11\",\n",
    "#     \"2021-09-30-13-57-00_e2e_rec_ss14\",\n",
    "#     \"2021-09-30-15-03-37_e2e_ss14_from_half_way\",\n",
    "#     \"2021-09-30-15-20-14_e2e_ss14_backwards\",\n",
    "#     \"2021-09-30-15-56-59_e2e_ss14_attempt_2\",\n",
    "#     \"2021-10-07-11-05-13_e2e_rec_ss3\",\n",
    "#     \"2021-10-07-11-44-52_e2e_rec_ss3_backwards\",\n",
    "#     \"2021-10-07-12-54-17_e2e_rec_ss4\",\n",
    "#     \"2021-10-07-13-22-35_e2e_rec_ss4_backwards\",\n",
    "#     \"2021-10-11-16-06-44_e2e_rec_ss2\",\n",
    "#     \"2021-10-11-17-10-23_e2e_rec_last_part\",\n",
    "#     \"2021-10-11-17-14-40_e2e_rec_backwards\",\n",
    "#     \"2021-10-11-17-20-12_e2e_rec_backwards\",\n",
    "#     \"2021-10-20-14-55-47_e2e_rec_vastse_ss13_17\",\n",
    "#     \"2021-10-20-13-57-51_e2e_rec_neeruti_ss19_22\",\n",
    "#     \"2021-10-20-14-15-07_e2e_rec_neeruti_ss19_22_back\",\n",
    "#     \"2021-10-25-17-31-48_e2e_rec_ss2_arula\",\n",
    "#     \"2021-10-25-17-06-34_e2e_rec_ss2_arula_back\",\n",
    "     \"2021-05-28-15-19-48_e2e_sulaoja_20_30\",\n",
    "     \"2021-06-07-14-20-07_e2e_rec_ss6\",\n",
    "     \"2021-06-07-14-06-31_e2e_rec_ss6\",\n",
    "     \"2021-06-07-14-09-18_e2e_rec_ss6\",\n",
    "     \"2021-06-07-14-36-16_e2e_rec_ss6\",\n",
    "     \"2021-09-24-14-03-45_e2e_rec_ss11_backwards\",\n",
    "    \"2021-10-26-10-49-06_e2e_rec_ss20_elva\",\n",
    "    \"2021-10-26-11-08-59_e2e_rec_ss20_elva_back\",\n",
    "    \"2021-10-20-15-11-29_e2e_rec_vastse_ss13_17_back\",\n",
    "    \"2021-10-11-14-50-59_e2e_rec_vahi\",\n",
    "    \"2021-10-14-13-08-51_e2e_rec_vahi_backwards\"\n",
    "    \n",
    "]"
   ]
  },
  {
   "cell_type": "code",
   "execution_count": 23,
   "id": "5346e891",
   "metadata": {},
   "outputs": [],
   "source": [
    "# winter_tracks = [\n",
    "#     \"2022-01-28-10-21-14_e2e_rec_peipsiaare_forward\",\n",
    "#     \"2022-01-28-12-46-59_e2e_rec_peipsiaare_backward\",\n",
    "#     \"2022-01-14-10-05-16_e2e_rec_raanitsa_forward\",\n",
    "#     \"2022-01-14-10-50-05_e2e_rec_raanitsa_backward\",\n",
    "#     \"2022-01-14-11-54-33_e2e_rec_kambja_forward2\",\n",
    "#     \"2022-01-14-12-21-40_e2e_rec_kambja_forward2_continue\",\n",
    "#     \"2022-01-14-13-09-05_e2e_rec_kambja_backward\",\n",
    "#     \"2022-01-14-13-18-36_e2e_rec_kambja_backward_continue\",\n",
    "#     \"2022-01-14-12-35-13_e2e_rec_neeruti_forward\",\n",
    "#     \"2022-01-14-12-45-51_e2e_rec_neeruti_backward\",\n",
    "#     \"2022-01-18-13-03-03_e2e_rec_arula_backward\",\n",
    "#     \"2022-01-18-13-43-33_e2e_rec_otepaa_forward\",\n",
    "#     \"2022-01-18-13-52-35_e2e_rec_otepaa_forward\",\n",
    "#     \"2022-01-18-13-56-22_e2e_rec_otepaa_forward\",\n",
    "#     \"2022-01-18-14-12-14_e2e_rec_otepaa_backward\",\n",
    "#     \"2022-01-18-15-20-35_e2e_rec_kanepi_forward\",\n",
    "#     \"2022-01-18-15-49-26_e2e_rec_kanepi_backwards\",\n",
    "#     \"2022-01-18-12-37-01_e2e_rec_arula_forward\",\n",
    "#     \"2022-01-18-12-47-32_e2e_rec_arula_forward_continue\",\n",
    "#     \"2022-01-28-14-47-23_e2e_rec_elva_forward\",\n",
    "#     \"2022-01-28-15-09-01_e2e_rec_elva_backward\",\n",
    "#     \"2022-01-25-15-25-15_e2e_rec_vahi_forward\",\n",
    "#     \"2022-01-25-15-34-01_e2e_rec_vahi_backwards\",\n",
    "# ]"
   ]
  },
  {
   "cell_type": "code",
   "execution_count": 24,
   "id": "8c0b5444",
   "metadata": {},
   "outputs": [
    {
     "name": "stdout",
     "output_type": "stream",
     "text": [
      "/home/romet/data2/datasets/rally-estonia/dataset-new-small/summer2021/2021-05-28-15-19-48_e2e_sulaoja_20_30: lenght=10547, filtered=161\n"
     ]
    },
    {
     "data": {
      "application/vnd.jupyter.widget-view+json": {
       "model_id": "9280b9c028544bd5b420a4909d6f3b5b",
       "version_major": 2,
       "version_minor": 0
      },
      "text/plain": [
       "  0%|          | 0/330 [00:00<?, ?it/s]"
      ]
     },
     "metadata": {},
     "output_type": "display_data"
    },
    {
     "data": {
      "application/vnd.jupyter.widget-view+json": {
       "model_id": "d425b45725104fe2abf5a8be5509e4b9",
       "version_major": 2,
       "version_minor": 0
      },
      "text/plain": [
       "  0%|          | 0/10547 [00:00<?, ?it/s]"
      ]
     },
     "metadata": {},
     "output_type": "display_data"
    },
    {
     "name": "stdout",
     "output_type": "stream",
     "text": [
      "/home/romet/data2/datasets/rally-estonia/dataset-new-small/summer2021/2021-06-07-14-20-07_e2e_rec_ss6: lenght=25710, filtered=127\n"
     ]
    },
    {
     "data": {
      "application/vnd.jupyter.widget-view+json": {
       "model_id": "7573eadf45a34a9da1b819770e6af0cb",
       "version_major": 2,
       "version_minor": 0
      },
      "text/plain": [
       "  0%|          | 0/804 [00:00<?, ?it/s]"
      ]
     },
     "metadata": {},
     "output_type": "display_data"
    },
    {
     "data": {
      "application/vnd.jupyter.widget-view+json": {
       "model_id": "450e6eb21ad8453fa23c5e96e17fc7a4",
       "version_major": 2,
       "version_minor": 0
      },
      "text/plain": [
       "  0%|          | 0/25710 [00:00<?, ?it/s]"
      ]
     },
     "metadata": {},
     "output_type": "display_data"
    },
    {
     "name": "stdout",
     "output_type": "stream",
     "text": [
      "/home/romet/data2/datasets/rally-estonia/dataset-new-small/summer2021/2021-06-07-14-06-31_e2e_rec_ss6: lenght=2802, filtered=201\n"
     ]
    },
    {
     "data": {
      "application/vnd.jupyter.widget-view+json": {
       "model_id": "37c794fcc97a48d396dd685c704b853b",
       "version_major": 2,
       "version_minor": 0
      },
      "text/plain": [
       "  0%|          | 0/88 [00:00<?, ?it/s]"
      ]
     },
     "metadata": {},
     "output_type": "display_data"
    },
    {
     "data": {
      "application/vnd.jupyter.widget-view+json": {
       "model_id": "735be1e5d9e24cb49522753ea55d0a2c",
       "version_major": 2,
       "version_minor": 0
      },
      "text/plain": [
       "  0%|          | 0/2802 [00:00<?, ?it/s]"
      ]
     },
     "metadata": {},
     "output_type": "display_data"
    },
    {
     "name": "stdout",
     "output_type": "stream",
     "text": [
      "/home/romet/data2/datasets/rally-estonia/dataset-new-small/summer2021/2021-06-07-14-09-18_e2e_rec_ss6: lenght=4474, filtered=78\n"
     ]
    },
    {
     "data": {
      "application/vnd.jupyter.widget-view+json": {
       "model_id": "696608ad5e924bcabfbbce19268ed130",
       "version_major": 2,
       "version_minor": 0
      },
      "text/plain": [
       "  0%|          | 0/140 [00:00<?, ?it/s]"
      ]
     },
     "metadata": {},
     "output_type": "display_data"
    },
    {
     "data": {
      "application/vnd.jupyter.widget-view+json": {
       "model_id": "b9cf230d625745228dd64036dc4fd39b",
       "version_major": 2,
       "version_minor": 0
      },
      "text/plain": [
       "  0%|          | 0/4474 [00:00<?, ?it/s]"
      ]
     },
     "metadata": {},
     "output_type": "display_data"
    },
    {
     "name": "stdout",
     "output_type": "stream",
     "text": [
      "/home/romet/data2/datasets/rally-estonia/dataset-new-small/summer2021/2021-06-07-14-36-16_e2e_rec_ss6: lenght=25255, filtered=114\n"
     ]
    },
    {
     "data": {
      "application/vnd.jupyter.widget-view+json": {
       "model_id": "ea353d963926453ea1f838592fef41f5",
       "version_major": 2,
       "version_minor": 0
      },
      "text/plain": [
       "  0%|          | 0/790 [00:00<?, ?it/s]"
      ]
     },
     "metadata": {},
     "output_type": "display_data"
    },
    {
     "data": {
      "application/vnd.jupyter.widget-view+json": {
       "model_id": "3683667546c44de29c2a2f3d08981687",
       "version_major": 2,
       "version_minor": 0
      },
      "text/plain": [
       "  0%|          | 0/25255 [00:00<?, ?it/s]"
      ]
     },
     "metadata": {},
     "output_type": "display_data"
    },
    {
     "name": "stdout",
     "output_type": "stream",
     "text": [
      "/home/romet/data2/datasets/rally-estonia/dataset-new-small/summer2021/2021-09-24-14-03-45_e2e_rec_ss11_backwards: lenght=25007, filtered=165\n"
     ]
    },
    {
     "data": {
      "application/vnd.jupyter.widget-view+json": {
       "model_id": "9b6f1d6730784fd4a914c21d8ae16ed6",
       "version_major": 2,
       "version_minor": 0
      },
      "text/plain": [
       "  0%|          | 0/782 [00:00<?, ?it/s]"
      ]
     },
     "metadata": {},
     "output_type": "display_data"
    },
    {
     "data": {
      "application/vnd.jupyter.widget-view+json": {
       "model_id": "36abc3cb642a4e5e93c31b1f0e94fb1a",
       "version_major": 2,
       "version_minor": 0
      },
      "text/plain": [
       "  0%|          | 0/25007 [00:00<?, ?it/s]"
      ]
     },
     "metadata": {},
     "output_type": "display_data"
    },
    {
     "name": "stdout",
     "output_type": "stream",
     "text": [
      "/home/romet/data2/datasets/rally-estonia/dataset-new-small/summer2021/2021-10-26-10-49-06_e2e_rec_ss20_elva: lenght=32738, filtered=307\n"
     ]
    },
    {
     "data": {
      "application/vnd.jupyter.widget-view+json": {
       "model_id": "56730e2f066340fbb7c0b57c6827c790",
       "version_major": 2,
       "version_minor": 0
      },
      "text/plain": [
       "  0%|          | 0/1024 [00:00<?, ?it/s]"
      ]
     },
     "metadata": {},
     "output_type": "display_data"
    },
    {
     "data": {
      "application/vnd.jupyter.widget-view+json": {
       "model_id": "def53ddd8faa4e54a61d80bab92c9fa4",
       "version_major": 2,
       "version_minor": 0
      },
      "text/plain": [
       "  0%|          | 0/32738 [00:00<?, ?it/s]"
      ]
     },
     "metadata": {},
     "output_type": "display_data"
    },
    {
     "name": "stdout",
     "output_type": "stream",
     "text": [
      "/home/romet/data2/datasets/rally-estonia/dataset-new-small/summer2021/2021-10-26-11-08-59_e2e_rec_ss20_elva_back: lenght=33000, filtered=281\n"
     ]
    },
    {
     "data": {
      "application/vnd.jupyter.widget-view+json": {
       "model_id": "4eee13880b384b10957b12804f83eac9",
       "version_major": 2,
       "version_minor": 0
      },
      "text/plain": [
       "  0%|          | 0/1032 [00:00<?, ?it/s]"
      ]
     },
     "metadata": {},
     "output_type": "display_data"
    },
    {
     "data": {
      "application/vnd.jupyter.widget-view+json": {
       "model_id": "6fd515c12a5b44609f24e3a0e99a8c78",
       "version_major": 2,
       "version_minor": 0
      },
      "text/plain": [
       "  0%|          | 0/33000 [00:00<?, ?it/s]"
      ]
     },
     "metadata": {},
     "output_type": "display_data"
    },
    {
     "name": "stdout",
     "output_type": "stream",
     "text": [
      "/home/romet/data2/datasets/rally-estonia/dataset-new-small/summer2021/2021-10-20-15-11-29_e2e_rec_vastse_ss13_17_back: lenght=26498, filtered=265\n"
     ]
    },
    {
     "data": {
      "application/vnd.jupyter.widget-view+json": {
       "model_id": "174c6510fbe24d929650c02f04283f5a",
       "version_major": 2,
       "version_minor": 0
      },
      "text/plain": [
       "  0%|          | 0/829 [00:00<?, ?it/s]"
      ]
     },
     "metadata": {},
     "output_type": "display_data"
    },
    {
     "data": {
      "application/vnd.jupyter.widget-view+json": {
       "model_id": "aac4095cc43d49229070ba8c311310fa",
       "version_major": 2,
       "version_minor": 0
      },
      "text/plain": [
       "  0%|          | 0/26498 [00:00<?, ?it/s]"
      ]
     },
     "metadata": {},
     "output_type": "display_data"
    },
    {
     "name": "stdout",
     "output_type": "stream",
     "text": [
      "/home/romet/data2/datasets/rally-estonia/dataset-new-small/summer2021/2021-10-11-14-50-59_e2e_rec_vahi: lenght=15196, filtered=6017\n"
     ]
    },
    {
     "data": {
      "application/vnd.jupyter.widget-view+json": {
       "model_id": "9fa753378671475ea68e845c3f89642d",
       "version_major": 2,
       "version_minor": 0
      },
      "text/plain": [
       "  0%|          | 0/475 [00:00<?, ?it/s]"
      ]
     },
     "metadata": {},
     "output_type": "display_data"
    },
    {
     "data": {
      "application/vnd.jupyter.widget-view+json": {
       "model_id": "b979148013a2457599cca80a9819d224",
       "version_major": 2,
       "version_minor": 0
      },
      "text/plain": [
       "  0%|          | 0/15196 [00:00<?, ?it/s]"
      ]
     },
     "metadata": {},
     "output_type": "display_data"
    },
    {
     "name": "stdout",
     "output_type": "stream",
     "text": [
      "/home/romet/data2/datasets/rally-estonia/dataset-new-small/summer2021/2021-10-14-13-08-51_e2e_rec_vahi_backwards: lenght=13284, filtered=158\n"
     ]
    },
    {
     "data": {
      "application/vnd.jupyter.widget-view+json": {
       "model_id": "2dd38de6c3ed44a9bc5c055aa6bd95be",
       "version_major": 2,
       "version_minor": 0
      },
      "text/plain": [
       "  0%|          | 0/416 [00:00<?, ?it/s]"
      ]
     },
     "metadata": {},
     "output_type": "display_data"
    },
    {
     "data": {
      "application/vnd.jupyter.widget-view+json": {
       "model_id": "a2a423c2ab1040539b5a4a591c649e4f",
       "version_major": 2,
       "version_minor": 0
      },
      "text/plain": [
       "  0%|          | 0/13284 [00:00<?, ?it/s]"
      ]
     },
     "metadata": {},
     "output_type": "display_data"
    }
   ],
   "source": [
    "conditional_model = create_model_conditional('20220607020435_waypoints-all-20', n_branches=3, n_outputs=20)\n",
    "conditional_trainer = ConditionalTrainer()\n",
    "model1_df = calculate_tracks_metrics(conditional_model, conditional_trainer, tracks, n_branches=3, n_waypoints=10)"
   ]
  },
  {
   "cell_type": "code",
   "execution_count": 25,
   "id": "8946d0f1",
   "metadata": {},
   "outputs": [
    {
     "name": "stdout",
     "output_type": "stream",
     "text": [
      "/home/romet/data2/datasets/rally-estonia/dataset-new-small/summer2021/2021-05-28-15-19-48_e2e_sulaoja_20_30: lenght=10547, filtered=161\n"
     ]
    },
    {
     "data": {
      "application/vnd.jupyter.widget-view+json": {
       "model_id": "a4fdfbe5be44432c8f4c8bf441178cce",
       "version_major": 2,
       "version_minor": 0
      },
      "text/plain": [
       "  0%|          | 0/330 [00:00<?, ?it/s]"
      ]
     },
     "metadata": {},
     "output_type": "display_data"
    },
    {
     "data": {
      "application/vnd.jupyter.widget-view+json": {
       "model_id": "2e13620cbc9f4a139ee3bca1f5bc0170",
       "version_major": 2,
       "version_minor": 0
      },
      "text/plain": [
       "  0%|          | 0/10547 [00:00<?, ?it/s]"
      ]
     },
     "metadata": {},
     "output_type": "display_data"
    },
    {
     "name": "stdout",
     "output_type": "stream",
     "text": [
      "/home/romet/data2/datasets/rally-estonia/dataset-new-small/summer2021/2021-06-07-14-20-07_e2e_rec_ss6: lenght=25710, filtered=127\n"
     ]
    },
    {
     "data": {
      "application/vnd.jupyter.widget-view+json": {
       "model_id": "8d90f725d53d46eab291512ae2c8eee2",
       "version_major": 2,
       "version_minor": 0
      },
      "text/plain": [
       "  0%|          | 0/804 [00:00<?, ?it/s]"
      ]
     },
     "metadata": {},
     "output_type": "display_data"
    },
    {
     "data": {
      "application/vnd.jupyter.widget-view+json": {
       "model_id": "038ef0c6a2b74849b232a70702f02ebc",
       "version_major": 2,
       "version_minor": 0
      },
      "text/plain": [
       "  0%|          | 0/25710 [00:00<?, ?it/s]"
      ]
     },
     "metadata": {},
     "output_type": "display_data"
    },
    {
     "name": "stdout",
     "output_type": "stream",
     "text": [
      "/home/romet/data2/datasets/rally-estonia/dataset-new-small/summer2021/2021-06-07-14-06-31_e2e_rec_ss6: lenght=2802, filtered=201\n"
     ]
    },
    {
     "data": {
      "application/vnd.jupyter.widget-view+json": {
       "model_id": "d45c5f55412645f6bc5a0f14912ee154",
       "version_major": 2,
       "version_minor": 0
      },
      "text/plain": [
       "  0%|          | 0/88 [00:00<?, ?it/s]"
      ]
     },
     "metadata": {},
     "output_type": "display_data"
    },
    {
     "data": {
      "application/vnd.jupyter.widget-view+json": {
       "model_id": "6a39227dad5a45dd96249e228b2611df",
       "version_major": 2,
       "version_minor": 0
      },
      "text/plain": [
       "  0%|          | 0/2802 [00:00<?, ?it/s]"
      ]
     },
     "metadata": {},
     "output_type": "display_data"
    },
    {
     "name": "stdout",
     "output_type": "stream",
     "text": [
      "/home/romet/data2/datasets/rally-estonia/dataset-new-small/summer2021/2021-06-07-14-09-18_e2e_rec_ss6: lenght=4474, filtered=78\n"
     ]
    },
    {
     "data": {
      "application/vnd.jupyter.widget-view+json": {
       "model_id": "69a8ad3d05264407a7ad9ea8db1d5497",
       "version_major": 2,
       "version_minor": 0
      },
      "text/plain": [
       "  0%|          | 0/140 [00:00<?, ?it/s]"
      ]
     },
     "metadata": {},
     "output_type": "display_data"
    },
    {
     "data": {
      "application/vnd.jupyter.widget-view+json": {
       "model_id": "f8554c7e90df44bf869a5db2c00751e6",
       "version_major": 2,
       "version_minor": 0
      },
      "text/plain": [
       "  0%|          | 0/4474 [00:00<?, ?it/s]"
      ]
     },
     "metadata": {},
     "output_type": "display_data"
    },
    {
     "name": "stdout",
     "output_type": "stream",
     "text": [
      "/home/romet/data2/datasets/rally-estonia/dataset-new-small/summer2021/2021-06-07-14-36-16_e2e_rec_ss6: lenght=25255, filtered=114\n"
     ]
    },
    {
     "data": {
      "application/vnd.jupyter.widget-view+json": {
       "model_id": "cdc76c96efef497f8f4402cc6cf961e2",
       "version_major": 2,
       "version_minor": 0
      },
      "text/plain": [
       "  0%|          | 0/790 [00:00<?, ?it/s]"
      ]
     },
     "metadata": {},
     "output_type": "display_data"
    },
    {
     "data": {
      "application/vnd.jupyter.widget-view+json": {
       "model_id": "1960406ad95d419f88bdb73018ef7f96",
       "version_major": 2,
       "version_minor": 0
      },
      "text/plain": [
       "  0%|          | 0/25255 [00:00<?, ?it/s]"
      ]
     },
     "metadata": {},
     "output_type": "display_data"
    },
    {
     "name": "stdout",
     "output_type": "stream",
     "text": [
      "/home/romet/data2/datasets/rally-estonia/dataset-new-small/summer2021/2021-09-24-14-03-45_e2e_rec_ss11_backwards: lenght=25007, filtered=165\n"
     ]
    },
    {
     "data": {
      "application/vnd.jupyter.widget-view+json": {
       "model_id": "669258f140a34c279f6883a84190a1ca",
       "version_major": 2,
       "version_minor": 0
      },
      "text/plain": [
       "  0%|          | 0/782 [00:00<?, ?it/s]"
      ]
     },
     "metadata": {},
     "output_type": "display_data"
    },
    {
     "data": {
      "application/vnd.jupyter.widget-view+json": {
       "model_id": "bfaedcdaa6064719bf44cf631eededaf",
       "version_major": 2,
       "version_minor": 0
      },
      "text/plain": [
       "  0%|          | 0/25007 [00:00<?, ?it/s]"
      ]
     },
     "metadata": {},
     "output_type": "display_data"
    },
    {
     "name": "stdout",
     "output_type": "stream",
     "text": [
      "/home/romet/data2/datasets/rally-estonia/dataset-new-small/summer2021/2021-10-26-10-49-06_e2e_rec_ss20_elva: lenght=32738, filtered=307\n"
     ]
    },
    {
     "data": {
      "application/vnd.jupyter.widget-view+json": {
       "model_id": "ab917c57e4cf4b1c8a401e48d0a83505",
       "version_major": 2,
       "version_minor": 0
      },
      "text/plain": [
       "  0%|          | 0/1024 [00:00<?, ?it/s]"
      ]
     },
     "metadata": {},
     "output_type": "display_data"
    },
    {
     "data": {
      "application/vnd.jupyter.widget-view+json": {
       "model_id": "9f08f7a44e6c459fb662a7ed1ae2ca1a",
       "version_major": 2,
       "version_minor": 0
      },
      "text/plain": [
       "  0%|          | 0/32738 [00:00<?, ?it/s]"
      ]
     },
     "metadata": {},
     "output_type": "display_data"
    },
    {
     "name": "stdout",
     "output_type": "stream",
     "text": [
      "/home/romet/data2/datasets/rally-estonia/dataset-new-small/summer2021/2021-10-26-11-08-59_e2e_rec_ss20_elva_back: lenght=33000, filtered=281\n"
     ]
    },
    {
     "data": {
      "application/vnd.jupyter.widget-view+json": {
       "model_id": "0635f854c4fc488a8e72ac230e782ab7",
       "version_major": 2,
       "version_minor": 0
      },
      "text/plain": [
       "  0%|          | 0/1032 [00:00<?, ?it/s]"
      ]
     },
     "metadata": {},
     "output_type": "display_data"
    },
    {
     "data": {
      "application/vnd.jupyter.widget-view+json": {
       "model_id": "5d732be59b6a4eb89568cb912d9a0ffc",
       "version_major": 2,
       "version_minor": 0
      },
      "text/plain": [
       "  0%|          | 0/33000 [00:00<?, ?it/s]"
      ]
     },
     "metadata": {},
     "output_type": "display_data"
    },
    {
     "name": "stdout",
     "output_type": "stream",
     "text": [
      "/home/romet/data2/datasets/rally-estonia/dataset-new-small/summer2021/2021-10-20-15-11-29_e2e_rec_vastse_ss13_17_back: lenght=26498, filtered=265\n"
     ]
    },
    {
     "data": {
      "application/vnd.jupyter.widget-view+json": {
       "model_id": "42f25657822643b0821adb75aa218d8d",
       "version_major": 2,
       "version_minor": 0
      },
      "text/plain": [
       "  0%|          | 0/829 [00:00<?, ?it/s]"
      ]
     },
     "metadata": {},
     "output_type": "display_data"
    },
    {
     "data": {
      "application/vnd.jupyter.widget-view+json": {
       "model_id": "5135e0124b7e495a9db05d60722e4156",
       "version_major": 2,
       "version_minor": 0
      },
      "text/plain": [
       "  0%|          | 0/26498 [00:00<?, ?it/s]"
      ]
     },
     "metadata": {},
     "output_type": "display_data"
    },
    {
     "name": "stdout",
     "output_type": "stream",
     "text": [
      "/home/romet/data2/datasets/rally-estonia/dataset-new-small/summer2021/2021-10-11-14-50-59_e2e_rec_vahi: lenght=15196, filtered=6017\n"
     ]
    },
    {
     "data": {
      "application/vnd.jupyter.widget-view+json": {
       "model_id": "a8756e95658b4e6a806ba880b7fc0606",
       "version_major": 2,
       "version_minor": 0
      },
      "text/plain": [
       "  0%|          | 0/475 [00:00<?, ?it/s]"
      ]
     },
     "metadata": {},
     "output_type": "display_data"
    },
    {
     "data": {
      "application/vnd.jupyter.widget-view+json": {
       "model_id": "261d0ef4f904434b96e8296fd97a5d91",
       "version_major": 2,
       "version_minor": 0
      },
      "text/plain": [
       "  0%|          | 0/15196 [00:00<?, ?it/s]"
      ]
     },
     "metadata": {},
     "output_type": "display_data"
    },
    {
     "name": "stdout",
     "output_type": "stream",
     "text": [
      "/home/romet/data2/datasets/rally-estonia/dataset-new-small/summer2021/2021-10-14-13-08-51_e2e_rec_vahi_backwards: lenght=13284, filtered=158\n"
     ]
    },
    {
     "data": {
      "application/vnd.jupyter.widget-view+json": {
       "model_id": "1fa7c9cab5de4d81a8826c35e215f0f5",
       "version_major": 2,
       "version_minor": 0
      },
      "text/plain": [
       "  0%|          | 0/416 [00:00<?, ?it/s]"
      ]
     },
     "metadata": {},
     "output_type": "display_data"
    },
    {
     "data": {
      "application/vnd.jupyter.widget-view+json": {
       "model_id": "c01138b1882549798b0d57151c06c49c",
       "version_major": 2,
       "version_minor": 0
      },
      "text/plain": [
       "  0%|          | 0/13284 [00:00<?, ?it/s]"
      ]
     },
     "metadata": {},
     "output_type": "display_data"
    }
   ],
   "source": [
    "conditional_model = create_model_conditional('20220607113322_waypoints-all-10', n_branches=3, n_outputs=20)\n",
    "conditional_trainer = ConditionalTrainer()\n",
    "model2_df = calculate_tracks_metrics(conditional_model, conditional_trainer, tracks, n_branches=3, n_waypoints=10)"
   ]
  },
  {
   "cell_type": "code",
   "execution_count": 26,
   "id": "984ba6c0",
   "metadata": {},
   "outputs": [
    {
     "name": "stdout",
     "output_type": "stream",
     "text": [
      "/home/romet/data2/datasets/rally-estonia/dataset-new-small/summer2021/2021-05-28-15-19-48_e2e_sulaoja_20_30: lenght=10547, filtered=161\n"
     ]
    },
    {
     "data": {
      "application/vnd.jupyter.widget-view+json": {
       "model_id": "877fc8283ad3420db94ff0007b3fccce",
       "version_major": 2,
       "version_minor": 0
      },
      "text/plain": [
       "  0%|          | 0/330 [00:00<?, ?it/s]"
      ]
     },
     "metadata": {},
     "output_type": "display_data"
    },
    {
     "data": {
      "application/vnd.jupyter.widget-view+json": {
       "model_id": "4052eb5b8f954ab9b8cb23664de94e41",
       "version_major": 2,
       "version_minor": 0
      },
      "text/plain": [
       "  0%|          | 0/10547 [00:00<?, ?it/s]"
      ]
     },
     "metadata": {},
     "output_type": "display_data"
    },
    {
     "name": "stdout",
     "output_type": "stream",
     "text": [
      "/home/romet/data2/datasets/rally-estonia/dataset-new-small/summer2021/2021-06-07-14-20-07_e2e_rec_ss6: lenght=25710, filtered=127\n"
     ]
    },
    {
     "data": {
      "application/vnd.jupyter.widget-view+json": {
       "model_id": "4322579aa2bf4b378a5f90008fe0b8cc",
       "version_major": 2,
       "version_minor": 0
      },
      "text/plain": [
       "  0%|          | 0/804 [00:00<?, ?it/s]"
      ]
     },
     "metadata": {},
     "output_type": "display_data"
    },
    {
     "data": {
      "application/vnd.jupyter.widget-view+json": {
       "model_id": "fb921ed0953f4c0482d92e1880c65128",
       "version_major": 2,
       "version_minor": 0
      },
      "text/plain": [
       "  0%|          | 0/25710 [00:00<?, ?it/s]"
      ]
     },
     "metadata": {},
     "output_type": "display_data"
    },
    {
     "name": "stdout",
     "output_type": "stream",
     "text": [
      "/home/romet/data2/datasets/rally-estonia/dataset-new-small/summer2021/2021-06-07-14-06-31_e2e_rec_ss6: lenght=2802, filtered=201\n"
     ]
    },
    {
     "data": {
      "application/vnd.jupyter.widget-view+json": {
       "model_id": "63a83a70c4f4469f92926076d400c3a6",
       "version_major": 2,
       "version_minor": 0
      },
      "text/plain": [
       "  0%|          | 0/88 [00:00<?, ?it/s]"
      ]
     },
     "metadata": {},
     "output_type": "display_data"
    },
    {
     "data": {
      "application/vnd.jupyter.widget-view+json": {
       "model_id": "e04c83c11e1941179e51d81a196a5fab",
       "version_major": 2,
       "version_minor": 0
      },
      "text/plain": [
       "  0%|          | 0/2802 [00:00<?, ?it/s]"
      ]
     },
     "metadata": {},
     "output_type": "display_data"
    },
    {
     "name": "stdout",
     "output_type": "stream",
     "text": [
      "/home/romet/data2/datasets/rally-estonia/dataset-new-small/summer2021/2021-06-07-14-09-18_e2e_rec_ss6: lenght=4474, filtered=78\n"
     ]
    },
    {
     "data": {
      "application/vnd.jupyter.widget-view+json": {
       "model_id": "cdb7815892654aabac6f7550b3b507b9",
       "version_major": 2,
       "version_minor": 0
      },
      "text/plain": [
       "  0%|          | 0/140 [00:00<?, ?it/s]"
      ]
     },
     "metadata": {},
     "output_type": "display_data"
    },
    {
     "data": {
      "application/vnd.jupyter.widget-view+json": {
       "model_id": "49dcfd4792044a96b809f8cb2f75d2f1",
       "version_major": 2,
       "version_minor": 0
      },
      "text/plain": [
       "  0%|          | 0/4474 [00:00<?, ?it/s]"
      ]
     },
     "metadata": {},
     "output_type": "display_data"
    },
    {
     "name": "stdout",
     "output_type": "stream",
     "text": [
      "/home/romet/data2/datasets/rally-estonia/dataset-new-small/summer2021/2021-06-07-14-36-16_e2e_rec_ss6: lenght=25255, filtered=114\n"
     ]
    },
    {
     "data": {
      "application/vnd.jupyter.widget-view+json": {
       "model_id": "48b1b00569624782981efedff7dd3d69",
       "version_major": 2,
       "version_minor": 0
      },
      "text/plain": [
       "  0%|          | 0/790 [00:00<?, ?it/s]"
      ]
     },
     "metadata": {},
     "output_type": "display_data"
    },
    {
     "data": {
      "application/vnd.jupyter.widget-view+json": {
       "model_id": "332f043cb3e24d38b4ee03cf3d47c08d",
       "version_major": 2,
       "version_minor": 0
      },
      "text/plain": [
       "  0%|          | 0/25255 [00:00<?, ?it/s]"
      ]
     },
     "metadata": {},
     "output_type": "display_data"
    },
    {
     "name": "stdout",
     "output_type": "stream",
     "text": [
      "/home/romet/data2/datasets/rally-estonia/dataset-new-small/summer2021/2021-09-24-14-03-45_e2e_rec_ss11_backwards: lenght=25007, filtered=165\n"
     ]
    },
    {
     "data": {
      "application/vnd.jupyter.widget-view+json": {
       "model_id": "6095fc7578c74eb2bfc20ecc6ceb38b9",
       "version_major": 2,
       "version_minor": 0
      },
      "text/plain": [
       "  0%|          | 0/782 [00:00<?, ?it/s]"
      ]
     },
     "metadata": {},
     "output_type": "display_data"
    },
    {
     "data": {
      "application/vnd.jupyter.widget-view+json": {
       "model_id": "ed77e152d8034fe996be923fe6525803",
       "version_major": 2,
       "version_minor": 0
      },
      "text/plain": [
       "  0%|          | 0/25007 [00:00<?, ?it/s]"
      ]
     },
     "metadata": {},
     "output_type": "display_data"
    },
    {
     "name": "stdout",
     "output_type": "stream",
     "text": [
      "/home/romet/data2/datasets/rally-estonia/dataset-new-small/summer2021/2021-10-26-10-49-06_e2e_rec_ss20_elva: lenght=32738, filtered=307\n"
     ]
    },
    {
     "data": {
      "application/vnd.jupyter.widget-view+json": {
       "model_id": "a4eef8b461a049dcb6abc972c0ec8f7b",
       "version_major": 2,
       "version_minor": 0
      },
      "text/plain": [
       "  0%|          | 0/1024 [00:00<?, ?it/s]"
      ]
     },
     "metadata": {},
     "output_type": "display_data"
    },
    {
     "data": {
      "application/vnd.jupyter.widget-view+json": {
       "model_id": "2b50eae0440941998dae746a299d1fd9",
       "version_major": 2,
       "version_minor": 0
      },
      "text/plain": [
       "  0%|          | 0/32738 [00:00<?, ?it/s]"
      ]
     },
     "metadata": {},
     "output_type": "display_data"
    },
    {
     "name": "stdout",
     "output_type": "stream",
     "text": [
      "/home/romet/data2/datasets/rally-estonia/dataset-new-small/summer2021/2021-10-26-11-08-59_e2e_rec_ss20_elva_back: lenght=33000, filtered=281\n"
     ]
    },
    {
     "data": {
      "application/vnd.jupyter.widget-view+json": {
       "model_id": "c9017c01d94b4c32bb475b002fc882ca",
       "version_major": 2,
       "version_minor": 0
      },
      "text/plain": [
       "  0%|          | 0/1032 [00:00<?, ?it/s]"
      ]
     },
     "metadata": {},
     "output_type": "display_data"
    },
    {
     "data": {
      "application/vnd.jupyter.widget-view+json": {
       "model_id": "c94ef2474a814807b10bbe55f6f7ebb5",
       "version_major": 2,
       "version_minor": 0
      },
      "text/plain": [
       "  0%|          | 0/33000 [00:00<?, ?it/s]"
      ]
     },
     "metadata": {},
     "output_type": "display_data"
    },
    {
     "name": "stdout",
     "output_type": "stream",
     "text": [
      "/home/romet/data2/datasets/rally-estonia/dataset-new-small/summer2021/2021-10-20-15-11-29_e2e_rec_vastse_ss13_17_back: lenght=26498, filtered=265\n"
     ]
    },
    {
     "data": {
      "application/vnd.jupyter.widget-view+json": {
       "model_id": "b33512890b14462a9036212d9980cca9",
       "version_major": 2,
       "version_minor": 0
      },
      "text/plain": [
       "  0%|          | 0/829 [00:00<?, ?it/s]"
      ]
     },
     "metadata": {},
     "output_type": "display_data"
    },
    {
     "data": {
      "application/vnd.jupyter.widget-view+json": {
       "model_id": "4a3df40c972b4988b06dd4340a1376c3",
       "version_major": 2,
       "version_minor": 0
      },
      "text/plain": [
       "  0%|          | 0/26498 [00:00<?, ?it/s]"
      ]
     },
     "metadata": {},
     "output_type": "display_data"
    },
    {
     "name": "stdout",
     "output_type": "stream",
     "text": [
      "/home/romet/data2/datasets/rally-estonia/dataset-new-small/summer2021/2021-10-11-14-50-59_e2e_rec_vahi: lenght=15196, filtered=6017\n"
     ]
    },
    {
     "data": {
      "application/vnd.jupyter.widget-view+json": {
       "model_id": "66b93a1814254459832f487d5964bb6b",
       "version_major": 2,
       "version_minor": 0
      },
      "text/plain": [
       "  0%|          | 0/475 [00:00<?, ?it/s]"
      ]
     },
     "metadata": {},
     "output_type": "display_data"
    },
    {
     "data": {
      "application/vnd.jupyter.widget-view+json": {
       "model_id": "1da71ea65a684feaa7d02f8bee0eda3f",
       "version_major": 2,
       "version_minor": 0
      },
      "text/plain": [
       "  0%|          | 0/15196 [00:00<?, ?it/s]"
      ]
     },
     "metadata": {},
     "output_type": "display_data"
    },
    {
     "name": "stdout",
     "output_type": "stream",
     "text": [
      "/home/romet/data2/datasets/rally-estonia/dataset-new-small/summer2021/2021-10-14-13-08-51_e2e_rec_vahi_backwards: lenght=13284, filtered=158\n"
     ]
    },
    {
     "data": {
      "application/vnd.jupyter.widget-view+json": {
       "model_id": "318f40bbf22d429bb67787cab5768c7e",
       "version_major": 2,
       "version_minor": 0
      },
      "text/plain": [
       "  0%|          | 0/416 [00:00<?, ?it/s]"
      ]
     },
     "metadata": {},
     "output_type": "display_data"
    },
    {
     "data": {
      "application/vnd.jupyter.widget-view+json": {
       "model_id": "b04721ed1f004705aee66263a3d92cf1",
       "version_major": 2,
       "version_minor": 0
      },
      "text/plain": [
       "  0%|          | 0/13284 [00:00<?, ?it/s]"
      ]
     },
     "metadata": {},
     "output_type": "display_data"
    }
   ],
   "source": [
    "conditional_model = create_model_conditional('20220607094616_waypoints-all-33', n_branches=3, n_outputs=20)\n",
    "conditional_trainer = ConditionalTrainer()\n",
    "model3_df = calculate_tracks_metrics(conditional_model, conditional_trainer, tracks, n_branches=3, n_waypoints=10)"
   ]
  },
  {
   "cell_type": "code",
   "execution_count": 27,
   "id": "304afebe",
   "metadata": {},
   "outputs": [
    {
     "name": "stdout",
     "output_type": "stream",
     "text": [
      "/home/romet/data2/datasets/rally-estonia/dataset-new-small/summer2021/2021-05-28-15-19-48_e2e_sulaoja_20_30: lenght=10547, filtered=161\n"
     ]
    },
    {
     "data": {
      "application/vnd.jupyter.widget-view+json": {
       "model_id": "e7236732f808435899b1e23ab1b79496",
       "version_major": 2,
       "version_minor": 0
      },
      "text/plain": [
       "  0%|          | 0/330 [00:00<?, ?it/s]"
      ]
     },
     "metadata": {},
     "output_type": "display_data"
    },
    {
     "data": {
      "application/vnd.jupyter.widget-view+json": {
       "model_id": "1c2f76abeb644cfaa33c652f28f48f16",
       "version_major": 2,
       "version_minor": 0
      },
      "text/plain": [
       "  0%|          | 0/10547 [00:00<?, ?it/s]"
      ]
     },
     "metadata": {},
     "output_type": "display_data"
    },
    {
     "name": "stdout",
     "output_type": "stream",
     "text": [
      "/home/romet/data2/datasets/rally-estonia/dataset-new-small/summer2021/2021-06-07-14-20-07_e2e_rec_ss6: lenght=25710, filtered=127\n"
     ]
    },
    {
     "data": {
      "application/vnd.jupyter.widget-view+json": {
       "model_id": "713dd0f522264535ada5289ce32b8dca",
       "version_major": 2,
       "version_minor": 0
      },
      "text/plain": [
       "  0%|          | 0/804 [00:00<?, ?it/s]"
      ]
     },
     "metadata": {},
     "output_type": "display_data"
    },
    {
     "data": {
      "application/vnd.jupyter.widget-view+json": {
       "model_id": "76a07bde48044a93a790d855e0454532",
       "version_major": 2,
       "version_minor": 0
      },
      "text/plain": [
       "  0%|          | 0/25710 [00:00<?, ?it/s]"
      ]
     },
     "metadata": {},
     "output_type": "display_data"
    },
    {
     "name": "stdout",
     "output_type": "stream",
     "text": [
      "/home/romet/data2/datasets/rally-estonia/dataset-new-small/summer2021/2021-06-07-14-06-31_e2e_rec_ss6: lenght=2802, filtered=201\n"
     ]
    },
    {
     "data": {
      "application/vnd.jupyter.widget-view+json": {
       "model_id": "8b9d35a305174c6d9710987497ab4acd",
       "version_major": 2,
       "version_minor": 0
      },
      "text/plain": [
       "  0%|          | 0/88 [00:00<?, ?it/s]"
      ]
     },
     "metadata": {},
     "output_type": "display_data"
    },
    {
     "data": {
      "application/vnd.jupyter.widget-view+json": {
       "model_id": "032f9b60eb784ceba5f9ffc6921acf6a",
       "version_major": 2,
       "version_minor": 0
      },
      "text/plain": [
       "  0%|          | 0/2802 [00:00<?, ?it/s]"
      ]
     },
     "metadata": {},
     "output_type": "display_data"
    },
    {
     "name": "stdout",
     "output_type": "stream",
     "text": [
      "/home/romet/data2/datasets/rally-estonia/dataset-new-small/summer2021/2021-06-07-14-09-18_e2e_rec_ss6: lenght=4474, filtered=78\n"
     ]
    },
    {
     "data": {
      "application/vnd.jupyter.widget-view+json": {
       "model_id": "171395c3383e4a58ad7fe0b52274c71f",
       "version_major": 2,
       "version_minor": 0
      },
      "text/plain": [
       "  0%|          | 0/140 [00:00<?, ?it/s]"
      ]
     },
     "metadata": {},
     "output_type": "display_data"
    },
    {
     "data": {
      "application/vnd.jupyter.widget-view+json": {
       "model_id": "4da99d805f1d4e3e80f2f2214d10bf26",
       "version_major": 2,
       "version_minor": 0
      },
      "text/plain": [
       "  0%|          | 0/4474 [00:00<?, ?it/s]"
      ]
     },
     "metadata": {},
     "output_type": "display_data"
    },
    {
     "name": "stdout",
     "output_type": "stream",
     "text": [
      "/home/romet/data2/datasets/rally-estonia/dataset-new-small/summer2021/2021-06-07-14-36-16_e2e_rec_ss6: lenght=25255, filtered=114\n"
     ]
    },
    {
     "data": {
      "application/vnd.jupyter.widget-view+json": {
       "model_id": "aeec075f9a8e4270910f2b08dac5baf3",
       "version_major": 2,
       "version_minor": 0
      },
      "text/plain": [
       "  0%|          | 0/790 [00:00<?, ?it/s]"
      ]
     },
     "metadata": {},
     "output_type": "display_data"
    },
    {
     "data": {
      "application/vnd.jupyter.widget-view+json": {
       "model_id": "15ce91e8a67d405dbb2bd9067d6c5de6",
       "version_major": 2,
       "version_minor": 0
      },
      "text/plain": [
       "  0%|          | 0/25255 [00:00<?, ?it/s]"
      ]
     },
     "metadata": {},
     "output_type": "display_data"
    },
    {
     "name": "stdout",
     "output_type": "stream",
     "text": [
      "/home/romet/data2/datasets/rally-estonia/dataset-new-small/summer2021/2021-09-24-14-03-45_e2e_rec_ss11_backwards: lenght=25007, filtered=165\n"
     ]
    },
    {
     "data": {
      "application/vnd.jupyter.widget-view+json": {
       "model_id": "2e2b02ac890849c0aa26129618687f9f",
       "version_major": 2,
       "version_minor": 0
      },
      "text/plain": [
       "  0%|          | 0/782 [00:00<?, ?it/s]"
      ]
     },
     "metadata": {},
     "output_type": "display_data"
    },
    {
     "data": {
      "application/vnd.jupyter.widget-view+json": {
       "model_id": "8f43f6cc0dd742468d01501aadd93091",
       "version_major": 2,
       "version_minor": 0
      },
      "text/plain": [
       "  0%|          | 0/25007 [00:00<?, ?it/s]"
      ]
     },
     "metadata": {},
     "output_type": "display_data"
    },
    {
     "name": "stdout",
     "output_type": "stream",
     "text": [
      "/home/romet/data2/datasets/rally-estonia/dataset-new-small/summer2021/2021-10-26-10-49-06_e2e_rec_ss20_elva: lenght=32738, filtered=307\n"
     ]
    },
    {
     "data": {
      "application/vnd.jupyter.widget-view+json": {
       "model_id": "0a60a5106830447cb0698ba9522e9135",
       "version_major": 2,
       "version_minor": 0
      },
      "text/plain": [
       "  0%|          | 0/1024 [00:00<?, ?it/s]"
      ]
     },
     "metadata": {},
     "output_type": "display_data"
    },
    {
     "data": {
      "application/vnd.jupyter.widget-view+json": {
       "model_id": "eff7515b61f948a78ab4bdc2342a46f0",
       "version_major": 2,
       "version_minor": 0
      },
      "text/plain": [
       "  0%|          | 0/32738 [00:00<?, ?it/s]"
      ]
     },
     "metadata": {},
     "output_type": "display_data"
    },
    {
     "name": "stdout",
     "output_type": "stream",
     "text": [
      "/home/romet/data2/datasets/rally-estonia/dataset-new-small/summer2021/2021-10-26-11-08-59_e2e_rec_ss20_elva_back: lenght=33000, filtered=281\n"
     ]
    },
    {
     "data": {
      "application/vnd.jupyter.widget-view+json": {
       "model_id": "b4d1102dc47c4dae9d1ac636519f0b37",
       "version_major": 2,
       "version_minor": 0
      },
      "text/plain": [
       "  0%|          | 0/1032 [00:00<?, ?it/s]"
      ]
     },
     "metadata": {},
     "output_type": "display_data"
    },
    {
     "data": {
      "application/vnd.jupyter.widget-view+json": {
       "model_id": "2e5250ac1ef641a1b776b531d51f0a99",
       "version_major": 2,
       "version_minor": 0
      },
      "text/plain": [
       "  0%|          | 0/33000 [00:00<?, ?it/s]"
      ]
     },
     "metadata": {},
     "output_type": "display_data"
    },
    {
     "name": "stdout",
     "output_type": "stream",
     "text": [
      "/home/romet/data2/datasets/rally-estonia/dataset-new-small/summer2021/2021-10-20-15-11-29_e2e_rec_vastse_ss13_17_back: lenght=26498, filtered=265\n"
     ]
    },
    {
     "data": {
      "application/vnd.jupyter.widget-view+json": {
       "model_id": "37f239e9e00a4d9ca31fc2b608c4ebf0",
       "version_major": 2,
       "version_minor": 0
      },
      "text/plain": [
       "  0%|          | 0/829 [00:00<?, ?it/s]"
      ]
     },
     "metadata": {},
     "output_type": "display_data"
    },
    {
     "data": {
      "application/vnd.jupyter.widget-view+json": {
       "model_id": "048033ea1bc74897a3ba52fb8077cff2",
       "version_major": 2,
       "version_minor": 0
      },
      "text/plain": [
       "  0%|          | 0/26498 [00:00<?, ?it/s]"
      ]
     },
     "metadata": {},
     "output_type": "display_data"
    },
    {
     "name": "stdout",
     "output_type": "stream",
     "text": [
      "/home/romet/data2/datasets/rally-estonia/dataset-new-small/summer2021/2021-10-11-14-50-59_e2e_rec_vahi: lenght=15196, filtered=6017\n"
     ]
    },
    {
     "data": {
      "application/vnd.jupyter.widget-view+json": {
       "model_id": "f772e98a1a17401c9b201e1fd6b95825",
       "version_major": 2,
       "version_minor": 0
      },
      "text/plain": [
       "  0%|          | 0/475 [00:00<?, ?it/s]"
      ]
     },
     "metadata": {},
     "output_type": "display_data"
    },
    {
     "data": {
      "application/vnd.jupyter.widget-view+json": {
       "model_id": "28175972497c4c5fa5cfa4e3521c22ae",
       "version_major": 2,
       "version_minor": 0
      },
      "text/plain": [
       "  0%|          | 0/15196 [00:00<?, ?it/s]"
      ]
     },
     "metadata": {},
     "output_type": "display_data"
    },
    {
     "name": "stdout",
     "output_type": "stream",
     "text": [
      "/home/romet/data2/datasets/rally-estonia/dataset-new-small/summer2021/2021-10-14-13-08-51_e2e_rec_vahi_backwards: lenght=13284, filtered=158\n"
     ]
    },
    {
     "data": {
      "application/vnd.jupyter.widget-view+json": {
       "model_id": "6aa8908bc92e40aea720b716fc58637e",
       "version_major": 2,
       "version_minor": 0
      },
      "text/plain": [
       "  0%|          | 0/416 [00:00<?, ?it/s]"
      ]
     },
     "metadata": {},
     "output_type": "display_data"
    },
    {
     "data": {
      "application/vnd.jupyter.widget-view+json": {
       "model_id": "7d51275edbcb4094b9de2c76cf7787ee",
       "version_major": 2,
       "version_minor": 0
      },
      "text/plain": [
       "  0%|          | 0/13284 [00:00<?, ?it/s]"
      ]
     },
     "metadata": {},
     "output_type": "display_data"
    }
   ],
   "source": [
    "conditional_model = create_model_conditional('20220528003119_waypoints-center-cam', n_branches=3, n_outputs=20)\n",
    "conditional_trainer = ConditionalTrainer()\n",
    "model4_df = calculate_tracks_metrics(conditional_model, conditional_trainer, tracks, n_branches=3, n_waypoints=10)"
   ]
  },
  {
   "cell_type": "code",
   "execution_count": 28,
   "id": "98ba78f6",
   "metadata": {},
   "outputs": [
    {
     "name": "stdout",
     "output_type": "stream",
     "text": [
      "/home/romet/data2/datasets/rally-estonia/dataset-new-small/summer2021/2021-05-28-15-19-48_e2e_sulaoja_20_30: lenght=10547, filtered=161\n"
     ]
    },
    {
     "data": {
      "application/vnd.jupyter.widget-view+json": {
       "model_id": "988d85457fa647ecb835477efaa0d687",
       "version_major": 2,
       "version_minor": 0
      },
      "text/plain": [
       "  0%|          | 0/330 [00:00<?, ?it/s]"
      ]
     },
     "metadata": {},
     "output_type": "display_data"
    },
    {
     "data": {
      "application/vnd.jupyter.widget-view+json": {
       "model_id": "a472f9a7d4644a15875fd1cfbc2d4616",
       "version_major": 2,
       "version_minor": 0
      },
      "text/plain": [
       "  0%|          | 0/10547 [00:00<?, ?it/s]"
      ]
     },
     "metadata": {},
     "output_type": "display_data"
    },
    {
     "name": "stdout",
     "output_type": "stream",
     "text": [
      "/home/romet/data2/datasets/rally-estonia/dataset-new-small/summer2021/2021-06-07-14-20-07_e2e_rec_ss6: lenght=25710, filtered=127\n"
     ]
    },
    {
     "data": {
      "application/vnd.jupyter.widget-view+json": {
       "model_id": "4f8ac235a03a4c2d9d49c87b4b47b75a",
       "version_major": 2,
       "version_minor": 0
      },
      "text/plain": [
       "  0%|          | 0/804 [00:00<?, ?it/s]"
      ]
     },
     "metadata": {},
     "output_type": "display_data"
    },
    {
     "data": {
      "application/vnd.jupyter.widget-view+json": {
       "model_id": "c96f02f53b914ed5a338b3c71ba5dc7c",
       "version_major": 2,
       "version_minor": 0
      },
      "text/plain": [
       "  0%|          | 0/25710 [00:00<?, ?it/s]"
      ]
     },
     "metadata": {},
     "output_type": "display_data"
    },
    {
     "name": "stdout",
     "output_type": "stream",
     "text": [
      "/home/romet/data2/datasets/rally-estonia/dataset-new-small/summer2021/2021-06-07-14-06-31_e2e_rec_ss6: lenght=2802, filtered=201\n"
     ]
    },
    {
     "data": {
      "application/vnd.jupyter.widget-view+json": {
       "model_id": "2a18624797994508a60d23895f114e71",
       "version_major": 2,
       "version_minor": 0
      },
      "text/plain": [
       "  0%|          | 0/88 [00:00<?, ?it/s]"
      ]
     },
     "metadata": {},
     "output_type": "display_data"
    },
    {
     "data": {
      "application/vnd.jupyter.widget-view+json": {
       "model_id": "87bc5d1e0b6a43f5bead999e697609e0",
       "version_major": 2,
       "version_minor": 0
      },
      "text/plain": [
       "  0%|          | 0/2802 [00:00<?, ?it/s]"
      ]
     },
     "metadata": {},
     "output_type": "display_data"
    },
    {
     "name": "stdout",
     "output_type": "stream",
     "text": [
      "/home/romet/data2/datasets/rally-estonia/dataset-new-small/summer2021/2021-06-07-14-09-18_e2e_rec_ss6: lenght=4474, filtered=78\n"
     ]
    },
    {
     "data": {
      "application/vnd.jupyter.widget-view+json": {
       "model_id": "b5e6637b576543029ff330324cdbeaf0",
       "version_major": 2,
       "version_minor": 0
      },
      "text/plain": [
       "  0%|          | 0/140 [00:00<?, ?it/s]"
      ]
     },
     "metadata": {},
     "output_type": "display_data"
    },
    {
     "data": {
      "application/vnd.jupyter.widget-view+json": {
       "model_id": "49290831bdb748cb9de127b3d2e1612c",
       "version_major": 2,
       "version_minor": 0
      },
      "text/plain": [
       "  0%|          | 0/4474 [00:00<?, ?it/s]"
      ]
     },
     "metadata": {},
     "output_type": "display_data"
    },
    {
     "name": "stdout",
     "output_type": "stream",
     "text": [
      "/home/romet/data2/datasets/rally-estonia/dataset-new-small/summer2021/2021-06-07-14-36-16_e2e_rec_ss6: lenght=25255, filtered=114\n"
     ]
    },
    {
     "data": {
      "application/vnd.jupyter.widget-view+json": {
       "model_id": "3b6407dc74ff48ec88efe320df0ce94f",
       "version_major": 2,
       "version_minor": 0
      },
      "text/plain": [
       "  0%|          | 0/790 [00:00<?, ?it/s]"
      ]
     },
     "metadata": {},
     "output_type": "display_data"
    },
    {
     "data": {
      "application/vnd.jupyter.widget-view+json": {
       "model_id": "b0326911ad524071943e63e6160a76aa",
       "version_major": 2,
       "version_minor": 0
      },
      "text/plain": [
       "  0%|          | 0/25255 [00:00<?, ?it/s]"
      ]
     },
     "metadata": {},
     "output_type": "display_data"
    },
    {
     "name": "stdout",
     "output_type": "stream",
     "text": [
      "/home/romet/data2/datasets/rally-estonia/dataset-new-small/summer2021/2021-09-24-14-03-45_e2e_rec_ss11_backwards: lenght=25007, filtered=165\n"
     ]
    },
    {
     "data": {
      "application/vnd.jupyter.widget-view+json": {
       "model_id": "1a92cb8a76044a07b7cf9c1256b12a27",
       "version_major": 2,
       "version_minor": 0
      },
      "text/plain": [
       "  0%|          | 0/782 [00:00<?, ?it/s]"
      ]
     },
     "metadata": {},
     "output_type": "display_data"
    },
    {
     "data": {
      "application/vnd.jupyter.widget-view+json": {
       "model_id": "f115fc16ab084cc5bd3e680b29fc89c8",
       "version_major": 2,
       "version_minor": 0
      },
      "text/plain": [
       "  0%|          | 0/25007 [00:00<?, ?it/s]"
      ]
     },
     "metadata": {},
     "output_type": "display_data"
    },
    {
     "name": "stdout",
     "output_type": "stream",
     "text": [
      "/home/romet/data2/datasets/rally-estonia/dataset-new-small/summer2021/2021-10-26-10-49-06_e2e_rec_ss20_elva: lenght=32738, filtered=307\n"
     ]
    },
    {
     "data": {
      "application/vnd.jupyter.widget-view+json": {
       "model_id": "103cb4a036ca42da900cdbbf4ef76888",
       "version_major": 2,
       "version_minor": 0
      },
      "text/plain": [
       "  0%|          | 0/1024 [00:00<?, ?it/s]"
      ]
     },
     "metadata": {},
     "output_type": "display_data"
    },
    {
     "data": {
      "application/vnd.jupyter.widget-view+json": {
       "model_id": "7d347e080c6043f9b905689dcfa755c2",
       "version_major": 2,
       "version_minor": 0
      },
      "text/plain": [
       "  0%|          | 0/32738 [00:00<?, ?it/s]"
      ]
     },
     "metadata": {},
     "output_type": "display_data"
    },
    {
     "name": "stdout",
     "output_type": "stream",
     "text": [
      "/home/romet/data2/datasets/rally-estonia/dataset-new-small/summer2021/2021-10-26-11-08-59_e2e_rec_ss20_elva_back: lenght=33000, filtered=281\n"
     ]
    },
    {
     "data": {
      "application/vnd.jupyter.widget-view+json": {
       "model_id": "b7f55e40264c4a9a93cdc2bd9c5d21a2",
       "version_major": 2,
       "version_minor": 0
      },
      "text/plain": [
       "  0%|          | 0/1032 [00:00<?, ?it/s]"
      ]
     },
     "metadata": {},
     "output_type": "display_data"
    },
    {
     "data": {
      "application/vnd.jupyter.widget-view+json": {
       "model_id": "fdf1aa02667a48a7933afd156503a7ad",
       "version_major": 2,
       "version_minor": 0
      },
      "text/plain": [
       "  0%|          | 0/33000 [00:00<?, ?it/s]"
      ]
     },
     "metadata": {},
     "output_type": "display_data"
    },
    {
     "name": "stdout",
     "output_type": "stream",
     "text": [
      "/home/romet/data2/datasets/rally-estonia/dataset-new-small/summer2021/2021-10-20-15-11-29_e2e_rec_vastse_ss13_17_back: lenght=26498, filtered=265\n"
     ]
    },
    {
     "data": {
      "application/vnd.jupyter.widget-view+json": {
       "model_id": "46a1cf73cd7f4f51b2c5525224a25266",
       "version_major": 2,
       "version_minor": 0
      },
      "text/plain": [
       "  0%|          | 0/829 [00:00<?, ?it/s]"
      ]
     },
     "metadata": {},
     "output_type": "display_data"
    },
    {
     "data": {
      "application/vnd.jupyter.widget-view+json": {
       "model_id": "b1a642917bd44e66892f9839467027be",
       "version_major": 2,
       "version_minor": 0
      },
      "text/plain": [
       "  0%|          | 0/26498 [00:00<?, ?it/s]"
      ]
     },
     "metadata": {},
     "output_type": "display_data"
    },
    {
     "name": "stdout",
     "output_type": "stream",
     "text": [
      "/home/romet/data2/datasets/rally-estonia/dataset-new-small/summer2021/2021-10-11-14-50-59_e2e_rec_vahi: lenght=15196, filtered=6017\n"
     ]
    },
    {
     "data": {
      "application/vnd.jupyter.widget-view+json": {
       "model_id": "c111ac58d6cd438a8f93a802fbfc6bd6",
       "version_major": 2,
       "version_minor": 0
      },
      "text/plain": [
       "  0%|          | 0/475 [00:00<?, ?it/s]"
      ]
     },
     "metadata": {},
     "output_type": "display_data"
    },
    {
     "data": {
      "application/vnd.jupyter.widget-view+json": {
       "model_id": "b9887b13a0a742c681462cd8b4e683ec",
       "version_major": 2,
       "version_minor": 0
      },
      "text/plain": [
       "  0%|          | 0/15196 [00:00<?, ?it/s]"
      ]
     },
     "metadata": {},
     "output_type": "display_data"
    },
    {
     "name": "stdout",
     "output_type": "stream",
     "text": [
      "/home/romet/data2/datasets/rally-estonia/dataset-new-small/summer2021/2021-10-14-13-08-51_e2e_rec_vahi_backwards: lenght=13284, filtered=158\n"
     ]
    },
    {
     "data": {
      "application/vnd.jupyter.widget-view+json": {
       "model_id": "92374b374da74630aa3e8c9ad972ddd5",
       "version_major": 2,
       "version_minor": 0
      },
      "text/plain": [
       "  0%|          | 0/416 [00:00<?, ?it/s]"
      ]
     },
     "metadata": {},
     "output_type": "display_data"
    },
    {
     "data": {
      "application/vnd.jupyter.widget-view+json": {
       "model_id": "9f9ae56f58c44a6c9a0dad928ac64e7b",
       "version_major": 2,
       "version_minor": 0
      },
      "text/plain": [
       "  0%|          | 0/13284 [00:00<?, ?it/s]"
      ]
     },
     "metadata": {},
     "output_type": "display_data"
    }
   ],
   "source": [
    "conditional_model = create_model_conditional('20220525165113_waypoints-center-cam', n_branches=3, n_outputs=20)\n",
    "conditional_trainer = ConditionalTrainer()\n",
    "model5_df = calculate_tracks_metrics(conditional_model, conditional_trainer, tracks, n_branches=3, n_waypoints=10)"
   ]
  },
  {
   "cell_type": "code",
   "execution_count": null,
   "id": "a7eeba29",
   "metadata": {},
   "outputs": [],
   "source": []
  },
  {
   "cell_type": "code",
   "execution_count": 29,
   "id": "5cc88195",
   "metadata": {},
   "outputs": [
    {
     "data": {
      "text/html": [
       "<div>\n",
       "<style scoped>\n",
       "    .dataframe tbody tr th:only-of-type {\n",
       "        vertical-align: middle;\n",
       "    }\n",
       "\n",
       "    .dataframe tbody tr th {\n",
       "        vertical-align: top;\n",
       "    }\n",
       "\n",
       "    .dataframe thead th {\n",
       "        text-align: right;\n",
       "    }\n",
       "</style>\n",
       "<table border=\"1\" class=\"dataframe\">\n",
       "  <thead>\n",
       "    <tr style=\"text-align: right;\">\n",
       "      <th></th>\n",
       "      <th>first_wp_mae</th>\n",
       "      <th>last_wp_mae</th>\n",
       "      <th>first_wp_max</th>\n",
       "      <th>last_wp_max</th>\n",
       "      <th>mae</th>\n",
       "      <th>max</th>\n",
       "      <th>whiteness</th>\n",
       "    </tr>\n",
       "    <tr>\n",
       "      <th>track</th>\n",
       "      <th></th>\n",
       "      <th></th>\n",
       "      <th></th>\n",
       "      <th></th>\n",
       "      <th></th>\n",
       "      <th></th>\n",
       "      <th></th>\n",
       "    </tr>\n",
       "  </thead>\n",
       "  <tbody>\n",
       "    <tr>\n",
       "      <th>2021-05-28-15-19-48_e2e_sulaoja_20_30</th>\n",
       "      <td>0.181326</td>\n",
       "      <td>1.275346</td>\n",
       "      <td>1.062683</td>\n",
       "      <td>37.877231</td>\n",
       "      <td>13.260331</td>\n",
       "      <td>390.201376</td>\n",
       "      <td>186.031895</td>\n",
       "    </tr>\n",
       "    <tr>\n",
       "      <th>2021-06-07-14-20-07_e2e_rec_ss6</th>\n",
       "      <td>0.197320</td>\n",
       "      <td>1.321995</td>\n",
       "      <td>1.388290</td>\n",
       "      <td>36.502696</td>\n",
       "      <td>14.145135</td>\n",
       "      <td>469.592482</td>\n",
       "      <td>168.598101</td>\n",
       "    </tr>\n",
       "    <tr>\n",
       "      <th>2021-06-07-14-06-31_e2e_rec_ss6</th>\n",
       "      <td>0.219000</td>\n",
       "      <td>0.852785</td>\n",
       "      <td>1.300613</td>\n",
       "      <td>8.046153</td>\n",
       "      <td>11.735529</td>\n",
       "      <td>96.278537</td>\n",
       "      <td>107.417614</td>\n",
       "    </tr>\n",
       "    <tr>\n",
       "      <th>2021-06-07-14-09-18_e2e_rec_ss6</th>\n",
       "      <td>0.220142</td>\n",
       "      <td>1.307618</td>\n",
       "      <td>1.586725</td>\n",
       "      <td>49.082984</td>\n",
       "      <td>30.381700</td>\n",
       "      <td>586.778720</td>\n",
       "      <td>324.381127</td>\n",
       "    </tr>\n",
       "    <tr>\n",
       "      <th>2021-06-07-14-36-16_e2e_rec_ss6</th>\n",
       "      <td>0.194187</td>\n",
       "      <td>1.366075</td>\n",
       "      <td>1.174132</td>\n",
       "      <td>27.673034</td>\n",
       "      <td>13.818133</td>\n",
       "      <td>546.572679</td>\n",
       "      <td>147.213248</td>\n",
       "    </tr>\n",
       "    <tr>\n",
       "      <th>2021-09-24-14-03-45_e2e_rec_ss11_backwards</th>\n",
       "      <td>0.164712</td>\n",
       "      <td>1.988623</td>\n",
       "      <td>1.897639</td>\n",
       "      <td>61.401265</td>\n",
       "      <td>15.619493</td>\n",
       "      <td>1097.032730</td>\n",
       "      <td>407.219315</td>\n",
       "    </tr>\n",
       "    <tr>\n",
       "      <th>2021-10-26-10-49-06_e2e_rec_ss20_elva</th>\n",
       "      <td>0.173102</td>\n",
       "      <td>1.202589</td>\n",
       "      <td>0.915566</td>\n",
       "      <td>29.080075</td>\n",
       "      <td>14.248673</td>\n",
       "      <td>357.117667</td>\n",
       "      <td>125.283025</td>\n",
       "    </tr>\n",
       "    <tr>\n",
       "      <th>2021-10-26-11-08-59_e2e_rec_ss20_elva_back</th>\n",
       "      <td>0.172811</td>\n",
       "      <td>1.242186</td>\n",
       "      <td>1.122953</td>\n",
       "      <td>29.005371</td>\n",
       "      <td>14.939088</td>\n",
       "      <td>413.758585</td>\n",
       "      <td>134.033794</td>\n",
       "    </tr>\n",
       "    <tr>\n",
       "      <th>2021-10-20-15-11-29_e2e_rec_vastse_ss13_17_back</th>\n",
       "      <td>0.199371</td>\n",
       "      <td>2.801887</td>\n",
       "      <td>2.523601</td>\n",
       "      <td>48.193391</td>\n",
       "      <td>22.962536</td>\n",
       "      <td>559.582080</td>\n",
       "      <td>298.216325</td>\n",
       "    </tr>\n",
       "    <tr>\n",
       "      <th>2021-10-11-14-50-59_e2e_rec_vahi</th>\n",
       "      <td>0.143693</td>\n",
       "      <td>0.432268</td>\n",
       "      <td>0.735762</td>\n",
       "      <td>10.521786</td>\n",
       "      <td>8.720602</td>\n",
       "      <td>163.725342</td>\n",
       "      <td>86.823072</td>\n",
       "    </tr>\n",
       "    <tr>\n",
       "      <th>2021-10-14-13-08-51_e2e_rec_vahi_backwards</th>\n",
       "      <td>0.124089</td>\n",
       "      <td>0.387155</td>\n",
       "      <td>0.825413</td>\n",
       "      <td>11.204191</td>\n",
       "      <td>5.983714</td>\n",
       "      <td>102.992435</td>\n",
       "      <td>76.901677</td>\n",
       "    </tr>\n",
       "  </tbody>\n",
       "</table>\n",
       "</div>"
      ],
      "text/plain": [
       "                                                 first_wp_mae  last_wp_mae  \\\n",
       "track                                                                        \n",
       "2021-05-28-15-19-48_e2e_sulaoja_20_30                0.181326     1.275346   \n",
       "2021-06-07-14-20-07_e2e_rec_ss6                      0.197320     1.321995   \n",
       "2021-06-07-14-06-31_e2e_rec_ss6                      0.219000     0.852785   \n",
       "2021-06-07-14-09-18_e2e_rec_ss6                      0.220142     1.307618   \n",
       "2021-06-07-14-36-16_e2e_rec_ss6                      0.194187     1.366075   \n",
       "2021-09-24-14-03-45_e2e_rec_ss11_backwards           0.164712     1.988623   \n",
       "2021-10-26-10-49-06_e2e_rec_ss20_elva                0.173102     1.202589   \n",
       "2021-10-26-11-08-59_e2e_rec_ss20_elva_back           0.172811     1.242186   \n",
       "2021-10-20-15-11-29_e2e_rec_vastse_ss13_17_back      0.199371     2.801887   \n",
       "2021-10-11-14-50-59_e2e_rec_vahi                     0.143693     0.432268   \n",
       "2021-10-14-13-08-51_e2e_rec_vahi_backwards           0.124089     0.387155   \n",
       "\n",
       "                                                 first_wp_max  last_wp_max  \\\n",
       "track                                                                        \n",
       "2021-05-28-15-19-48_e2e_sulaoja_20_30                1.062683    37.877231   \n",
       "2021-06-07-14-20-07_e2e_rec_ss6                      1.388290    36.502696   \n",
       "2021-06-07-14-06-31_e2e_rec_ss6                      1.300613     8.046153   \n",
       "2021-06-07-14-09-18_e2e_rec_ss6                      1.586725    49.082984   \n",
       "2021-06-07-14-36-16_e2e_rec_ss6                      1.174132    27.673034   \n",
       "2021-09-24-14-03-45_e2e_rec_ss11_backwards           1.897639    61.401265   \n",
       "2021-10-26-10-49-06_e2e_rec_ss20_elva                0.915566    29.080075   \n",
       "2021-10-26-11-08-59_e2e_rec_ss20_elva_back           1.122953    29.005371   \n",
       "2021-10-20-15-11-29_e2e_rec_vastse_ss13_17_back      2.523601    48.193391   \n",
       "2021-10-11-14-50-59_e2e_rec_vahi                     0.735762    10.521786   \n",
       "2021-10-14-13-08-51_e2e_rec_vahi_backwards           0.825413    11.204191   \n",
       "\n",
       "                                                       mae          max  \\\n",
       "track                                                                     \n",
       "2021-05-28-15-19-48_e2e_sulaoja_20_30            13.260331   390.201376   \n",
       "2021-06-07-14-20-07_e2e_rec_ss6                  14.145135   469.592482   \n",
       "2021-06-07-14-06-31_e2e_rec_ss6                  11.735529    96.278537   \n",
       "2021-06-07-14-09-18_e2e_rec_ss6                  30.381700   586.778720   \n",
       "2021-06-07-14-36-16_e2e_rec_ss6                  13.818133   546.572679   \n",
       "2021-09-24-14-03-45_e2e_rec_ss11_backwards       15.619493  1097.032730   \n",
       "2021-10-26-10-49-06_e2e_rec_ss20_elva            14.248673   357.117667   \n",
       "2021-10-26-11-08-59_e2e_rec_ss20_elva_back       14.939088   413.758585   \n",
       "2021-10-20-15-11-29_e2e_rec_vastse_ss13_17_back  22.962536   559.582080   \n",
       "2021-10-11-14-50-59_e2e_rec_vahi                  8.720602   163.725342   \n",
       "2021-10-14-13-08-51_e2e_rec_vahi_backwards        5.983714   102.992435   \n",
       "\n",
       "                                                  whiteness  \n",
       "track                                                        \n",
       "2021-05-28-15-19-48_e2e_sulaoja_20_30            186.031895  \n",
       "2021-06-07-14-20-07_e2e_rec_ss6                  168.598101  \n",
       "2021-06-07-14-06-31_e2e_rec_ss6                  107.417614  \n",
       "2021-06-07-14-09-18_e2e_rec_ss6                  324.381127  \n",
       "2021-06-07-14-36-16_e2e_rec_ss6                  147.213248  \n",
       "2021-09-24-14-03-45_e2e_rec_ss11_backwards       407.219315  \n",
       "2021-10-26-10-49-06_e2e_rec_ss20_elva            125.283025  \n",
       "2021-10-26-11-08-59_e2e_rec_ss20_elva_back       134.033794  \n",
       "2021-10-20-15-11-29_e2e_rec_vastse_ss13_17_back  298.216325  \n",
       "2021-10-11-14-50-59_e2e_rec_vahi                  86.823072  \n",
       "2021-10-14-13-08-51_e2e_rec_vahi_backwards        76.901677  "
      ]
     },
     "execution_count": 29,
     "metadata": {},
     "output_type": "execute_result"
    }
   ],
   "source": [
    "filtered_columns = [\"first_wp_mae\", \"last_wp_mae\", \"first_wp_max\", \"last_wp_max\", \"mae\", \"max\", \"whiteness\"]\n",
    "model3_df[filtered_columns]"
   ]
  },
  {
   "cell_type": "code",
   "execution_count": 30,
   "id": "0c38d97c",
   "metadata": {},
   "outputs": [
    {
     "data": {
      "text/html": [
       "<div>\n",
       "<style scoped>\n",
       "    .dataframe tbody tr th:only-of-type {\n",
       "        vertical-align: middle;\n",
       "    }\n",
       "\n",
       "    .dataframe tbody tr th {\n",
       "        vertical-align: top;\n",
       "    }\n",
       "\n",
       "    .dataframe thead th {\n",
       "        text-align: right;\n",
       "    }\n",
       "</style>\n",
       "<table border=\"1\" class=\"dataframe\">\n",
       "  <thead>\n",
       "    <tr style=\"text-align: right;\">\n",
       "      <th></th>\n",
       "      <th>first_wp_mae</th>\n",
       "      <th>last_wp_mae</th>\n",
       "      <th>first_wp_max</th>\n",
       "      <th>last_wp_max</th>\n",
       "      <th>mae</th>\n",
       "      <th>max</th>\n",
       "      <th>whiteness</th>\n",
       "    </tr>\n",
       "    <tr>\n",
       "      <th>track</th>\n",
       "      <th></th>\n",
       "      <th></th>\n",
       "      <th></th>\n",
       "      <th></th>\n",
       "      <th></th>\n",
       "      <th></th>\n",
       "      <th></th>\n",
       "    </tr>\n",
       "  </thead>\n",
       "  <tbody>\n",
       "    <tr>\n",
       "      <th>2021-05-28-15-19-48_e2e_sulaoja_20_30</th>\n",
       "      <td>0.142732</td>\n",
       "      <td>1.318042</td>\n",
       "      <td>0.838595</td>\n",
       "      <td>36.489025</td>\n",
       "      <td>9.428750</td>\n",
       "      <td>328.432922</td>\n",
       "      <td>156.666692</td>\n",
       "    </tr>\n",
       "    <tr>\n",
       "      <th>2021-06-07-14-20-07_e2e_rec_ss6</th>\n",
       "      <td>0.149307</td>\n",
       "      <td>1.359430</td>\n",
       "      <td>1.202407</td>\n",
       "      <td>49.896656</td>\n",
       "      <td>10.867701</td>\n",
       "      <td>435.248687</td>\n",
       "      <td>154.922428</td>\n",
       "    </tr>\n",
       "    <tr>\n",
       "      <th>2021-06-07-14-06-31_e2e_rec_ss6</th>\n",
       "      <td>0.181234</td>\n",
       "      <td>0.972684</td>\n",
       "      <td>1.212820</td>\n",
       "      <td>8.938902</td>\n",
       "      <td>8.541485</td>\n",
       "      <td>91.317124</td>\n",
       "      <td>90.344632</td>\n",
       "    </tr>\n",
       "    <tr>\n",
       "      <th>2021-06-07-14-09-18_e2e_rec_ss6</th>\n",
       "      <td>0.162618</td>\n",
       "      <td>1.513018</td>\n",
       "      <td>1.128061</td>\n",
       "      <td>34.586177</td>\n",
       "      <td>25.603091</td>\n",
       "      <td>432.339712</td>\n",
       "      <td>176.284272</td>\n",
       "    </tr>\n",
       "    <tr>\n",
       "      <th>2021-06-07-14-36-16_e2e_rec_ss6</th>\n",
       "      <td>0.158355</td>\n",
       "      <td>1.393740</td>\n",
       "      <td>0.946813</td>\n",
       "      <td>29.219137</td>\n",
       "      <td>11.117679</td>\n",
       "      <td>490.917830</td>\n",
       "      <td>143.140145</td>\n",
       "    </tr>\n",
       "    <tr>\n",
       "      <th>2021-09-24-14-03-45_e2e_rec_ss11_backwards</th>\n",
       "      <td>0.145733</td>\n",
       "      <td>1.947503</td>\n",
       "      <td>1.747846</td>\n",
       "      <td>52.083460</td>\n",
       "      <td>12.817935</td>\n",
       "      <td>1204.631104</td>\n",
       "      <td>640.259653</td>\n",
       "    </tr>\n",
       "    <tr>\n",
       "      <th>2021-10-26-10-49-06_e2e_rec_ss20_elva</th>\n",
       "      <td>0.129351</td>\n",
       "      <td>1.197445</td>\n",
       "      <td>0.969634</td>\n",
       "      <td>31.645976</td>\n",
       "      <td>11.551411</td>\n",
       "      <td>340.204695</td>\n",
       "      <td>111.858561</td>\n",
       "    </tr>\n",
       "    <tr>\n",
       "      <th>2021-10-26-11-08-59_e2e_rec_ss20_elva_back</th>\n",
       "      <td>0.126215</td>\n",
       "      <td>1.300876</td>\n",
       "      <td>1.224794</td>\n",
       "      <td>33.951436</td>\n",
       "      <td>12.349386</td>\n",
       "      <td>313.130757</td>\n",
       "      <td>130.776671</td>\n",
       "    </tr>\n",
       "    <tr>\n",
       "      <th>2021-10-20-15-11-29_e2e_rec_vastse_ss13_17_back</th>\n",
       "      <td>0.163886</td>\n",
       "      <td>2.508934</td>\n",
       "      <td>2.321566</td>\n",
       "      <td>45.951843</td>\n",
       "      <td>20.924336</td>\n",
       "      <td>415.171680</td>\n",
       "      <td>236.988230</td>\n",
       "    </tr>\n",
       "    <tr>\n",
       "      <th>2021-10-11-14-50-59_e2e_rec_vahi</th>\n",
       "      <td>0.108505</td>\n",
       "      <td>0.461783</td>\n",
       "      <td>0.599737</td>\n",
       "      <td>12.575767</td>\n",
       "      <td>5.404293</td>\n",
       "      <td>133.794729</td>\n",
       "      <td>65.662224</td>\n",
       "    </tr>\n",
       "    <tr>\n",
       "      <th>2021-10-14-13-08-51_e2e_rec_vahi_backwards</th>\n",
       "      <td>0.107484</td>\n",
       "      <td>0.437467</td>\n",
       "      <td>0.516892</td>\n",
       "      <td>11.661845</td>\n",
       "      <td>4.206661</td>\n",
       "      <td>110.270800</td>\n",
       "      <td>66.074382</td>\n",
       "    </tr>\n",
       "  </tbody>\n",
       "</table>\n",
       "</div>"
      ],
      "text/plain": [
       "                                                 first_wp_mae  last_wp_mae  \\\n",
       "track                                                                        \n",
       "2021-05-28-15-19-48_e2e_sulaoja_20_30                0.142732     1.318042   \n",
       "2021-06-07-14-20-07_e2e_rec_ss6                      0.149307     1.359430   \n",
       "2021-06-07-14-06-31_e2e_rec_ss6                      0.181234     0.972684   \n",
       "2021-06-07-14-09-18_e2e_rec_ss6                      0.162618     1.513018   \n",
       "2021-06-07-14-36-16_e2e_rec_ss6                      0.158355     1.393740   \n",
       "2021-09-24-14-03-45_e2e_rec_ss11_backwards           0.145733     1.947503   \n",
       "2021-10-26-10-49-06_e2e_rec_ss20_elva                0.129351     1.197445   \n",
       "2021-10-26-11-08-59_e2e_rec_ss20_elva_back           0.126215     1.300876   \n",
       "2021-10-20-15-11-29_e2e_rec_vastse_ss13_17_back      0.163886     2.508934   \n",
       "2021-10-11-14-50-59_e2e_rec_vahi                     0.108505     0.461783   \n",
       "2021-10-14-13-08-51_e2e_rec_vahi_backwards           0.107484     0.437467   \n",
       "\n",
       "                                                 first_wp_max  last_wp_max  \\\n",
       "track                                                                        \n",
       "2021-05-28-15-19-48_e2e_sulaoja_20_30                0.838595    36.489025   \n",
       "2021-06-07-14-20-07_e2e_rec_ss6                      1.202407    49.896656   \n",
       "2021-06-07-14-06-31_e2e_rec_ss6                      1.212820     8.938902   \n",
       "2021-06-07-14-09-18_e2e_rec_ss6                      1.128061    34.586177   \n",
       "2021-06-07-14-36-16_e2e_rec_ss6                      0.946813    29.219137   \n",
       "2021-09-24-14-03-45_e2e_rec_ss11_backwards           1.747846    52.083460   \n",
       "2021-10-26-10-49-06_e2e_rec_ss20_elva                0.969634    31.645976   \n",
       "2021-10-26-11-08-59_e2e_rec_ss20_elva_back           1.224794    33.951436   \n",
       "2021-10-20-15-11-29_e2e_rec_vastse_ss13_17_back      2.321566    45.951843   \n",
       "2021-10-11-14-50-59_e2e_rec_vahi                     0.599737    12.575767   \n",
       "2021-10-14-13-08-51_e2e_rec_vahi_backwards           0.516892    11.661845   \n",
       "\n",
       "                                                       mae          max  \\\n",
       "track                                                                     \n",
       "2021-05-28-15-19-48_e2e_sulaoja_20_30             9.428750   328.432922   \n",
       "2021-06-07-14-20-07_e2e_rec_ss6                  10.867701   435.248687   \n",
       "2021-06-07-14-06-31_e2e_rec_ss6                   8.541485    91.317124   \n",
       "2021-06-07-14-09-18_e2e_rec_ss6                  25.603091   432.339712   \n",
       "2021-06-07-14-36-16_e2e_rec_ss6                  11.117679   490.917830   \n",
       "2021-09-24-14-03-45_e2e_rec_ss11_backwards       12.817935  1204.631104   \n",
       "2021-10-26-10-49-06_e2e_rec_ss20_elva            11.551411   340.204695   \n",
       "2021-10-26-11-08-59_e2e_rec_ss20_elva_back       12.349386   313.130757   \n",
       "2021-10-20-15-11-29_e2e_rec_vastse_ss13_17_back  20.924336   415.171680   \n",
       "2021-10-11-14-50-59_e2e_rec_vahi                  5.404293   133.794729   \n",
       "2021-10-14-13-08-51_e2e_rec_vahi_backwards        4.206661   110.270800   \n",
       "\n",
       "                                                  whiteness  \n",
       "track                                                        \n",
       "2021-05-28-15-19-48_e2e_sulaoja_20_30            156.666692  \n",
       "2021-06-07-14-20-07_e2e_rec_ss6                  154.922428  \n",
       "2021-06-07-14-06-31_e2e_rec_ss6                   90.344632  \n",
       "2021-06-07-14-09-18_e2e_rec_ss6                  176.284272  \n",
       "2021-06-07-14-36-16_e2e_rec_ss6                  143.140145  \n",
       "2021-09-24-14-03-45_e2e_rec_ss11_backwards       640.259653  \n",
       "2021-10-26-10-49-06_e2e_rec_ss20_elva            111.858561  \n",
       "2021-10-26-11-08-59_e2e_rec_ss20_elva_back       130.776671  \n",
       "2021-10-20-15-11-29_e2e_rec_vastse_ss13_17_back  236.988230  \n",
       "2021-10-11-14-50-59_e2e_rec_vahi                  65.662224  \n",
       "2021-10-14-13-08-51_e2e_rec_vahi_backwards        66.074382  "
      ]
     },
     "execution_count": 30,
     "metadata": {},
     "output_type": "execute_result"
    }
   ],
   "source": [
    "model1_df[filtered_columns]"
   ]
  },
  {
   "cell_type": "code",
   "execution_count": 31,
   "id": "38d2b4ca",
   "metadata": {},
   "outputs": [
    {
     "data": {
      "text/html": [
       "<div>\n",
       "<style scoped>\n",
       "    .dataframe tbody tr th:only-of-type {\n",
       "        vertical-align: middle;\n",
       "    }\n",
       "\n",
       "    .dataframe tbody tr th {\n",
       "        vertical-align: top;\n",
       "    }\n",
       "\n",
       "    .dataframe thead th {\n",
       "        text-align: right;\n",
       "    }\n",
       "</style>\n",
       "<table border=\"1\" class=\"dataframe\">\n",
       "  <thead>\n",
       "    <tr style=\"text-align: right;\">\n",
       "      <th></th>\n",
       "      <th>first_wp_mae</th>\n",
       "      <th>last_wp_mae</th>\n",
       "      <th>first_wp_max</th>\n",
       "      <th>last_wp_max</th>\n",
       "      <th>mae</th>\n",
       "      <th>max</th>\n",
       "      <th>whiteness</th>\n",
       "    </tr>\n",
       "    <tr>\n",
       "      <th>track</th>\n",
       "      <th></th>\n",
       "      <th></th>\n",
       "      <th></th>\n",
       "      <th></th>\n",
       "      <th></th>\n",
       "      <th></th>\n",
       "      <th></th>\n",
       "    </tr>\n",
       "  </thead>\n",
       "  <tbody>\n",
       "    <tr>\n",
       "      <th>2021-05-28-15-19-48_e2e_sulaoja_20_30</th>\n",
       "      <td>0.138553</td>\n",
       "      <td>1.328130</td>\n",
       "      <td>0.911654</td>\n",
       "      <td>34.382730</td>\n",
       "      <td>10.205378</td>\n",
       "      <td>348.525837</td>\n",
       "      <td>144.790589</td>\n",
       "    </tr>\n",
       "    <tr>\n",
       "      <th>2021-06-07-14-20-07_e2e_rec_ss6</th>\n",
       "      <td>0.136928</td>\n",
       "      <td>1.399407</td>\n",
       "      <td>1.657239</td>\n",
       "      <td>59.647655</td>\n",
       "      <td>10.120574</td>\n",
       "      <td>532.020160</td>\n",
       "      <td>153.403975</td>\n",
       "    </tr>\n",
       "    <tr>\n",
       "      <th>2021-06-07-14-06-31_e2e_rec_ss6</th>\n",
       "      <td>0.163585</td>\n",
       "      <td>0.875402</td>\n",
       "      <td>0.984162</td>\n",
       "      <td>9.506336</td>\n",
       "      <td>7.011829</td>\n",
       "      <td>67.686692</td>\n",
       "      <td>72.248951</td>\n",
       "    </tr>\n",
       "    <tr>\n",
       "      <th>2021-06-07-14-09-18_e2e_rec_ss6</th>\n",
       "      <td>0.177940</td>\n",
       "      <td>1.420132</td>\n",
       "      <td>1.896553</td>\n",
       "      <td>45.155483</td>\n",
       "      <td>28.625967</td>\n",
       "      <td>882.035228</td>\n",
       "      <td>600.955679</td>\n",
       "    </tr>\n",
       "    <tr>\n",
       "      <th>2021-06-07-14-36-16_e2e_rec_ss6</th>\n",
       "      <td>0.146864</td>\n",
       "      <td>1.385815</td>\n",
       "      <td>1.357354</td>\n",
       "      <td>31.535782</td>\n",
       "      <td>10.100038</td>\n",
       "      <td>524.189487</td>\n",
       "      <td>125.611039</td>\n",
       "    </tr>\n",
       "    <tr>\n",
       "      <th>2021-09-24-14-03-45_e2e_rec_ss11_backwards</th>\n",
       "      <td>0.142487</td>\n",
       "      <td>2.002464</td>\n",
       "      <td>2.282398</td>\n",
       "      <td>54.607980</td>\n",
       "      <td>13.282843</td>\n",
       "      <td>1054.772300</td>\n",
       "      <td>669.229726</td>\n",
       "    </tr>\n",
       "    <tr>\n",
       "      <th>2021-10-26-10-49-06_e2e_rec_ss20_elva</th>\n",
       "      <td>0.115553</td>\n",
       "      <td>1.282771</td>\n",
       "      <td>1.550003</td>\n",
       "      <td>56.748278</td>\n",
       "      <td>11.425847</td>\n",
       "      <td>669.093933</td>\n",
       "      <td>180.250312</td>\n",
       "    </tr>\n",
       "    <tr>\n",
       "      <th>2021-10-26-11-08-59_e2e_rec_ss20_elva_back</th>\n",
       "      <td>0.115943</td>\n",
       "      <td>1.274868</td>\n",
       "      <td>1.739351</td>\n",
       "      <td>33.295361</td>\n",
       "      <td>12.303370</td>\n",
       "      <td>493.918049</td>\n",
       "      <td>127.141438</td>\n",
       "    </tr>\n",
       "    <tr>\n",
       "      <th>2021-10-20-15-11-29_e2e_rec_vastse_ss13_17_back</th>\n",
       "      <td>0.140902</td>\n",
       "      <td>2.644264</td>\n",
       "      <td>2.391713</td>\n",
       "      <td>52.916649</td>\n",
       "      <td>21.863141</td>\n",
       "      <td>1218.375069</td>\n",
       "      <td>404.921142</td>\n",
       "    </tr>\n",
       "    <tr>\n",
       "      <th>2021-10-11-14-50-59_e2e_rec_vahi</th>\n",
       "      <td>0.103895</td>\n",
       "      <td>0.460148</td>\n",
       "      <td>0.599006</td>\n",
       "      <td>9.003094</td>\n",
       "      <td>5.320528</td>\n",
       "      <td>154.413097</td>\n",
       "      <td>54.658855</td>\n",
       "    </tr>\n",
       "    <tr>\n",
       "      <th>2021-10-14-13-08-51_e2e_rec_vahi_backwards</th>\n",
       "      <td>0.104225</td>\n",
       "      <td>0.434290</td>\n",
       "      <td>0.430288</td>\n",
       "      <td>10.037974</td>\n",
       "      <td>4.258355</td>\n",
       "      <td>66.492348</td>\n",
       "      <td>56.181929</td>\n",
       "    </tr>\n",
       "  </tbody>\n",
       "</table>\n",
       "</div>"
      ],
      "text/plain": [
       "                                                 first_wp_mae  last_wp_mae  \\\n",
       "track                                                                        \n",
       "2021-05-28-15-19-48_e2e_sulaoja_20_30                0.138553     1.328130   \n",
       "2021-06-07-14-20-07_e2e_rec_ss6                      0.136928     1.399407   \n",
       "2021-06-07-14-06-31_e2e_rec_ss6                      0.163585     0.875402   \n",
       "2021-06-07-14-09-18_e2e_rec_ss6                      0.177940     1.420132   \n",
       "2021-06-07-14-36-16_e2e_rec_ss6                      0.146864     1.385815   \n",
       "2021-09-24-14-03-45_e2e_rec_ss11_backwards           0.142487     2.002464   \n",
       "2021-10-26-10-49-06_e2e_rec_ss20_elva                0.115553     1.282771   \n",
       "2021-10-26-11-08-59_e2e_rec_ss20_elva_back           0.115943     1.274868   \n",
       "2021-10-20-15-11-29_e2e_rec_vastse_ss13_17_back      0.140902     2.644264   \n",
       "2021-10-11-14-50-59_e2e_rec_vahi                     0.103895     0.460148   \n",
       "2021-10-14-13-08-51_e2e_rec_vahi_backwards           0.104225     0.434290   \n",
       "\n",
       "                                                 first_wp_max  last_wp_max  \\\n",
       "track                                                                        \n",
       "2021-05-28-15-19-48_e2e_sulaoja_20_30                0.911654    34.382730   \n",
       "2021-06-07-14-20-07_e2e_rec_ss6                      1.657239    59.647655   \n",
       "2021-06-07-14-06-31_e2e_rec_ss6                      0.984162     9.506336   \n",
       "2021-06-07-14-09-18_e2e_rec_ss6                      1.896553    45.155483   \n",
       "2021-06-07-14-36-16_e2e_rec_ss6                      1.357354    31.535782   \n",
       "2021-09-24-14-03-45_e2e_rec_ss11_backwards           2.282398    54.607980   \n",
       "2021-10-26-10-49-06_e2e_rec_ss20_elva                1.550003    56.748278   \n",
       "2021-10-26-11-08-59_e2e_rec_ss20_elva_back           1.739351    33.295361   \n",
       "2021-10-20-15-11-29_e2e_rec_vastse_ss13_17_back      2.391713    52.916649   \n",
       "2021-10-11-14-50-59_e2e_rec_vahi                     0.599006     9.003094   \n",
       "2021-10-14-13-08-51_e2e_rec_vahi_backwards           0.430288    10.037974   \n",
       "\n",
       "                                                       mae          max  \\\n",
       "track                                                                     \n",
       "2021-05-28-15-19-48_e2e_sulaoja_20_30            10.205378   348.525837   \n",
       "2021-06-07-14-20-07_e2e_rec_ss6                  10.120574   532.020160   \n",
       "2021-06-07-14-06-31_e2e_rec_ss6                   7.011829    67.686692   \n",
       "2021-06-07-14-09-18_e2e_rec_ss6                  28.625967   882.035228   \n",
       "2021-06-07-14-36-16_e2e_rec_ss6                  10.100038   524.189487   \n",
       "2021-09-24-14-03-45_e2e_rec_ss11_backwards       13.282843  1054.772300   \n",
       "2021-10-26-10-49-06_e2e_rec_ss20_elva            11.425847   669.093933   \n",
       "2021-10-26-11-08-59_e2e_rec_ss20_elva_back       12.303370   493.918049   \n",
       "2021-10-20-15-11-29_e2e_rec_vastse_ss13_17_back  21.863141  1218.375069   \n",
       "2021-10-11-14-50-59_e2e_rec_vahi                  5.320528   154.413097   \n",
       "2021-10-14-13-08-51_e2e_rec_vahi_backwards        4.258355    66.492348   \n",
       "\n",
       "                                                  whiteness  \n",
       "track                                                        \n",
       "2021-05-28-15-19-48_e2e_sulaoja_20_30            144.790589  \n",
       "2021-06-07-14-20-07_e2e_rec_ss6                  153.403975  \n",
       "2021-06-07-14-06-31_e2e_rec_ss6                   72.248951  \n",
       "2021-06-07-14-09-18_e2e_rec_ss6                  600.955679  \n",
       "2021-06-07-14-36-16_e2e_rec_ss6                  125.611039  \n",
       "2021-09-24-14-03-45_e2e_rec_ss11_backwards       669.229726  \n",
       "2021-10-26-10-49-06_e2e_rec_ss20_elva            180.250312  \n",
       "2021-10-26-11-08-59_e2e_rec_ss20_elva_back       127.141438  \n",
       "2021-10-20-15-11-29_e2e_rec_vastse_ss13_17_back  404.921142  \n",
       "2021-10-11-14-50-59_e2e_rec_vahi                  54.658855  \n",
       "2021-10-14-13-08-51_e2e_rec_vahi_backwards        56.181929  "
      ]
     },
     "execution_count": 31,
     "metadata": {},
     "output_type": "execute_result"
    }
   ],
   "source": [
    "model2_df[filtered_columns]"
   ]
  },
  {
   "cell_type": "code",
   "execution_count": 32,
   "id": "5256c17a",
   "metadata": {},
   "outputs": [
    {
     "data": {
      "text/html": [
       "<div>\n",
       "<style scoped>\n",
       "    .dataframe tbody tr th:only-of-type {\n",
       "        vertical-align: middle;\n",
       "    }\n",
       "\n",
       "    .dataframe tbody tr th {\n",
       "        vertical-align: top;\n",
       "    }\n",
       "\n",
       "    .dataframe thead th {\n",
       "        text-align: right;\n",
       "    }\n",
       "</style>\n",
       "<table border=\"1\" class=\"dataframe\">\n",
       "  <thead>\n",
       "    <tr style=\"text-align: right;\">\n",
       "      <th></th>\n",
       "      <th>first_wp_mae</th>\n",
       "      <th>last_wp_mae</th>\n",
       "      <th>first_wp_max</th>\n",
       "      <th>last_wp_max</th>\n",
       "      <th>mae</th>\n",
       "      <th>max</th>\n",
       "      <th>whiteness</th>\n",
       "    </tr>\n",
       "    <tr>\n",
       "      <th>track</th>\n",
       "      <th></th>\n",
       "      <th></th>\n",
       "      <th></th>\n",
       "      <th></th>\n",
       "      <th></th>\n",
       "      <th></th>\n",
       "      <th></th>\n",
       "    </tr>\n",
       "  </thead>\n",
       "  <tbody>\n",
       "    <tr>\n",
       "      <th>2021-05-28-15-19-48_e2e_sulaoja_20_30</th>\n",
       "      <td>0.153905</td>\n",
       "      <td>1.318806</td>\n",
       "      <td>1.441440</td>\n",
       "      <td>36.120418</td>\n",
       "      <td>10.044284</td>\n",
       "      <td>340.081276</td>\n",
       "      <td>194.547825</td>\n",
       "    </tr>\n",
       "    <tr>\n",
       "      <th>2021-06-07-14-20-07_e2e_rec_ss6</th>\n",
       "      <td>0.165192</td>\n",
       "      <td>1.314375</td>\n",
       "      <td>1.515148</td>\n",
       "      <td>29.135115</td>\n",
       "      <td>11.502839</td>\n",
       "      <td>486.178150</td>\n",
       "      <td>171.596979</td>\n",
       "    </tr>\n",
       "    <tr>\n",
       "      <th>2021-06-07-14-06-31_e2e_rec_ss6</th>\n",
       "      <td>0.173082</td>\n",
       "      <td>1.037280</td>\n",
       "      <td>1.368381</td>\n",
       "      <td>8.086711</td>\n",
       "      <td>7.380554</td>\n",
       "      <td>80.269606</td>\n",
       "      <td>93.181832</td>\n",
       "    </tr>\n",
       "    <tr>\n",
       "      <th>2021-06-07-14-09-18_e2e_rec_ss6</th>\n",
       "      <td>0.180120</td>\n",
       "      <td>1.322317</td>\n",
       "      <td>1.029228</td>\n",
       "      <td>24.701138</td>\n",
       "      <td>22.785570</td>\n",
       "      <td>390.121590</td>\n",
       "      <td>201.121014</td>\n",
       "    </tr>\n",
       "    <tr>\n",
       "      <th>2021-06-07-14-36-16_e2e_rec_ss6</th>\n",
       "      <td>0.173535</td>\n",
       "      <td>1.433342</td>\n",
       "      <td>1.426725</td>\n",
       "      <td>26.692256</td>\n",
       "      <td>11.701302</td>\n",
       "      <td>555.164415</td>\n",
       "      <td>155.556863</td>\n",
       "    </tr>\n",
       "    <tr>\n",
       "      <th>2021-09-24-14-03-45_e2e_rec_ss11_backwards</th>\n",
       "      <td>0.150956</td>\n",
       "      <td>1.944299</td>\n",
       "      <td>1.707230</td>\n",
       "      <td>48.522125</td>\n",
       "      <td>11.772549</td>\n",
       "      <td>969.668111</td>\n",
       "      <td>562.529555</td>\n",
       "    </tr>\n",
       "    <tr>\n",
       "      <th>2021-10-26-10-49-06_e2e_rec_ss20_elva</th>\n",
       "      <td>0.144550</td>\n",
       "      <td>1.177218</td>\n",
       "      <td>1.092005</td>\n",
       "      <td>31.548068</td>\n",
       "      <td>12.499620</td>\n",
       "      <td>402.460950</td>\n",
       "      <td>135.353066</td>\n",
       "    </tr>\n",
       "    <tr>\n",
       "      <th>2021-10-26-11-08-59_e2e_rec_ss20_elva_back</th>\n",
       "      <td>0.143493</td>\n",
       "      <td>1.216548</td>\n",
       "      <td>1.028304</td>\n",
       "      <td>24.246443</td>\n",
       "      <td>13.087207</td>\n",
       "      <td>441.531984</td>\n",
       "      <td>149.246379</td>\n",
       "    </tr>\n",
       "    <tr>\n",
       "      <th>2021-10-20-15-11-29_e2e_rec_vastse_ss13_17_back</th>\n",
       "      <td>0.176727</td>\n",
       "      <td>2.517051</td>\n",
       "      <td>2.379976</td>\n",
       "      <td>47.136209</td>\n",
       "      <td>21.334927</td>\n",
       "      <td>504.659018</td>\n",
       "      <td>260.461332</td>\n",
       "    </tr>\n",
       "    <tr>\n",
       "      <th>2021-10-11-14-50-59_e2e_rec_vahi</th>\n",
       "      <td>0.120428</td>\n",
       "      <td>0.447176</td>\n",
       "      <td>0.744684</td>\n",
       "      <td>10.956809</td>\n",
       "      <td>5.191983</td>\n",
       "      <td>127.256307</td>\n",
       "      <td>75.200972</td>\n",
       "    </tr>\n",
       "    <tr>\n",
       "      <th>2021-10-14-13-08-51_e2e_rec_vahi_backwards</th>\n",
       "      <td>0.110037</td>\n",
       "      <td>0.391375</td>\n",
       "      <td>0.796107</td>\n",
       "      <td>8.807617</td>\n",
       "      <td>3.984433</td>\n",
       "      <td>100.380987</td>\n",
       "      <td>61.341728</td>\n",
       "    </tr>\n",
       "  </tbody>\n",
       "</table>\n",
       "</div>"
      ],
      "text/plain": [
       "                                                 first_wp_mae  last_wp_mae  \\\n",
       "track                                                                        \n",
       "2021-05-28-15-19-48_e2e_sulaoja_20_30                0.153905     1.318806   \n",
       "2021-06-07-14-20-07_e2e_rec_ss6                      0.165192     1.314375   \n",
       "2021-06-07-14-06-31_e2e_rec_ss6                      0.173082     1.037280   \n",
       "2021-06-07-14-09-18_e2e_rec_ss6                      0.180120     1.322317   \n",
       "2021-06-07-14-36-16_e2e_rec_ss6                      0.173535     1.433342   \n",
       "2021-09-24-14-03-45_e2e_rec_ss11_backwards           0.150956     1.944299   \n",
       "2021-10-26-10-49-06_e2e_rec_ss20_elva                0.144550     1.177218   \n",
       "2021-10-26-11-08-59_e2e_rec_ss20_elva_back           0.143493     1.216548   \n",
       "2021-10-20-15-11-29_e2e_rec_vastse_ss13_17_back      0.176727     2.517051   \n",
       "2021-10-11-14-50-59_e2e_rec_vahi                     0.120428     0.447176   \n",
       "2021-10-14-13-08-51_e2e_rec_vahi_backwards           0.110037     0.391375   \n",
       "\n",
       "                                                 first_wp_max  last_wp_max  \\\n",
       "track                                                                        \n",
       "2021-05-28-15-19-48_e2e_sulaoja_20_30                1.441440    36.120418   \n",
       "2021-06-07-14-20-07_e2e_rec_ss6                      1.515148    29.135115   \n",
       "2021-06-07-14-06-31_e2e_rec_ss6                      1.368381     8.086711   \n",
       "2021-06-07-14-09-18_e2e_rec_ss6                      1.029228    24.701138   \n",
       "2021-06-07-14-36-16_e2e_rec_ss6                      1.426725    26.692256   \n",
       "2021-09-24-14-03-45_e2e_rec_ss11_backwards           1.707230    48.522125   \n",
       "2021-10-26-10-49-06_e2e_rec_ss20_elva                1.092005    31.548068   \n",
       "2021-10-26-11-08-59_e2e_rec_ss20_elva_back           1.028304    24.246443   \n",
       "2021-10-20-15-11-29_e2e_rec_vastse_ss13_17_back      2.379976    47.136209   \n",
       "2021-10-11-14-50-59_e2e_rec_vahi                     0.744684    10.956809   \n",
       "2021-10-14-13-08-51_e2e_rec_vahi_backwards           0.796107     8.807617   \n",
       "\n",
       "                                                       mae         max  \\\n",
       "track                                                                    \n",
       "2021-05-28-15-19-48_e2e_sulaoja_20_30            10.044284  340.081276   \n",
       "2021-06-07-14-20-07_e2e_rec_ss6                  11.502839  486.178150   \n",
       "2021-06-07-14-06-31_e2e_rec_ss6                   7.380554   80.269606   \n",
       "2021-06-07-14-09-18_e2e_rec_ss6                  22.785570  390.121590   \n",
       "2021-06-07-14-36-16_e2e_rec_ss6                  11.701302  555.164415   \n",
       "2021-09-24-14-03-45_e2e_rec_ss11_backwards       11.772549  969.668111   \n",
       "2021-10-26-10-49-06_e2e_rec_ss20_elva            12.499620  402.460950   \n",
       "2021-10-26-11-08-59_e2e_rec_ss20_elva_back       13.087207  441.531984   \n",
       "2021-10-20-15-11-29_e2e_rec_vastse_ss13_17_back  21.334927  504.659018   \n",
       "2021-10-11-14-50-59_e2e_rec_vahi                  5.191983  127.256307   \n",
       "2021-10-14-13-08-51_e2e_rec_vahi_backwards        3.984433  100.380987   \n",
       "\n",
       "                                                  whiteness  \n",
       "track                                                        \n",
       "2021-05-28-15-19-48_e2e_sulaoja_20_30            194.547825  \n",
       "2021-06-07-14-20-07_e2e_rec_ss6                  171.596979  \n",
       "2021-06-07-14-06-31_e2e_rec_ss6                   93.181832  \n",
       "2021-06-07-14-09-18_e2e_rec_ss6                  201.121014  \n",
       "2021-06-07-14-36-16_e2e_rec_ss6                  155.556863  \n",
       "2021-09-24-14-03-45_e2e_rec_ss11_backwards       562.529555  \n",
       "2021-10-26-10-49-06_e2e_rec_ss20_elva            135.353066  \n",
       "2021-10-26-11-08-59_e2e_rec_ss20_elva_back       149.246379  \n",
       "2021-10-20-15-11-29_e2e_rec_vastse_ss13_17_back  260.461332  \n",
       "2021-10-11-14-50-59_e2e_rec_vahi                  75.200972  \n",
       "2021-10-14-13-08-51_e2e_rec_vahi_backwards        61.341728  "
      ]
     },
     "execution_count": 32,
     "metadata": {},
     "output_type": "execute_result"
    }
   ],
   "source": [
    "model4_df[filtered_columns]"
   ]
  },
  {
   "cell_type": "code",
   "execution_count": 33,
   "id": "e97e7094",
   "metadata": {},
   "outputs": [
    {
     "data": {
      "text/html": [
       "<div>\n",
       "<style scoped>\n",
       "    .dataframe tbody tr th:only-of-type {\n",
       "        vertical-align: middle;\n",
       "    }\n",
       "\n",
       "    .dataframe tbody tr th {\n",
       "        vertical-align: top;\n",
       "    }\n",
       "\n",
       "    .dataframe thead th {\n",
       "        text-align: right;\n",
       "    }\n",
       "</style>\n",
       "<table border=\"1\" class=\"dataframe\">\n",
       "  <thead>\n",
       "    <tr style=\"text-align: right;\">\n",
       "      <th></th>\n",
       "      <th>first_wp_mae</th>\n",
       "      <th>last_wp_mae</th>\n",
       "      <th>first_wp_max</th>\n",
       "      <th>last_wp_max</th>\n",
       "      <th>mae</th>\n",
       "      <th>max</th>\n",
       "      <th>whiteness</th>\n",
       "    </tr>\n",
       "    <tr>\n",
       "      <th>track</th>\n",
       "      <th></th>\n",
       "      <th></th>\n",
       "      <th></th>\n",
       "      <th></th>\n",
       "      <th></th>\n",
       "      <th></th>\n",
       "      <th></th>\n",
       "    </tr>\n",
       "  </thead>\n",
       "  <tbody>\n",
       "    <tr>\n",
       "      <th>2021-05-28-15-19-48_e2e_sulaoja_20_30</th>\n",
       "      <td>0.130915</td>\n",
       "      <td>1.480144</td>\n",
       "      <td>0.615003</td>\n",
       "      <td>30.441196</td>\n",
       "      <td>8.546072</td>\n",
       "      <td>344.484496</td>\n",
       "      <td>145.183563</td>\n",
       "    </tr>\n",
       "    <tr>\n",
       "      <th>2021-06-07-14-20-07_e2e_rec_ss6</th>\n",
       "      <td>0.129327</td>\n",
       "      <td>1.349577</td>\n",
       "      <td>1.392606</td>\n",
       "      <td>37.060567</td>\n",
       "      <td>9.230779</td>\n",
       "      <td>528.208364</td>\n",
       "      <td>159.966634</td>\n",
       "    </tr>\n",
       "    <tr>\n",
       "      <th>2021-06-07-14-06-31_e2e_rec_ss6</th>\n",
       "      <td>0.147250</td>\n",
       "      <td>1.171384</td>\n",
       "      <td>0.488749</td>\n",
       "      <td>10.223059</td>\n",
       "      <td>5.528237</td>\n",
       "      <td>31.304917</td>\n",
       "      <td>53.219805</td>\n",
       "    </tr>\n",
       "    <tr>\n",
       "      <th>2021-06-07-14-09-18_e2e_rec_ss6</th>\n",
       "      <td>0.169098</td>\n",
       "      <td>1.433573</td>\n",
       "      <td>1.494501</td>\n",
       "      <td>45.368546</td>\n",
       "      <td>29.438872</td>\n",
       "      <td>805.192242</td>\n",
       "      <td>660.767322</td>\n",
       "    </tr>\n",
       "    <tr>\n",
       "      <th>2021-06-07-14-36-16_e2e_rec_ss6</th>\n",
       "      <td>0.140140</td>\n",
       "      <td>1.392894</td>\n",
       "      <td>1.220489</td>\n",
       "      <td>36.683748</td>\n",
       "      <td>9.880869</td>\n",
       "      <td>478.318083</td>\n",
       "      <td>120.389665</td>\n",
       "    </tr>\n",
       "    <tr>\n",
       "      <th>2021-09-24-14-03-45_e2e_rec_ss11_backwards</th>\n",
       "      <td>0.134763</td>\n",
       "      <td>2.042557</td>\n",
       "      <td>1.753389</td>\n",
       "      <td>54.990362</td>\n",
       "      <td>12.154145</td>\n",
       "      <td>719.807905</td>\n",
       "      <td>296.946198</td>\n",
       "    </tr>\n",
       "    <tr>\n",
       "      <th>2021-10-26-10-49-06_e2e_rec_ss20_elva</th>\n",
       "      <td>0.102372</td>\n",
       "      <td>1.279983</td>\n",
       "      <td>0.887515</td>\n",
       "      <td>39.951098</td>\n",
       "      <td>10.009195</td>\n",
       "      <td>398.193933</td>\n",
       "      <td>93.246364</td>\n",
       "    </tr>\n",
       "    <tr>\n",
       "      <th>2021-10-26-11-08-59_e2e_rec_ss20_elva_back</th>\n",
       "      <td>0.099306</td>\n",
       "      <td>1.261567</td>\n",
       "      <td>1.205707</td>\n",
       "      <td>27.668838</td>\n",
       "      <td>10.086313</td>\n",
       "      <td>513.043702</td>\n",
       "      <td>152.957557</td>\n",
       "    </tr>\n",
       "    <tr>\n",
       "      <th>2021-10-20-15-11-29_e2e_rec_vastse_ss13_17_back</th>\n",
       "      <td>0.120833</td>\n",
       "      <td>2.760370</td>\n",
       "      <td>2.297002</td>\n",
       "      <td>40.120010</td>\n",
       "      <td>18.818850</td>\n",
       "      <td>384.211417</td>\n",
       "      <td>214.111711</td>\n",
       "    </tr>\n",
       "    <tr>\n",
       "      <th>2021-10-11-14-50-59_e2e_rec_vahi</th>\n",
       "      <td>0.092173</td>\n",
       "      <td>0.466547</td>\n",
       "      <td>0.359210</td>\n",
       "      <td>12.142363</td>\n",
       "      <td>3.916852</td>\n",
       "      <td>147.534664</td>\n",
       "      <td>37.346115</td>\n",
       "    </tr>\n",
       "    <tr>\n",
       "      <th>2021-10-14-13-08-51_e2e_rec_vahi_backwards</th>\n",
       "      <td>0.097029</td>\n",
       "      <td>0.432189</td>\n",
       "      <td>0.332647</td>\n",
       "      <td>11.162699</td>\n",
       "      <td>3.051115</td>\n",
       "      <td>79.127410</td>\n",
       "      <td>43.213461</td>\n",
       "    </tr>\n",
       "  </tbody>\n",
       "</table>\n",
       "</div>"
      ],
      "text/plain": [
       "                                                 first_wp_mae  last_wp_mae  \\\n",
       "track                                                                        \n",
       "2021-05-28-15-19-48_e2e_sulaoja_20_30                0.130915     1.480144   \n",
       "2021-06-07-14-20-07_e2e_rec_ss6                      0.129327     1.349577   \n",
       "2021-06-07-14-06-31_e2e_rec_ss6                      0.147250     1.171384   \n",
       "2021-06-07-14-09-18_e2e_rec_ss6                      0.169098     1.433573   \n",
       "2021-06-07-14-36-16_e2e_rec_ss6                      0.140140     1.392894   \n",
       "2021-09-24-14-03-45_e2e_rec_ss11_backwards           0.134763     2.042557   \n",
       "2021-10-26-10-49-06_e2e_rec_ss20_elva                0.102372     1.279983   \n",
       "2021-10-26-11-08-59_e2e_rec_ss20_elva_back           0.099306     1.261567   \n",
       "2021-10-20-15-11-29_e2e_rec_vastse_ss13_17_back      0.120833     2.760370   \n",
       "2021-10-11-14-50-59_e2e_rec_vahi                     0.092173     0.466547   \n",
       "2021-10-14-13-08-51_e2e_rec_vahi_backwards           0.097029     0.432189   \n",
       "\n",
       "                                                 first_wp_max  last_wp_max  \\\n",
       "track                                                                        \n",
       "2021-05-28-15-19-48_e2e_sulaoja_20_30                0.615003    30.441196   \n",
       "2021-06-07-14-20-07_e2e_rec_ss6                      1.392606    37.060567   \n",
       "2021-06-07-14-06-31_e2e_rec_ss6                      0.488749    10.223059   \n",
       "2021-06-07-14-09-18_e2e_rec_ss6                      1.494501    45.368546   \n",
       "2021-06-07-14-36-16_e2e_rec_ss6                      1.220489    36.683748   \n",
       "2021-09-24-14-03-45_e2e_rec_ss11_backwards           1.753389    54.990362   \n",
       "2021-10-26-10-49-06_e2e_rec_ss20_elva                0.887515    39.951098   \n",
       "2021-10-26-11-08-59_e2e_rec_ss20_elva_back           1.205707    27.668838   \n",
       "2021-10-20-15-11-29_e2e_rec_vastse_ss13_17_back      2.297002    40.120010   \n",
       "2021-10-11-14-50-59_e2e_rec_vahi                     0.359210    12.142363   \n",
       "2021-10-14-13-08-51_e2e_rec_vahi_backwards           0.332647    11.162699   \n",
       "\n",
       "                                                       mae         max  \\\n",
       "track                                                                    \n",
       "2021-05-28-15-19-48_e2e_sulaoja_20_30             8.546072  344.484496   \n",
       "2021-06-07-14-20-07_e2e_rec_ss6                   9.230779  528.208364   \n",
       "2021-06-07-14-06-31_e2e_rec_ss6                   5.528237   31.304917   \n",
       "2021-06-07-14-09-18_e2e_rec_ss6                  29.438872  805.192242   \n",
       "2021-06-07-14-36-16_e2e_rec_ss6                   9.880869  478.318083   \n",
       "2021-09-24-14-03-45_e2e_rec_ss11_backwards       12.154145  719.807905   \n",
       "2021-10-26-10-49-06_e2e_rec_ss20_elva            10.009195  398.193933   \n",
       "2021-10-26-11-08-59_e2e_rec_ss20_elva_back       10.086313  513.043702   \n",
       "2021-10-20-15-11-29_e2e_rec_vastse_ss13_17_back  18.818850  384.211417   \n",
       "2021-10-11-14-50-59_e2e_rec_vahi                  3.916852  147.534664   \n",
       "2021-10-14-13-08-51_e2e_rec_vahi_backwards        3.051115   79.127410   \n",
       "\n",
       "                                                  whiteness  \n",
       "track                                                        \n",
       "2021-05-28-15-19-48_e2e_sulaoja_20_30            145.183563  \n",
       "2021-06-07-14-20-07_e2e_rec_ss6                  159.966634  \n",
       "2021-06-07-14-06-31_e2e_rec_ss6                   53.219805  \n",
       "2021-06-07-14-09-18_e2e_rec_ss6                  660.767322  \n",
       "2021-06-07-14-36-16_e2e_rec_ss6                  120.389665  \n",
       "2021-09-24-14-03-45_e2e_rec_ss11_backwards       296.946198  \n",
       "2021-10-26-10-49-06_e2e_rec_ss20_elva             93.246364  \n",
       "2021-10-26-11-08-59_e2e_rec_ss20_elva_back       152.957557  \n",
       "2021-10-20-15-11-29_e2e_rec_vastse_ss13_17_back  214.111711  \n",
       "2021-10-11-14-50-59_e2e_rec_vahi                  37.346115  \n",
       "2021-10-14-13-08-51_e2e_rec_vahi_backwards        43.213461  "
      ]
     },
     "execution_count": 33,
     "metadata": {},
     "output_type": "execute_result"
    }
   ],
   "source": [
    "model5_df[filtered_columns]"
   ]
  },
  {
   "cell_type": "code",
   "execution_count": null,
   "id": "03a125b9",
   "metadata": {},
   "outputs": [],
   "source": []
  },
  {
   "cell_type": "code",
   "execution_count": null,
   "id": "af3df416",
   "metadata": {},
   "outputs": [],
   "source": []
  },
  {
   "cell_type": "code",
   "execution_count": null,
   "id": "d8792710",
   "metadata": {},
   "outputs": [],
   "source": []
  },
  {
   "cell_type": "code",
   "execution_count": null,
   "id": "68d2c03a",
   "metadata": {},
   "outputs": [],
   "source": []
  },
  {
   "cell_type": "code",
   "execution_count": null,
   "id": "74fe83e8",
   "metadata": {},
   "outputs": [],
   "source": [
    "control_model = create_model_control('20220405185427_waypoints10-control', n_outputs=20)\n",
    "control_trainer = ControlTrainer()\n",
    "control_df = calculate_tracks_metrics(control_model, control_trainer, tracks, n_branches=3, n_waypoints=10)"
   ]
  },
  {
   "cell_type": "code",
   "execution_count": null,
   "id": "ebe84698",
   "metadata": {},
   "outputs": [],
   "source": [
    "filtered_columns = [\"first_wp_mae\", \"last_wp_mae\", \"first_wp_max\", \"last_wp_max\"]\n",
    "sum_df = pd.concat([cond_df[filtered_columns], control_df[filtered_columns]], axis=1)\n",
    "sum_df.columns = [\"m1_1_mae\", \"m1_last_mae\", \"m1_1_max\", \"m1_last_max\", \n",
    "                  \"m2_1_mae\", \"m2_last_mae\", \"m2_1_max\", \"m2_last_max\"]\n",
    "sum_df.sort_values(by=['m1_last_mae'], ascending=False)"
   ]
  },
  {
   "cell_type": "code",
   "execution_count": null,
   "id": "b0a7a39e",
   "metadata": {},
   "outputs": [],
   "source": []
  },
  {
   "cell_type": "code",
   "execution_count": null,
   "id": "c06b91e6",
   "metadata": {},
   "outputs": [],
   "source": []
  },
  {
   "cell_type": "code",
   "execution_count": 34,
   "id": "1c57adf1",
   "metadata": {},
   "outputs": [],
   "source": [
    "dataset_name = \"2021-09-24-14-03-45_e2e_rec_ss11_backwards\""
   ]
  },
  {
   "cell_type": "code",
   "execution_count": 35,
   "id": "fac3baf2",
   "metadata": {
    "scrolled": false
   },
   "outputs": [
    {
     "name": "stdout",
     "output_type": "stream",
     "text": [
      "/home/romet/data2/datasets/rally-estonia/dataset-new-small/summer2021/2021-09-24-14-03-45_e2e_rec_ss11_backwards: lenght=25007, filtered=165\n"
     ]
    },
    {
     "data": {
      "application/vnd.jupyter.widget-view+json": {
       "model_id": "b5d81925d8de465b8591d04aac988220",
       "version_major": 2,
       "version_minor": 0
      },
      "text/plain": [
       "  0%|          | 0/782 [00:00<?, ?it/s]"
      ]
     },
     "metadata": {},
     "output_type": "display_data"
    },
    {
     "data": {
      "application/vnd.jupyter.widget-view+json": {
       "model_id": "32b2b3dc5fa4445ba6db0423bc8addb7",
       "version_major": 2,
       "version_minor": 0
      },
      "text/plain": [
       "  0%|          | 0/25007 [00:00<?, ?it/s]"
      ]
     },
     "metadata": {},
     "output_type": "display_data"
    },
    {
     "data": {
      "image/png": "[encoded data removed]",
      "text/plain": [
       "<Figure size 3600x1800 with 6 Axes>"
      ]
     },
     "metadata": {
      "needs_background": "light"
     },
     "output_type": "display_data"
    }
   ],
   "source": [
    "conditional_model = create_model_conditional('20220525165113_waypoints-center-cam', n_branches=3, n_outputs=20)\n",
    "conditional_trainer = ConditionalTrainer()\n",
    "create_waypoint_error_plot(conditional_model, conditional_trainer, dataset_name, n_waypoints=10)"
   ]
  },
  {
   "cell_type": "code",
   "execution_count": null,
   "id": "3c4c330d",
   "metadata": {},
   "outputs": [],
   "source": []
  },
  {
   "cell_type": "code",
   "execution_count": null,
   "id": "9759e537",
   "metadata": {},
   "outputs": [],
   "source": [
    "create_waypoint_error_plot(control_model, control_trainer, dataset_name, n_waypoints=10)"
   ]
  },
  {
   "cell_type": "code",
   "execution_count": null,
   "id": "bc6b6d0b",
   "metadata": {},
   "outputs": [],
   "source": [
    "control_model2 = create_model_control('20220407233614_control-10-w', n_outputs=20)\n",
    "create_waypoint_error_plot(control_model2, control_trainer, dataset_name, n_waypoints=10)"
   ]
  },
  {
   "cell_type": "code",
   "execution_count": null,
   "id": "b7683c49",
   "metadata": {},
   "outputs": [],
   "source": []
  },
  {
   "cell_type": "code",
   "execution_count": null,
   "id": "c2071495",
   "metadata": {},
   "outputs": [],
   "source": []
  },
  {
   "cell_type": "code",
   "execution_count": null,
   "id": "b32fbcf3",
   "metadata": {},
   "outputs": [],
   "source": []
  },
  {
   "cell_type": "code",
   "execution_count": null,
   "id": "f5f91034",
   "metadata": {},
   "outputs": [],
   "source": []
  },
  {
   "cell_type": "code",
   "execution_count": null,
   "id": "53126aed",
   "metadata": {},
   "outputs": [],
   "source": []
  }
 ],
 "metadata": {
  "kernelspec": {
   "display_name": "Python 3 (ipykernel)",
   "language": "python",
   "name": "python3"
  },
  "language_info": {
   "codemirror_mode": {
    "name": "ipython",
    "version": 3
   },
   "file_extension": ".py",
   "mimetype": "text/x-python",
   "name": "python",
   "nbconvert_exporter": "python",
   "pygments_lexer": "ipython3",
   "version": "3.9.7"
  }
 },
 "nbformat": 4,
 "nbformat_minor": 5
}
