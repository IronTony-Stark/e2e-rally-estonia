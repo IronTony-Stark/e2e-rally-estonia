{
 "cells": [
  {
   "cell_type": "code",
   "execution_count": 1,
   "id": "ed032c44",
   "metadata": {},
   "outputs": [
    {
     "name": "stdout",
     "output_type": "stream",
     "text": [
      "/home/romet/projects/ut/e2e-rally-estonia\n"
     ]
    }
   ],
   "source": [
    "%cd .."
   ]
  },
  {
   "cell_type": "code",
   "execution_count": 2,
   "id": "3dc29933",
   "metadata": {},
   "outputs": [],
   "source": [
    "import numpy as np\n",
    "import pandas as pd\n",
    "import matplotlib.pyplot as plt\n",
    "from pathlib import Path\n",
    "from tqdm.auto import tqdm\n",
    "\n",
    "import torch\n",
    "import torch.nn as nn\n",
    "import torchvision\n",
    "\n",
    "from dataloading.nvidia import NvidiaDataset, NvidiaValidationDataset, Normalize\n",
    "from pilotnet import PilotnetControl, PilotNetConditional\n",
    "from metrics.metrics import calculate_open_loop_metrics\n",
    "from viz.analytics import create_waypoint_error_plot\n",
    "\n",
    "from metrics.metrics import calculate_closed_loop_metrics, calculate_trajectory_open_loop_metrics, calculate_open_loop_metrics, read_frames_driving, read_frames_expert\n",
    "from trajectory import calculate_steering_angle\n",
    "import math\n",
    "\n",
    "from trainer import ControlTrainer, ConditionalTrainer\n",
    "from torchvision import transforms\n",
    "\n",
    "from camera_frame import CameraFrameTransformer\n",
    "\n",
    "\n",
    "%load_ext autoreload \n",
    "%autoreload 2\n",
    "\n",
    "import warnings\n",
    "warnings.filterwarnings('ignore')"
   ]
  },
  {
   "cell_type": "code",
   "execution_count": 3,
   "id": "58e37909",
   "metadata": {},
   "outputs": [],
   "source": [
    "def load_dataset(paths):\n",
    "        return NvidiaDataset(paths,\n",
    "                             transform=tr,\n",
    "                             output_modality=\"steering_angle\", \n",
    "                             metadata_file=\"nvidia_frames.csv\")"
   ]
  },
  {
   "cell_type": "code",
   "execution_count": 4,
   "id": "f456b07e",
   "metadata": {},
   "outputs": [],
   "source": [
    "def load_model(model_name, n_outputs=1, remove_first_bn=False):\n",
    "    model = PilotNetConditional(n_branches=3, n_outputs=n_outputs)\n",
    "    if remove_first_bn:\n",
    "        model.features = nn.Sequential(*[mod for mod in model.features[1:]])\n",
    "    model.load_state_dict(torch.load(f\"models/{model_name}/best.pt\"))\n",
    "    device = torch.device('cuda' if torch.cuda.is_available() else 'cpu')\n",
    "    model.to(device)\n",
    "    model.eval()\n",
    "    return model"
   ]
  },
  {
   "cell_type": "code",
   "execution_count": 5,
   "id": "e7cc1a32",
   "metadata": {},
   "outputs": [],
   "source": [
    "from trainer import ConditionalTrainer\n",
    "\n",
    "\n",
    "def calculate_metrics(steering_predictions, frames_df):\n",
    "    true_steering_angles = frames_df.steering_angle.to_numpy()\n",
    "    fps=30\n",
    "    metrics = calculate_open_loop_metrics(steering_predictions, true_steering_angles, fps=fps)\n",
    "    \n",
    "    left_turns = frames_df[\"turn_signal\"] == 2\n",
    "    left_metrics = calculate_open_loop_metrics(steering_predictions[left_turns], true_steering_angles[left_turns], fps=fps)\n",
    "    metrics[\"left_mae\"] = left_metrics[\"mae\"]\n",
    "\n",
    "    straight = frames_df[\"turn_signal\"] == 1\n",
    "    straight_metrics = calculate_open_loop_metrics(steering_predictions[straight], true_steering_angles[straight], fps=fps)\n",
    "    metrics[\"straight_mae\"] = straight_metrics[\"mae\"]\n",
    "\n",
    "    right_turns = frames_df[\"turn_signal\"] == 0\n",
    "    right_metrics = calculate_open_loop_metrics(steering_predictions[right_turns], true_steering_angles[right_turns], fps=fps)\n",
    "    metrics[\"right_mae\"] = right_metrics[\"mae\"]\n",
    "    return metrics\n",
    "\n",
    "\n",
    "def calculate_steering_metrics(model, dataset):\n",
    "    dataloader = torch.utils.data.DataLoader(dataset, batch_size=64, shuffle=False, num_workers=16, pin_memory=True,\n",
    "                            persistent_workers=True)\n",
    "\n",
    "    trainer = ConditionalTrainer(n_conditional_branches=3)\n",
    "    steering_predictions = trainer.predict(model, dataloader)\n",
    "    return calculate_metrics(steering_predictions, dataloader.dataset.frames)\n",
    "\n",
    "def waypoints_to_steering_angle(predictions):\n",
    "    pred_steering_angles = []\n",
    "    wp_progress_bar = tqdm(total=len(predictions), smoothing=0)\n",
    "    wp_progress_bar.set_description(\"Calculating steering angles\")\n",
    "\n",
    "    transformer = CameraFrameTransformer()\n",
    "\n",
    "    for wp in predictions:\n",
    "        wp_baselink = transformer.transform_waypoints(wp, \"interfacea_link2\")\n",
    "        pred_steering_angles.append(calculate_steering_angle(wp_baselink))\n",
    "        wp_progress_bar.update(1)\n",
    "    return np.array(pred_steering_angles)\n",
    "\n",
    "def calculate_wp_metrics(model, dataset):\n",
    "    dataloader = torch.utils.data.DataLoader(dataset, batch_size=64, shuffle=False, num_workers=16, pin_memory=True,\n",
    "                            persistent_workers=True)\n",
    "\n",
    "    trainer = ConditionalTrainer(n_conditional_branches=3)\n",
    "    wp_predictions = trainer.predict(model, dataloader)\n",
    "    steering_predictions = waypoints_to_steering_angle(wp_predictions)\n",
    "    true_steering_angles = dataloader.dataset.frames.steering_angle.to_numpy()\n",
    "    return calculate_metrics(steering_predictions, dataloader.dataset.frames)"
   ]
  },
  {
   "cell_type": "code",
   "execution_count": 6,
   "id": "dafae387",
   "metadata": {},
   "outputs": [
    {
     "name": "stdout",
     "output_type": "stream",
     "text": [
      "/home/romet/data2/datasets/rally-estonia/dataset-new-small/summer2021/2021-06-07-14-20-07_e2e_rec_ss6: lenght=25833, filtered=4\n",
      "/home/romet/data2/datasets/rally-estonia/dataset-new-small/summer2021/2021-06-07-14-06-31_e2e_rec_ss6: lenght=3002, filtered=1\n",
      "/home/romet/data2/datasets/rally-estonia/dataset-new-small/summer2021/2021-06-07-14-09-18_e2e_rec_ss6: lenght=4550, filtered=2\n",
      "/home/romet/data2/datasets/rally-estonia/dataset-new-small/summer2021/2021-06-07-14-36-16_e2e_rec_ss6: lenght=25351, filtered=18\n",
      "/home/romet/data2/datasets/rally-estonia/dataset-new-small/summer2021/2021-10-26-10-49-06_e2e_rec_ss20_elva: lenght=33034, filtered=11\n",
      "/home/romet/data2/datasets/rally-estonia/dataset-new-small/summer2021/2021-10-26-11-08-59_e2e_rec_ss20_elva_back: lenght=33278, filtered=3\n"
     ]
    },
    {
     "data": {
      "application/vnd.jupyter.widget-view+json": {
       "model_id": "6e2bb8b92b8746e09b9eb35703ce0ba8",
       "version_major": 2,
       "version_minor": 0
      },
      "text/plain": [
       "  0%|          | 0/1954 [00:00<?, ?it/s]"
      ]
     },
     "metadata": {},
     "output_type": "display_data"
    },
    {
     "data": {
      "application/vnd.jupyter.widget-view+json": {
       "model_id": "d465e8eef1f84a859ab486243e5351f3",
       "version_major": 2,
       "version_minor": 0
      },
      "text/plain": [
       "  0%|          | 0/1954 [00:00<?, ?it/s]"
      ]
     },
     "metadata": {},
     "output_type": "display_data"
    },
    {
     "data": {
      "application/vnd.jupyter.widget-view+json": {
       "model_id": "b5993b407b814302bd733d4c6cfb5f84",
       "version_major": 2,
       "version_minor": 0
      },
      "text/plain": [
       "  0%|          | 0/1954 [00:00<?, ?it/s]"
      ]
     },
     "metadata": {},
     "output_type": "display_data"
    },
    {
     "data": {
      "text/html": [
       "<div>\n",
       "<style scoped>\n",
       "    .dataframe tbody tr th:only-of-type {\n",
       "        vertical-align: middle;\n",
       "    }\n",
       "\n",
       "    .dataframe tbody tr th {\n",
       "        vertical-align: top;\n",
       "    }\n",
       "\n",
       "    .dataframe thead th {\n",
       "        text-align: right;\n",
       "    }\n",
       "</style>\n",
       "<table border=\"1\" class=\"dataframe\">\n",
       "  <thead>\n",
       "    <tr style=\"text-align: right;\">\n",
       "      <th></th>\n",
       "      <th>mae</th>\n",
       "      <th>rmse</th>\n",
       "      <th>max</th>\n",
       "      <th>quantile95</th>\n",
       "      <th>quantile99</th>\n",
       "      <th>whiteness</th>\n",
       "      <th>expert_whiteness</th>\n",
       "      <th>left_mae</th>\n",
       "      <th>straight_mae</th>\n",
       "      <th>right_mae</th>\n",
       "    </tr>\n",
       "  </thead>\n",
       "  <tbody>\n",
       "    <tr>\n",
       "      <th>Steering 1</th>\n",
       "      <td>7.695730</td>\n",
       "      <td>19.990115</td>\n",
       "      <td>387.792314</td>\n",
       "      <td>20.471656</td>\n",
       "      <td>74.061729</td>\n",
       "      <td>76.621284</td>\n",
       "      <td>24.682909</td>\n",
       "      <td>57.263860</td>\n",
       "      <td>5.772461</td>\n",
       "      <td>21.349283</td>\n",
       "    </tr>\n",
       "    <tr>\n",
       "      <th>Steering 2</th>\n",
       "      <td>7.257263</td>\n",
       "      <td>18.977927</td>\n",
       "      <td>369.189614</td>\n",
       "      <td>19.791030</td>\n",
       "      <td>72.003188</td>\n",
       "      <td>78.532692</td>\n",
       "      <td>24.682909</td>\n",
       "      <td>51.559928</td>\n",
       "      <td>5.478415</td>\n",
       "      <td>22.162610</td>\n",
       "    </tr>\n",
       "    <tr>\n",
       "      <th>Steering overfit</th>\n",
       "      <td>6.563537</td>\n",
       "      <td>15.081966</td>\n",
       "      <td>332.122459</td>\n",
       "      <td>18.269320</td>\n",
       "      <td>56.439640</td>\n",
       "      <td>63.799831</td>\n",
       "      <td>24.682909</td>\n",
       "      <td>39.387768</td>\n",
       "      <td>5.183029</td>\n",
       "      <td>20.429373</td>\n",
       "    </tr>\n",
       "  </tbody>\n",
       "</table>\n",
       "</div>"
      ],
      "text/plain": [
       "                       mae       rmse         max  quantile95  quantile99  \\\n",
       "Steering 1        7.695730  19.990115  387.792314   20.471656   74.061729   \n",
       "Steering 2        7.257263  18.977927  369.189614   19.791030   72.003188   \n",
       "Steering overfit  6.563537  15.081966  332.122459   18.269320   56.439640   \n",
       "\n",
       "                  whiteness  expert_whiteness   left_mae  straight_mae  \\\n",
       "Steering 1        76.621284         24.682909  57.263860      5.772461   \n",
       "Steering 2        78.532692         24.682909  51.559928      5.478415   \n",
       "Steering overfit  63.799831         24.682909  39.387768      5.183029   \n",
       "\n",
       "                  right_mae  \n",
       "Steering 1        21.349283  \n",
       "Steering 2        22.162610  \n",
       "Steering overfit  20.429373  "
      ]
     },
     "execution_count": 6,
     "metadata": {},
     "output_type": "execute_result"
    }
   ],
   "source": [
    "tr = transforms.Compose([Normalize()])\n",
    "dataset_path = Path(\"/home/romet/data2/datasets/rally-estonia/dataset-new-small/summer2021\")\n",
    "elva_dataset = NvidiaDataset([\n",
    "    dataset_path / \"2021-06-07-14-20-07_e2e_rec_ss6\",\n",
    "    dataset_path / \"2021-06-07-14-06-31_e2e_rec_ss6\",\n",
    "    dataset_path / \"2021-06-07-14-09-18_e2e_rec_ss6\",\n",
    "    dataset_path / \"2021-06-07-14-36-16_e2e_rec_ss6\",\n",
    "    dataset_path / \"2021-10-26-10-49-06_e2e_rec_ss20_elva\",\n",
    "    dataset_path / \"2021-10-26-11-08-59_e2e_rec_ss20_elva_back\"\n",
    "], n_branches=3, metadata_file=\"nvidia_frames_ext.csv\")\n",
    "\n",
    "steering_1_model = load_model(\"20220627193827_steering-conditional-pre\", remove_first_bn=True)\n",
    "steering_1_metrics = calculate_steering_metrics(steering_1_model, elva_dataset)\n",
    "\n",
    "steering_2_model = load_model(\"20220628234819_steering-conditional-pre-2\")\n",
    "steering_2_metrics = calculate_steering_metrics(steering_2_model, elva_dataset)\n",
    "\n",
    "steering_overfit_model = load_model(\"20220629083303_steering-conditional-pre-overfit\")\n",
    "steering_overfit_metrics = calculate_steering_metrics(steering_overfit_model, elva_dataset)\n",
    "\n",
    "#metrics_df = pd.DataFrame.from_dict(steering_1_metrics, index=\"Steering 1\")\n",
    "metrics_df = pd.DataFrame(steering_1_metrics, index=[\"Steering 1\"])\n",
    "metrics_df = metrics_df.append(pd.DataFrame(data=steering_2_metrics, index=[\"Steering 2\"]))\n",
    "metrics_df = metrics_df.append(pd.DataFrame(data=steering_overfit_metrics, index=[\"Steering overfit\"]))\n",
    "metrics_df"
   ]
  },
  {
   "cell_type": "code",
   "execution_count": 7,
   "id": "d23862ea",
   "metadata": {},
   "outputs": [
    {
     "name": "stdout",
     "output_type": "stream",
     "text": [
      "/home/romet/data2/datasets/rally-estonia/dataset-new-small/summer2021/2021-06-07-14-20-07_e2e_rec_ss6: lenght=25710, filtered=127\n",
      "/home/romet/data2/datasets/rally-estonia/dataset-new-small/summer2021/2021-06-07-14-06-31_e2e_rec_ss6: lenght=2802, filtered=201\n",
      "/home/romet/data2/datasets/rally-estonia/dataset-new-small/summer2021/2021-06-07-14-09-18_e2e_rec_ss6: lenght=4474, filtered=78\n",
      "/home/romet/data2/datasets/rally-estonia/dataset-new-small/summer2021/2021-06-07-14-36-16_e2e_rec_ss6: lenght=25255, filtered=114\n",
      "/home/romet/data2/datasets/rally-estonia/dataset-new-small/summer2021/2021-10-26-10-49-06_e2e_rec_ss20_elva: lenght=32738, filtered=307\n",
      "/home/romet/data2/datasets/rally-estonia/dataset-new-small/summer2021/2021-10-26-11-08-59_e2e_rec_ss20_elva_back: lenght=33000, filtered=281\n"
     ]
    },
    {
     "data": {
      "application/vnd.jupyter.widget-view+json": {
       "model_id": "83f77e3296154d92bf350c4128427ad3",
       "version_major": 2,
       "version_minor": 0
      },
      "text/plain": [
       "  0%|          | 0/1938 [00:00<?, ?it/s]"
      ]
     },
     "metadata": {},
     "output_type": "display_data"
    },
    {
     "data": {
      "application/vnd.jupyter.widget-view+json": {
       "model_id": "b184f6cab36c49aea332ce4cd954cd30",
       "version_major": 2,
       "version_minor": 0
      },
      "text/plain": [
       "  0%|          | 0/123979 [00:00<?, ?it/s]"
      ]
     },
     "metadata": {},
     "output_type": "display_data"
    },
    {
     "data": {
      "application/vnd.jupyter.widget-view+json": {
       "model_id": "0f84642f6440488191e6d1efbdb751cc",
       "version_major": 2,
       "version_minor": 0
      },
      "text/plain": [
       "  0%|          | 0/1938 [00:00<?, ?it/s]"
      ]
     },
     "metadata": {},
     "output_type": "display_data"
    },
    {
     "data": {
      "application/vnd.jupyter.widget-view+json": {
       "model_id": "e6699ce8688448bc9882e64f8dc8e817",
       "version_major": 2,
       "version_minor": 0
      },
      "text/plain": [
       "  0%|          | 0/123979 [00:00<?, ?it/s]"
      ]
     },
     "metadata": {},
     "output_type": "display_data"
    },
    {
     "data": {
      "application/vnd.jupyter.widget-view+json": {
       "model_id": "28571cf5c52749eeb0cbb950ef6bfa61",
       "version_major": 2,
       "version_minor": 0
      },
      "text/plain": [
       "  0%|          | 0/1938 [00:00<?, ?it/s]"
      ]
     },
     "metadata": {},
     "output_type": "display_data"
    },
    {
     "data": {
      "application/vnd.jupyter.widget-view+json": {
       "model_id": "cf3a8706739c49aeaafa8ee9b59d6d01",
       "version_major": 2,
       "version_minor": 0
      },
      "text/plain": [
       "  0%|          | 0/123979 [00:00<?, ?it/s]"
      ]
     },
     "metadata": {},
     "output_type": "display_data"
    },
    {
     "data": {
      "text/html": [
       "<div>\n",
       "<style scoped>\n",
       "    .dataframe tbody tr th:only-of-type {\n",
       "        vertical-align: middle;\n",
       "    }\n",
       "\n",
       "    .dataframe tbody tr th {\n",
       "        vertical-align: top;\n",
       "    }\n",
       "\n",
       "    .dataframe thead th {\n",
       "        text-align: right;\n",
       "    }\n",
       "</style>\n",
       "<table border=\"1\" class=\"dataframe\">\n",
       "  <thead>\n",
       "    <tr style=\"text-align: right;\">\n",
       "      <th></th>\n",
       "      <th>mae</th>\n",
       "      <th>rmse</th>\n",
       "      <th>max</th>\n",
       "      <th>quantile95</th>\n",
       "      <th>quantile99</th>\n",
       "      <th>whiteness</th>\n",
       "      <th>expert_whiteness</th>\n",
       "      <th>left_mae</th>\n",
       "      <th>straight_mae</th>\n",
       "      <th>right_mae</th>\n",
       "    </tr>\n",
       "  </thead>\n",
       "  <tbody>\n",
       "    <tr>\n",
       "      <th>Steering 1</th>\n",
       "      <td>7.695730</td>\n",
       "      <td>19.990115</td>\n",
       "      <td>387.792314</td>\n",
       "      <td>20.471656</td>\n",
       "      <td>74.061729</td>\n",
       "      <td>76.621284</td>\n",
       "      <td>24.682909</td>\n",
       "      <td>57.263860</td>\n",
       "      <td>5.772461</td>\n",
       "      <td>21.349283</td>\n",
       "    </tr>\n",
       "    <tr>\n",
       "      <th>Steering 2</th>\n",
       "      <td>7.257263</td>\n",
       "      <td>18.977927</td>\n",
       "      <td>369.189614</td>\n",
       "      <td>19.791030</td>\n",
       "      <td>72.003188</td>\n",
       "      <td>78.532692</td>\n",
       "      <td>24.682909</td>\n",
       "      <td>51.559928</td>\n",
       "      <td>5.478415</td>\n",
       "      <td>22.162610</td>\n",
       "    </tr>\n",
       "    <tr>\n",
       "      <th>Steering overfit</th>\n",
       "      <td>6.563537</td>\n",
       "      <td>15.081966</td>\n",
       "      <td>332.122459</td>\n",
       "      <td>18.269320</td>\n",
       "      <td>56.439640</td>\n",
       "      <td>63.799831</td>\n",
       "      <td>24.682909</td>\n",
       "      <td>39.387768</td>\n",
       "      <td>5.183029</td>\n",
       "      <td>20.429373</td>\n",
       "    </tr>\n",
       "    <tr>\n",
       "      <th>Waypoints 1</th>\n",
       "      <td>10.821430</td>\n",
       "      <td>29.887013</td>\n",
       "      <td>664.220807</td>\n",
       "      <td>29.877127</td>\n",
       "      <td>101.028976</td>\n",
       "      <td>150.251544</td>\n",
       "      <td>25.003687</td>\n",
       "      <td>88.808497</td>\n",
       "      <td>7.399839</td>\n",
       "      <td>48.764697</td>\n",
       "    </tr>\n",
       "    <tr>\n",
       "      <th>Waypoints 2</th>\n",
       "      <td>12.012721</td>\n",
       "      <td>28.627826</td>\n",
       "      <td>563.243421</td>\n",
       "      <td>31.880978</td>\n",
       "      <td>108.979264</td>\n",
       "      <td>176.254806</td>\n",
       "      <td>25.003687</td>\n",
       "      <td>86.675552</td>\n",
       "      <td>8.590941</td>\n",
       "      <td>54.869180</td>\n",
       "    </tr>\n",
       "    <tr>\n",
       "      <th>Waypoints overfit</th>\n",
       "      <td>10.303916</td>\n",
       "      <td>23.383190</td>\n",
       "      <td>561.053920</td>\n",
       "      <td>27.959916</td>\n",
       "      <td>106.127625</td>\n",
       "      <td>117.071618</td>\n",
       "      <td>25.003687</td>\n",
       "      <td>68.688807</td>\n",
       "      <td>7.439137</td>\n",
       "      <td>52.269235</td>\n",
       "    </tr>\n",
       "  </tbody>\n",
       "</table>\n",
       "</div>"
      ],
      "text/plain": [
       "                         mae       rmse         max  quantile95  quantile99  \\\n",
       "Steering 1          7.695730  19.990115  387.792314   20.471656   74.061729   \n",
       "Steering 2          7.257263  18.977927  369.189614   19.791030   72.003188   \n",
       "Steering overfit    6.563537  15.081966  332.122459   18.269320   56.439640   \n",
       "Waypoints 1        10.821430  29.887013  664.220807   29.877127  101.028976   \n",
       "Waypoints 2        12.012721  28.627826  563.243421   31.880978  108.979264   \n",
       "Waypoints overfit  10.303916  23.383190  561.053920   27.959916  106.127625   \n",
       "\n",
       "                    whiteness  expert_whiteness   left_mae  straight_mae  \\\n",
       "Steering 1          76.621284         24.682909  57.263860      5.772461   \n",
       "Steering 2          78.532692         24.682909  51.559928      5.478415   \n",
       "Steering overfit    63.799831         24.682909  39.387768      5.183029   \n",
       "Waypoints 1        150.251544         25.003687  88.808497      7.399839   \n",
       "Waypoints 2        176.254806         25.003687  86.675552      8.590941   \n",
       "Waypoints overfit  117.071618         25.003687  68.688807      7.439137   \n",
       "\n",
       "                   right_mae  \n",
       "Steering 1         21.349283  \n",
       "Steering 2         22.162610  \n",
       "Steering overfit   20.429373  \n",
       "Waypoints 1        48.764697  \n",
       "Waypoints 2        54.869180  \n",
       "Waypoints overfit  52.269235  "
      ]
     },
     "execution_count": 7,
     "metadata": {},
     "output_type": "execute_result"
    }
   ],
   "source": [
    "elva_dataset_wp = NvidiaDataset([\n",
    "    dataset_path / \"2021-06-07-14-20-07_e2e_rec_ss6\",\n",
    "    dataset_path / \"2021-06-07-14-06-31_e2e_rec_ss6\",\n",
    "    dataset_path / \"2021-06-07-14-09-18_e2e_rec_ss6\",\n",
    "    dataset_path / \"2021-06-07-14-36-16_e2e_rec_ss6\",\n",
    "    dataset_path / \"2021-10-26-10-49-06_e2e_rec_ss20_elva\",\n",
    "    dataset_path / \"2021-10-26-11-08-59_e2e_rec_ss20_elva_back\"\n",
    "], n_branches=3, output_modality=\"waypoints\", metadata_file=\"nvidia_frames_ext.csv\")\n",
    "\n",
    "waypoint_1_model = load_model(\"20220614175749_waypoints-balanced\", n_outputs=20)\n",
    "waypoint_1_metrics = calculate_wp_metrics(waypoint_1_model, elva_dataset_wp)\n",
    "metrics_df = metrics_df.append(pd.DataFrame(data=waypoint_1_metrics, index=[\"Waypoints 1\"]))\n",
    "\n",
    "waypoint_2_model = load_model(\"20220629014408_waypoints-balanced-2\", n_outputs=20)\n",
    "waypoint_2_metrics = calculate_wp_metrics(waypoint_2_model, elva_dataset_wp)\n",
    "metrics_df = metrics_df.append(pd.DataFrame(data=waypoint_2_metrics, index=[\"Waypoints 2\"]))\n",
    "\n",
    "waypoint_overfit_model = load_model(\"20220629124219_waypoints-balanced-overfit\", n_outputs=20)\n",
    "waypoint_overfit_metrics = calculate_wp_metrics(waypoint_overfit_model, elva_dataset_wp)\n",
    "metrics_df = metrics_df.append(pd.DataFrame(data=waypoint_overfit_metrics, index=[\"Waypoints overfit\"]))\n",
    "metrics_df"
   ]
  },
  {
   "cell_type": "code",
   "execution_count": 8,
   "id": "317c116b",
   "metadata": {},
   "outputs": [
    {
     "data": {
      "text/html": [
       "<div>\n",
       "<style scoped>\n",
       "    .dataframe tbody tr th:only-of-type {\n",
       "        vertical-align: middle;\n",
       "    }\n",
       "\n",
       "    .dataframe tbody tr th {\n",
       "        vertical-align: top;\n",
       "    }\n",
       "\n",
       "    .dataframe thead th {\n",
       "        text-align: right;\n",
       "    }\n",
       "</style>\n",
       "<table border=\"1\" class=\"dataframe\">\n",
       "  <thead>\n",
       "    <tr style=\"text-align: right;\">\n",
       "      <th></th>\n",
       "      <th>mae</th>\n",
       "      <th>left_mae</th>\n",
       "      <th>straight_mae</th>\n",
       "      <th>right_mae</th>\n",
       "      <th>max</th>\n",
       "      <th>quantile95</th>\n",
       "      <th>quantile99</th>\n",
       "      <th>whiteness</th>\n",
       "    </tr>\n",
       "  </thead>\n",
       "  <tbody>\n",
       "    <tr>\n",
       "      <th>Steering 1</th>\n",
       "      <td>7.695730</td>\n",
       "      <td>57.263860</td>\n",
       "      <td>5.772461</td>\n",
       "      <td>21.349283</td>\n",
       "      <td>387.792314</td>\n",
       "      <td>20.471656</td>\n",
       "      <td>74.061729</td>\n",
       "      <td>76.621284</td>\n",
       "    </tr>\n",
       "    <tr>\n",
       "      <th>Steering 2</th>\n",
       "      <td>7.257263</td>\n",
       "      <td>51.559928</td>\n",
       "      <td>5.478415</td>\n",
       "      <td>22.162610</td>\n",
       "      <td>369.189614</td>\n",
       "      <td>19.791030</td>\n",
       "      <td>72.003188</td>\n",
       "      <td>78.532692</td>\n",
       "    </tr>\n",
       "    <tr>\n",
       "      <th>Steering overfit</th>\n",
       "      <td>6.563537</td>\n",
       "      <td>39.387768</td>\n",
       "      <td>5.183029</td>\n",
       "      <td>20.429373</td>\n",
       "      <td>332.122459</td>\n",
       "      <td>18.269320</td>\n",
       "      <td>56.439640</td>\n",
       "      <td>63.799831</td>\n",
       "    </tr>\n",
       "    <tr>\n",
       "      <th>Waypoints 1</th>\n",
       "      <td>10.821430</td>\n",
       "      <td>88.808497</td>\n",
       "      <td>7.399839</td>\n",
       "      <td>48.764697</td>\n",
       "      <td>664.220807</td>\n",
       "      <td>29.877127</td>\n",
       "      <td>101.028976</td>\n",
       "      <td>150.251544</td>\n",
       "    </tr>\n",
       "    <tr>\n",
       "      <th>Waypoints 2</th>\n",
       "      <td>12.012721</td>\n",
       "      <td>86.675552</td>\n",
       "      <td>8.590941</td>\n",
       "      <td>54.869180</td>\n",
       "      <td>563.243421</td>\n",
       "      <td>31.880978</td>\n",
       "      <td>108.979264</td>\n",
       "      <td>176.254806</td>\n",
       "    </tr>\n",
       "    <tr>\n",
       "      <th>Waypoints overfit</th>\n",
       "      <td>10.303916</td>\n",
       "      <td>68.688807</td>\n",
       "      <td>7.439137</td>\n",
       "      <td>52.269235</td>\n",
       "      <td>561.053920</td>\n",
       "      <td>27.959916</td>\n",
       "      <td>106.127625</td>\n",
       "      <td>117.071618</td>\n",
       "    </tr>\n",
       "  </tbody>\n",
       "</table>\n",
       "</div>"
      ],
      "text/plain": [
       "                         mae   left_mae  straight_mae  right_mae         max  \\\n",
       "Steering 1          7.695730  57.263860      5.772461  21.349283  387.792314   \n",
       "Steering 2          7.257263  51.559928      5.478415  22.162610  369.189614   \n",
       "Steering overfit    6.563537  39.387768      5.183029  20.429373  332.122459   \n",
       "Waypoints 1        10.821430  88.808497      7.399839  48.764697  664.220807   \n",
       "Waypoints 2        12.012721  86.675552      8.590941  54.869180  563.243421   \n",
       "Waypoints overfit  10.303916  68.688807      7.439137  52.269235  561.053920   \n",
       "\n",
       "                   quantile95  quantile99   whiteness  \n",
       "Steering 1          20.471656   74.061729   76.621284  \n",
       "Steering 2          19.791030   72.003188   78.532692  \n",
       "Steering overfit    18.269320   56.439640   63.799831  \n",
       "Waypoints 1         29.877127  101.028976  150.251544  \n",
       "Waypoints 2         31.880978  108.979264  176.254806  \n",
       "Waypoints overfit   27.959916  106.127625  117.071618  "
      ]
     },
     "execution_count": 8,
     "metadata": {},
     "output_type": "execute_result"
    }
   ],
   "source": [
    "metrics_df = metrics_df[[\"mae\", \"left_mae\", \"straight_mae\", \"right_mae\", \"max\", \"quantile95\",\"quantile99\", \"whiteness\"]]\n",
    "metrics_df"
   ]
  },
  {
   "cell_type": "code",
   "execution_count": 9,
   "id": "48e9eda1",
   "metadata": {},
   "outputs": [
    {
     "data": {
      "text/plain": [
       "mae               7.172177\n",
       "left_mae         49.403852\n",
       "straight_mae      5.477969\n",
       "right_mae        21.313755\n",
       "max             363.034796\n",
       "quantile95       19.510669\n",
       "quantile99       67.501519\n",
       "whiteness        72.984603\n",
       "dtype: float64"
      ]
     },
     "execution_count": 9,
     "metadata": {},
     "output_type": "execute_result"
    }
   ],
   "source": [
    "metrics_df[0:3].mean()"
   ]
  },
  {
   "cell_type": "code",
   "execution_count": 10,
   "id": "92d01448",
   "metadata": {},
   "outputs": [
    {
     "data": {
      "text/plain": [
       "mae              11.046022\n",
       "left_mae         81.390952\n",
       "straight_mae      7.809972\n",
       "right_mae        51.967704\n",
       "max             596.172716\n",
       "quantile95       29.906007\n",
       "quantile99      105.378622\n",
       "whiteness       147.859323\n",
       "dtype: float64"
      ]
     },
     "execution_count": 10,
     "metadata": {},
     "output_type": "execute_result"
    }
   ],
   "source": [
    "metrics_df[3:].mean()"
   ]
  },
  {
   "cell_type": "code",
   "execution_count": null,
   "id": "4750a3eb",
   "metadata": {},
   "outputs": [],
   "source": []
  }
 ],
 "metadata": {
  "kernelspec": {
   "display_name": "Python 3 (ipykernel)",
   "language": "python",
   "name": "python3"
  },
  "language_info": {
   "codemirror_mode": {
    "name": "ipython",
    "version": 3
   },
   "file_extension": ".py",
   "mimetype": "text/x-python",
   "name": "python",
   "nbconvert_exporter": "python",
   "pygments_lexer": "ipython3",
   "version": "3.9.7"
  }
 },
 "nbformat": 4,
 "nbformat_minor": 5
}
