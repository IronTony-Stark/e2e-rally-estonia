{
 "cells": [
  {
   "cell_type": "code",
   "execution_count": 1,
   "id": "ed032c44",
   "metadata": {},
   "outputs": [
    {
     "name": "stdout",
     "output_type": "stream",
     "text": [
      "/home/romet/projects/ut/e2e-rally-estonia\n"
     ]
    }
   ],
   "source": [
    "%cd .."
   ]
  },
  {
   "cell_type": "code",
   "execution_count": 17,
   "id": "3dc29933",
   "metadata": {},
   "outputs": [
    {
     "name": "stdout",
     "output_type": "stream",
     "text": [
      "The autoreload extension is already loaded. To reload it, use:\n",
      "  %reload_ext autoreload\n"
     ]
    }
   ],
   "source": [
    "import numpy as np\n",
    "import pandas as pd\n",
    "import matplotlib.pyplot as plt\n",
    "from pathlib import Path\n",
    "from tqdm.auto import tqdm\n",
    "\n",
    "import torch\n",
    "import torch.nn as nn\n",
    "import torchvision\n",
    "\n",
    "from dataloading.nvidia import NvidiaDataset, NvidiaTrainDataset, NvidiaValidationDataset, Normalize\n",
    "from pilotnet import PilotnetControl, PilotNetConditional, PilotNetConditionalOld\n",
    "from metrics.metrics import calculate_open_loop_metrics\n",
    "from viz.analytics import create_waypoint_error_plot\n",
    "\n",
    "from metrics.metrics import calculate_closed_loop_metrics, calculate_trajectory_open_loop_metrics, calculate_open_loop_metrics, read_frames_driving, read_frames_expert\n",
    "from trajectory import calculate_steering_angle\n",
    "import math\n",
    "\n",
    "from trainer import ControlTrainer, ConditionalTrainer\n",
    "from torchvision import transforms\n",
    "\n",
    "from camera_frame import CameraFrameTransformer\n",
    "\n",
    "\n",
    "%load_ext autoreload \n",
    "%autoreload 2\n",
    "\n",
    "import warnings\n",
    "warnings.filterwarnings('ignore')"
   ]
  },
  {
   "cell_type": "code",
   "execution_count": 3,
   "id": "58e37909",
   "metadata": {},
   "outputs": [],
   "source": [
    "def load_dataset(paths):\n",
    "        return NvidiaDataset(paths,\n",
    "                             transform=tr,\n",
    "                             output_modality=\"steering_angle\", \n",
    "                             metadata_file=\"nvidia_frames.csv\")"
   ]
  },
  {
   "cell_type": "code",
   "execution_count": 4,
   "id": "f456b07e",
   "metadata": {},
   "outputs": [],
   "source": [
    "def load_model(model_name, n_outputs=1, remove_first_bn=False):\n",
    "    model = PilotNetConditional(n_branches=3, n_outputs=n_outputs)\n",
    "    if remove_first_bn:\n",
    "        model.features = nn.Sequential(*[mod for mod in model.features[1:]])\n",
    "    model.load_state_dict(torch.load(f\"models/{model_name}/best.pt\"))\n",
    "    device = torch.device('cuda' if torch.cuda.is_available() else 'cpu')\n",
    "    model.to(device)\n",
    "    model.eval()\n",
    "    return model"
   ]
  },
  {
   "cell_type": "code",
   "execution_count": 5,
   "id": "e7cc1a32",
   "metadata": {},
   "outputs": [],
   "source": [
    "from trainer import ConditionalTrainer\n",
    "\n",
    "\n",
    "def calculate_metrics(steering_predictions, frames_df):\n",
    "    true_steering_angles = frames_df.steering_angle.to_numpy()\n",
    "    fps=30\n",
    "    metrics = calculate_open_loop_metrics(steering_predictions, true_steering_angles, fps=fps)\n",
    "    \n",
    "    left_turns = frames_df[\"turn_signal\"] == 0\n",
    "    left_metrics = calculate_open_loop_metrics(steering_predictions[left_turns], true_steering_angles[left_turns], fps=fps)\n",
    "    metrics[\"left_mae\"] = left_metrics[\"mae\"]\n",
    "\n",
    "    straight = frames_df[\"turn_signal\"] == 1\n",
    "    straight_metrics = calculate_open_loop_metrics(steering_predictions[straight], true_steering_angles[straight], fps=fps)\n",
    "    metrics[\"straight_mae\"] = straight_metrics[\"mae\"]\n",
    "\n",
    "    right_turns = frames_df[\"turn_signal\"] == 2\n",
    "    right_metrics = calculate_open_loop_metrics(steering_predictions[right_turns], true_steering_angles[right_turns], fps=fps)\n",
    "    metrics[\"right_mae\"] = right_metrics[\"mae\"]\n",
    "    return metrics\n",
    "\n",
    "\n",
    "def calculate_steering_metrics(model, dataset):\n",
    "    dataloader = torch.utils.data.DataLoader(dataset, batch_size=64, shuffle=False, num_workers=16, pin_memory=True,\n",
    "                            persistent_workers=True)\n",
    "\n",
    "    trainer = ConditionalTrainer(n_conditional_branches=3)\n",
    "    steering_predictions = trainer.predict(model, dataloader)\n",
    "    return calculate_metrics(steering_predictions, dataloader.dataset.frames)\n",
    "\n",
    "def waypoints_to_steering_angle(predictions):\n",
    "    pred_steering_angles = []\n",
    "    wp_progress_bar = tqdm(total=len(predictions), smoothing=0)\n",
    "    wp_progress_bar.set_description(\"Calculating steering angles\")\n",
    "\n",
    "    transformer = CameraFrameTransformer()\n",
    "\n",
    "    for wp in predictions:\n",
    "        wp_baselink = transformer.transform_waypoints(wp, \"interfacea_link2\")\n",
    "        pred_steering_angles.append(calculate_steering_angle(wp_baselink))\n",
    "        wp_progress_bar.update(1)\n",
    "    return np.array(pred_steering_angles)\n",
    "\n",
    "def calculate_wp_metrics(model, dataset):\n",
    "    dataloader = torch.utils.data.DataLoader(dataset, batch_size=64, shuffle=False, num_workers=16, pin_memory=True,\n",
    "                            persistent_workers=True)\n",
    "\n",
    "    trainer = ConditionalTrainer(n_conditional_branches=3)\n",
    "    wp_predictions = trainer.predict(model, dataloader)\n",
    "    steering_predictions = waypoints_to_steering_angle(wp_predictions)\n",
    "    true_steering_angles = dataloader.dataset.frames.steering_angle.to_numpy()\n",
    "    return calculate_metrics(steering_predictions, dataloader.dataset.frames)"
   ]
  },
  {
   "cell_type": "code",
   "execution_count": 6,
   "id": "dafae387",
   "metadata": {},
   "outputs": [
    {
     "name": "stdout",
     "output_type": "stream",
     "text": [
      "/home/romet/data2/datasets/rally-estonia/dataset-new-small/summer2021/2021-06-07-14-20-07_e2e_rec_ss6: lenght=25833, filtered=4\n",
      "/home/romet/data2/datasets/rally-estonia/dataset-new-small/summer2021/2021-06-07-14-06-31_e2e_rec_ss6: lenght=3002, filtered=1\n",
      "/home/romet/data2/datasets/rally-estonia/dataset-new-small/summer2021/2021-06-07-14-09-18_e2e_rec_ss6: lenght=4550, filtered=2\n",
      "/home/romet/data2/datasets/rally-estonia/dataset-new-small/summer2021/2021-06-07-14-36-16_e2e_rec_ss6: lenght=25351, filtered=18\n",
      "/home/romet/data2/datasets/rally-estonia/dataset-new-small/summer2021/2021-10-26-10-49-06_e2e_rec_ss20_elva: lenght=33034, filtered=11\n",
      "/home/romet/data2/datasets/rally-estonia/dataset-new-small/summer2021/2021-10-26-11-08-59_e2e_rec_ss20_elva_back: lenght=33278, filtered=3\n"
     ]
    },
    {
     "data": {
      "application/vnd.jupyter.widget-view+json": {
       "model_id": "39a02ce9d3064e9f919687c850a3c036",
       "version_major": 2,
       "version_minor": 0
      },
      "text/plain": [
       "  0%|          | 0/1954 [00:00<?, ?it/s]"
      ]
     },
     "metadata": {},
     "output_type": "display_data"
    },
    {
     "data": {
      "application/vnd.jupyter.widget-view+json": {
       "model_id": "8f8d5a151b0b4519929588d165b9c0a7",
       "version_major": 2,
       "version_minor": 0
      },
      "text/plain": [
       "  0%|          | 0/1954 [00:00<?, ?it/s]"
      ]
     },
     "metadata": {},
     "output_type": "display_data"
    },
    {
     "data": {
      "application/vnd.jupyter.widget-view+json": {
       "model_id": "e4b670cf6b674f2cbdac7b218266ff1f",
       "version_major": 2,
       "version_minor": 0
      },
      "text/plain": [
       "  0%|          | 0/1954 [00:00<?, ?it/s]"
      ]
     },
     "metadata": {},
     "output_type": "display_data"
    },
    {
     "data": {
      "text/html": [
       "<div>\n",
       "<style scoped>\n",
       "    .dataframe tbody tr th:only-of-type {\n",
       "        vertical-align: middle;\n",
       "    }\n",
       "\n",
       "    .dataframe tbody tr th {\n",
       "        vertical-align: top;\n",
       "    }\n",
       "\n",
       "    .dataframe thead th {\n",
       "        text-align: right;\n",
       "    }\n",
       "</style>\n",
       "<table border=\"1\" class=\"dataframe\">\n",
       "  <thead>\n",
       "    <tr style=\"text-align: right;\">\n",
       "      <th></th>\n",
       "      <th>mae</th>\n",
       "      <th>rmse</th>\n",
       "      <th>max</th>\n",
       "      <th>whiteness</th>\n",
       "      <th>expert_whiteness</th>\n",
       "      <th>left_mae</th>\n",
       "      <th>straight_mae</th>\n",
       "      <th>right_mae</th>\n",
       "    </tr>\n",
       "  </thead>\n",
       "  <tbody>\n",
       "    <tr>\n",
       "      <th>Steering 1</th>\n",
       "      <td>7.695730</td>\n",
       "      <td>19.990115</td>\n",
       "      <td>387.792314</td>\n",
       "      <td>76.621284</td>\n",
       "      <td>24.682909</td>\n",
       "      <td>21.349283</td>\n",
       "      <td>5.772461</td>\n",
       "      <td>57.263860</td>\n",
       "    </tr>\n",
       "    <tr>\n",
       "      <th>Steering 2</th>\n",
       "      <td>7.257263</td>\n",
       "      <td>18.977927</td>\n",
       "      <td>369.189614</td>\n",
       "      <td>78.532692</td>\n",
       "      <td>24.682909</td>\n",
       "      <td>22.162610</td>\n",
       "      <td>5.478415</td>\n",
       "      <td>51.559928</td>\n",
       "    </tr>\n",
       "    <tr>\n",
       "      <th>Steering overfit</th>\n",
       "      <td>6.563537</td>\n",
       "      <td>15.081966</td>\n",
       "      <td>332.122459</td>\n",
       "      <td>63.799831</td>\n",
       "      <td>24.682909</td>\n",
       "      <td>20.429373</td>\n",
       "      <td>5.183029</td>\n",
       "      <td>39.387768</td>\n",
       "    </tr>\n",
       "  </tbody>\n",
       "</table>\n",
       "</div>"
      ],
      "text/plain": [
       "                       mae       rmse         max  whiteness  \\\n",
       "Steering 1        7.695730  19.990115  387.792314  76.621284   \n",
       "Steering 2        7.257263  18.977927  369.189614  78.532692   \n",
       "Steering overfit  6.563537  15.081966  332.122459  63.799831   \n",
       "\n",
       "                  expert_whiteness   left_mae  straight_mae  right_mae  \n",
       "Steering 1               24.682909  21.349283      5.772461  57.263860  \n",
       "Steering 2               24.682909  22.162610      5.478415  51.559928  \n",
       "Steering overfit         24.682909  20.429373      5.183029  39.387768  "
      ]
     },
     "execution_count": 6,
     "metadata": {},
     "output_type": "execute_result"
    }
   ],
   "source": [
    "tr = transforms.Compose([Normalize()])\n",
    "dataset_path = Path(\"/home/romet/data2/datasets/rally-estonia/dataset-new-small/summer2021\")\n",
    "elva_dataset = NvidiaDataset([\n",
    "    dataset_path / \"2021-06-07-14-20-07_e2e_rec_ss6\",\n",
    "    dataset_path / \"2021-06-07-14-06-31_e2e_rec_ss6\",\n",
    "    dataset_path / \"2021-06-07-14-09-18_e2e_rec_ss6\",\n",
    "    dataset_path / \"2021-06-07-14-36-16_e2e_rec_ss6\",\n",
    "    dataset_path / \"2021-10-26-10-49-06_e2e_rec_ss20_elva\",\n",
    "    dataset_path / \"2021-10-26-11-08-59_e2e_rec_ss20_elva_back\"\n",
    "], n_branches=3, metadata_file=\"nvidia_frames_ext.csv\")\n",
    "\n",
    "steering_1_model = load_model(\"20220627193827_steering-conditional-pre\", remove_first_bn=True)\n",
    "steering_1_metrics = calculate_steering_metrics(steering_1_model, elva_dataset)\n",
    "\n",
    "steering_2_model = load_model(\"20220628234819_steering-conditional-pre-2\")\n",
    "steering_2_metrics = calculate_steering_metrics(steering_2_model, elva_dataset)\n",
    "\n",
    "steering_overfit_model = load_model(\"20220629083303_steering-conditional-pre-overfit\")\n",
    "steering_overfit_metrics = calculate_steering_metrics(steering_overfit_model, elva_dataset)\n",
    "\n",
    "#metrics_df = pd.DataFrame.from_dict(steering_1_metrics, index=\"Steering 1\")\n",
    "metrics_df = pd.DataFrame(steering_1_metrics, index=[\"Steering 1\"])\n",
    "metrics_df = metrics_df.append(pd.DataFrame(data=steering_2_metrics, index=[\"Steering 2\"]))\n",
    "metrics_df = metrics_df.append(pd.DataFrame(data=steering_overfit_metrics, index=[\"Steering overfit\"]))\n",
    "metrics_df"
   ]
  },
  {
   "cell_type": "code",
   "execution_count": 7,
   "id": "c1e4333f",
   "metadata": {},
   "outputs": [
    {
     "name": "stdout",
     "output_type": "stream",
     "text": [
      "/home/romet/data2/datasets/rally-estonia/dataset-new-small/summer2021/2021-06-07-14-20-07_e2e_rec_ss6: lenght=25710, filtered=127\n",
      "/home/romet/data2/datasets/rally-estonia/dataset-new-small/summer2021/2021-06-07-14-06-31_e2e_rec_ss6: lenght=2802, filtered=201\n",
      "/home/romet/data2/datasets/rally-estonia/dataset-new-small/summer2021/2021-06-07-14-09-18_e2e_rec_ss6: lenght=4474, filtered=78\n",
      "/home/romet/data2/datasets/rally-estonia/dataset-new-small/summer2021/2021-06-07-14-36-16_e2e_rec_ss6: lenght=25255, filtered=114\n",
      "/home/romet/data2/datasets/rally-estonia/dataset-new-small/summer2021/2021-10-26-10-49-06_e2e_rec_ss20_elva: lenght=32738, filtered=307\n",
      "/home/romet/data2/datasets/rally-estonia/dataset-new-small/summer2021/2021-10-26-11-08-59_e2e_rec_ss20_elva_back: lenght=33000, filtered=281\n"
     ]
    },
    {
     "data": {
      "application/vnd.jupyter.widget-view+json": {
       "model_id": "6d22dc02304341649efec6a09f922c15",
       "version_major": 2,
       "version_minor": 0
      },
      "text/plain": [
       "  0%|          | 0/1938 [00:00<?, ?it/s]"
      ]
     },
     "metadata": {},
     "output_type": "display_data"
    },
    {
     "data": {
      "application/vnd.jupyter.widget-view+json": {
       "model_id": "ebcd538a616b46f0800547bbe18bff1e",
       "version_major": 2,
       "version_minor": 0
      },
      "text/plain": [
       "  0%|          | 0/123979 [00:00<?, ?it/s]"
      ]
     },
     "metadata": {},
     "output_type": "display_data"
    },
    {
     "data": {
      "application/vnd.jupyter.widget-view+json": {
       "model_id": "901f03ff70d94d1489be1459f84b72a7",
       "version_major": 2,
       "version_minor": 0
      },
      "text/plain": [
       "  0%|          | 0/1938 [00:00<?, ?it/s]"
      ]
     },
     "metadata": {},
     "output_type": "display_data"
    },
    {
     "data": {
      "application/vnd.jupyter.widget-view+json": {
       "model_id": "ebe6aa1f8b1f4f75a5341ad05e2c4a78",
       "version_major": 2,
       "version_minor": 0
      },
      "text/plain": [
       "  0%|          | 0/123979 [00:00<?, ?it/s]"
      ]
     },
     "metadata": {},
     "output_type": "display_data"
    },
    {
     "data": {
      "application/vnd.jupyter.widget-view+json": {
       "model_id": "5e092636b35b4578831e7f3043d2ac72",
       "version_major": 2,
       "version_minor": 0
      },
      "text/plain": [
       "  0%|          | 0/1938 [00:00<?, ?it/s]"
      ]
     },
     "metadata": {},
     "output_type": "display_data"
    },
    {
     "data": {
      "application/vnd.jupyter.widget-view+json": {
       "model_id": "9089fbb1f8844cb3b2ae6b3ea5a5a077",
       "version_major": 2,
       "version_minor": 0
      },
      "text/plain": [
       "  0%|          | 0/123979 [00:00<?, ?it/s]"
      ]
     },
     "metadata": {},
     "output_type": "display_data"
    },
    {
     "data": {
      "text/html": [
       "<div>\n",
       "<style scoped>\n",
       "    .dataframe tbody tr th:only-of-type {\n",
       "        vertical-align: middle;\n",
       "    }\n",
       "\n",
       "    .dataframe tbody tr th {\n",
       "        vertical-align: top;\n",
       "    }\n",
       "\n",
       "    .dataframe thead th {\n",
       "        text-align: right;\n",
       "    }\n",
       "</style>\n",
       "<table border=\"1\" class=\"dataframe\">\n",
       "  <thead>\n",
       "    <tr style=\"text-align: right;\">\n",
       "      <th></th>\n",
       "      <th>mae</th>\n",
       "      <th>rmse</th>\n",
       "      <th>max</th>\n",
       "      <th>whiteness</th>\n",
       "      <th>expert_whiteness</th>\n",
       "      <th>left_mae</th>\n",
       "      <th>straight_mae</th>\n",
       "      <th>right_mae</th>\n",
       "    </tr>\n",
       "  </thead>\n",
       "  <tbody>\n",
       "    <tr>\n",
       "      <th>Steering 1</th>\n",
       "      <td>7.695730</td>\n",
       "      <td>19.990115</td>\n",
       "      <td>387.792314</td>\n",
       "      <td>76.621284</td>\n",
       "      <td>24.682909</td>\n",
       "      <td>21.349283</td>\n",
       "      <td>5.772461</td>\n",
       "      <td>57.263860</td>\n",
       "    </tr>\n",
       "    <tr>\n",
       "      <th>Steering 2</th>\n",
       "      <td>7.257263</td>\n",
       "      <td>18.977927</td>\n",
       "      <td>369.189614</td>\n",
       "      <td>78.532692</td>\n",
       "      <td>24.682909</td>\n",
       "      <td>22.162610</td>\n",
       "      <td>5.478415</td>\n",
       "      <td>51.559928</td>\n",
       "    </tr>\n",
       "    <tr>\n",
       "      <th>Steering overfit</th>\n",
       "      <td>6.563537</td>\n",
       "      <td>15.081966</td>\n",
       "      <td>332.122459</td>\n",
       "      <td>63.799831</td>\n",
       "      <td>24.682909</td>\n",
       "      <td>20.429373</td>\n",
       "      <td>5.183029</td>\n",
       "      <td>39.387768</td>\n",
       "    </tr>\n",
       "    <tr>\n",
       "      <th>Waypoints 1</th>\n",
       "      <td>10.821430</td>\n",
       "      <td>29.887013</td>\n",
       "      <td>664.220807</td>\n",
       "      <td>150.251544</td>\n",
       "      <td>25.003687</td>\n",
       "      <td>48.764697</td>\n",
       "      <td>7.399839</td>\n",
       "      <td>88.808497</td>\n",
       "    </tr>\n",
       "    <tr>\n",
       "      <th>Waypoints 2</th>\n",
       "      <td>12.012721</td>\n",
       "      <td>28.627826</td>\n",
       "      <td>563.243421</td>\n",
       "      <td>176.254806</td>\n",
       "      <td>25.003687</td>\n",
       "      <td>54.869180</td>\n",
       "      <td>8.590941</td>\n",
       "      <td>86.675552</td>\n",
       "    </tr>\n",
       "    <tr>\n",
       "      <th>Waypoints overfit</th>\n",
       "      <td>10.303916</td>\n",
       "      <td>23.383190</td>\n",
       "      <td>561.053920</td>\n",
       "      <td>117.071618</td>\n",
       "      <td>25.003687</td>\n",
       "      <td>52.269235</td>\n",
       "      <td>7.439137</td>\n",
       "      <td>68.688807</td>\n",
       "    </tr>\n",
       "  </tbody>\n",
       "</table>\n",
       "</div>"
      ],
      "text/plain": [
       "                         mae       rmse         max   whiteness  \\\n",
       "Steering 1          7.695730  19.990115  387.792314   76.621284   \n",
       "Steering 2          7.257263  18.977927  369.189614   78.532692   \n",
       "Steering overfit    6.563537  15.081966  332.122459   63.799831   \n",
       "Waypoints 1        10.821430  29.887013  664.220807  150.251544   \n",
       "Waypoints 2        12.012721  28.627826  563.243421  176.254806   \n",
       "Waypoints overfit  10.303916  23.383190  561.053920  117.071618   \n",
       "\n",
       "                   expert_whiteness   left_mae  straight_mae  right_mae  \n",
       "Steering 1                24.682909  21.349283      5.772461  57.263860  \n",
       "Steering 2                24.682909  22.162610      5.478415  51.559928  \n",
       "Steering overfit          24.682909  20.429373      5.183029  39.387768  \n",
       "Waypoints 1               25.003687  48.764697      7.399839  88.808497  \n",
       "Waypoints 2               25.003687  54.869180      8.590941  86.675552  \n",
       "Waypoints overfit         25.003687  52.269235      7.439137  68.688807  "
      ]
     },
     "execution_count": 7,
     "metadata": {},
     "output_type": "execute_result"
    }
   ],
   "source": [
    "elva_dataset_wp = NvidiaDataset([\n",
    "    dataset_path / \"2021-06-07-14-20-07_e2e_rec_ss6\",\n",
    "    dataset_path / \"2021-06-07-14-06-31_e2e_rec_ss6\",\n",
    "    dataset_path / \"2021-06-07-14-09-18_e2e_rec_ss6\",\n",
    "    dataset_path / \"2021-06-07-14-36-16_e2e_rec_ss6\",\n",
    "    dataset_path / \"2021-10-26-10-49-06_e2e_rec_ss20_elva\",\n",
    "    dataset_path / \"2021-10-26-11-08-59_e2e_rec_ss20_elva_back\"\n",
    "], n_branches=3, output_modality=\"waypoints\", metadata_file=\"nvidia_frames_ext.csv\")\n",
    "\n",
    "waypoint_1_model = load_model(\"20220614175749_waypoints-balanced\", n_outputs=20)\n",
    "waypoint_1_metrics = calculate_wp_metrics(waypoint_1_model, elva_dataset_wp)\n",
    "metrics_df = metrics_df.append(pd.DataFrame(data=waypoint_1_metrics, index=[\"Waypoints 1\"]))\n",
    "\n",
    "waypoint_2_model = load_model(\"20220629014408_waypoints-balanced-2\", n_outputs=20)\n",
    "waypoint_2_metrics = calculate_wp_metrics(waypoint_2_model, elva_dataset_wp)\n",
    "metrics_df = metrics_df.append(pd.DataFrame(data=waypoint_2_metrics, index=[\"Waypoints 2\"]))\n",
    "\n",
    "waypoint_overfit_model = load_model(\"20220629124219_waypoints-balanced-overfit\", n_outputs=20)\n",
    "waypoint_overfit_metrics = calculate_wp_metrics(waypoint_overfit_model, elva_dataset_wp)\n",
    "metrics_df = metrics_df.append(pd.DataFrame(data=waypoint_overfit_metrics, index=[\"Waypoints overfit\"]))\n",
    "metrics_df"
   ]
  },
  {
   "cell_type": "code",
   "execution_count": 9,
   "id": "3d99add4",
   "metadata": {},
   "outputs": [
    {
     "data": {
      "text/html": [
       "<div>\n",
       "<style scoped>\n",
       "    .dataframe tbody tr th:only-of-type {\n",
       "        vertical-align: middle;\n",
       "    }\n",
       "\n",
       "    .dataframe tbody tr th {\n",
       "        vertical-align: top;\n",
       "    }\n",
       "\n",
       "    .dataframe thead th {\n",
       "        text-align: right;\n",
       "    }\n",
       "</style>\n",
       "<table border=\"1\" class=\"dataframe\">\n",
       "  <thead>\n",
       "    <tr style=\"text-align: right;\">\n",
       "      <th></th>\n",
       "      <th>mae</th>\n",
       "      <th>left_mae</th>\n",
       "      <th>straight_mae</th>\n",
       "      <th>right_mae</th>\n",
       "      <th>max</th>\n",
       "      <th>whiteness</th>\n",
       "    </tr>\n",
       "  </thead>\n",
       "  <tbody>\n",
       "    <tr>\n",
       "      <th>Steering 1</th>\n",
       "      <td>7.695730</td>\n",
       "      <td>21.349283</td>\n",
       "      <td>5.772461</td>\n",
       "      <td>57.263860</td>\n",
       "      <td>387.792314</td>\n",
       "      <td>76.621284</td>\n",
       "    </tr>\n",
       "    <tr>\n",
       "      <th>Steering 2</th>\n",
       "      <td>7.257263</td>\n",
       "      <td>22.162610</td>\n",
       "      <td>5.478415</td>\n",
       "      <td>51.559928</td>\n",
       "      <td>369.189614</td>\n",
       "      <td>78.532692</td>\n",
       "    </tr>\n",
       "    <tr>\n",
       "      <th>Steering overfit</th>\n",
       "      <td>6.563537</td>\n",
       "      <td>20.429373</td>\n",
       "      <td>5.183029</td>\n",
       "      <td>39.387768</td>\n",
       "      <td>332.122459</td>\n",
       "      <td>63.799831</td>\n",
       "    </tr>\n",
       "    <tr>\n",
       "      <th>Waypoints 1</th>\n",
       "      <td>10.821430</td>\n",
       "      <td>48.764697</td>\n",
       "      <td>7.399839</td>\n",
       "      <td>88.808497</td>\n",
       "      <td>664.220807</td>\n",
       "      <td>150.251544</td>\n",
       "    </tr>\n",
       "    <tr>\n",
       "      <th>Waypoints 2</th>\n",
       "      <td>12.012721</td>\n",
       "      <td>54.869180</td>\n",
       "      <td>8.590941</td>\n",
       "      <td>86.675552</td>\n",
       "      <td>563.243421</td>\n",
       "      <td>176.254806</td>\n",
       "    </tr>\n",
       "    <tr>\n",
       "      <th>Waypoints overfit</th>\n",
       "      <td>10.303916</td>\n",
       "      <td>52.269235</td>\n",
       "      <td>7.439137</td>\n",
       "      <td>68.688807</td>\n",
       "      <td>561.053920</td>\n",
       "      <td>117.071618</td>\n",
       "    </tr>\n",
       "  </tbody>\n",
       "</table>\n",
       "</div>"
      ],
      "text/plain": [
       "                         mae   left_mae  straight_mae  right_mae         max  \\\n",
       "Steering 1          7.695730  21.349283      5.772461  57.263860  387.792314   \n",
       "Steering 2          7.257263  22.162610      5.478415  51.559928  369.189614   \n",
       "Steering overfit    6.563537  20.429373      5.183029  39.387768  332.122459   \n",
       "Waypoints 1        10.821430  48.764697      7.399839  88.808497  664.220807   \n",
       "Waypoints 2        12.012721  54.869180      8.590941  86.675552  563.243421   \n",
       "Waypoints overfit  10.303916  52.269235      7.439137  68.688807  561.053920   \n",
       "\n",
       "                    whiteness  \n",
       "Steering 1          76.621284  \n",
       "Steering 2          78.532692  \n",
       "Steering overfit    63.799831  \n",
       "Waypoints 1        150.251544  \n",
       "Waypoints 2        176.254806  \n",
       "Waypoints overfit  117.071618  "
      ]
     },
     "execution_count": 9,
     "metadata": {},
     "output_type": "execute_result"
    }
   ],
   "source": [
    "metrics_df = metrics_df[[\"mae\", \"left_mae\", \"straight_mae\", \"right_mae\", \"max\", \"whiteness\"]]\n",
    "metrics_df"
   ]
  },
  {
   "cell_type": "code",
   "execution_count": 13,
   "id": "2ecae368",
   "metadata": {},
   "outputs": [
    {
     "data": {
      "text/plain": [
       "mae               7.172177\n",
       "left_mae         21.313755\n",
       "straight_mae      5.477969\n",
       "right_mae        49.403852\n",
       "max             363.034796\n",
       "whiteness        72.984603\n",
       "dtype: float64"
      ]
     },
     "execution_count": 13,
     "metadata": {},
     "output_type": "execute_result"
    }
   ],
   "source": [
    "metrics_df[0:3].mean()"
   ]
  },
  {
   "cell_type": "code",
   "execution_count": 15,
   "id": "eb67719a",
   "metadata": {},
   "outputs": [
    {
     "data": {
      "text/plain": [
       "mae              11.046022\n",
       "left_mae         51.967704\n",
       "straight_mae      7.809972\n",
       "right_mae        81.390952\n",
       "max             596.172716\n",
       "whiteness       147.859323\n",
       "dtype: float64"
      ]
     },
     "execution_count": 15,
     "metadata": {},
     "output_type": "execute_result"
    }
   ],
   "source": [
    "metrics_df[3:].mean()"
   ]
  },
  {
   "cell_type": "code",
   "execution_count": null,
   "id": "6d75dd60",
   "metadata": {},
   "outputs": [],
   "source": []
  }
 ],
 "metadata": {
  "kernelspec": {
   "display_name": "Python 3 (ipykernel)",
   "language": "python",
   "name": "python3"
  },
  "language_info": {
   "codemirror_mode": {
    "name": "ipython",
    "version": 3
   },
   "file_extension": ".py",
   "mimetype": "text/x-python",
   "name": "python",
   "nbconvert_exporter": "python",
   "pygments_lexer": "ipython3",
   "version": "3.9.7"
  }
 },
 "nbformat": 4,
 "nbformat_minor": 5
}