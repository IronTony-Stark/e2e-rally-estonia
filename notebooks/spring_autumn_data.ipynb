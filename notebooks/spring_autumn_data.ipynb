{
 "cells": [
  {
   "cell_type": "code",
   "execution_count": 4,
   "id": "62b1e81e",
   "metadata": {},
   "outputs": [
    {
     "name": "stdout",
     "output_type": "stream",
     "text": [
      "The autoreload extension is already loaded. To reload it, use:\n",
      "  %reload_ext autoreload\n"
     ]
    }
   ],
   "source": [
    "import numpy as np\n",
    "import pandas as pd\n",
    "import matplotlib.pyplot as plt\n",
    "from pathlib import Path\n",
    "from tqdm.auto import tqdm\n",
    "\n",
    "import torch\n",
    "import torch.nn as nn\n",
    "from torch.utils.data import ConcatDataset\n",
    "import torchvision\n",
    "from torchvision import transforms\n",
    "\n",
    "from dataloading.nvidia import NvidiaTrainDataset, NvidiaSpringTrainDataset, NvidiaAutumnTrainDataset, NvidiaValidationDataset\n",
    "from network import PilotNet\n",
    "from trainer import Trainer\n",
    "\n",
    "import wandb\n",
    "\n",
    "%load_ext autoreload\n",
    "%autoreload 2"
   ]
  },
  {
   "cell_type": "code",
   "execution_count": 9,
   "id": "2c388ba9",
   "metadata": {},
   "outputs": [
    {
     "name": "stdout",
     "output_type": "stream",
     "text": [
      "/media/romet/data2/datasets/rally-estonia/dataset/2021-05-20-12-36-10_e2e_sulaoja_20_30: 12025\n",
      "/media/romet/data2/datasets/rally-estonia/dataset/2021-05-20-12-43-17_e2e_sulaoja_20_30: 6809\n",
      "/media/romet/data2/datasets/rally-estonia/dataset/2021-05-20-12-51-29_e2e_sulaoja_20_30: 5393\n",
      "/media/romet/data2/datasets/rally-estonia/dataset/2021-05-20-13-44-06_e2e_sulaoja_10_10: 3833\n",
      "/media/romet/data2/datasets/rally-estonia/dataset/2021-05-20-13-51-21_e2e_sulaoja_10_10: 3798\n",
      "/media/romet/data2/datasets/rally-estonia/dataset/2021-05-20-13-59-00_e2e_sulaoja_10_10: 687\n",
      "/media/romet/data2/datasets/rally-estonia/dataset/2021-05-28-15-07-56_e2e_sulaoja_20_30: 15626\n",
      "/media/romet/data2/datasets/rally-estonia/dataset/2021-05-28-15-17-19_e2e_sulaoja_20_30: 3218\n",
      "/media/romet/data2/datasets/rally-estonia/dataset/2021-06-07-14-06-31_e2e_rec_ss6: 3003\n",
      "/media/romet/data2/datasets/rally-estonia/dataset/2021-06-07-14-09-18_e2e_rec_ss6: 4551\n",
      "/media/romet/data2/datasets/rally-estonia/dataset/2021-06-07-14-36-16_e2e_rec_ss6: 25368\n",
      "/media/romet/data2/datasets/rally-estonia/dataset/2021-06-09-13-14-51_e2e_rec_ss2: 49918\n",
      "/media/romet/data2/datasets/rally-estonia/dataset/2021-06-09-13-55-03_e2e_rec_ss2_backwards: 53743\n",
      "/media/romet/data2/datasets/rally-estonia/dataset/2021-06-09-14-58-11_e2e_rec_ss3: 43886\n",
      "/media/romet/data2/datasets/rally-estonia/dataset/2021-06-09-15-42-05_e2e_rec_ss3_backwards: 40694\n",
      "/media/romet/data2/datasets/rally-estonia/dataset/2021-06-09-16-24-59_e2e_rec_ss13: 34425\n",
      "/media/romet/data2/datasets/rally-estonia/dataset/2021-06-09-16-50-22_e2e_rec_ss13_backwards: 34411\n",
      "/media/romet/data2/datasets/rally-estonia/dataset/2021-06-10-12-59-59_e2e_ss4: 25508\n",
      "/media/romet/data2/datasets/rally-estonia/dataset/2021-06-10-13-19-22_e2e_ss4_backwards: 23844\n",
      "/media/romet/data2/datasets/rally-estonia/dataset/2021-06-10-13-51-34_e2e_ss12: 13638\n",
      "/media/romet/data2/datasets/rally-estonia/dataset/2021-06-10-14-02-24_e2e_ss12_backwards: 12574\n",
      "/media/romet/data2/datasets/rally-estonia/dataset/2021-06-10-14-44-24_e2e_ss3_backwards: 31838\n",
      "/media/romet/data2/datasets/rally-estonia/dataset/2021-06-10-15-03-16_e2e_ss3_backwards: 2458\n",
      "/media/romet/data2/datasets/rally-estonia/dataset/2021-06-14-11-08-19_e2e_rec_ss14: 14672\n",
      "/media/romet/data2/datasets/rally-estonia/dataset/2021-06-14-11-43-48_e2e_rec_ss14_backwards: 43674\n",
      "/media/romet/data2/datasets/rally-estonia/dataset/2021-05-28-15-19-48_e2e_sulaoja_20_30: 10708\n",
      "/media/romet/data2/datasets/rally-estonia/dataset/2021-06-07-14-20-07_e2e_rec_ss6: 25836\n",
      "/media/romet/data2/datasets/rally-estonia/dataset/2021-06-07-14-06-31_e2e_rec_ss6: 3003\n",
      "/media/romet/data2/datasets/rally-estonia/dataset/2021-06-07-14-09-18_e2e_rec_ss6: 4551\n",
      "/media/romet/data2/datasets/rally-estonia/dataset/2021-06-07-14-36-16_e2e_rec_ss6: 25368\n",
      "Filtering turns with blinker signal\n",
      "554959\n"
     ]
    }
   ],
   "source": [
    "root_path = Path(\"/media/romet/data2/datasets/rally-estonia/dataset\")\n",
    "\n",
    "spring_ds = NvidiaSpringTrainDataset(root_path, filter_turns=True)\n",
    "spring_dl = torch.utils.data.DataLoader(spring_ds, batch_size=64, shuffle=True,\n",
    "                                         num_workers=60, pin_memory=True, persistent_workers=True)\n",
    "\n",
    "print(len(spring_ds.frames))"
   ]
  },
  {
   "cell_type": "code",
   "execution_count": 10,
   "id": "d9480e2f",
   "metadata": {},
   "outputs": [
    {
     "name": "stdout",
     "output_type": "stream",
     "text": [
      "/media/romet/data2/datasets/rally-estonia/dataset/2021-09-24-11-19-25_e2e_rec_ss10: 34760\n",
      "/media/romet/data2/datasets/rally-estonia/dataset/2021-09-24-11-40-24_e2e_rec_ss10_2: 16223\n",
      "/media/romet/data2/datasets/rally-estonia/dataset/2021-09-24-12-02-32_e2e_rec_ss10_3: 8142\n",
      "/media/romet/data2/datasets/rally-estonia/dataset/2021-09-24-12-21-20_e2e_rec_ss10_backwards: 64975\n",
      "/media/romet/data2/datasets/rally-estonia/dataset/2021-09-24-13-39-38_e2e_rec_ss11: 33255\n",
      "/media/romet/data2/datasets/rally-estonia/dataset/2021-09-30-13-57-00_e2e_rec_ss14: 3287\n",
      "/media/romet/data2/datasets/rally-estonia/dataset/2021-09-30-15-03-37_e2e_ss14_from_half_way: 21755\n",
      "/media/romet/data2/datasets/rally-estonia/dataset/2021-09-30-15-20-14_e2e_ss14_backwards: 52762\n",
      "/media/romet/data2/datasets/rally-estonia/dataset/2021-09-30-15-56-59_e2e_ss14_attempt_2: 66899\n",
      "/media/romet/data2/datasets/rally-estonia/dataset/2021-10-07-11-05-13_e2e_rec_ss3: 54211\n",
      "/media/romet/data2/datasets/rally-estonia/dataset/2021-10-07-11-44-52_e2e_rec_ss3_backwards: 63400\n",
      "/media/romet/data2/datasets/rally-estonia/dataset/2021-10-07-12-54-17_e2e_rec_ss4: 34056\n",
      "/media/romet/data2/datasets/rally-estonia/dataset/2021-10-07-13-22-35_e2e_rec_ss4_backwards: 34373\n",
      "/media/romet/data2/datasets/rally-estonia/dataset/2021-10-11-16-06-44_e2e_rec_ss2: 81250\n",
      "/media/romet/data2/datasets/rally-estonia/dataset/2021-10-11-17-10-23_e2e_rec_last_part: 4986\n",
      "/media/romet/data2/datasets/rally-estonia/dataset/2021-10-11-17-14-40_e2e_rec_backwards: 5236\n",
      "/media/romet/data2/datasets/rally-estonia/dataset/2021-10-11-17-20-12_e2e_rec_backwards: 68954\n",
      "/media/romet/data2/datasets/rally-estonia/dataset/2021-10-20-14-55-47_e2e_rec_vastse_ss13_17: 25021\n",
      "/media/romet/data2/datasets/rally-estonia/dataset/2021-10-20-13-57-51_e2e_rec_neeruti_ss19_22: 29395\n",
      "/media/romet/data2/datasets/rally-estonia/dataset/2021-10-20-14-15-07_e2e_rec_neeruti_ss19_22_back: 29639\n",
      "/media/romet/data2/datasets/rally-estonia/dataset/2021-10-25-17-31-48_e2e_rec_ss2_arula: 42414\n",
      "/media/romet/data2/datasets/rally-estonia/dataset/2021-10-25-17-06-34_e2e_rec_ss2_arula_back: 43298\n",
      "/media/romet/data2/datasets/rally-estonia/dataset/2021-10-26-10-49-06_e2e_rec_ss20_elva: 33045\n",
      "/media/romet/data2/datasets/rally-estonia/dataset/2021-10-26-11-08-59_e2e_rec_ss20_elva_back: 33281\n",
      "/media/romet/data2/datasets/rally-estonia/dataset/2021-09-24-14-03-45_e2e_rec_ss11_backwards: 25172\n",
      "/media/romet/data2/datasets/rally-estonia/dataset/2021-10-20-15-11-29_e2e_rec_vastse_ss13_17_back: 26763\n",
      "Filtering turns with blinker signal\n",
      "892526\n"
     ]
    }
   ],
   "source": [
    "autumn_ds = NvidiaAutumnTrainDataset(root_path, filter_turns=True)\n",
    "autumn_dl = torch.utils.data.DataLoader(spring_ds, batch_size=64, shuffle=True,\n",
    "                                         num_workers=60, pin_memory=True, persistent_workers=True)\n",
    "\n",
    "print(len(autumn_ds.frames))"
   ]
  },
  {
   "cell_type": "code",
   "execution_count": null,
   "id": "11985991",
   "metadata": {},
   "outputs": [],
   "source": []
  },
  {
   "cell_type": "code",
   "execution_count": null,
   "id": "e5d80a8d",
   "metadata": {},
   "outputs": [],
   "source": []
  }
 ],
 "metadata": {
  "kernelspec": {
   "display_name": "Python 3 (ipykernel)",
   "language": "python",
   "name": "python3"
  },
  "language_info": {
   "codemirror_mode": {
    "name": "ipython",
    "version": 3
   },
   "file_extension": ".py",
   "mimetype": "text/x-python",
   "name": "python",
   "nbconvert_exporter": "python",
   "pygments_lexer": "ipython3",
   "version": "3.9.6"
  }
 },
 "nbformat": 4,
 "nbformat_minor": 5
}
