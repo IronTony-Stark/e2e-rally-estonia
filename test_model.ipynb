{
 "cells": [
  {
   "cell_type": "code",
   "execution_count": 1,
   "id": "2d0ec628",
   "metadata": {},
   "outputs": [],
   "source": [
    "import numpy as np\n",
    "import pandas as pd\n",
    "import matplotlib.pyplot as plt\n",
    "from pathlib import Path\n",
    "import random\n",
    "import cv2\n",
    "\n",
    "\n",
    "import torch\n",
    "import torch.nn as nn\n",
    "import torchvision\n",
    "from torchvision import transforms\n",
    "\n",
    "from tqdm.auto import tqdm\n",
    "\n",
    "from dataloading.nvidia import NvidiaResizeAndCrop, Normalize, NvidiaDataset\n",
    "from trainer import Trainer\n",
    "\n",
    "%load_ext autoreload\n",
    "%autoreload 2"
   ]
  },
  {
   "cell_type": "code",
   "execution_count": 2,
   "id": "f7c88ce9",
   "metadata": {},
   "outputs": [],
   "source": [
    "root_path = Path(\"/home/romet/data/datasets/ut/nvidia-data\")\n",
    "valid_paths = [root_path / \"2021-05-20-13-59-00_e2e_sulaoja_10_10\"]\n",
    "validset = NvidiaDataset(valid_paths)"
   ]
  },
  {
   "cell_type": "code",
   "execution_count": 3,
   "id": "dc745f9a",
   "metadata": {},
   "outputs": [],
   "source": [
    "def resize(img):\n",
    "    width = 258\n",
    "    height = 66\n",
    "    return cv2.resize(img, dsize=(width, height), interpolation=cv2.INTER_LINEAR)\n",
    "\n",
    "def normalise(img):\n",
    "    z = (img / 255)\n",
    "    z[..., :] -= [0.485, 0.456, 0.406]\n",
    "    z[..., :] /= [0.229, 0.224, 0.225]\n",
    "\n",
    "    return z\n",
    "\n",
    "def crop(img):\n",
    "    return img[600:969, 186:1734, :]\n",
    "\n",
    "def preprocess(img):\n",
    "    img = crop(img)\n",
    "    img = resize(img)\n",
    "    img = normalise(img)\n",
    "    return img\n",
    "\n",
    "def read_image(image_path):\n",
    "    img = cv2.imread(image_path)\n",
    "    img = preprocess(img)\n",
    "    return img\n",
    "\n",
    "def create_tensor(img):\n",
    "    device = torch.device('cuda' if torch.cuda.is_available() else 'cpu')    \n",
    "    img_tensor = torch.FloatTensor(img).to(device).permute(2, 0, 1).unsqueeze(0)\n",
    "    return img_tensor"
   ]
  },
  {
   "cell_type": "code",
   "execution_count": 4,
   "id": "0d5364ca",
   "metadata": {},
   "outputs": [],
   "source": [
    "import tensorrt as trt\n",
    "import pycuda.driver as cuda\n",
    "import pycuda.autoinit\n",
    "\n",
    "import os\n",
    "\n",
    "# Simple helper data class that's a little nicer to use than a 2-tuple.\n",
    "class HostDeviceMem(object):\n",
    "    def __init__(self, host_mem, device_mem):\n",
    "        self.host = host_mem\n",
    "        self.device = device_mem\n",
    "\n",
    "    def __str__(self):\n",
    "        return \"Host:\\n\" + str(self.host) + \"\\nDevice:\\n\" + str(self.device)\n",
    "\n",
    "    def __repr__(self):\n",
    "        return self.__str__()\n",
    "\n",
    "class TensorrtModel:\n",
    "    def __init__(self, onnx_file_path):\n",
    "        self.init_tensorrt(onnx_file_path)\n",
    "        \n",
    "    def predict(self, img):\n",
    "        self.inputs[0].host = img\n",
    "        out = self.do_inference_v2(self.context, self.bindings, self.inputs, self.outputs, self.stream)[0]\n",
    "        if type(out) == np.ndarray:\n",
    "            out = out[0]\n",
    "        return out\n",
    "    \n",
    "    # Allocates all buffers required for an engine, i.e. host/device inputs/outputs.\n",
    "    def allocate_buffers(self, engine):\n",
    "        inputs = []\n",
    "        outputs = []\n",
    "        bindings = []\n",
    "        stream = cuda.Stream()\n",
    "        for binding in engine:\n",
    "            size = trt.volume(engine.get_binding_shape(binding)) * engine.max_batch_size\n",
    "            dtype = trt.nptype(engine.get_binding_dtype(binding))\n",
    "            # Allocate host and device buffers\n",
    "            host_mem = cuda.pagelocked_empty(size, dtype)\n",
    "            device_mem = cuda.mem_alloc(host_mem.nbytes)\n",
    "            # Append the device buffer to device bindings.\n",
    "            bindings.append(int(device_mem))\n",
    "            # Append to the appropriate list.\n",
    "            if engine.binding_is_input(binding):\n",
    "                inputs.append(HostDeviceMem(host_mem, device_mem))\n",
    "            else:\n",
    "                outputs.append(HostDeviceMem(host_mem, device_mem))\n",
    "        return inputs, outputs, bindings, stream\n",
    "\n",
    "    # This function is generalized for multiple inputs/outputs for full dimension networks.\n",
    "    # inputs and outputs are expected to be lists of HostDeviceMem objects.\n",
    "    def do_inference_v2(self, context, bindings, inputs, outputs, stream):\n",
    "        # Transfer input data to the GPU.\n",
    "        [cuda.memcpy_htod_async(inp.device, inp.host, stream) for inp in inputs]\n",
    "        # Run inference.\n",
    "        context.execute_async_v2(bindings=bindings, stream_handle=stream.handle)\n",
    "        # Transfer predictions back from the GPU.\n",
    "        [cuda.memcpy_dtoh_async(out.host, out.device, stream) for out in outputs]\n",
    "        # Synchronize the stream\n",
    "        stream.synchronize()\n",
    "        # Return only the host outputs.\n",
    "        return [out.host for out in outputs]\n",
    "\n",
    "    def build_engine_from_onnx(self, onnx_file_path):\n",
    "        \"\"\"Takes an ONNX file and creates a TensorRT engine to run inference with\"\"\"\n",
    "        EXPLICIT_BATCH = 1 << (int)(trt.NetworkDefinitionCreationFlag.EXPLICIT_BATCH)\n",
    "        with trt.Logger() as trt_logger, trt.Builder(trt_logger) as builder, builder.create_network(\n",
    "                EXPLICIT_BATCH) as network, trt.OnnxParser(network, trt_logger) as parser:\n",
    "            builder.max_workspace_size = 1 << 28  # 256MiB\n",
    "            builder.max_batch_size = 1\n",
    "            # Parse model file\n",
    "            if not os.path.exists(onnx_file_path):\n",
    "                print('ONNX file {} not found.'.format(onnx_file_path))\n",
    "                exit(0)\n",
    "            print('Loading ONNX file from path {}...'.format(onnx_file_path))\n",
    "            with open(onnx_file_path, 'rb') as model:\n",
    "                print('Beginning ONNX file parsing')\n",
    "                if not parser.parse(model.read()):\n",
    "                    print('ERROR: Failed to parse the ONNX file.')\n",
    "                    for error in range(parser.num_errors):\n",
    "                        print(parser.get_error(error))\n",
    "                    return None\n",
    "            # The actual yolov3.onnx is generated with batch size 64. Reshape input to batch size 1\n",
    "            # network.get_input(0).shape = [1, 3, 128, 1024 ]\n",
    "            print('Completed parsing of ONNX file')\n",
    "            print('Building an engine from file {}; this may take a while...'.format(onnx_file_path))\n",
    "            engine = builder.build_cuda_engine(network)\n",
    "            print(\"Completed creating Engine\")\n",
    "            return engine\n",
    "\n",
    "    def init_tensorrt(self, onnx_file_path):\n",
    "        engine = self.build_engine_from_onnx(onnx_file_path)\n",
    "        self.inputs, self.outputs, self.bindings, self.stream = self.allocate_buffers(engine)\n",
    "        self.context = engine.create_execution_context()"
   ]
  },
  {
   "cell_type": "code",
   "execution_count": 5,
   "id": "a5c1b81e",
   "metadata": {},
   "outputs": [
    {
     "name": "stdout",
     "output_type": "stream",
     "text": [
      "Loading ONNX file from path /home/romet/Projects/nvidia-e2e/models/1-pilotnet-base/1cam/best.onnx...\n",
      "Beginning ONNX file parsing\n",
      "Completed parsing of ONNX file\n",
      "Building an engine from file /home/romet/Projects/nvidia-e2e/models/1-pilotnet-base/1cam/best.onnx; this may take a while...\n",
      "Completed creating Engine\n"
     ]
    }
   ],
   "source": [
    "onnx = \"/home/romet/Projects/nvidia-e2e/models/1-pilotnet-base/1cam/best.onnx\"\n",
    "tensorrt_model = TensorrtModel(onnx)"
   ]
  },
  {
   "cell_type": "code",
   "execution_count": 6,
   "id": "12f95369",
   "metadata": {},
   "outputs": [
    {
     "data": {
      "text/plain": [
       "0.13163695"
      ]
     },
     "execution_count": 6,
     "metadata": {},
     "output_type": "execute_result"
    }
   ],
   "source": [
    "img = read_image(validset.image_paths[111])\n",
    "img = np.transpose(img, [2, 0, 1])\n",
    "img = np.expand_dims(img, axis=0)\n",
    "img = np.array(img, dtype=np.float32, order='C')\n",
    "prediction = tensorrt_model.predict(img)\n",
    "prediction"
   ]
  },
  {
   "cell_type": "code",
   "execution_count": 7,
   "id": "eddaf3f9",
   "metadata": {},
   "outputs": [
    {
     "data": {
      "application/vnd.jupyter.widget-view+json": {
       "model_id": "88b1ee76ec3c4934a0aadfee9ad99cf9",
       "version_major": 2,
       "version_minor": 0
      },
      "text/plain": [
       "  0%|          | 0/687 [00:00<?, ?it/s]"
      ]
     },
     "metadata": {},
     "output_type": "display_data"
    }
   ],
   "source": [
    "tensorrt_predictions = []\n",
    "\n",
    "for path in tqdm(validset.image_paths):\n",
    "    img = read_image(path)\n",
    "    img = np.transpose(img, [2, 0, 1])\n",
    "    img = np.expand_dims(img, axis=0)\n",
    "    img = np.array(img, dtype=np.float32, order='C')\n",
    "    prediction = tensorrt_model.predict(img)\n",
    "    tensorrt_predictions.append(prediction)"
   ]
  },
  {
   "cell_type": "code",
   "execution_count": 8,
   "id": "1d8d93de",
   "metadata": {},
   "outputs": [
    {
     "data": {
      "text/plain": [
       "PilotNet(\n",
       "  (conv1): Conv2d(3, 24, kernel_size=(5, 5), stride=(2, 2))\n",
       "  (conv2): Conv2d(24, 36, kernel_size=(5, 5), stride=(2, 2))\n",
       "  (conv3): Conv2d(36, 48, kernel_size=(5, 5), stride=(2, 2))\n",
       "  (conv4): Conv2d(48, 64, kernel_size=(3, 3), stride=(1, 1))\n",
       "  (conv5): Conv2d(64, 64, kernel_size=(3, 3), stride=(1, 1))\n",
       "  (dropout): Dropout(p=0.2, inplace=False)\n",
       "  (lin1): Linear(in_features=1600, out_features=100, bias=True)\n",
       "  (lin2): Linear(in_features=100, out_features=50, bias=True)\n",
       "  (lin3): Linear(in_features=50, out_features=10, bias=True)\n",
       "  (lin4): Linear(in_features=10, out_features=1, bias=True)\n",
       "  (lr): LeakyReLU(negative_slope=0.01)\n",
       "  (tanh): Tanh()\n",
       "  (sigm): Sigmoid()\n",
       ")"
      ]
     },
     "execution_count": 8,
     "metadata": {},
     "output_type": "execute_result"
    }
   ],
   "source": [
    "trainer = Trainer(\"\")\n",
    "torch_model = trainer.load_model(\"models/1-pilotnet-base/1cam/best.pt\")\n",
    "torch_model.eval()"
   ]
  },
  {
   "cell_type": "code",
   "execution_count": 9,
   "id": "5a3f18a7",
   "metadata": {},
   "outputs": [
    {
     "data": {
      "application/vnd.jupyter.widget-view+json": {
       "model_id": "604bbee659144a8e802978c1cc141c2f",
       "version_major": 2,
       "version_minor": 0
      },
      "text/plain": [
       "  0%|          | 0/687 [00:00<?, ?it/s]"
      ]
     },
     "metadata": {},
     "output_type": "display_data"
    }
   ],
   "source": [
    "torch_predictions = []\n",
    "\n",
    "for path in tqdm(validset.image_paths):\n",
    "    img = read_image(path)\n",
    "    img_tensor = create_tensor(img)\n",
    "    prediction = torch_model(img_tensor).squeeze(1)\n",
    "    torch_predictions.append(prediction.item())"
   ]
  },
  {
   "cell_type": "code",
   "execution_count": 10,
   "id": "ba17205b",
   "metadata": {},
   "outputs": [
    {
     "data": {
      "text/plain": [
       "torch.Size([3, 1208, 1920])"
      ]
     },
     "execution_count": 10,
     "metadata": {},
     "output_type": "execute_result"
    }
   ],
   "source": [
    "validset[0][\"image\"].shape"
   ]
  },
  {
   "cell_type": "code",
   "execution_count": 11,
   "id": "8251b741",
   "metadata": {},
   "outputs": [
    {
     "data": {
      "application/vnd.jupyter.widget-view+json": {
       "model_id": "499c240935e14f5485c4d5c9a89e2abb",
       "version_major": 2,
       "version_minor": 0
      },
      "text/plain": [
       "  0%|          | 0/11 [00:00<?, ?it/s]"
      ]
     },
     "metadata": {},
     "output_type": "display_data"
    }
   ],
   "source": [
    "tr = transforms.Compose([NvidiaResizeAndCrop(), Normalize()])\n",
    "validset_tr = NvidiaDataset(valid_paths, tr)\n",
    "torch_transforms_predictions = trainer.predict(torch_model, validset_tr)"
   ]
  },
  {
   "cell_type": "code",
   "execution_count": 12,
   "id": "9f8a688f",
   "metadata": {},
   "outputs": [
    {
     "data": {
      "image/png": "[encoded data removed]",
      "text/plain": [
       "<Figure size 1512x504 with 3 Axes>"
      ]
     },
     "metadata": {
      "needs_background": "light"
     },
     "output_type": "display_data"
    }
   ],
   "source": [
    "fig, (ax1, ax2, ax3) = plt.subplots(1, 3, figsize=(21, 7))\n",
    "\n",
    "ax1.plot(validset.steering_angles)\n",
    "ax1.plot(torch_transforms_predictions)\n",
    "ax1.legend([\"ground truth\", \"predictions\"])\n",
    "ax1.set_title(\"PyTorch model with transforms\")\n",
    "\n",
    "ax2.plot(validset.steering_angles)\n",
    "ax2.plot(torch_predictions)\n",
    "ax2.legend([\"ground truth\", \"predictions\"])\n",
    "ax2.set_title(\"PyTorch model with numpy/cv2 preprocessing\")\n",
    "\n",
    "ax3.plot(validset.steering_angles)\n",
    "ax3.plot(tensorrt_predictions)\n",
    "ax3.legend([\"ground truth\", \"predictions\"])\n",
    "ax3.set_title(\"TensorRT\");"
   ]
  },
  {
   "cell_type": "code",
   "execution_count": 13,
   "id": "7d7f7084",
   "metadata": {},
   "outputs": [],
   "source": [
    "import math\n",
    "import cv2\n",
    "import shutil\n",
    "from skimage import io\n",
    "import os\n",
    "from moviepy.editor import ImageSequenceClip\n",
    "\n",
    "\n",
    "def draw_steering_angle(frame, steering_angle, steering_wheel_radius, steering_position, size, color):\n",
    "    steering_angle_rad = math.radians(steering_angle)\n",
    "    x = steering_wheel_radius * np.cos(np.pi / 2 + steering_angle_rad)\n",
    "    y = steering_wheel_radius * np.sin(np.pi / 2 + steering_angle_rad)\n",
    "    cv2.circle(frame, (steering_position[0] + int(x), steering_position[1] - int(y)), size, color, thickness=-1)\n",
    "    \n",
    "def draw_frames(dataset, predicted_angles, temp_frames_folder):\n",
    "    \n",
    "    for frame_index, data in tqdm(enumerate(dataset), total=len(dataset)):\n",
    "        frame = data[\"image\"].permute(1, 2, 0).cpu().numpy()\n",
    "        true_angle = math.degrees(data[\"steering_angle\"])\n",
    "        pred_angle = math.degrees(predicted_angles[frame_index])\n",
    "        \n",
    "        cv2.putText(frame, 'True: {:.2f}deg'.format(true_angle), (10, 1150), cv2.FONT_HERSHEY_SIMPLEX, 1, (0, 255, 0), 2,\n",
    "                    cv2.LINE_AA)\n",
    "        cv2.putText(frame, 'Pred: {:.2f}deg'.format(pred_angle), (10, 1200), cv2.FONT_HERSHEY_SIMPLEX, 1, (255, 0, 0), 2,\n",
    "                    cv2.LINE_AA)\n",
    "    \n",
    "        radius = 200\n",
    "        steering_pos = (960, 1200)\n",
    "        cv2.circle(frame, steering_pos, radius, (255, 255, 255), 7)\n",
    "\n",
    "        draw_steering_angle(frame, true_angle, radius, steering_pos, 13, (0, 255, 0))\n",
    "        draw_steering_angle(frame, pred_angle, radius, steering_pos, 9, (255, 0, 0))\n",
    "            \n",
    "        io.imsave(f\"{temp_frames_folder}/{frame_index + 1:05}.jpg\", frame)\n",
    "        \n",
    "\n",
    "def convert_frames_to_video(frames_folder, output_video_path, fps=25):\n",
    "    output_folder = Path(os.path.split(output_video_path)[:-1][0])\n",
    "    output_folder.mkdir(parents=True, exist_ok=True)\n",
    "\n",
    "    p = Path(frames_folder).glob('**/*.jpg')\n",
    "    image_list = sorted([str(x) for x in p if x.is_file()])\n",
    "\n",
    "    print(\"Creating video {}, FPS={}\".format(frames_folder, fps))\n",
    "    clip = ImageSequenceClip(image_list, fps=fps)\n",
    "    clip.write_videofile(output_video_path)\n"
   ]
  },
  {
   "cell_type": "code",
   "execution_count": 14,
   "id": "242ce918",
   "metadata": {},
   "outputs": [
    {
     "data": {
      "application/vnd.jupyter.widget-view+json": {
       "model_id": "4330b84d79e8417980363c75b975d0b2",
       "version_major": 2,
       "version_minor": 0
      },
      "text/plain": [
       "  0%|          | 0/687 [00:00<?, ?it/s]"
      ]
     },
     "metadata": {},
     "output_type": "display_data"
    },
    {
     "name": "stdout",
     "output_type": "stream",
     "text": [
      "Creating video temp_frames, FPS=15\n"
     ]
    },
    {
     "name": "stderr",
     "output_type": "stream",
     "text": [
      "\n",
      "t:   0%|          | 0/688 [00:00<?, ?it/s, now=None]\u001b[A"
     ]
    },
    {
     "name": "stdout",
     "output_type": "stream",
     "text": [
      "Moviepy - Building video output/test3.mp4.\n",
      "Moviepy - Writing video output/test3.mp4\n",
      "\n"
     ]
    },
    {
     "name": "stderr",
     "output_type": "stream",
     "text": [
      "\n",
      "t:   1%|          | 5/688 [00:00<00:16, 41.60it/s, now=None]\u001b[A\n",
      "t:   1%|▏         | 10/688 [00:00<00:20, 32.65it/s, now=None]\u001b[A\n",
      "t:   2%|▏         | 14/688 [00:00<00:22, 29.51it/s, now=None]\u001b[A\n",
      "t:   3%|▎         | 18/688 [00:00<00:22, 30.22it/s, now=None]\u001b[A\n",
      "t:   3%|▎         | 22/688 [00:00<00:22, 30.13it/s, now=None]\u001b[A\n",
      "t:   4%|▍         | 26/688 [00:00<00:22, 30.07it/s, now=None]\u001b[A\n",
      "t:   4%|▍         | 30/688 [00:00<00:22, 29.19it/s, now=None]\u001b[A\n",
      "t:   5%|▍         | 34/688 [00:01<00:22, 29.50it/s, now=None]\u001b[A\n",
      "t:   6%|▌         | 38/688 [00:01<00:21, 29.68it/s, now=None]\u001b[A\n",
      "t:   6%|▌         | 42/688 [00:01<00:21, 29.87it/s, now=None]\u001b[A\n",
      "t:   7%|▋         | 45/688 [00:01<00:21, 29.71it/s, now=None]\u001b[A\n",
      "t:   7%|▋         | 48/688 [00:01<00:36, 17.31it/s, now=None]\u001b[A\n",
      "t:   7%|▋         | 51/688 [00:02<00:35, 17.70it/s, now=None]\u001b[A\n",
      "t:   8%|▊         | 54/688 [00:02<00:35, 17.71it/s, now=None]\u001b[A\n",
      "t:   8%|▊         | 57/688 [00:02<00:38, 16.42it/s, now=None]\u001b[A\n",
      "t:   9%|▊         | 59/688 [00:02<00:38, 16.19it/s, now=None]\u001b[A\n",
      "t:   9%|▉         | 61/688 [00:02<00:39, 15.91it/s, now=None]\u001b[A\n",
      "t:   9%|▉         | 63/688 [00:02<00:39, 15.98it/s, now=None]\u001b[A\n",
      "t:   9%|▉         | 65/688 [00:02<00:39, 15.65it/s, now=None]\u001b[A\n",
      "t:  10%|▉         | 67/688 [00:03<00:43, 14.12it/s, now=None]\u001b[A\n",
      "t:  10%|█         | 69/688 [00:03<00:47, 13.07it/s, now=None]\u001b[A\n",
      "t:  10%|█         | 71/688 [00:03<01:00, 10.28it/s, now=None]\u001b[A\n",
      "t:  11%|█         | 73/688 [00:03<00:53, 11.50it/s, now=None]\u001b[A\n",
      "t:  11%|█         | 75/688 [00:03<00:50, 12.24it/s, now=None]\u001b[A\n",
      "t:  11%|█         | 77/688 [00:04<00:55, 11.08it/s, now=None]\u001b[A\n",
      "t:  11%|█▏        | 79/688 [00:04<00:50, 12.01it/s, now=None]\u001b[A\n",
      "t:  12%|█▏        | 81/688 [00:04<00:49, 12.33it/s, now=None]\u001b[A\n",
      "t:  12%|█▏        | 83/688 [00:04<00:44, 13.52it/s, now=None]\u001b[A\n",
      "t:  12%|█▏        | 85/688 [00:04<01:00, 10.05it/s, now=None]\u001b[A\n",
      "t:  13%|█▎        | 87/688 [00:04<00:53, 11.28it/s, now=None]\u001b[A\n",
      "t:  13%|█▎        | 89/688 [00:05<00:51, 11.64it/s, now=None]\u001b[A\n",
      "t:  13%|█▎        | 91/688 [00:05<00:45, 13.20it/s, now=None]\u001b[A\n",
      "t:  14%|█▎        | 93/688 [00:05<00:43, 13.70it/s, now=None]\u001b[A\n",
      "t:  14%|█▍        | 95/688 [00:05<00:41, 14.20it/s, now=None]\u001b[A\n",
      "t:  14%|█▍        | 97/688 [00:05<00:40, 14.75it/s, now=None]\u001b[A\n",
      "t:  15%|█▍        | 100/688 [00:05<00:35, 16.47it/s, now=None]\u001b[A\n",
      "t:  15%|█▍        | 102/688 [00:05<00:37, 15.72it/s, now=None]\u001b[A\n",
      "t:  15%|█▌        | 104/688 [00:05<00:35, 16.29it/s, now=None]\u001b[A\n",
      "t:  15%|█▌        | 106/688 [00:06<00:41, 14.16it/s, now=None]\u001b[A\n",
      "t:  16%|█▌        | 108/688 [00:06<01:07,  8.60it/s, now=None]\u001b[A\n",
      "t:  16%|█▌        | 110/688 [00:06<00:57, 10.07it/s, now=None]\u001b[A\n",
      "t:  16%|█▋        | 112/688 [00:06<00:51, 11.26it/s, now=None]\u001b[A\n",
      "t:  17%|█▋        | 114/688 [00:06<00:46, 12.43it/s, now=None]\u001b[A\n",
      "t:  17%|█▋        | 116/688 [00:07<00:45, 12.68it/s, now=None]\u001b[A\n",
      "t:  17%|█▋        | 118/688 [00:07<00:41, 13.84it/s, now=None]\u001b[A\n",
      "t:  17%|█▋        | 120/688 [00:07<00:38, 14.79it/s, now=None]\u001b[A\n",
      "t:  18%|█▊        | 122/688 [00:07<00:40, 14.09it/s, now=None]\u001b[A\n",
      "t:  18%|█▊        | 124/688 [00:07<00:49, 11.40it/s, now=None]\u001b[A\n",
      "t:  18%|█▊        | 126/688 [00:07<00:48, 11.52it/s, now=None]\u001b[A\n",
      "t:  19%|█▉        | 129/688 [00:08<00:38, 14.37it/s, now=None]\u001b[A\n",
      "t:  19%|█▉        | 131/688 [00:08<00:36, 15.44it/s, now=None]\u001b[A\n",
      "t:  19%|█▉        | 134/688 [00:08<00:32, 17.27it/s, now=None]\u001b[A\n",
      "t:  20%|█▉        | 137/688 [00:08<00:39, 14.05it/s, now=None]\u001b[A\n",
      "t:  20%|██        | 139/688 [00:08<00:37, 14.69it/s, now=None]\u001b[A\n",
      "t:  21%|██        | 142/688 [00:08<00:32, 16.84it/s, now=None]\u001b[A\n",
      "t:  21%|██        | 144/688 [00:08<00:32, 16.66it/s, now=None]\u001b[A\n",
      "t:  21%|██        | 146/688 [00:09<00:33, 16.15it/s, now=None]\u001b[A\n",
      "t:  22%|██▏       | 148/688 [00:09<00:34, 15.81it/s, now=None]\u001b[A\n",
      "t:  22%|██▏       | 150/688 [00:09<00:35, 15.35it/s, now=None]\u001b[A\n",
      "t:  22%|██▏       | 152/688 [00:09<00:32, 16.31it/s, now=None]\u001b[A\n",
      "t:  22%|██▏       | 154/688 [00:09<00:39, 13.49it/s, now=None]\u001b[A\n",
      "t:  23%|██▎       | 156/688 [00:09<00:38, 13.66it/s, now=None]\u001b[A\n",
      "t:  23%|██▎       | 158/688 [00:10<00:42, 12.33it/s, now=None]\u001b[A\n",
      "t:  23%|██▎       | 160/688 [00:10<01:00,  8.66it/s, now=None]\u001b[A\n",
      "t:  24%|██▎       | 163/688 [00:10<00:46, 11.40it/s, now=None]\u001b[A\n",
      "t:  24%|██▍       | 165/688 [00:10<00:42, 12.38it/s, now=None]\u001b[A\n",
      "t:  24%|██▍       | 167/688 [00:10<00:39, 13.05it/s, now=None]\u001b[A\n",
      "t:  25%|██▍       | 169/688 [00:10<00:36, 14.14it/s, now=None]\u001b[A\n",
      "t:  25%|██▍       | 171/688 [00:11<00:34, 15.03it/s, now=None]\u001b[A\n",
      "t:  25%|██▌       | 173/688 [00:11<00:33, 15.43it/s, now=None]\u001b[A\n",
      "t:  25%|██▌       | 175/688 [00:11<00:34, 14.71it/s, now=None]\u001b[A\n",
      "t:  26%|██▌       | 177/688 [00:11<00:34, 14.71it/s, now=None]\u001b[A\n",
      "t:  26%|██▌       | 179/688 [00:11<00:35, 14.51it/s, now=None]\u001b[A\n",
      "t:  26%|██▋       | 181/688 [00:11<00:36, 13.81it/s, now=None]\u001b[A\n",
      "t:  27%|██▋       | 183/688 [00:11<00:35, 14.27it/s, now=None]\u001b[A\n",
      "t:  27%|██▋       | 185/688 [00:12<00:33, 14.88it/s, now=None]\u001b[A\n",
      "t:  27%|██▋       | 187/688 [00:12<00:33, 14.83it/s, now=None]\u001b[A\n",
      "t:  27%|██▋       | 189/688 [00:12<00:34, 14.56it/s, now=None]\u001b[A\n",
      "t:  28%|██▊       | 191/688 [00:12<00:37, 13.23it/s, now=None]\u001b[A\n",
      "t:  28%|██▊       | 193/688 [00:12<00:34, 14.47it/s, now=None]\u001b[A\n",
      "t:  28%|██▊       | 195/688 [00:12<00:33, 14.75it/s, now=None]\u001b[A\n",
      "t:  29%|██▉       | 198/688 [00:12<00:29, 16.84it/s, now=None]\u001b[A\n",
      "t:  29%|██▉       | 200/688 [00:12<00:28, 17.39it/s, now=None]\u001b[A\n",
      "t:  29%|██▉       | 202/688 [00:13<00:41, 11.72it/s, now=None]\u001b[A\n",
      "t:  30%|██▉       | 204/688 [00:13<00:43, 11.08it/s, now=None]\u001b[A\n",
      "t:  30%|██▉       | 206/688 [00:13<00:38, 12.54it/s, now=None]\u001b[A\n",
      "t:  30%|███       | 208/688 [00:13<00:46, 10.41it/s, now=None]\u001b[A\n",
      "t:  31%|███       | 210/688 [00:13<00:41, 11.66it/s, now=None]\u001b[A\n",
      "t:  31%|███       | 212/688 [00:14<00:37, 12.62it/s, now=None]\u001b[A\n",
      "t:  31%|███       | 214/688 [00:14<00:34, 13.55it/s, now=None]\u001b[A\n",
      "t:  31%|███▏      | 216/688 [00:14<00:36, 12.76it/s, now=None]\u001b[A\n",
      "t:  32%|███▏      | 218/688 [00:14<00:34, 13.62it/s, now=None]\u001b[A\n",
      "t:  32%|███▏      | 220/688 [00:14<00:33, 14.17it/s, now=None]\u001b[A\n",
      "t:  32%|███▏      | 222/688 [00:14<00:30, 15.29it/s, now=None]\u001b[A\n",
      "t:  33%|███▎      | 224/688 [00:14<00:30, 15.17it/s, now=None]\u001b[A\n",
      "t:  33%|███▎      | 226/688 [00:15<00:31, 14.65it/s, now=None]\u001b[A\n",
      "t:  33%|███▎      | 228/688 [00:15<00:30, 15.13it/s, now=None]\u001b[A\n",
      "t:  33%|███▎      | 230/688 [00:15<00:31, 14.50it/s, now=None]\u001b[A\n",
      "t:  34%|███▎      | 232/688 [00:15<00:29, 15.37it/s, now=None]\u001b[A\n",
      "t:  34%|███▍      | 234/688 [00:15<00:32, 14.03it/s, now=None]\u001b[A\n",
      "t:  34%|███▍      | 236/688 [00:15<00:31, 14.32it/s, now=None]\u001b[A\n",
      "t:  35%|███▍      | 238/688 [00:15<00:30, 14.96it/s, now=None]\u001b[A\n",
      "t:  35%|███▌      | 241/688 [00:15<00:26, 16.58it/s, now=None]\u001b[A\n",
      "t:  35%|███▌      | 243/688 [00:16<00:27, 16.45it/s, now=None]\u001b[A\n",
      "t:  36%|███▌      | 245/688 [00:16<00:28, 15.42it/s, now=None]\u001b[A\n",
      "t:  36%|███▌      | 247/688 [00:16<00:28, 15.58it/s, now=None]\u001b[A\n",
      "t:  36%|███▌      | 249/688 [00:16<00:28, 15.59it/s, now=None]\u001b[A\n",
      "t:  36%|███▋      | 251/688 [00:16<00:28, 15.08it/s, now=None]\u001b[A\n",
      "t:  37%|███▋      | 253/688 [00:16<00:27, 15.63it/s, now=None]\u001b[A\n",
      "t:  37%|███▋      | 255/688 [00:16<00:30, 14.41it/s, now=None]\u001b[A\n",
      "t:  37%|███▋      | 257/688 [00:17<00:27, 15.61it/s, now=None]\u001b[A\n",
      "t:  38%|███▊      | 259/688 [00:17<00:33, 12.96it/s, now=None]\u001b[A\n",
      "t:  38%|███▊      | 261/688 [00:17<00:31, 13.36it/s, now=None]\u001b[A\n",
      "t:  38%|███▊      | 263/688 [00:17<00:29, 14.57it/s, now=None]\u001b[A\n",
      "t:  39%|███▊      | 265/688 [00:17<00:28, 14.89it/s, now=None]\u001b[A\n",
      "t:  39%|███▉      | 267/688 [00:17<00:28, 14.86it/s, now=None]\u001b[A\n",
      "t:  39%|███▉      | 269/688 [00:17<00:27, 15.16it/s, now=None]\u001b[A\n",
      "t:  39%|███▉      | 271/688 [00:18<00:28, 14.60it/s, now=None]\u001b[A\n",
      "t:  40%|███▉      | 273/688 [00:18<00:27, 15.11it/s, now=None]\u001b[A\n",
      "t:  40%|███▉      | 275/688 [00:18<00:26, 15.32it/s, now=None]\u001b[A\n",
      "t:  40%|████      | 277/688 [00:18<00:27, 14.96it/s, now=None]\u001b[A\n",
      "t:  41%|████      | 279/688 [00:18<00:28, 14.52it/s, now=None]\u001b[A\n",
      "t:  41%|████      | 281/688 [00:18<00:26, 15.11it/s, now=None]\u001b[A\n",
      "t:  41%|████      | 283/688 [00:18<00:28, 14.21it/s, now=None]\u001b[A\n"
     ]
    },
    {
     "name": "stderr",
     "output_type": "stream",
     "text": [
      "t:  41%|████▏     | 285/688 [00:19<00:29, 13.63it/s, now=None]\u001b[A\n",
      "t:  42%|████▏     | 287/688 [00:19<00:31, 12.84it/s, now=None]\u001b[A\n",
      "t:  42%|████▏     | 289/688 [00:19<00:29, 13.46it/s, now=None]\u001b[A\n",
      "t:  42%|████▏     | 291/688 [00:19<00:27, 14.46it/s, now=None]\u001b[A\n",
      "t:  43%|████▎     | 293/688 [00:19<00:29, 13.37it/s, now=None]\u001b[A\n",
      "t:  43%|████▎     | 295/688 [00:19<00:28, 13.85it/s, now=None]\u001b[A\n",
      "t:  43%|████▎     | 297/688 [00:19<00:29, 13.47it/s, now=None]\u001b[A\n",
      "t:  43%|████▎     | 299/688 [00:20<00:27, 14.04it/s, now=None]\u001b[A\n",
      "t:  44%|████▍     | 301/688 [00:20<00:26, 14.44it/s, now=None]\u001b[A\n",
      "t:  44%|████▍     | 303/688 [00:20<00:26, 14.43it/s, now=None]\u001b[A\n",
      "t:  44%|████▍     | 305/688 [00:20<00:27, 13.74it/s, now=None]\u001b[A\n",
      "t:  45%|████▍     | 307/688 [00:20<00:28, 13.17it/s, now=None]\u001b[A\n",
      "t:  45%|████▍     | 309/688 [00:20<00:26, 14.14it/s, now=None]\u001b[A\n",
      "t:  45%|████▌     | 311/688 [00:20<00:25, 14.95it/s, now=None]\u001b[A\n",
      "t:  45%|████▌     | 313/688 [00:21<00:26, 13.89it/s, now=None]\u001b[A\n",
      "t:  46%|████▌     | 315/688 [00:21<00:33, 11.04it/s, now=None]\u001b[A\n",
      "t:  46%|████▌     | 317/688 [00:21<00:29, 12.72it/s, now=None]\u001b[A\n",
      "t:  46%|████▋     | 319/688 [00:21<00:31, 11.90it/s, now=None]\u001b[A\n",
      "t:  47%|████▋     | 321/688 [00:21<00:31, 11.78it/s, now=None]\u001b[A\n",
      "t:  47%|████▋     | 323/688 [00:21<00:28, 12.72it/s, now=None]\u001b[A\n",
      "t:  47%|████▋     | 325/688 [00:22<00:32, 11.03it/s, now=None]\u001b[A\n",
      "t:  48%|████▊     | 327/688 [00:22<00:29, 12.20it/s, now=None]\u001b[A\n",
      "t:  48%|████▊     | 329/688 [00:22<00:33, 10.88it/s, now=None]\u001b[A\n",
      "t:  48%|████▊     | 331/688 [00:22<00:29, 12.18it/s, now=None]\u001b[A\n",
      "t:  48%|████▊     | 333/688 [00:22<00:26, 13.38it/s, now=None]\u001b[A\n",
      "t:  49%|████▊     | 335/688 [00:22<00:24, 14.26it/s, now=None]\u001b[A\n",
      "t:  49%|████▉     | 337/688 [00:23<00:32, 10.68it/s, now=None]\u001b[A\n",
      "t:  49%|████▉     | 339/688 [00:23<00:33, 10.48it/s, now=None]\u001b[A\n",
      "t:  50%|████▉     | 341/688 [00:23<00:29, 11.87it/s, now=None]\u001b[A\n",
      "t:  50%|████▉     | 343/688 [00:23<00:26, 13.14it/s, now=None]\u001b[A\n",
      "t:  50%|█████     | 345/688 [00:23<00:25, 13.52it/s, now=None]\u001b[A\n",
      "t:  50%|█████     | 347/688 [00:23<00:26, 12.65it/s, now=None]\u001b[A\n",
      "t:  51%|█████     | 349/688 [00:24<00:27, 12.23it/s, now=None]\u001b[A\n",
      "t:  51%|█████     | 351/688 [00:24<00:29, 11.49it/s, now=None]\u001b[A\n",
      "t:  51%|█████▏    | 353/688 [00:24<00:26, 12.61it/s, now=None]\u001b[A\n",
      "t:  52%|█████▏    | 355/688 [00:24<00:28, 11.68it/s, now=None]\u001b[A\n",
      "t:  52%|█████▏    | 357/688 [00:24<00:26, 12.35it/s, now=None]\u001b[A\n",
      "t:  52%|█████▏    | 359/688 [00:24<00:30, 10.81it/s, now=None]\u001b[A\n",
      "t:  52%|█████▏    | 361/688 [00:25<00:27, 12.01it/s, now=None]\u001b[A\n",
      "t:  53%|█████▎    | 363/688 [00:25<00:26, 12.49it/s, now=None]\u001b[A\n",
      "t:  53%|█████▎    | 365/688 [00:25<00:24, 12.94it/s, now=None]\u001b[A\n",
      "t:  53%|█████▎    | 367/688 [00:25<00:24, 13.19it/s, now=None]\u001b[A\n",
      "t:  54%|█████▎    | 369/688 [00:25<00:23, 13.57it/s, now=None]\u001b[A\n",
      "t:  54%|█████▍    | 371/688 [00:25<00:23, 13.77it/s, now=None]\u001b[A\n",
      "t:  54%|█████▍    | 373/688 [00:26<00:27, 11.63it/s, now=None]\u001b[A\n",
      "t:  55%|█████▍    | 375/688 [00:26<00:25, 12.38it/s, now=None]\u001b[A\n",
      "t:  55%|█████▍    | 377/688 [00:26<00:23, 13.21it/s, now=None]\u001b[A\n",
      "t:  55%|█████▌    | 380/688 [00:26<00:20, 15.28it/s, now=None]\u001b[A\n",
      "t:  56%|█████▌    | 382/688 [00:26<00:19, 15.94it/s, now=None]\u001b[A\n",
      "t:  56%|█████▌    | 384/688 [00:26<00:19, 15.62it/s, now=None]\u001b[A\n",
      "t:  56%|█████▌    | 386/688 [00:26<00:18, 16.10it/s, now=None]\u001b[A\n",
      "t:  56%|█████▋    | 388/688 [00:26<00:17, 16.69it/s, now=None]\u001b[A\n",
      "t:  57%|█████▋    | 390/688 [00:27<00:24, 12.39it/s, now=None]\u001b[A\n",
      "t:  57%|█████▋    | 392/688 [00:27<00:22, 13.34it/s, now=None]\u001b[A\n",
      "t:  57%|█████▋    | 394/688 [00:27<00:24, 12.03it/s, now=None]\u001b[A\n",
      "t:  58%|█████▊    | 396/688 [00:27<00:22, 12.74it/s, now=None]\u001b[A\n",
      "t:  58%|█████▊    | 398/688 [00:27<00:24, 11.60it/s, now=None]\u001b[A\n",
      "t:  58%|█████▊    | 400/688 [00:28<00:24, 11.66it/s, now=None]\u001b[A\n",
      "t:  58%|█████▊    | 402/688 [00:28<00:23, 12.34it/s, now=None]\u001b[A\n",
      "t:  59%|█████▊    | 404/688 [00:28<00:22, 12.72it/s, now=None]\u001b[A\n",
      "t:  59%|█████▉    | 406/688 [00:28<00:21, 13.43it/s, now=None]\u001b[A\n",
      "t:  59%|█████▉    | 408/688 [00:28<00:19, 14.11it/s, now=None]\u001b[A\n",
      "t:  60%|█████▉    | 410/688 [00:28<00:19, 14.17it/s, now=None]\u001b[A\n",
      "t:  60%|█████▉    | 412/688 [00:28<00:21, 12.99it/s, now=None]\u001b[A\n",
      "t:  60%|██████    | 414/688 [00:29<00:27, 10.07it/s, now=None]\u001b[A\n",
      "t:  60%|██████    | 416/688 [00:29<00:27,  9.99it/s, now=None]\u001b[A\n",
      "t:  61%|██████    | 418/688 [00:29<00:30,  8.74it/s, now=None]\u001b[A\n",
      "t:  61%|██████    | 420/688 [00:29<00:25, 10.48it/s, now=None]\u001b[A\n",
      "t:  61%|██████▏   | 422/688 [00:29<00:22, 11.68it/s, now=None]\u001b[A\n",
      "t:  62%|██████▏   | 424/688 [00:30<00:20, 12.59it/s, now=None]\u001b[A\n",
      "t:  62%|██████▏   | 426/688 [00:30<00:19, 13.11it/s, now=None]\u001b[A\n",
      "t:  62%|██████▏   | 428/688 [00:30<00:18, 13.68it/s, now=None]\u001b[A\n",
      "t:  62%|██████▎   | 430/688 [00:30<00:18, 14.28it/s, now=None]\u001b[A\n",
      "t:  63%|██████▎   | 432/688 [00:30<00:16, 15.10it/s, now=None]\u001b[A\n",
      "t:  63%|██████▎   | 434/688 [00:30<00:25,  9.92it/s, now=None]\u001b[A\n",
      "t:  63%|██████▎   | 436/688 [00:31<00:23, 10.57it/s, now=None]\u001b[A\n",
      "t:  64%|██████▎   | 438/688 [00:31<00:25,  9.70it/s, now=None]\u001b[A\n",
      "t:  64%|██████▍   | 440/688 [00:31<00:22, 11.03it/s, now=None]\u001b[A\n",
      "t:  64%|██████▍   | 442/688 [00:31<00:21, 11.48it/s, now=None]\u001b[A\n",
      "t:  65%|██████▍   | 444/688 [00:31<00:21, 11.18it/s, now=None]\u001b[A\n",
      "t:  65%|██████▍   | 446/688 [00:31<00:20, 11.75it/s, now=None]\u001b[A\n",
      "t:  65%|██████▌   | 448/688 [00:32<00:18, 12.88it/s, now=None]\u001b[A\n",
      "t:  65%|██████▌   | 450/688 [00:32<00:19, 12.23it/s, now=None]\u001b[A\n",
      "t:  66%|██████▌   | 452/688 [00:32<00:20, 11.53it/s, now=None]\u001b[A\n",
      "t:  66%|██████▌   | 454/688 [00:32<00:18, 12.67it/s, now=None]\u001b[A\n",
      "t:  66%|██████▋   | 456/688 [00:32<00:19, 11.90it/s, now=None]\u001b[A\n",
      "t:  67%|██████▋   | 458/688 [00:32<00:17, 13.16it/s, now=None]\u001b[A\n",
      "t:  67%|██████▋   | 460/688 [00:33<00:22, 10.28it/s, now=None]\u001b[A\n",
      "t:  67%|██████▋   | 462/688 [00:33<00:21, 10.74it/s, now=None]\u001b[A\n",
      "t:  67%|██████▋   | 464/688 [00:33<00:19, 11.72it/s, now=None]\u001b[A\n",
      "t:  68%|██████▊   | 466/688 [00:33<00:17, 12.98it/s, now=None]\u001b[A\n",
      "t:  68%|██████▊   | 468/688 [00:33<00:15, 13.88it/s, now=None]\u001b[A\n",
      "t:  68%|██████▊   | 470/688 [00:33<00:14, 14.80it/s, now=None]\u001b[A\n",
      "t:  69%|██████▊   | 472/688 [00:33<00:14, 14.43it/s, now=None]\u001b[A\n",
      "t:  69%|██████▉   | 474/688 [00:34<00:19, 11.21it/s, now=None]\u001b[A\n",
      "t:  69%|██████▉   | 476/688 [00:34<00:20, 10.56it/s, now=None]\u001b[A\n",
      "t:  69%|██████▉   | 478/688 [00:34<00:19, 10.95it/s, now=None]\u001b[A\n",
      "t:  70%|██████▉   | 480/688 [00:34<00:16, 12.42it/s, now=None]\u001b[A\n",
      "t:  70%|███████   | 482/688 [00:34<00:19, 10.70it/s, now=None]\u001b[A\n",
      "t:  70%|███████   | 484/688 [00:35<00:17, 11.46it/s, now=None]\u001b[A\n",
      "t:  71%|███████   | 486/688 [00:35<00:17, 11.86it/s, now=None]\u001b[A\n",
      "t:  71%|███████   | 488/688 [00:35<00:16, 12.36it/s, now=None]\u001b[A\n",
      "t:  71%|███████   | 490/688 [00:35<00:14, 13.73it/s, now=None]\u001b[A\n",
      "t:  72%|███████▏  | 492/688 [00:35<00:13, 14.47it/s, now=None]\u001b[A\n",
      "t:  72%|███████▏  | 494/688 [00:35<00:17, 11.36it/s, now=None]\u001b[A\n",
      "t:  72%|███████▏  | 496/688 [00:36<00:16, 11.91it/s, now=None]\u001b[A\n",
      "t:  72%|███████▏  | 498/688 [00:36<00:15, 12.21it/s, now=None]\u001b[A\n",
      "t:  73%|███████▎  | 500/688 [00:36<00:18, 10.14it/s, now=None]\u001b[A\n",
      "t:  73%|███████▎  | 502/688 [00:36<00:17, 10.88it/s, now=None]\u001b[A\n",
      "t:  73%|███████▎  | 504/688 [00:36<00:17, 10.82it/s, now=None]\u001b[A\n",
      "t:  74%|███████▎  | 506/688 [00:36<00:15, 11.93it/s, now=None]\u001b[A\n",
      "t:  74%|███████▍  | 508/688 [00:37<00:14, 12.50it/s, now=None]\u001b[A\n",
      "t:  74%|███████▍  | 510/688 [00:37<00:14, 12.24it/s, now=None]\u001b[A\n",
      "t:  74%|███████▍  | 512/688 [00:37<00:13, 12.74it/s, now=None]\u001b[A\n",
      "t:  75%|███████▍  | 514/688 [00:37<00:14, 11.92it/s, now=None]\u001b[A\n",
      "t:  75%|███████▌  | 516/688 [00:37<00:12, 13.49it/s, now=None]\u001b[A\n",
      "t:  75%|███████▌  | 518/688 [00:38<00:16, 10.19it/s, now=None]\u001b[A\n",
      "t:  76%|███████▌  | 520/688 [00:38<00:15, 10.59it/s, now=None]\u001b[A\n",
      "t:  76%|███████▌  | 522/688 [00:38<00:15, 10.73it/s, now=None]\u001b[A\n",
      "t:  76%|███████▌  | 524/688 [00:38<00:14, 11.54it/s, now=None]\u001b[A\n",
      "t:  76%|███████▋  | 526/688 [00:38<00:12, 12.88it/s, now=None]\u001b[A\n",
      "t:  77%|███████▋  | 528/688 [00:38<00:14, 10.80it/s, now=None]\u001b[A\n",
      "t:  77%|███████▋  | 530/688 [00:39<00:13, 11.90it/s, now=None]\u001b[A\n",
      "t:  77%|███████▋  | 532/688 [00:39<00:12, 12.90it/s, now=None]\u001b[A\n"
     ]
    },
    {
     "name": "stderr",
     "output_type": "stream",
     "text": [
      "t:  78%|███████▊  | 534/688 [00:39<00:11, 13.93it/s, now=None]\u001b[A\n",
      "t:  78%|███████▊  | 536/688 [00:39<00:11, 12.97it/s, now=None]\u001b[A\n",
      "t:  78%|███████▊  | 538/688 [00:39<00:14, 10.03it/s, now=None]\u001b[A\n",
      "t:  78%|███████▊  | 540/688 [00:39<00:13, 11.26it/s, now=None]\u001b[A\n",
      "t:  79%|███████▉  | 542/688 [00:40<00:12, 12.06it/s, now=None]\u001b[A\n",
      "t:  79%|███████▉  | 544/688 [00:40<00:11, 12.30it/s, now=None]\u001b[A\n",
      "t:  79%|███████▉  | 546/688 [00:40<00:13, 10.74it/s, now=None]\u001b[A\n",
      "t:  80%|███████▉  | 548/688 [00:40<00:12, 11.18it/s, now=None]\u001b[A\n",
      "t:  80%|███████▉  | 550/688 [00:40<00:12, 11.22it/s, now=None]\u001b[A\n",
      "t:  80%|████████  | 552/688 [00:40<00:11, 12.21it/s, now=None]\u001b[A\n",
      "t:  81%|████████  | 554/688 [00:41<00:10, 13.06it/s, now=None]\u001b[A\n",
      "t:  81%|████████  | 556/688 [00:41<00:11, 11.87it/s, now=None]\u001b[A\n",
      "t:  81%|████████  | 558/688 [00:41<00:10, 12.21it/s, now=None]\u001b[A\n",
      "t:  81%|████████▏ | 560/688 [00:41<00:09, 13.38it/s, now=None]\u001b[A\n",
      "t:  82%|████████▏ | 562/688 [00:41<00:08, 14.16it/s, now=None]\u001b[A\n",
      "t:  82%|████████▏ | 564/688 [00:41<00:09, 13.01it/s, now=None]\u001b[A\n",
      "t:  82%|████████▏ | 566/688 [00:41<00:08, 13.61it/s, now=None]\u001b[A\n",
      "t:  83%|████████▎ | 568/688 [00:42<00:08, 13.53it/s, now=None]\u001b[A\n",
      "t:  83%|████████▎ | 570/688 [00:42<00:08, 14.40it/s, now=None]\u001b[A\n",
      "t:  83%|████████▎ | 572/688 [00:42<00:09, 12.34it/s, now=None]\u001b[A\n",
      "t:  83%|████████▎ | 574/688 [00:42<00:08, 13.76it/s, now=None]\u001b[A\n",
      "t:  84%|████████▎ | 576/688 [00:42<00:08, 13.87it/s, now=None]\u001b[A\n",
      "t:  84%|████████▍ | 578/688 [00:42<00:09, 11.01it/s, now=None]\u001b[A\n",
      "t:  84%|████████▍ | 580/688 [00:43<00:10, 10.28it/s, now=None]\u001b[A\n",
      "t:  85%|████████▍ | 582/688 [00:43<00:09, 11.01it/s, now=None]\u001b[A\n",
      "t:  85%|████████▍ | 584/688 [00:43<00:08, 11.76it/s, now=None]\u001b[A\n",
      "t:  85%|████████▌ | 586/688 [00:43<00:07, 13.40it/s, now=None]\u001b[A\n",
      "t:  85%|████████▌ | 588/688 [00:43<00:07, 13.83it/s, now=None]\u001b[A\n",
      "t:  86%|████████▌ | 590/688 [00:43<00:07, 13.31it/s, now=None]\u001b[A\n",
      "t:  86%|████████▌ | 592/688 [00:43<00:06, 13.85it/s, now=None]\u001b[A\n",
      "t:  86%|████████▋ | 594/688 [00:44<00:06, 14.09it/s, now=None]\u001b[A\n",
      "t:  87%|████████▋ | 596/688 [00:44<00:07, 12.51it/s, now=None]\u001b[A\n",
      "t:  87%|████████▋ | 598/688 [00:44<00:07, 12.09it/s, now=None]\u001b[A\n",
      "t:  87%|████████▋ | 600/688 [00:44<00:06, 13.31it/s, now=None]\u001b[A\n",
      "t:  88%|████████▊ | 602/688 [00:44<00:07, 11.79it/s, now=None]\u001b[A\n",
      "t:  88%|████████▊ | 604/688 [00:44<00:06, 12.46it/s, now=None]\u001b[A\n",
      "t:  88%|████████▊ | 606/688 [00:45<00:05, 13.87it/s, now=None]\u001b[A\n",
      "t:  88%|████████▊ | 608/688 [00:45<00:06, 12.11it/s, now=None]\u001b[A\n",
      "t:  89%|████████▊ | 610/688 [00:45<00:06, 12.86it/s, now=None]\u001b[A\n",
      "t:  89%|████████▉ | 612/688 [00:45<00:05, 13.55it/s, now=None]\u001b[A\n",
      "t:  89%|████████▉ | 614/688 [00:45<00:06, 11.66it/s, now=None]\u001b[A\n",
      "t:  90%|████████▉ | 616/688 [00:45<00:05, 12.12it/s, now=None]\u001b[A\n",
      "t:  90%|████████▉ | 618/688 [00:46<00:05, 13.30it/s, now=None]\u001b[A\n",
      "t:  90%|█████████ | 620/688 [00:46<00:04, 14.19it/s, now=None]\u001b[A\n",
      "t:  90%|█████████ | 622/688 [00:46<00:05, 11.80it/s, now=None]\u001b[A\n",
      "t:  91%|█████████ | 624/688 [00:46<00:05, 12.42it/s, now=None]\u001b[A\n",
      "t:  91%|█████████ | 626/688 [00:46<00:04, 13.97it/s, now=None]\u001b[A\n",
      "t:  91%|█████████▏| 628/688 [00:46<00:04, 14.49it/s, now=None]\u001b[A\n",
      "t:  92%|█████████▏| 630/688 [00:46<00:03, 14.86it/s, now=None]\u001b[A\n",
      "t:  92%|█████████▏| 632/688 [00:46<00:03, 15.17it/s, now=None]\u001b[A\n",
      "t:  92%|█████████▏| 634/688 [00:47<00:03, 15.31it/s, now=None]\u001b[A\n",
      "t:  92%|█████████▏| 636/688 [00:47<00:04, 12.66it/s, now=None]\u001b[A\n",
      "t:  93%|█████████▎| 638/688 [00:47<00:03, 13.14it/s, now=None]\u001b[A\n",
      "t:  93%|█████████▎| 640/688 [00:47<00:03, 12.83it/s, now=None]\u001b[A\n",
      "t:  93%|█████████▎| 642/688 [00:47<00:03, 12.71it/s, now=None]\u001b[A\n",
      "t:  94%|█████████▎| 644/688 [00:48<00:03, 11.75it/s, now=None]\u001b[A\n",
      "t:  94%|█████████▍| 646/688 [00:48<00:03, 12.89it/s, now=None]\u001b[A\n",
      "t:  94%|█████████▍| 648/688 [00:48<00:03, 10.39it/s, now=None]\u001b[A\n",
      "t:  94%|█████████▍| 650/688 [00:48<00:03, 11.10it/s, now=None]\u001b[A\n",
      "t:  95%|█████████▍| 652/688 [00:48<00:03,  9.74it/s, now=None]\u001b[A\n",
      "t:  95%|█████████▌| 654/688 [00:48<00:03, 10.42it/s, now=None]\u001b[A\n",
      "t:  95%|█████████▌| 656/688 [00:49<00:02, 11.72it/s, now=None]\u001b[A\n",
      "t:  96%|█████████▌| 658/688 [00:49<00:02, 10.87it/s, now=None]\u001b[A\n",
      "t:  96%|█████████▌| 660/688 [00:49<00:02, 10.78it/s, now=None]\u001b[A\n",
      "t:  96%|█████████▌| 662/688 [00:49<00:02, 11.55it/s, now=None]\u001b[A\n",
      "t:  97%|█████████▋| 664/688 [00:49<00:01, 12.56it/s, now=None]\u001b[A\n",
      "t:  97%|█████████▋| 666/688 [00:49<00:01, 11.41it/s, now=None]\u001b[A\n",
      "t:  97%|█████████▋| 668/688 [00:50<00:01, 11.24it/s, now=None]\u001b[A\n",
      "t:  97%|█████████▋| 670/688 [00:50<00:01, 12.73it/s, now=None]\u001b[A\n",
      "t:  98%|█████████▊| 672/688 [00:50<00:01, 13.78it/s, now=None]\u001b[A\n",
      "t:  98%|█████████▊| 674/688 [00:50<00:01, 13.86it/s, now=None]\u001b[A\n",
      "t:  98%|█████████▊| 676/688 [00:50<00:00, 13.53it/s, now=None]\u001b[A\n",
      "t:  99%|█████████▊| 678/688 [00:50<00:00, 13.76it/s, now=None]\u001b[A\n",
      "t:  99%|█████████▉| 680/688 [00:51<00:00, 12.42it/s, now=None]\u001b[A\n",
      "t:  99%|█████████▉| 682/688 [00:51<00:00,  9.78it/s, now=None]\u001b[A\n",
      "t:  99%|█████████▉| 684/688 [00:51<00:00, 11.10it/s, now=None]\u001b[A\n",
      "t: 100%|█████████▉| 686/688 [00:51<00:00, 11.84it/s, now=None]\u001b[A\n",
      "t: 100%|██████████| 688/688 [00:51<00:00, 10.94it/s, now=None]\u001b[A\n",
      "                                                              \u001b[A"
     ]
    },
    {
     "name": "stdout",
     "output_type": "stream",
     "text": [
      "Moviepy - Done !\n",
      "Moviepy - video ready output/test3.mp4\n"
     ]
    }
   ],
   "source": [
    "temp_frames_folder = Path(\"./temp_frames\")\n",
    "shutil.rmtree(temp_frames_folder, ignore_errors=True)\n",
    "temp_frames_folder.mkdir()\n",
    "\n",
    "draw_frames(validset, tensorrt_predictions, temp_frames_folder)\n",
    "output_video = \"output/test3.mp4\"\n",
    "convert_frames_to_video(temp_frames_folder, output_video, fps=15)\n",
    "\n",
    "shutil.rmtree(temp_frames_folder, ignore_errors=True)"
   ]
  },
  {
   "cell_type": "code",
   "execution_count": 15,
   "id": "b994d77f",
   "metadata": {
    "scrolled": false
   },
   "outputs": [
    {
     "data": {
      "text/html": [
       "\n",
       "<video width=\"640\" height=\"480\" controls>\n",
       "  <source src=\"output/test3.mp4\" type=\"video/mp4\">\n",
       "</video>\n"
      ],
      "text/plain": [
       "<IPython.core.display.HTML object>"
      ]
     },
     "execution_count": 15,
     "metadata": {},
     "output_type": "execute_result"
    }
   ],
   "source": [
    "from IPython.display import HTML\n",
    "\n",
    "\n",
    "HTML(f\"\"\"\n",
    "<video width=\"640\" height=\"480\" controls>\n",
    "  <source src=\"{output_video}\" type=\"video/mp4\">\n",
    "</video>\n",
    "\"\"\")"
   ]
  },
  {
   "cell_type": "code",
   "execution_count": null,
   "id": "568c6515",
   "metadata": {},
   "outputs": [],
   "source": []
  }
 ],
 "metadata": {
  "kernelspec": {
   "display_name": "Python 3",
   "language": "python",
   "name": "python3"
  },
  "language_info": {
   "codemirror_mode": {
    "name": "ipython",
    "version": 3
   },
   "file_extension": ".py",
   "mimetype": "text/x-python",
   "name": "python",
   "nbconvert_exporter": "python",
   "pygments_lexer": "ipython3",
   "version": "3.8.10"
  }
 },
 "nbformat": 4,
 "nbformat_minor": 5
}
