{
 "cells": [
  {
   "cell_type": "code",
   "execution_count": 1,
   "id": "f1197580",
   "metadata": {},
   "outputs": [],
   "source": [
    "import numpy as np\n",
    "import pandas as pd\n",
    "import matplotlib.pyplot as plt\n",
    "from pathlib import Path\n",
    "from tqdm.auto import tqdm\n",
    "\n",
    "import torch\n",
    "import torch.nn as nn\n",
    "from torch.utils.data import ConcatDataset\n",
    "import torchvision\n",
    "from torchvision import transforms\n",
    "\n",
    "from dataloading.ouster import OusterCrop, OusterNormalize, OusterDataset\n",
    "from network import PilotNet\n",
    "from trainer import Trainer\n",
    "\n",
    "import wandb\n",
    "\n",
    "%load_ext autoreload\n",
    "%autoreload 2"
   ]
  },
  {
   "cell_type": "markdown",
   "id": "e249da46",
   "metadata": {},
   "source": [
    "# Config"
   ]
  },
  {
   "cell_type": "code",
   "execution_count": 2,
   "id": "4be2babc",
   "metadata": {},
   "outputs": [],
   "source": [
    "# Set path to where you bag files are extracted\n",
    "#root_path = Path(\"/home/romet/data/datasets/ut/nvidia-data\")\n",
    "root_path = Path(\"/media/romet/data2/datasets/rally-estonia/dataset\")\n",
    "model_name = \"lidar-v3\"\n",
    "\n",
    "use_augmentation = False\n",
    "wandb_logging = True\n",
    "\n",
    "# Hyperparameters\n",
    "n_epochs = 100\n",
    "patience = 10\n",
    "learning_rate = 1e-3\n",
    "weight_decay = 0.01"
   ]
  },
  {
   "cell_type": "markdown",
   "id": "cc2cc6b8",
   "metadata": {},
   "source": [
    "## Datasets"
   ]
  },
  {
   "cell_type": "code",
   "execution_count": 3,
   "id": "f7788f9c",
   "metadata": {},
   "outputs": [
    {
     "name": "stdout",
     "output_type": "stream",
     "text": [
      "/media/romet/data2/datasets/rally-estonia/dataset/2021-05-20-12-36-10_e2e_sulaoja_20_30: 8013\n",
      "/media/romet/data2/datasets/rally-estonia/dataset/2021-05-20-12-43-17_e2e_sulaoja_20_30: 4537\n",
      "/media/romet/data2/datasets/rally-estonia/dataset/2021-05-20-12-51-29_e2e_sulaoja_20_30: 3590\n",
      "/media/romet/data2/datasets/rally-estonia/dataset/2021-05-20-13-44-06_e2e_sulaoja_10_10: 3831\n",
      "/media/romet/data2/datasets/rally-estonia/dataset/2021-05-20-13-51-21_e2e_sulaoja_10_10: 3796\n",
      "/media/romet/data2/datasets/rally-estonia/dataset/2021-05-20-13-59-00_e2e_sulaoja_10_10: 686\n",
      "/media/romet/data2/datasets/rally-estonia/dataset/2021-05-28-15-07-56_e2e_sulaoja_20_30: 10418\n",
      "/media/romet/data2/datasets/rally-estonia/dataset/2021-05-28-15-17-19_e2e_sulaoja_20_30: 2147\n",
      "/media/romet/data2/datasets/rally-estonia/dataset/2021-06-09-13-14-51_e2e_rec_ss2: 33279\n",
      "/media/romet/data2/datasets/rally-estonia/dataset/2021-06-09-13-55-03_e2e_rec_ss2_backwards: 35827\n",
      "/media/romet/data2/datasets/rally-estonia/dataset/2021-06-09-14-58-11_e2e_rec_ss3: 29257\n",
      "/media/romet/data2/datasets/rally-estonia/dataset/2021-06-09-15-42-05_e2e_rec_ss3_backwards: 27130\n",
      "/media/romet/data2/datasets/rally-estonia/dataset/2021-06-09-16-24-59_e2e_rec_ss13: 22950\n",
      "/media/romet/data2/datasets/rally-estonia/dataset/2021-06-09-16-50-22_e2e_rec_ss13_backwards: 22939\n",
      "/media/romet/data2/datasets/rally-estonia/dataset/2021-06-10-12-59-59_e2e_ss4: 17004\n",
      "/media/romet/data2/datasets/rally-estonia/dataset/2021-06-10-13-19-22_e2e_ss4_backwards: 15896\n",
      "/media/romet/data2/datasets/rally-estonia/dataset/2021-06-10-13-51-34_e2e_ss12: 9092\n",
      "/media/romet/data2/datasets/rally-estonia/dataset/2021-06-10-14-02-24_e2e_ss12_backwards: 8382\n",
      "/media/romet/data2/datasets/rally-estonia/dataset/2021-06-10-14-44-24_e2e_ss3_backwards: 21224\n",
      "/media/romet/data2/datasets/rally-estonia/dataset/2021-06-10-15-03-16_e2e_ss3_backwards: 1638\n",
      "/media/romet/data2/datasets/rally-estonia/dataset/2021-06-14-11-08-19_e2e_rec_ss14: 9780\n",
      "/media/romet/data2/datasets/rally-estonia/dataset/2021-06-14-11-22-05_e2e_rec_ss14: 17362\n",
      "/media/romet/data2/datasets/rally-estonia/dataset/2021-06-14-11-22-05_e2e_rec_ss14: 17362\n",
      "/media/romet/data2/datasets/rally-estonia/dataset/2021-06-14-11-43-48_e2e_rec_ss14_backwards: 29116\n",
      "/media/romet/data2/datasets/rally-estonia/dataset/2021-09-24-11-19-25_e2e_rec_ss10: 11587\n",
      "/media/romet/data2/datasets/rally-estonia/dataset/2021-09-24-11-40-24_e2e_rec_ss10_2: 5407\n",
      "/media/romet/data2/datasets/rally-estonia/dataset/2021-09-24-12-02-32_e2e_rec_ss10_3: 2713\n",
      "/media/romet/data2/datasets/rally-estonia/dataset/2021-09-24-12-21-20_e2e_rec_ss10_backwards: 21661\n",
      "/media/romet/data2/datasets/rally-estonia/dataset/2021-09-24-13-39-38_e2e_rec_ss11: 11085\n",
      "/media/romet/data2/datasets/rally-estonia/dataset/2021-09-30-13-57-00_e2e_rec_ss14: 1095\n",
      "/media/romet/data2/datasets/rally-estonia/dataset/2021-09-30-15-03-37_e2e_ss14_from_half_way: 7251\n",
      "/media/romet/data2/datasets/rally-estonia/dataset/2021-09-30-15-20-14_e2e_ss14_backwards: 17589\n",
      "/media/romet/data2/datasets/rally-estonia/dataset/2021-09-30-15-56-59_e2e_ss14_attempt_2: 19414\n",
      "/media/romet/data2/datasets/rally-estonia/dataset/2021-10-07-11-05-13_e2e_rec_ss3: 18072\n",
      "/media/romet/data2/datasets/rally-estonia/dataset/2021-10-07-11-44-52_e2e_rec_ss3_backwards: 21136\n",
      "/media/romet/data2/datasets/rally-estonia/dataset/2021-10-07-12-54-17_e2e_rec_ss4: 11353\n",
      "/media/romet/data2/datasets/rally-estonia/dataset/2021-10-07-13-22-35_e2e_rec_ss4_backwards: 11459\n",
      "/media/romet/data2/datasets/rally-estonia/dataset/2021-10-11-16-06-44_e2e_rec_ss2: 27087\n",
      "/media/romet/data2/datasets/rally-estonia/dataset/2021-10-11-17-10-23_e2e_rec_last_part: 1662\n",
      "/media/romet/data2/datasets/rally-estonia/dataset/2021-10-11-17-14-40_e2e_rec_backwards: 1746\n",
      "/media/romet/data2/datasets/rally-estonia/dataset/2021-10-11-17-20-12_e2e_rec_backwards: 22980\n",
      "/media/romet/data2/datasets/rally-estonia/dataset/2021-10-20-14-55-47_e2e_rec_vastse_ss13_17: 8340\n",
      "/media/romet/data2/datasets/rally-estonia/dataset/2021-10-20-13-57-51_e2e_rec_neeruti_ss19_22: 9799\n",
      "/media/romet/data2/datasets/rally-estonia/dataset/2021-10-20-14-15-07_e2e_rec_neeruti_ss19_22_back: 9881\n",
      "/media/romet/data2/datasets/rally-estonia/dataset/2021-10-25-17-31-48_e2e_rec_ss2_arula: 14139\n",
      "/media/romet/data2/datasets/rally-estonia/dataset/2021-10-25-17-06-34_e2e_rec_ss2_arula_back: 14435\n",
      "625147\n"
     ]
    }
   ],
   "source": [
    "\n",
    "train_paths = [\n",
    "            root_path / \"2021-05-20-12-36-10_e2e_sulaoja_20_30\",\n",
    "            root_path / \"2021-05-20-12-43-17_e2e_sulaoja_20_30\",\n",
    "            root_path / \"2021-05-20-12-51-29_e2e_sulaoja_20_30\",\n",
    "            root_path / \"2021-05-20-13-44-06_e2e_sulaoja_10_10\",\n",
    "            root_path / \"2021-05-20-13-51-21_e2e_sulaoja_10_10\",\n",
    "            root_path / \"2021-05-20-13-59-00_e2e_sulaoja_10_10\",\n",
    "            root_path / \"2021-05-28-15-07-56_e2e_sulaoja_20_30\",\n",
    "            root_path / \"2021-05-28-15-17-19_e2e_sulaoja_20_30\",\n",
    "            root_path / \"2021-06-09-13-14-51_e2e_rec_ss2\",\n",
    "            root_path / \"2021-06-09-13-55-03_e2e_rec_ss2_backwards\",\n",
    "            root_path / \"2021-06-09-14-58-11_e2e_rec_ss3\",\n",
    "            root_path / \"2021-06-09-15-42-05_e2e_rec_ss3_backwards\",\n",
    "            root_path / \"2021-06-09-16-24-59_e2e_rec_ss13\",\n",
    "            root_path / \"2021-06-09-16-50-22_e2e_rec_ss13_backwards\",\n",
    "            root_path / \"2021-06-10-12-59-59_e2e_ss4\",\n",
    "            root_path / \"2021-06-10-13-19-22_e2e_ss4_backwards\",\n",
    "            root_path / \"2021-06-10-13-51-34_e2e_ss12\",\n",
    "            root_path / \"2021-06-10-14-02-24_e2e_ss12_backwards\",\n",
    "            root_path / \"2021-06-10-14-44-24_e2e_ss3_backwards\",\n",
    "            root_path / \"2021-06-10-15-03-16_e2e_ss3_backwards\",\n",
    "            root_path / \"2021-06-14-11-08-19_e2e_rec_ss14\",\n",
    "            root_path / \"2021-06-14-11-22-05_e2e_rec_ss14\",\n",
    "            root_path / \"2021-06-14-11-22-05_e2e_rec_ss14\",\n",
    "            root_path / \"2021-06-14-11-43-48_e2e_rec_ss14_backwards\",\n",
    "            root_path / \"2021-09-24-11-19-25_e2e_rec_ss10\",\n",
    "            root_path / \"2021-09-24-11-40-24_e2e_rec_ss10_2\",\n",
    "            root_path / \"2021-09-24-12-02-32_e2e_rec_ss10_3\",\n",
    "            root_path / \"2021-09-24-12-21-20_e2e_rec_ss10_backwards\",\n",
    "            root_path / \"2021-09-24-13-39-38_e2e_rec_ss11\",\n",
    "            root_path / \"2021-09-30-13-57-00_e2e_rec_ss14\",\n",
    "            root_path / \"2021-09-30-15-03-37_e2e_ss14_from_half_way\",\n",
    "            root_path / \"2021-09-30-15-20-14_e2e_ss14_backwards\",\n",
    "            root_path / \"2021-09-30-15-56-59_e2e_ss14_attempt_2\",\n",
    "            root_path / \"2021-10-07-11-05-13_e2e_rec_ss3\",\n",
    "            root_path / \"2021-10-07-11-44-52_e2e_rec_ss3_backwards\",\n",
    "            root_path / \"2021-10-07-12-54-17_e2e_rec_ss4\",\n",
    "            root_path / \"2021-10-07-13-22-35_e2e_rec_ss4_backwards\",\n",
    "            root_path / \"2021-10-11-16-06-44_e2e_rec_ss2\",\n",
    "            root_path / \"2021-10-11-17-10-23_e2e_rec_last_part\",\n",
    "            root_path / \"2021-10-11-17-14-40_e2e_rec_backwards\",\n",
    "            root_path / \"2021-10-11-17-20-12_e2e_rec_backwards\",\n",
    "            root_path / \"2021-10-20-14-55-47_e2e_rec_vastse_ss13_17\",\n",
    "            root_path / \"2021-10-20-13-57-51_e2e_rec_neeruti_ss19_22\",\n",
    "            root_path / \"2021-10-20-14-15-07_e2e_rec_neeruti_ss19_22_back\",\n",
    "            root_path / \"2021-10-25-17-31-48_e2e_rec_ss2_arula\",\n",
    "            root_path / \"2021-10-25-17-06-34_e2e_rec_ss2_arula_back\"\n",
    "]\n",
    "\n",
    "tr = transforms.Compose([OusterCrop(), OusterNormalize()])\n",
    "#tr = transforms.Compose([OusterNormalize()])\n",
    "trainset = OusterDataset(train_paths, transform=tr)\n",
    "# trainset.frames[\"turn_signal\"] = trainset.frames[\"turn_signal\"].astype(int)\n",
    "# trainset.frames = trainset.frames[trainset.frames.turn_signal==1]\n",
    "trainloader = torch.utils.data.DataLoader(trainset, batch_size=64, shuffle=True,\n",
    "                                         num_workers=32, pin_memory=True, persistent_workers=True)\n",
    "print(len(trainset.frames))"
   ]
  },
  {
   "cell_type": "code",
   "execution_count": 4,
   "id": "d19b49ec",
   "metadata": {},
   "outputs": [
    {
     "name": "stdout",
     "output_type": "stream",
     "text": [
      "torch.Size([3, 68, 264])\n"
     ]
    },
    {
     "data": {
      "text/plain": [
       "<matplotlib.image.AxesImage at 0x7f46b25e9100>"
      ]
     },
     "execution_count": 4,
     "metadata": {},
     "output_type": "execute_result"
    },
    {
     "data": {
      "image/png": "[encoded data removed]",
      "text/plain": [
       "<Figure size 576x576 with 1 Axes>"
      ]
     },
     "metadata": {
      "needs_background": "light"
     },
     "output_type": "display_data"
    }
   ],
   "source": [
    "lidar_image = trainset[300][\"image\"]\n",
    "print(lidar_image.shape)\n",
    "plt.figure(figsize=(8, 8))\n",
    "plt.imshow(lidar_image.permute(1, 2, 0))"
   ]
  },
  {
   "cell_type": "code",
   "execution_count": 5,
   "id": "cbef27bf",
   "metadata": {},
   "outputs": [
    {
     "name": "stdout",
     "output_type": "stream",
     "text": [
      "/media/romet/data2/datasets/rally-estonia/dataset/2021-05-28-15-19-48_e2e_sulaoja_20_30: 7138\n",
      "/media/romet/data2/datasets/rally-estonia/dataset/2021-06-07-14-20-07_e2e_rec_ss6: 17224\n",
      "/media/romet/data2/datasets/rally-estonia/dataset/2021-06-07-14-06-31_e2e_rec_ss6: 2001\n",
      "/media/romet/data2/datasets/rally-estonia/dataset/2021-06-07-14-09-18_e2e_rec_ss6: 3032\n",
      "/media/romet/data2/datasets/rally-estonia/dataset/2021-06-07-14-36-16_e2e_rec_ss6: 16912\n",
      "/media/romet/data2/datasets/rally-estonia/dataset/2021-09-24-14-03-45_e2e_rec_ss11_backwards: 8391\n",
      "/media/romet/data2/datasets/rally-estonia/dataset/2021-10-26-10-49-06_e2e_rec_ss20_elva: 11016\n",
      "/media/romet/data2/datasets/rally-estonia/dataset/2021-10-26-11-08-59_e2e_rec_ss20_elva_back: 11094\n",
      "/media/romet/data2/datasets/rally-estonia/dataset/2021-10-20-15-11-29_e2e_rec_vastse_ss13_17_back: 8921\n",
      "/media/romet/data2/datasets/rally-estonia/dataset/2021-10-11-14-50-59_e2e_rec_vahi: 7071\n",
      "/media/romet/data2/datasets/rally-estonia/dataset/2021-10-14-13-08-51_e2e_rec_vahi_backwards: 4479\n",
      "97279\n"
     ]
    }
   ],
   "source": [
    "valid_paths = [\n",
    "            root_path / \"2021-05-28-15-19-48_e2e_sulaoja_20_30\",\n",
    "            root_path / \"2021-06-07-14-20-07_e2e_rec_ss6\",\n",
    "            root_path / \"2021-06-07-14-06-31_e2e_rec_ss6\",\n",
    "            root_path / \"2021-06-07-14-09-18_e2e_rec_ss6\",\n",
    "            root_path / \"2021-06-07-14-36-16_e2e_rec_ss6\",\n",
    "            root_path / \"2021-09-24-14-03-45_e2e_rec_ss11_backwards\",\n",
    "            root_path / \"2021-10-26-10-49-06_e2e_rec_ss20_elva\",\n",
    "            root_path / \"2021-10-26-11-08-59_e2e_rec_ss20_elva_back\",\n",
    "            root_path / \"2021-10-20-15-11-29_e2e_rec_vastse_ss13_17_back\",\n",
    "            root_path / \"2021-10-11-14-50-59_e2e_rec_vahi\",\n",
    "            root_path / \"2021-10-14-13-08-51_e2e_rec_vahi_backwards\"\n",
    "              ]\n",
    "validset = OusterDataset(valid_paths, transform=tr)\n",
    "\n",
    "# validset.frames[\"turn_signal\"] = validset.frames[\"turn_signal\"].astype(int)\n",
    "# validset.frames = validset.frames[validset.frames.turn_signal==1]\n",
    "\n",
    "validloader = torch.utils.data.DataLoader(validset, batch_size=64, shuffle=False,\n",
    "                                         num_workers=32, pin_memory=True, persistent_workers=True)\n",
    "print(len(validset.frames))"
   ]
  },
  {
   "cell_type": "markdown",
   "id": "9e2b6318",
   "metadata": {},
   "source": [
    "## Train model"
   ]
  },
  {
   "cell_type": "code",
   "execution_count": 6,
   "id": "c0284be0",
   "metadata": {
    "scrolled": false
   },
   "outputs": [
    {
     "name": "stderr",
     "output_type": "stream",
     "text": [
      "\u001b[34m\u001b[1mwandb\u001b[0m: Currently logged in as: \u001b[33mrometaidla\u001b[0m (use `wandb login --relogin` to force relogin)\n",
      "\u001b[34m\u001b[1mwandb\u001b[0m: wandb version 0.12.6 is available!  To upgrade, please run:\n",
      "\u001b[34m\u001b[1mwandb\u001b[0m:  $ pip install wandb --upgrade\n"
     ]
    },
    {
     "data": {
      "text/html": [
       "\n",
       "                Tracking run with wandb version 0.12.1<br/>\n",
       "                Syncing run <strong style=\"color:#cdcd00\">sleek-puddle-22</strong> to <a href=\"https://wandb.ai\" target=\"_blank\">Weights & Biases</a> <a href=\"https://docs.wandb.com/integrations/jupyter.html\" target=\"_blank\">(Documentation)</a>.<br/>\n",
       "                Project page: <a href=\"https://wandb.ai/rometaidla/lanefollowing-ut-vahi\" target=\"_blank\">https://wandb.ai/rometaidla/lanefollowing-ut-vahi</a><br/>\n",
       "                Run page: <a href=\"https://wandb.ai/rometaidla/lanefollowing-ut-vahi/runs/2156gsmc\" target=\"_blank\">https://wandb.ai/rometaidla/lanefollowing-ut-vahi/runs/2156gsmc</a><br/>\n",
       "                Run data is saved locally in <code>/home/romet/projects/ut/wp4/nvidia-e2e/wandb/run-20211115_214226-2156gsmc</code><br/><br/>\n",
       "            "
      ],
      "text/plain": [
       "<IPython.core.display.HTML object>"
      ]
     },
     "metadata": {},
     "output_type": "display_data"
    },
    {
     "data": {
      "application/vnd.jupyter.widget-view+json": {
       "model_id": "c300020eea7749ccbd313f48e2d72792",
       "version_major": 2,
       "version_minor": 0
      },
      "text/plain": [
       "  0%|          | 0/9768 [00:00<?, ?it/s]"
      ]
     },
     "metadata": {},
     "output_type": "display_data"
    },
    {
     "data": {
      "application/vnd.jupyter.widget-view+json": {
       "model_id": "317fbabc5bde466eb9b90634a850f755",
       "version_major": 2,
       "version_minor": 0
      },
      "text/plain": [
       "  0%|          | 0/1520 [00:00<?, ?it/s]"
      ]
     },
     "metadata": {},
     "output_type": "display_data"
    },
    {
     "name": "stderr",
     "output_type": "stream",
     "text": [
      "[W pthreadpool-cpp.cc:90] Warning: Leaking Caffe2 thread-pool after fork. (function pthreadpool)\n",
      "[W pthreadpool-cpp.cc:90] Warning: Leaking Caffe2 thread-pool after fork. (function pthreadpool)\n",
      "[W pthreadpool-cpp.cc:90] Warning: Leaking Caffe2 thread-pool after fork. (function pthreadpool)\n",
      "[W pthreadpool-cpp.cc:90] Warning: Leaking Caffe2 thread-pool after fork. (function pthreadpool)\n",
      "[W pthreadpool-cpp.cc:90] Warning: Leaking Caffe2 thread-pool after fork. (function pthreadpool)\n",
      "[W pthreadpool-cpp.cc:90] Warning: Leaking Caffe2 thread-pool after fork. (function pthreadpool)\n",
      "[W pthreadpool-cpp.cc:90] Warning: Leaking Caffe2 thread-pool after fork. (function pthreadpool)\n",
      "[W pthreadpool-cpp.cc:90] Warning: Leaking Caffe2 thread-pool after fork. (function pthreadpool)\n",
      "[W pthreadpool-cpp.cc:90] Warning: Leaking Caffe2 thread-pool after fork. (function pthreadpool)\n",
      "[W pthreadpool-cpp.cc:90] Warning: Leaking Caffe2 thread-pool after fork. (function pthreadpool)\n",
      "[W pthreadpool-cpp.cc:90] Warning: Leaking Caffe2 thread-pool after fork. (function pthreadpool)\n",
      "[W pthreadpool-cpp.cc:90] Warning: Leaking Caffe2 thread-pool after fork. (function pthreadpool)\n",
      "[W pthreadpool-cpp.cc:90] Warning: Leaking Caffe2 thread-pool after fork. (function pthreadpool)\n",
      "[W pthreadpool-cpp.cc:90] Warning: Leaking Caffe2 thread-pool after fork. (function pthreadpool)\n",
      "[W pthreadpool-cpp.cc:90] Warning: Leaking Caffe2 thread-pool after fork. (function pthreadpool)\n",
      "[W pthreadpool-cpp.cc:90] Warning: Leaking Caffe2 thread-pool after fork. (function pthreadpool)\n",
      "[W pthreadpool-cpp.cc:90] Warning: Leaking Caffe2 thread-pool after fork. (function pthreadpool)\n",
      "[W pthreadpool-cpp.cc:90] Warning: Leaking Caffe2 thread-pool after fork. (function pthreadpool)\n",
      "[W pthreadpool-cpp.cc:90] Warning: Leaking Caffe2 thread-pool after fork. (function pthreadpool)\n",
      "[W pthreadpool-cpp.cc:90] Warning: Leaking Caffe2 thread-pool after fork. (function pthreadpool)\n",
      "[W pthreadpool-cpp.cc:90] Warning: Leaking Caffe2 thread-pool after fork. (function pthreadpool)\n",
      "[W pthreadpool-cpp.cc:90] Warning: Leaking Caffe2 thread-pool after fork. (function pthreadpool)\n",
      "[W pthreadpool-cpp.cc:90] Warning: Leaking Caffe2 thread-pool after fork. (function pthreadpool)\n",
      "[W pthreadpool-cpp.cc:90] Warning: Leaking Caffe2 thread-pool after fork. (function pthreadpool)\n",
      "[W pthreadpool-cpp.cc:90] Warning: Leaking Caffe2 thread-pool after fork. (function pthreadpool)\n",
      "[W pthreadpool-cpp.cc:90] Warning: Leaking Caffe2 thread-pool after fork. (function pthreadpool)\n",
      "[W pthreadpool-cpp.cc:90] Warning: Leaking Caffe2 thread-pool after fork. (function pthreadpool)\n",
      "[W pthreadpool-cpp.cc:90] Warning: Leaking Caffe2 thread-pool after fork. (function pthreadpool)\n",
      "[W pthreadpool-cpp.cc:90] Warning: Leaking Caffe2 thread-pool after fork. (function pthreadpool)\n",
      "[W pthreadpool-cpp.cc:90] Warning: Leaking Caffe2 thread-pool after fork. (function pthreadpool)\n",
      "[W pthreadpool-cpp.cc:90] Warning: Leaking Caffe2 thread-pool after fork. (function pthreadpool)\n",
      "[W pthreadpool-cpp.cc:90] Warning: Leaking Caffe2 thread-pool after fork. (function pthreadpool)\n"
     ]
    },
    {
     "name": "stdout",
     "output_type": "stream",
     "text": [
      "Saving best model.\n"
     ]
    },
    {
     "data": {
      "application/vnd.jupyter.widget-view+json": {
       "model_id": "bdae3facbb7e41b88333708152f49317",
       "version_major": 2,
       "version_minor": 0
      },
      "text/plain": [
       "  0%|          | 0/9768 [00:00<?, ?it/s]"
      ]
     },
     "metadata": {},
     "output_type": "display_data"
    },
    {
     "data": {
      "application/vnd.jupyter.widget-view+json": {
       "model_id": "1d7f1cd3a39a4e769f13222f2309f52e",
       "version_major": 2,
       "version_minor": 0
      },
      "text/plain": [
       "  0%|          | 0/1520 [00:00<?, ?it/s]"
      ]
     },
     "metadata": {},
     "output_type": "display_data"
    },
    {
     "name": "stdout",
     "output_type": "stream",
     "text": [
      "Saving best model.\n"
     ]
    },
    {
     "data": {
      "application/vnd.jupyter.widget-view+json": {
       "model_id": "d20160821c694052a60f88df5baa36c9",
       "version_major": 2,
       "version_minor": 0
      },
      "text/plain": [
       "  0%|          | 0/9768 [00:00<?, ?it/s]"
      ]
     },
     "metadata": {},
     "output_type": "display_data"
    },
    {
     "data": {
      "application/vnd.jupyter.widget-view+json": {
       "model_id": "537f13c6ba1f4c5abbf7607be76fe30c",
       "version_major": 2,
       "version_minor": 0
      },
      "text/plain": [
       "  0%|          | 0/1520 [00:00<?, ?it/s]"
      ]
     },
     "metadata": {},
     "output_type": "display_data"
    },
    {
     "name": "stdout",
     "output_type": "stream",
     "text": [
      "Saving best model.\n"
     ]
    },
    {
     "data": {
      "application/vnd.jupyter.widget-view+json": {
       "model_id": "6ea8a14d86d443a48c07ac44cbac2d46",
       "version_major": 2,
       "version_minor": 0
      },
      "text/plain": [
       "  0%|          | 0/9768 [00:00<?, ?it/s]"
      ]
     },
     "metadata": {},
     "output_type": "display_data"
    },
    {
     "data": {
      "application/vnd.jupyter.widget-view+json": {
       "model_id": "9bf865ae552f48ee96ae882cda4fc13c",
       "version_major": 2,
       "version_minor": 0
      },
      "text/plain": [
       "  0%|          | 0/1520 [00:00<?, ?it/s]"
      ]
     },
     "metadata": {},
     "output_type": "display_data"
    },
    {
     "name": "stdout",
     "output_type": "stream",
     "text": [
      "Saving best model.\n"
     ]
    },
    {
     "data": {
      "application/vnd.jupyter.widget-view+json": {
       "model_id": "06bd6dfd67a44135ab8b213fd5042d87",
       "version_major": 2,
       "version_minor": 0
      },
      "text/plain": [
       "  0%|          | 0/9768 [00:00<?, ?it/s]"
      ]
     },
     "metadata": {},
     "output_type": "display_data"
    },
    {
     "data": {
      "application/vnd.jupyter.widget-view+json": {
       "model_id": "b4d998998b6240368cdacc6aa2442237",
       "version_major": 2,
       "version_minor": 0
      },
      "text/plain": [
       "  0%|          | 0/1520 [00:00<?, ?it/s]"
      ]
     },
     "metadata": {},
     "output_type": "display_data"
    },
    {
     "data": {
      "application/vnd.jupyter.widget-view+json": {
       "model_id": "f5c10eb2c66e43bb839faf1e2ecad053",
       "version_major": 2,
       "version_minor": 0
      },
      "text/plain": [
       "  0%|          | 0/9768 [00:00<?, ?it/s]"
      ]
     },
     "metadata": {},
     "output_type": "display_data"
    },
    {
     "data": {
      "application/vnd.jupyter.widget-view+json": {
       "model_id": "6b808dc749904b2c9cd1698df6a9af4e",
       "version_major": 2,
       "version_minor": 0
      },
      "text/plain": [
       "  0%|          | 0/1520 [00:00<?, ?it/s]"
      ]
     },
     "metadata": {},
     "output_type": "display_data"
    },
    {
     "data": {
      "application/vnd.jupyter.widget-view+json": {
       "model_id": "5759b5902b654786b6b65daa616d8a88",
       "version_major": 2,
       "version_minor": 0
      },
      "text/plain": [
       "  0%|          | 0/9768 [00:00<?, ?it/s]"
      ]
     },
     "metadata": {},
     "output_type": "display_data"
    },
    {
     "data": {
      "application/vnd.jupyter.widget-view+json": {
       "model_id": "41280d60ac6d497799d6ff1601b65cba",
       "version_major": 2,
       "version_minor": 0
      },
      "text/plain": [
       "  0%|          | 0/1520 [00:00<?, ?it/s]"
      ]
     },
     "metadata": {},
     "output_type": "display_data"
    },
    {
     "data": {
      "application/vnd.jupyter.widget-view+json": {
       "model_id": "3106b13dd3e7461e8da14a570b8c2b80",
       "version_major": 2,
       "version_minor": 0
      },
      "text/plain": [
       "  0%|          | 0/9768 [00:00<?, ?it/s]"
      ]
     },
     "metadata": {},
     "output_type": "display_data"
    },
    {
     "data": {
      "application/vnd.jupyter.widget-view+json": {
       "model_id": "d909c7a082e049f684e20c623e8dbc21",
       "version_major": 2,
       "version_minor": 0
      },
      "text/plain": [
       "  0%|          | 0/1520 [00:00<?, ?it/s]"
      ]
     },
     "metadata": {},
     "output_type": "display_data"
    },
    {
     "data": {
      "application/vnd.jupyter.widget-view+json": {
       "model_id": "d39a6b598cc744d48417384b37e4d306",
       "version_major": 2,
       "version_minor": 0
      },
      "text/plain": [
       "  0%|          | 0/9768 [00:00<?, ?it/s]"
      ]
     },
     "metadata": {},
     "output_type": "display_data"
    },
    {
     "data": {
      "application/vnd.jupyter.widget-view+json": {
       "model_id": "640b145f9af0463fab068eb663b6ec30",
       "version_major": 2,
       "version_minor": 0
      },
      "text/plain": [
       "  0%|          | 0/1520 [00:00<?, ?it/s]"
      ]
     },
     "metadata": {},
     "output_type": "display_data"
    },
    {
     "data": {
      "application/vnd.jupyter.widget-view+json": {
       "model_id": "5333551008d04949925aa405eaf5dfd1",
       "version_major": 2,
       "version_minor": 0
      },
      "text/plain": [
       "  0%|          | 0/9768 [00:00<?, ?it/s]"
      ]
     },
     "metadata": {},
     "output_type": "display_data"
    },
    {
     "data": {
      "application/vnd.jupyter.widget-view+json": {
       "model_id": "79af53750ff24095a57e62e0d6294c59",
       "version_major": 2,
       "version_minor": 0
      },
      "text/plain": [
       "  0%|          | 0/1520 [00:00<?, ?it/s]"
      ]
     },
     "metadata": {},
     "output_type": "display_data"
    },
    {
     "name": "stdout",
     "output_type": "stream",
     "text": [
      "Saving best model.\n"
     ]
    },
    {
     "data": {
      "application/vnd.jupyter.widget-view+json": {
       "model_id": "94de9323074147fcbc41f1553085fef7",
       "version_major": 2,
       "version_minor": 0
      },
      "text/plain": [
       "  0%|          | 0/9768 [00:00<?, ?it/s]"
      ]
     },
     "metadata": {},
     "output_type": "display_data"
    },
    {
     "data": {
      "application/vnd.jupyter.widget-view+json": {
       "model_id": "9f393ccf78424c26830150bc40fd186f",
       "version_major": 2,
       "version_minor": 0
      },
      "text/plain": [
       "  0%|          | 0/1520 [00:00<?, ?it/s]"
      ]
     },
     "metadata": {},
     "output_type": "display_data"
    },
    {
     "data": {
      "application/vnd.jupyter.widget-view+json": {
       "model_id": "c4bfb85aa2ac4c74a1838cca91d274b3",
       "version_major": 2,
       "version_minor": 0
      },
      "text/plain": [
       "  0%|          | 0/9768 [00:00<?, ?it/s]"
      ]
     },
     "metadata": {},
     "output_type": "display_data"
    },
    {
     "data": {
      "application/vnd.jupyter.widget-view+json": {
       "model_id": "1d9704c971d0447ba4cdd7076cc6e63b",
       "version_major": 2,
       "version_minor": 0
      },
      "text/plain": [
       "  0%|          | 0/1520 [00:00<?, ?it/s]"
      ]
     },
     "metadata": {},
     "output_type": "display_data"
    },
    {
     "name": "stdout",
     "output_type": "stream",
     "text": [
      "Saving best model.\n"
     ]
    },
    {
     "data": {
      "application/vnd.jupyter.widget-view+json": {
       "model_id": "97104c9702e9459797df2507d6533e72",
       "version_major": 2,
       "version_minor": 0
      },
      "text/plain": [
       "  0%|          | 0/9768 [00:00<?, ?it/s]"
      ]
     },
     "metadata": {},
     "output_type": "display_data"
    },
    {
     "data": {
      "application/vnd.jupyter.widget-view+json": {
       "model_id": "c74ccb22d4f5463ea1af188f2a3b6ee7",
       "version_major": 2,
       "version_minor": 0
      },
      "text/plain": [
       "  0%|          | 0/1520 [00:00<?, ?it/s]"
      ]
     },
     "metadata": {},
     "output_type": "display_data"
    },
    {
     "data": {
      "application/vnd.jupyter.widget-view+json": {
       "model_id": "776bdf32782041c59fa810eb83077ae8",
       "version_major": 2,
       "version_minor": 0
      },
      "text/plain": [
       "  0%|          | 0/9768 [00:00<?, ?it/s]"
      ]
     },
     "metadata": {},
     "output_type": "display_data"
    },
    {
     "data": {
      "application/vnd.jupyter.widget-view+json": {
       "model_id": "3cacd695cd5545d085fbe7926ee9616a",
       "version_major": 2,
       "version_minor": 0
      },
      "text/plain": [
       "  0%|          | 0/1520 [00:00<?, ?it/s]"
      ]
     },
     "metadata": {},
     "output_type": "display_data"
    },
    {
     "data": {
      "application/vnd.jupyter.widget-view+json": {
       "model_id": "ad1d8453089f4a5193e000aba9d703d2",
       "version_major": 2,
       "version_minor": 0
      },
      "text/plain": [
       "  0%|          | 0/9768 [00:00<?, ?it/s]"
      ]
     },
     "metadata": {},
     "output_type": "display_data"
    },
    {
     "data": {
      "application/vnd.jupyter.widget-view+json": {
       "model_id": "476ba2ca192440499c1bdbf3baee6af8",
       "version_major": 2,
       "version_minor": 0
      },
      "text/plain": [
       "  0%|          | 0/1520 [00:00<?, ?it/s]"
      ]
     },
     "metadata": {},
     "output_type": "display_data"
    },
    {
     "name": "stdout",
     "output_type": "stream",
     "text": [
      "Saving best model.\n"
     ]
    },
    {
     "data": {
      "application/vnd.jupyter.widget-view+json": {
       "model_id": "4ecd5cc1264643e1a77c622f24c56f29",
       "version_major": 2,
       "version_minor": 0
      },
      "text/plain": [
       "  0%|          | 0/9768 [00:00<?, ?it/s]"
      ]
     },
     "metadata": {},
     "output_type": "display_data"
    },
    {
     "data": {
      "application/vnd.jupyter.widget-view+json": {
       "model_id": "dbf6fb26e1314a548c2689502fd45bc4",
       "version_major": 2,
       "version_minor": 0
      },
      "text/plain": [
       "  0%|          | 0/1520 [00:00<?, ?it/s]"
      ]
     },
     "metadata": {},
     "output_type": "display_data"
    },
    {
     "data": {
      "application/vnd.jupyter.widget-view+json": {
       "model_id": "1f63abd22fee47729d46fc945bbed66a",
       "version_major": 2,
       "version_minor": 0
      },
      "text/plain": [
       "  0%|          | 0/9768 [00:00<?, ?it/s]"
      ]
     },
     "metadata": {},
     "output_type": "display_data"
    },
    {
     "data": {
      "application/vnd.jupyter.widget-view+json": {
       "model_id": "8c92ffe5592d4ccdaa38f8cbbe3e9376",
       "version_major": 2,
       "version_minor": 0
      },
      "text/plain": [
       "  0%|          | 0/1520 [00:00<?, ?it/s]"
      ]
     },
     "metadata": {},
     "output_type": "display_data"
    },
    {
     "data": {
      "application/vnd.jupyter.widget-view+json": {
       "model_id": "e7e0bae778204e168dc78b7227bbd2ef",
       "version_major": 2,
       "version_minor": 0
      },
      "text/plain": [
       "  0%|          | 0/9768 [00:00<?, ?it/s]"
      ]
     },
     "metadata": {},
     "output_type": "display_data"
    },
    {
     "data": {
      "application/vnd.jupyter.widget-view+json": {
       "model_id": "7f189f1fa7494074a7b78b7619698941",
       "version_major": 2,
       "version_minor": 0
      },
      "text/plain": [
       "  0%|          | 0/1520 [00:00<?, ?it/s]"
      ]
     },
     "metadata": {},
     "output_type": "display_data"
    },
    {
     "data": {
      "application/vnd.jupyter.widget-view+json": {
       "model_id": "a9ea8477eb984ca4b120c61cda54f48e",
       "version_major": 2,
       "version_minor": 0
      },
      "text/plain": [
       "  0%|          | 0/9768 [00:00<?, ?it/s]"
      ]
     },
     "metadata": {},
     "output_type": "display_data"
    },
    {
     "data": {
      "application/vnd.jupyter.widget-view+json": {
       "model_id": "84733106c0b6464e86cb0d55c6747947",
       "version_major": 2,
       "version_minor": 0
      },
      "text/plain": [
       "  0%|          | 0/1520 [00:00<?, ?it/s]"
      ]
     },
     "metadata": {},
     "output_type": "display_data"
    },
    {
     "data": {
      "application/vnd.jupyter.widget-view+json": {
       "model_id": "332cb7e129a548f08b3fd98bf74b3d9f",
       "version_major": 2,
       "version_minor": 0
      },
      "text/plain": [
       "  0%|          | 0/9768 [00:00<?, ?it/s]"
      ]
     },
     "metadata": {},
     "output_type": "display_data"
    },
    {
     "data": {
      "application/vnd.jupyter.widget-view+json": {
       "model_id": "0406ef5769544cad84f70c3a7290d7e9",
       "version_major": 2,
       "version_minor": 0
      },
      "text/plain": [
       "  0%|          | 0/1520 [00:00<?, ?it/s]"
      ]
     },
     "metadata": {},
     "output_type": "display_data"
    },
    {
     "data": {
      "application/vnd.jupyter.widget-view+json": {
       "model_id": "9ea892c288394ed49af5d2303cdf43c6",
       "version_major": 2,
       "version_minor": 0
      },
      "text/plain": [
       "  0%|          | 0/9768 [00:00<?, ?it/s]"
      ]
     },
     "metadata": {},
     "output_type": "display_data"
    },
    {
     "data": {
      "application/vnd.jupyter.widget-view+json": {
       "model_id": "24be639b36fa43f5ad6551939eda0125",
       "version_major": 2,
       "version_minor": 0
      },
      "text/plain": [
       "  0%|          | 0/1520 [00:00<?, ?it/s]"
      ]
     },
     "metadata": {},
     "output_type": "display_data"
    },
    {
     "data": {
      "application/vnd.jupyter.widget-view+json": {
       "model_id": "14f5e137f6dd4307b3fe3671c8fb43fa",
       "version_major": 2,
       "version_minor": 0
      },
      "text/plain": [
       "  0%|          | 0/9768 [00:00<?, ?it/s]"
      ]
     },
     "metadata": {},
     "output_type": "display_data"
    },
    {
     "data": {
      "application/vnd.jupyter.widget-view+json": {
       "model_id": "21d93fe80b44459c90763434a2258dc7",
       "version_major": 2,
       "version_minor": 0
      },
      "text/plain": [
       "  0%|          | 0/1520 [00:00<?, ?it/s]"
      ]
     },
     "metadata": {},
     "output_type": "display_data"
    },
    {
     "data": {
      "application/vnd.jupyter.widget-view+json": {
       "model_id": "46ee64a7740c470bb6e6be9f6fd272cc",
       "version_major": 2,
       "version_minor": 0
      },
      "text/plain": [
       "  0%|          | 0/9768 [00:00<?, ?it/s]"
      ]
     },
     "metadata": {},
     "output_type": "display_data"
    },
    {
     "data": {
      "application/vnd.jupyter.widget-view+json": {
       "model_id": "81ce7d7aa80f4fdc8637f4a9bd0af22e",
       "version_major": 2,
       "version_minor": 0
      },
      "text/plain": [
       "  0%|          | 0/1520 [00:00<?, ?it/s]"
      ]
     },
     "metadata": {},
     "output_type": "display_data"
    },
    {
     "data": {
      "application/vnd.jupyter.widget-view+json": {
       "model_id": "a25325c5bb9d41a2b5046014678434a5",
       "version_major": 2,
       "version_minor": 0
      },
      "text/plain": [
       "  0%|          | 0/9768 [00:00<?, ?it/s]"
      ]
     },
     "metadata": {},
     "output_type": "display_data"
    },
    {
     "data": {
      "application/vnd.jupyter.widget-view+json": {
       "model_id": "551a89ce3405443a9b271db8b42c5dc9",
       "version_major": 2,
       "version_minor": 0
      },
      "text/plain": [
       "  0%|          | 0/1520 [00:00<?, ?it/s]"
      ]
     },
     "metadata": {},
     "output_type": "display_data"
    },
    {
     "data": {
      "application/vnd.jupyter.widget-view+json": {
       "model_id": "810c07573add406eb994b4207d9effb1",
       "version_major": 2,
       "version_minor": 0
      },
      "text/plain": [
       "  0%|          | 0/9768 [00:00<?, ?it/s]"
      ]
     },
     "metadata": {},
     "output_type": "display_data"
    },
    {
     "data": {
      "application/vnd.jupyter.widget-view+json": {
       "model_id": "f2872888ddb3494f8d072d642a33b4ae",
       "version_major": 2,
       "version_minor": 0
      },
      "text/plain": [
       "  0%|          | 0/1520 [00:00<?, ?it/s]"
      ]
     },
     "metadata": {},
     "output_type": "display_data"
    },
    {
     "name": "stdout",
     "output_type": "stream",
     "text": [
      "Early stopping, on epoch: 25.\n"
     ]
    },
    {
     "data": {
      "application/vnd.jupyter.widget-view+json": {
       "model_id": "eecb4c756aa340bd82343c0ff94975ca",
       "version_major": 2,
       "version_minor": 0
      },
      "text/plain": [
       "  0%|          | 0/1520 [00:00<?, ?it/s]"
      ]
     },
     "metadata": {},
     "output_type": "display_data"
    },
    {
     "name": "stdout",
     "output_type": "stream",
     "text": [
      "{'mae': 8.024522371082567, 'rmse': 28.942584249874418, 'max': 798.3108758345727, 'whiteness': 299.04715, 'expert_whiteness': 59.24675021026411}\n"
     ]
    },
    {
     "data": {
      "text/plain": [
       "0.140053166996222"
      ]
     },
     "execution_count": 6,
     "metadata": {},
     "output_type": "execute_result"
    }
   ],
   "source": [
    "model = PilotNet()\n",
    "criterion = nn.L1Loss()\n",
    "optimizer = torch.optim.AdamW(model.parameters(), lr=learning_rate, betas=(0.9, 0.999), \n",
    "                              eps=1e-08, weight_decay=weight_decay, amsgrad=False)\n",
    "\n",
    "device = torch.device('cuda' if torch.cuda.is_available() else 'cpu')\n",
    "model = model.to(device)\n",
    "criterion = criterion.to(device)\n",
    "\n",
    "trainer = Trainer(model_name, wandb_logging=wandb_logging)\n",
    "trainer.train(model, trainloader, validloader, optimizer, criterion, n_epochs)"
   ]
  }
 ],
 "metadata": {
  "kernelspec": {
   "display_name": "Python 3 (ipykernel)",
   "language": "python",
   "name": "python3"
  },
  "language_info": {
   "codemirror_mode": {
    "name": "ipython",
    "version": 3
   },
   "file_extension": ".py",
   "mimetype": "text/x-python",
   "name": "python",
   "nbconvert_exporter": "python",
   "pygments_lexer": "ipython3",
   "version": "3.9.6"
  }
 },
 "nbformat": 4,
 "nbformat_minor": 5
}
