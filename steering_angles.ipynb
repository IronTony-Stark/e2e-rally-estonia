{
 "cells": [
  {
   "cell_type": "code",
   "execution_count": 1,
   "id": "d623e8d5",
   "metadata": {},
   "outputs": [],
   "source": [
    "import numpy as np\n",
    "import pandas as pd\n",
    "import matplotlib.pyplot as plt\n",
    "from pathlib import Path\n",
    "from tqdm.auto import tqdm\n",
    "\n",
    "import torch\n",
    "import torch.nn as nn\n",
    "import torchvision\n",
    "\n",
    "from dataloading.nvidia import NvidiaSpringTrainDataset, NvidiaTrainDataset, NvidiaValidationDataset\n",
    "from network import PilotNet\n",
    "from trainer import Trainer\n",
    "\n",
    "%load_ext autoreload\n",
    "%autoreload 2"
   ]
  },
  {
   "cell_type": "code",
   "execution_count": 2,
   "id": "22427700",
   "metadata": {},
   "outputs": [],
   "source": [
    "root_path = Path(\"/media/romet/data2/datasets/rally-estonia/dataset\")\n",
    "\n",
    "# trainset_spring = NvidiaSpringTrainDataset(root_path)\n",
    "# len(trainset_spring)"
   ]
  },
  {
   "cell_type": "code",
   "execution_count": 3,
   "id": "bfdbd3c8",
   "metadata": {},
   "outputs": [
    {
     "name": "stdout",
     "output_type": "stream",
     "text": [
      "/media/romet/data2/datasets/rally-estonia/dataset/2021-05-20-12-36-10_e2e_sulaoja_20_30: 12025\n",
      "/media/romet/data2/datasets/rally-estonia/dataset/2021-05-20-12-43-17_e2e_sulaoja_20_30: 6809\n",
      "/media/romet/data2/datasets/rally-estonia/dataset/2021-05-20-12-51-29_e2e_sulaoja_20_30: 5393\n",
      "/media/romet/data2/datasets/rally-estonia/dataset/2021-05-20-13-44-06_e2e_sulaoja_10_10: 3833\n",
      "/media/romet/data2/datasets/rally-estonia/dataset/2021-05-20-13-51-21_e2e_sulaoja_10_10: 3798\n",
      "/media/romet/data2/datasets/rally-estonia/dataset/2021-05-20-13-59-00_e2e_sulaoja_10_10: 687\n",
      "/media/romet/data2/datasets/rally-estonia/dataset/2021-05-28-15-07-56_e2e_sulaoja_20_30: 15626\n",
      "/media/romet/data2/datasets/rally-estonia/dataset/2021-05-28-15-17-19_e2e_sulaoja_20_30: 3218\n",
      "/media/romet/data2/datasets/rally-estonia/dataset/2021-06-09-13-14-51_e2e_rec_ss2: 49918\n",
      "/media/romet/data2/datasets/rally-estonia/dataset/2021-06-09-13-55-03_e2e_rec_ss2_backwards: 53743\n",
      "/media/romet/data2/datasets/rally-estonia/dataset/2021-06-09-14-58-11_e2e_rec_ss3: 43886\n",
      "/media/romet/data2/datasets/rally-estonia/dataset/2021-06-09-15-42-05_e2e_rec_ss3_backwards: 40694\n",
      "/media/romet/data2/datasets/rally-estonia/dataset/2021-06-09-16-24-59_e2e_rec_ss13: 34425\n",
      "/media/romet/data2/datasets/rally-estonia/dataset/2021-06-09-16-50-22_e2e_rec_ss13_backwards: 34411\n",
      "/media/romet/data2/datasets/rally-estonia/dataset/2021-06-10-12-59-59_e2e_ss4: 25508\n",
      "/media/romet/data2/datasets/rally-estonia/dataset/2021-06-10-13-19-22_e2e_ss4_backwards: 23844\n",
      "/media/romet/data2/datasets/rally-estonia/dataset/2021-06-10-13-51-34_e2e_ss12: 13638\n",
      "/media/romet/data2/datasets/rally-estonia/dataset/2021-06-10-14-02-24_e2e_ss12_backwards: 12574\n",
      "/media/romet/data2/datasets/rally-estonia/dataset/2021-06-10-14-44-24_e2e_ss3_backwards: 31838\n",
      "/media/romet/data2/datasets/rally-estonia/dataset/2021-06-10-15-03-16_e2e_ss3_backwards: 2458\n",
      "/media/romet/data2/datasets/rally-estonia/dataset/2021-06-14-11-08-19_e2e_rec_ss14: 14672\n",
      "/media/romet/data2/datasets/rally-estonia/dataset/2021-06-14-11-22-05_e2e_rec_ss14: 26043\n",
      "/media/romet/data2/datasets/rally-estonia/dataset/2021-06-14-11-22-05_e2e_rec_ss14: 26043\n",
      "/media/romet/data2/datasets/rally-estonia/dataset/2021-06-14-11-43-48_e2e_rec_ss14_backwards: 43674\n",
      "/media/romet/data2/datasets/rally-estonia/dataset/2021-09-24-11-19-25_e2e_rec_ss10: 34760\n",
      "/media/romet/data2/datasets/rally-estonia/dataset/2021-09-24-11-40-24_e2e_rec_ss10_2: 16223\n",
      "/media/romet/data2/datasets/rally-estonia/dataset/2021-09-24-12-02-32_e2e_rec_ss10_3: 8142\n",
      "/media/romet/data2/datasets/rally-estonia/dataset/2021-09-24-12-21-20_e2e_rec_ss10_backwards: 64975\n",
      "/media/romet/data2/datasets/rally-estonia/dataset/2021-09-24-13-39-38_e2e_rec_ss11: 33255\n",
      "/media/romet/data2/datasets/rally-estonia/dataset/2021-09-30-13-57-00_e2e_rec_ss14: 3287\n",
      "/media/romet/data2/datasets/rally-estonia/dataset/2021-09-30-15-03-37_e2e_ss14_from_half_way: 21755\n",
      "/media/romet/data2/datasets/rally-estonia/dataset/2021-09-30-15-20-14_e2e_ss14_backwards: 52762\n",
      "/media/romet/data2/datasets/rally-estonia/dataset/2021-09-30-15-56-59_e2e_ss14_attempt_2: 66899\n",
      "/media/romet/data2/datasets/rally-estonia/dataset/2021-10-07-11-05-13_e2e_rec_ss3: 54211\n",
      "/media/romet/data2/datasets/rally-estonia/dataset/2021-10-07-11-44-52_e2e_rec_ss3_backwards: 63400\n",
      "/media/romet/data2/datasets/rally-estonia/dataset/2021-10-07-12-54-17_e2e_rec_ss4: 34056\n",
      "/media/romet/data2/datasets/rally-estonia/dataset/2021-10-07-13-22-35_e2e_rec_ss4_backwards: 34373\n",
      "/media/romet/data2/datasets/rally-estonia/dataset/2021-10-11-16-06-44_e2e_rec_ss2: 81250\n",
      "/media/romet/data2/datasets/rally-estonia/dataset/2021-10-11-17-10-23_e2e_rec_last_part: 4986\n",
      "/media/romet/data2/datasets/rally-estonia/dataset/2021-10-11-17-14-40_e2e_rec_backwards: 5236\n",
      "/media/romet/data2/datasets/rally-estonia/dataset/2021-10-11-17-20-12_e2e_rec_backwards: 68954\n",
      "/media/romet/data2/datasets/rally-estonia/dataset/2021-10-20-14-55-47_e2e_rec_vastse_ss13_17: 25021\n",
      "/media/romet/data2/datasets/rally-estonia/dataset/2021-10-20-13-57-51_e2e_rec_neeruti_ss19_22: 29395\n",
      "/media/romet/data2/datasets/rally-estonia/dataset/2021-10-20-14-15-07_e2e_rec_neeruti_ss19_22_back: 29639\n",
      "/media/romet/data2/datasets/rally-estonia/dataset/2021-10-25-17-31-48_e2e_rec_ss2_arula: 42414\n",
      "/media/romet/data2/datasets/rally-estonia/dataset/2021-10-25-17-06-34_e2e_rec_ss2_arula_back: 43298\n"
     ]
    },
    {
     "data": {
      "text/plain": [
       "1347049"
      ]
     },
     "execution_count": 3,
     "metadata": {},
     "output_type": "execute_result"
    }
   ],
   "source": [
    "trainset_autumn = NvidiaTrainDataset(root_path)\n",
    "len(trainset_autumn)"
   ]
  },
  {
   "cell_type": "code",
   "execution_count": 4,
   "id": "19bd616e",
   "metadata": {},
   "outputs": [
    {
     "name": "stdout",
     "output_type": "stream",
     "text": [
      "/media/romet/data2/datasets/rally-estonia/dataset/2021-05-28-15-19-48_e2e_sulaoja_20_30: 10708\n",
      "/media/romet/data2/datasets/rally-estonia/dataset/2021-06-07-14-20-07_e2e_rec_ss6: 25836\n",
      "/media/romet/data2/datasets/rally-estonia/dataset/2021-06-07-14-06-31_e2e_rec_ss6: 3003\n",
      "/media/romet/data2/datasets/rally-estonia/dataset/2021-06-07-14-09-18_e2e_rec_ss6: 4551\n",
      "/media/romet/data2/datasets/rally-estonia/dataset/2021-06-07-14-36-16_e2e_rec_ss6: 25368\n",
      "/media/romet/data2/datasets/rally-estonia/dataset/2021-09-24-14-03-45_e2e_rec_ss11_backwards: 25172\n",
      "/media/romet/data2/datasets/rally-estonia/dataset/2021-10-26-10-49-06_e2e_rec_ss20_elva: 33045\n",
      "/media/romet/data2/datasets/rally-estonia/dataset/2021-10-26-11-08-59_e2e_rec_ss20_elva_back: 33281\n",
      "/media/romet/data2/datasets/rally-estonia/dataset/2021-10-20-15-11-29_e2e_rec_vastse_ss13_17_back: 26763\n",
      "/media/romet/data2/datasets/rally-estonia/dataset/2021-10-11-14-50-59_e2e_rec_vahi: 21211\n",
      "/media/romet/data2/datasets/rally-estonia/dataset/2021-10-14-13-08-51_e2e_rec_vahi_backwards: 13442\n"
     ]
    },
    {
     "data": {
      "text/plain": [
       "222380"
      ]
     },
     "execution_count": 4,
     "metadata": {},
     "output_type": "execute_result"
    }
   ],
   "source": [
    "validset = NvidiaValidationDataset(root_path)\n",
    "len(validset)\n",
    "validloader = torch.utils.data.DataLoader(validset, batch_size=64, shuffle=False,\n",
    "                                         num_workers=32, pin_memory=True, persistent_workers=True)\n",
    "len(validset)"
   ]
  },
  {
   "cell_type": "code",
   "execution_count": 21,
   "id": "f7f15041",
   "metadata": {},
   "outputs": [
    {
     "name": "stdout",
     "output_type": "stream",
     "text": [
      "1569429\n"
     ]
    }
   ],
   "source": [
    "df = pd.concat([trainset_autumn.frames, validset.frames])\n",
    "print(len(df))"
   ]
  },
  {
   "cell_type": "code",
   "execution_count": 22,
   "id": "1f109025",
   "metadata": {},
   "outputs": [
    {
     "data": {
      "text/plain": [
       "1500155"
      ]
     },
     "execution_count": 22,
     "metadata": {},
     "output_type": "execute_result"
    }
   ],
   "source": [
    "len(df[df.turn_signal==1])"
   ]
  },
  {
   "cell_type": "code",
   "execution_count": 23,
   "id": "5fb92e06",
   "metadata": {},
   "outputs": [
    {
     "data": {
      "text/plain": [
       "34673"
      ]
     },
     "execution_count": 23,
     "metadata": {},
     "output_type": "execute_result"
    }
   ],
   "source": [
    "len(df[df.turn_signal==2])"
   ]
  },
  {
   "cell_type": "code",
   "execution_count": 24,
   "id": "ec233f54",
   "metadata": {},
   "outputs": [
    {
     "data": {
      "text/plain": [
       "34016"
      ]
     },
     "execution_count": 24,
     "metadata": {},
     "output_type": "execute_result"
    }
   ],
   "source": [
    "len(df[df.turn_signal==0])"
   ]
  },
  {
   "cell_type": "code",
   "execution_count": 25,
   "id": "0925a7ae",
   "metadata": {},
   "outputs": [
    {
     "data": {
      "text/plain": [
       "0.9558603797941799"
      ]
     },
     "execution_count": 25,
     "metadata": {},
     "output_type": "execute_result"
    }
   ],
   "source": [
    "len(df[df.turn_signal==1]) / len(df)"
   ]
  },
  {
   "cell_type": "code",
   "execution_count": 26,
   "id": "fe5949c3",
   "metadata": {},
   "outputs": [
    {
     "data": {
      "text/plain": [
       "0.022092748381736287"
      ]
     },
     "execution_count": 26,
     "metadata": {},
     "output_type": "execute_result"
    }
   ],
   "source": [
    "len(df[df.turn_signal==2]) / len(df)"
   ]
  },
  {
   "cell_type": "code",
   "execution_count": 27,
   "id": "134bd093",
   "metadata": {},
   "outputs": [
    {
     "data": {
      "text/plain": [
       "0.021674124793157258"
      ]
     },
     "execution_count": 27,
     "metadata": {},
     "output_type": "execute_result"
    }
   ],
   "source": [
    "len(df[df.turn_signal==0]) / len(df)"
   ]
  },
  {
   "cell_type": "code",
   "execution_count": 28,
   "id": "c9bc64ea",
   "metadata": {},
   "outputs": [],
   "source": [
    "df[\"turn_signal\"].fillna(1.0, inplace=True) \n",
    "df[\"turn_signal\"] = df[\"turn_signal\"].astype(int)\n",
    "df[\"turn_signal_next\"] = df.shift(-1).turn_signal"
   ]
  },
  {
   "cell_type": "code",
   "execution_count": 29,
   "id": "1bef41b4",
   "metadata": {},
   "outputs": [
    {
     "data": {
      "text/plain": [
       "146"
      ]
     },
     "execution_count": 29,
     "metadata": {},
     "output_type": "execute_result"
    }
   ],
   "source": [
    "len(df[(df.turn_signal==1) & (df.turn_signal_next==2)])"
   ]
  },
  {
   "cell_type": "code",
   "execution_count": 30,
   "id": "684d8a6f",
   "metadata": {},
   "outputs": [
    {
     "data": {
      "text/plain": [
       "143"
      ]
     },
     "execution_count": 30,
     "metadata": {},
     "output_type": "execute_result"
    }
   ],
   "source": [
    "len(df[(df.turn_signal==1) & (df.turn_signal_next==0)])"
   ]
  },
  {
   "cell_type": "code",
   "execution_count": null,
   "id": "c837fda1",
   "metadata": {},
   "outputs": [],
   "source": []
  },
  {
   "cell_type": "code",
   "execution_count": null,
   "id": "484f3365",
   "metadata": {},
   "outputs": [],
   "source": [
    "\n",
    "train_spring = trainset_spring.frames.steering_angle / np.pi * 180\n",
    "train_autumn = trainset_autumn.frames.steering_angle / np.pi * 180\n",
    "valid_steering = validset.frames.steering_angle / np.pi * 180\n",
    "\n",
    "fig, (ax1, ax2, ax3) = plt.subplots(1, 3, figsize=(30,10))\n",
    "ax1.hist(train_spring, bins=100)\n",
    "ax2.hist(train_autumn, bins=100)\n",
    "ax3.hist(valid_steering, bins=100);"
   ]
  },
  {
   "cell_type": "code",
   "execution_count": null,
   "id": "cdb0d458",
   "metadata": {},
   "outputs": [],
   "source": [
    "vahi1 = PilotNet()\n",
    "vahi1.load_state_dict(torch.load(f\"models/20211019015910_spring-v1/best.pt\"))\n",
    "device = torch.device('cuda' if torch.cuda.is_available() else 'cpu')\n",
    "vahi1 = vahi1.to(device);"
   ]
  },
  {
   "cell_type": "code",
   "execution_count": null,
   "id": "13d5b8f4",
   "metadata": {},
   "outputs": [],
   "source": [
    "trainer = Trainer()\n",
    "metrics = trainer.calculate_open_loop_metrics(vahi1, validloader, 30)\n",
    "metrics"
   ]
  },
  {
   "cell_type": "code",
   "execution_count": null,
   "id": "793ba377",
   "metadata": {},
   "outputs": [],
   "source": [
    "vahi2 = PilotNet()\n",
    "vahi2.load_state_dict(torch.load(f\"models/20211019152624_autumn-v1/best.pt\"))\n",
    "vahi2 = vahi2.to(device);"
   ]
  },
  {
   "cell_type": "code",
   "execution_count": null,
   "id": "6a6ad45a",
   "metadata": {},
   "outputs": [],
   "source": [
    "metrics = trainer.calculate_open_loop_metrics(vahi2, validloader, 30)\n",
    "metrics"
   ]
  },
  {
   "cell_type": "code",
   "execution_count": null,
   "id": "c1308f9c",
   "metadata": {},
   "outputs": [],
   "source": [
    "wide2 = PilotNet()\n",
    "wide2.load_state_dict(torch.load(f\"models/20211019114940_spring-v2/best.pt\"))\n",
    "wide2 = wide2.to(device)\n",
    "metrics = trainer.calculate_open_loop_metrics(wide2, validloader, 30)\n",
    "metrics"
   ]
  },
  {
   "cell_type": "code",
   "execution_count": null,
   "id": "49419dbb",
   "metadata": {},
   "outputs": [],
   "source": [
    "def calculate_errors(model, dataloader, trainer):\n",
    "    predictions = trainer.predict(model, dataloader)\n",
    "    predicted_degrees = np.array(predictions) / np.pi * 180\n",
    "    true_degrees = dataloader.dataset.frames.steering_angle.to_numpy() / np.pi * 180\n",
    "    errors = true_degrees - predicted_degrees\n",
    "    return errors, predicted_degrees, true_degrees"
   ]
  },
  {
   "cell_type": "code",
   "execution_count": null,
   "id": "6d531d3a",
   "metadata": {},
   "outputs": [],
   "source": [
    "errors, predicted_degrees, true_degrees = calculate_errors(wide2, validloader, trainer)"
   ]
  },
  {
   "cell_type": "code",
   "execution_count": null,
   "id": "70a1030b",
   "metadata": {},
   "outputs": [],
   "source": [
    "fig, (ax1, ax2, ax3) = plt.subplots(3, 1, figsize=(20, 20))\n",
    "ax1.hist(errors, bins=200)\n",
    "ax1.set_xlim([-400, 400])\n",
    "ax1.set_title(\"Errors\")\n",
    "ax2.hist(predicted_degrees, bins=200)\n",
    "ax2.set_xlim([-400, 400])\n",
    "ax2.set_title(\"Predicted degrees\")\n",
    "ax3.hist(true_degrees, bins=200)\n",
    "ax3.set_xlim([-400, 400])\n",
    "ax3.set_title(\"True degrees\");"
   ]
  },
  {
   "cell_type": "code",
   "execution_count": null,
   "id": "36ca82ab",
   "metadata": {},
   "outputs": [],
   "source": [
    "errors, predicted_degrees, true_degrees = calculate_errors(vahi2, validloader, trainer)"
   ]
  },
  {
   "cell_type": "code",
   "execution_count": null,
   "id": "5101e354",
   "metadata": {},
   "outputs": [],
   "source": [
    "fig, (ax1, ax2, ax3) = plt.subplots(3, 1, figsize=(20, 20))\n",
    "ax1.hist(errors, bins=200)\n",
    "ax1.set_xlim([-400, 400])\n",
    "ax1.set_title(\"Errors\")\n",
    "ax2.hist(predicted_degrees, bins=200)\n",
    "ax2.set_xlim([-400, 400])\n",
    "ax2.set_title(\"Predicted degrees\")\n",
    "ax3.hist(true_degrees, bins=200)\n",
    "ax3.set_xlim([-400, 400])\n",
    "ax3.set_title(\"True degrees\");"
   ]
  },
  {
   "cell_type": "code",
   "execution_count": null,
   "id": "f7180c2e",
   "metadata": {},
   "outputs": [],
   "source": [
    "errors, predicted_degrees, true_degrees = calculate_errors(vahi1, validloader, trainer)"
   ]
  },
  {
   "cell_type": "code",
   "execution_count": null,
   "id": "06d3cbfd",
   "metadata": {},
   "outputs": [],
   "source": [
    "fig, (ax1, ax2, ax3) = plt.subplots(3, 1, figsize=(20, 20))\n",
    "ax1.hist(errors, bins=200)\n",
    "ax1.set_xlim([-400, 400])\n",
    "ax1.set_title(\"Errors\")\n",
    "ax2.hist(predicted_degrees, bins=200)\n",
    "ax2.set_xlim([-400, 400])\n",
    "ax2.set_title(\"Predicted degrees\")\n",
    "ax3.hist(true_degrees, bins=200)\n",
    "ax3.set_xlim([-400, 400])\n",
    "ax3.set_title(\"True degrees\");"
   ]
  },
  {
   "cell_type": "code",
   "execution_count": null,
   "id": "f148dda7",
   "metadata": {},
   "outputs": [],
   "source": []
  }
 ],
 "metadata": {
  "kernelspec": {
   "display_name": "Python 3 (ipykernel)",
   "language": "python",
   "name": "python3"
  },
  "language_info": {
   "codemirror_mode": {
    "name": "ipython",
    "version": 3
   },
   "file_extension": ".py",
   "mimetype": "text/x-python",
   "name": "python",
   "nbconvert_exporter": "python",
   "pygments_lexer": "ipython3",
   "version": "3.9.6"
  }
 },
 "nbformat": 4,
 "nbformat_minor": 5
}
