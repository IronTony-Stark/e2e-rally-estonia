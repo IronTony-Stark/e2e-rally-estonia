{
 "cells": [
  {
   "cell_type": "code",
   "execution_count": 9,
   "id": "d623e8d5",
   "metadata": {},
   "outputs": [
    {
     "name": "stdout",
     "output_type": "stream",
     "text": [
      "The autoreload extension is already loaded. To reload it, use:\n",
      "  %reload_ext autoreload\n"
     ]
    }
   ],
   "source": [
    "import numpy as np\n",
    "import pandas as pd\n",
    "import matplotlib.pyplot as plt\n",
    "from pathlib import Path\n",
    "from tqdm.auto import tqdm\n",
    "\n",
    "import torch\n",
    "import torch.nn as nn\n",
    "import torchvision\n",
    "\n",
    "from dataloading.nvidia import NvidiaSpringTrainDataset, NvidiaTrainDataset, NvidiaValidationDataset\n",
    "from network import PilotNet\n",
    "from trainer import Trainer\n",
    "\n",
    "%load_ext autoreload\n",
    "%autoreload 2"
   ]
  },
  {
   "cell_type": "code",
   "execution_count": 10,
   "id": "22427700",
   "metadata": {},
   "outputs": [
    {
     "data": {
      "text/plain": [
       "507960"
      ]
     },
     "execution_count": 10,
     "metadata": {},
     "output_type": "execute_result"
    }
   ],
   "source": [
    "root_path = Path(\"/media/romet/data2/datasets/rally-estonia/dataset\")\n",
    "\n",
    "trainset_spring = NvidiaSpringTrainDataset(root_path)\n",
    "len(trainset_spring)"
   ]
  },
  {
   "cell_type": "code",
   "execution_count": 11,
   "id": "bfdbd3c8",
   "metadata": {},
   "outputs": [
    {
     "data": {
      "text/plain": [
       "689587"
      ]
     },
     "execution_count": 11,
     "metadata": {},
     "output_type": "execute_result"
    }
   ],
   "source": [
    "trainset_autumn = NvidiaTrainDataset(root_path)\n",
    "len(trainset_autumn)"
   ]
  },
  {
   "cell_type": "code",
   "execution_count": 16,
   "id": "19bd616e",
   "metadata": {},
   "outputs": [],
   "source": [
    "validset = NvidiaValidationDataset(root_path)\n",
    "len(validset)\n",
    "validloader = torch.utils.data.DataLoader(validset, batch_size=64, shuffle=False,\n",
    "                                         num_workers=32, pin_memory=True, persistent_workers=True)"
   ]
  },
  {
   "cell_type": "code",
   "execution_count": 17,
   "id": "484f3365",
   "metadata": {},
   "outputs": [
    {
     "data": {
      "image/png": "[encoded data removed]",
      "text/plain": [
       "<Figure size 2160x720 with 3 Axes>"
      ]
     },
     "metadata": {
      "needs_background": "light"
     },
     "output_type": "display_data"
    }
   ],
   "source": [
    "\n",
    "train_spring = trainset_spring.frames.steering_angle / np.pi * 180\n",
    "train_autumn = trainset_autumn.frames.steering_angle / np.pi * 180\n",
    "valid_steering = validset.frames.steering_angle / np.pi * 180\n",
    "\n",
    "fig, (ax1, ax2, ax3) = plt.subplots(1, 3, figsize=(30,10))\n",
    "ax1.hist(train_spring, bins=100)\n",
    "ax2.hist(train_autumn, bins=100)\n",
    "ax3.hist(valid_steering, bins=100);"
   ]
  },
  {
   "cell_type": "code",
   "execution_count": 18,
   "id": "cdb0d458",
   "metadata": {},
   "outputs": [],
   "source": [
    "vahi1 = PilotNet()\n",
    "vahi1.load_state_dict(torch.load(f\"models/vahi-v1/best.pt\"))\n",
    "device = torch.device('cuda' if torch.cuda.is_available() else 'cpu')\n",
    "vahi1 = vahi1.to(device);"
   ]
  },
  {
   "cell_type": "code",
   "execution_count": 20,
   "id": "13d5b8f4",
   "metadata": {},
   "outputs": [
    {
     "data": {
      "application/vnd.jupyter.widget-view+json": {
       "model_id": "dd1ea997db2343118bbf8f7b9bf4346f",
       "version_major": 2,
       "version_minor": 0
      },
      "text/plain": [
       "  0%|          | 0/971 [00:00<?, ?it/s]"
      ]
     },
     "metadata": {},
     "output_type": "display_data"
    },
    {
     "data": {
      "text/plain": [
       "{'MAE': 4.8961331939140305,\n",
       " 'RMSE': 17.92842418467363,\n",
       " 'Max': 532.748968172566,\n",
       " 'Whiteness': 121.19639,\n",
       " 'Expert whiteness': 26.501482161802812}"
      ]
     },
     "execution_count": 20,
     "metadata": {},
     "output_type": "execute_result"
    }
   ],
   "source": [
    "metrics = trainer.calculate_open_loop_metrics(vahi1, validloader, 30)\n",
    "metrics"
   ]
  },
  {
   "cell_type": "code",
   "execution_count": 21,
   "id": "793ba377",
   "metadata": {},
   "outputs": [],
   "source": [
    "vahi2 = PilotNet()\n",
    "vahi2.load_state_dict(torch.load(f\"models/vahi-v2/best.pt\"))\n",
    "vahi2 = vahi2.to(device);"
   ]
  },
  {
   "cell_type": "code",
   "execution_count": 22,
   "id": "6a6ad45a",
   "metadata": {},
   "outputs": [
    {
     "data": {
      "application/vnd.jupyter.widget-view+json": {
       "model_id": "faabccf8938042b5b946c4bce43c579b",
       "version_major": 2,
       "version_minor": 0
      },
      "text/plain": [
       "  0%|          | 0/971 [00:00<?, ?it/s]"
      ]
     },
     "metadata": {},
     "output_type": "display_data"
    },
    {
     "data": {
      "text/plain": [
       "{'MAE': 5.051123677372077,\n",
       " 'RMSE': 14.307069147603231,\n",
       " 'Max': 406.13261837456383,\n",
       " 'Whiteness': 117.36306,\n",
       " 'Expert whiteness': 26.501482161802812}"
      ]
     },
     "execution_count": 22,
     "metadata": {},
     "output_type": "execute_result"
    }
   ],
   "source": [
    "metrics = trainer.calculate_open_loop_metrics(vahi2, validloader, 30)\n",
    "metrics"
   ]
  },
  {
   "cell_type": "code",
   "execution_count": 25,
   "id": "c1308f9c",
   "metadata": {},
   "outputs": [
    {
     "data": {
      "application/vnd.jupyter.widget-view+json": {
       "model_id": "08c9e128f19b4207aa6056e8cb811786",
       "version_major": 2,
       "version_minor": 0
      },
      "text/plain": [
       "  0%|          | 0/971 [00:00<?, ?it/s]"
      ]
     },
     "metadata": {},
     "output_type": "display_data"
    },
    {
     "data": {
      "text/plain": [
       "{'MAE': 8.186433824694321,\n",
       " 'RMSE': 31.70003145052848,\n",
       " 'Max': 873.3217477387748,\n",
       " 'Whiteness': 208.2767,\n",
       " 'Expert whiteness': 26.501482161802812}"
      ]
     },
     "execution_count": 25,
     "metadata": {},
     "output_type": "execute_result"
    }
   ],
   "source": [
    "wide2 = PilotNet()\n",
    "wide2.load_state_dict(torch.load(f\"models/1-pilotnet-base/wide-v22/best.pt\"))\n",
    "wide2 = wide2.to(device)\n",
    "metrics = trainer.calculate_open_loop_metrics(wide2, validloader, 30)\n",
    "metrics"
   ]
  },
  {
   "cell_type": "code",
   "execution_count": null,
   "id": "49419dbb",
   "metadata": {},
   "outputs": [],
   "source": [
    "def calculate_errors(model, dataloader, trainer):\n",
    "    predictions = trainer.predict(model, dataloader)\n",
    "    predicted_degrees = np.array(predictions) / np.pi * 180\n",
    "    true_degrees = dataloader.dataset.frames.steering_angle.to_numpy() / np.pi * 180\n",
    "    errors = true_degrees - predicted_degrees\n",
    "    return errors, predicted_degrees, true_degrees"
   ]
  },
  {
   "cell_type": "code",
   "execution_count": null,
   "id": "6d531d3a",
   "metadata": {},
   "outputs": [],
   "source": [
    "errors, predicted_degrees, true_degrees = calculate_errors(wide2, validloader, trainer)"
   ]
  },
  {
   "cell_type": "code",
   "execution_count": null,
   "id": "70a1030b",
   "metadata": {},
   "outputs": [],
   "source": [
    "fig, (ax1, ax2, ax3) = plt.subplots(3, 1, figsize=(20, 20))\n",
    "ax1.hist(errors, bins=200)\n",
    "ax1.set_xlim([-400, 400])\n",
    "ax1.set_title(\"Errors\")\n",
    "ax2.hist(predicted_degrees, bins=200)\n",
    "ax2.set_xlim([-400, 400])\n",
    "ax2.set_title(\"Predicted degrees\")\n",
    "ax3.hist(true_degrees, bins=200)\n",
    "ax3.set_xlim([-400, 400])\n",
    "ax3.set_title(\"True degrees\");"
   ]
  },
  {
   "cell_type": "code",
   "execution_count": null,
   "id": "36ca82ab",
   "metadata": {},
   "outputs": [],
   "source": [
    "errors, predicted_degrees, true_degrees = calculate_errors(vahi2, validloader, trainer)"
   ]
  },
  {
   "cell_type": "code",
   "execution_count": null,
   "id": "5101e354",
   "metadata": {},
   "outputs": [],
   "source": [
    "fig, (ax1, ax2, ax3) = plt.subplots(3, 1, figsize=(20, 20))\n",
    "ax1.hist(errors, bins=200)\n",
    "ax1.set_xlim([-400, 400])\n",
    "ax1.set_title(\"Errors\")\n",
    "ax2.hist(predicted_degrees, bins=200)\n",
    "ax2.set_xlim([-400, 400])\n",
    "ax2.set_title(\"Predicted degrees\")\n",
    "ax3.hist(true_degrees, bins=200)\n",
    "ax3.set_xlim([-400, 400])\n",
    "ax3.set_title(\"True degrees\");"
   ]
  },
  {
   "cell_type": "code",
   "execution_count": null,
   "id": "f7180c2e",
   "metadata": {},
   "outputs": [],
   "source": [
    "errors, predicted_degrees, true_degrees = calculate_errors(vahi1, validloader, trainer)"
   ]
  },
  {
   "cell_type": "code",
   "execution_count": null,
   "id": "06d3cbfd",
   "metadata": {},
   "outputs": [],
   "source": [
    "fig, (ax1, ax2, ax3) = plt.subplots(3, 1, figsize=(20, 20))\n",
    "ax1.hist(errors, bins=200)\n",
    "ax1.set_xlim([-400, 400])\n",
    "ax1.set_title(\"Errors\")\n",
    "ax2.hist(predicted_degrees, bins=200)\n",
    "ax2.set_xlim([-400, 400])\n",
    "ax2.set_title(\"Predicted degrees\")\n",
    "ax3.hist(true_degrees, bins=200)\n",
    "ax3.set_xlim([-400, 400])\n",
    "ax3.set_title(\"True degrees\");"
   ]
  },
  {
   "cell_type": "code",
   "execution_count": null,
   "id": "f148dda7",
   "metadata": {},
   "outputs": [],
   "source": []
  }
 ],
 "metadata": {
  "kernelspec": {
   "display_name": "Python 3 (ipykernel)",
   "language": "python",
   "name": "python3"
  },
  "language_info": {
   "codemirror_mode": {
    "name": "ipython",
    "version": 3
   },
   "file_extension": ".py",
   "mimetype": "text/x-python",
   "name": "python",
   "nbconvert_exporter": "python",
   "pygments_lexer": "ipython3",
   "version": "3.9.6"
  }
 },
 "nbformat": 4,
 "nbformat_minor": 5
}
