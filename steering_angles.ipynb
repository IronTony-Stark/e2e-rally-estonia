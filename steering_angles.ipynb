{
 "cells": [
  {
   "cell_type": "code",
   "execution_count": 3,
   "id": "d623e8d5",
   "metadata": {},
   "outputs": [
    {
     "name": "stdout",
     "output_type": "stream",
     "text": [
      "The autoreload extension is already loaded. To reload it, use:\n",
      "  %reload_ext autoreload\n"
     ]
    }
   ],
   "source": [
    "import numpy as np\n",
    "import pandas as pd\n",
    "import matplotlib.pyplot as plt\n",
    "from pathlib import Path\n",
    "from tqdm.auto import tqdm\n",
    "\n",
    "import torch\n",
    "import torch.nn as nn\n",
    "import torchvision\n",
    "from torchvision import transforms\n",
    "\n",
    "from dataloading.nvidia import NvidiaResizeAndCrop, Normalize, NvidiaDataset\n",
    "from network import PilotNet\n",
    "from trainer import Trainer\n",
    "\n",
    "%load_ext autoreload\n",
    "%autoreload 2"
   ]
  },
  {
   "cell_type": "code",
   "execution_count": 4,
   "id": "22427700",
   "metadata": {},
   "outputs": [],
   "source": [
    "root_path = Path(\"/home/romet/data/datasets/ut/nvidia-data\")\n",
    "\n",
    "train_paths = [root_path / \"2021-05-20-12-36-10_e2e_sulaoja_20_30\",\n",
    "               root_path / \"2021-05-20-12-43-17_e2e_sulaoja_20_30\", \n",
    "               root_path / \"2021-05-20-12-51-29_e2e_sulaoja_20_30\",\n",
    "               root_path / \"2021-05-20-13-44-06_e2e_sulaoja_10_10\",\n",
    "               root_path / \"2021-05-20-13-51-21_e2e_sulaoja_10_10\",\n",
    "               root_path / \"2021-05-20-13-59-00_e2e_sulaoja_10_10\",\n",
    "               root_path / \"2021-05-28-15-07-56_e2e_sulaoja_20_30\",\n",
    "               root_path / \"2021-05-28-15-17-19_e2e_sulaoja_20_30\"\n",
    "              ]\n",
    "\n",
    "tr = transforms.Compose([NvidiaResizeAndCrop(), Normalize()])\n",
    "trainset = NvidiaDataset(train_paths, transform=tr)\n",
    "trainloader = torch.utils.data.DataLoader(trainset, batch_size=64, shuffle=True,\n",
    "                                         num_workers=6, pin_memory=True, persistent_workers=True)"
   ]
  },
  {
   "cell_type": "code",
   "execution_count": 9,
   "id": "b3259a88",
   "metadata": {},
   "outputs": [
    {
     "data": {
      "text/plain": [
       "51222"
      ]
     },
     "execution_count": 9,
     "metadata": {},
     "output_type": "execute_result"
    }
   ],
   "source": [
    "len(trainset.steering_angles)"
   ]
  },
  {
   "cell_type": "code",
   "execution_count": 21,
   "id": "e01ece04",
   "metadata": {},
   "outputs": [
    {
     "data": {
      "image/png": "[encoded data removed]",
      "text/plain": [
       "<Figure size 720x720 with 1 Axes>"
      ]
     },
     "metadata": {
      "needs_background": "light"
     },
     "output_type": "display_data"
    }
   ],
   "source": [
    "plt.figure(figsize=(10,10))\n",
    "plt.hist(np.array(trainset.steering_angles*56), bins=15);"
   ]
  },
  {
   "cell_type": "code",
   "execution_count": null,
   "id": "3b8344d9",
   "metadata": {},
   "outputs": [],
   "source": []
  }
 ],
 "metadata": {
  "kernelspec": {
   "display_name": "lanefollowing",
   "language": "python",
   "name": "lanefollowing"
  },
  "language_info": {
   "codemirror_mode": {
    "name": "ipython",
    "version": 3
   },
   "file_extension": ".py",
   "mimetype": "text/x-python",
   "name": "python",
   "nbconvert_exporter": "python",
   "pygments_lexer": "ipython3",
   "version": "3.8.10"
  }
 },
 "nbformat": 4,
 "nbformat_minor": 5
}
