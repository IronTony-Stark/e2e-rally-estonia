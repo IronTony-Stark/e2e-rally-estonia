{
 "cells": [
  {
   "cell_type": "code",
   "execution_count": 9,
   "id": "de36cd51",
   "metadata": {},
   "outputs": [
    {
     "name": "stdout",
     "output_type": "stream",
     "text": [
      "The autoreload extension is already loaded. To reload it, use:\n",
      "  %reload_ext autoreload\n"
     ]
    }
   ],
   "source": [
    "from pathlib import Path\n",
    "import matplotlib.pyplot as plt\n",
    "\n",
    "import torch\n",
    "from torch.utils.data import DataLoader\n",
    "from torchvision import transforms\n",
    "\n",
    "from dataloading.nvidia import NvidiaResizeAndCrop, Normalize, NvidiaDataset\n",
    "from network import PilotNet\n",
    "from trainer import Trainer\n",
    "\n",
    "%load_ext autoreload\n",
    "%autoreload 2"
   ]
  },
  {
   "cell_type": "code",
   "execution_count": 14,
   "id": "f2d91b08",
   "metadata": {},
   "outputs": [],
   "source": [
    "root_path = Path(\"/home/romet/data/datasets/ut/nvidia-data\")\n",
    "valid_paths = [root_path / \"2021-05-20-13-59-00_e2e_sulaoja_10_10\"]\n",
    "tr = transforms.Compose([NvidiaResizeAndCrop(), Normalize()])\n",
    "validset = NvidiaDataset(valid_paths, transform=tr)"
   ]
  },
  {
   "cell_type": "code",
   "execution_count": 15,
   "id": "acdbf94c",
   "metadata": {},
   "outputs": [],
   "source": [
    "trainer = Trainer(\"\")\n",
    "model = trainer.load_model(\"models/1-pilotnet-base/1cam/best.pt\")"
   ]
  },
  {
   "cell_type": "code",
   "execution_count": 16,
   "id": "a4b1b3c8",
   "metadata": {},
   "outputs": [
    {
     "name": "stdout",
     "output_type": "stream",
     "text": [
      "torch.Size([1, 3, 66, 258])\n"
     ]
    }
   ],
   "source": [
    "loader = DataLoader(validset, batch_size=1, shuffle=False, num_workers=0)\n",
    "dataiter = iter(loader)\n",
    "data = dataiter.next()\n",
    "device = torch.device('cuda' if torch.cuda.is_available() else 'cpu')\n",
    "inputs = data['image'].to(device)\n",
    "print(inputs.shape)"
   ]
  },
  {
   "cell_type": "code",
   "execution_count": 18,
   "id": "e3430a33",
   "metadata": {},
   "outputs": [],
   "source": [
    "ONNX_FILE_PATH = 'models/1-pilotnet-base/1cam/best2.onnx'\n",
    "torch.onnx.export(model, inputs, ONNX_FILE_PATH)"
   ]
  },
  {
   "cell_type": "code",
   "execution_count": null,
   "id": "88c323ef",
   "metadata": {},
   "outputs": [],
   "source": []
  }
 ],
 "metadata": {
  "kernelspec": {
   "display_name": "Python 3",
   "language": "python",
   "name": "python3"
  },
  "language_info": {
   "codemirror_mode": {
    "name": "ipython",
    "version": 3
   },
   "file_extension": ".py",
   "mimetype": "text/x-python",
   "name": "python",
   "nbconvert_exporter": "python",
   "pygments_lexer": "ipython3",
   "version": "3.8.10"
  }
 },
 "nbformat": 4,
 "nbformat_minor": 5
}
