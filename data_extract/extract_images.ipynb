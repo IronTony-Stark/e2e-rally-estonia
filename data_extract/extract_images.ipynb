{
 "cells": [
  {
   "cell_type": "code",
   "execution_count": 1,
   "id": "81706950",
   "metadata": {
    "scrolled": true
   },
   "outputs": [],
   "source": [
    "from image_extractor import NvidiaDriveImporter\n",
    "\n",
    "%load_ext autoreload\n",
    "%autoreload 2"
   ]
  },
  {
   "cell_type": "code",
   "execution_count": 2,
   "id": "fe81b7ae",
   "metadata": {},
   "outputs": [
    {
     "name": "stdout",
     "output_type": "stream",
     "text": [
      "Importing bag /home/romet/data/datasets/ut/nvidia-data/2021-06-09-13-14-51_e2e_rec_ss2.bag\n"
     ]
    },
    {
     "name": "stderr",
     "output_type": "stream",
     "text": [
      "100%|██████████| 199688/199688 [2:24:30<00:00, 29.89it/s]  "
     ]
    }
   ],
   "source": [
    "bags = [\n",
    "#    \"/home/romet/data/datasets/ut/nvidia-data/2021-05-20-12-43-17_e2e_sulaoja_20_30.bag\",\n",
    "#    \"/home/romet/data/datasets/ut/nvidia-data/2021-05-20-12-51-29_e2e_sulaoja_20_30.bag\",\n",
    "#    \"/home/romet/data/datasets/ut/nvidia-data/2021-05-20-13-44-06_e2e_sulaoja_10_10.bag\",\n",
    "#    \"/home/romet/data/datasets/ut/nvidia-data/2021-05-20-13-51-21_e2e_sulaoja_10_10.bag\",\n",
    "#     \"/home/romet/data/datasets/ut/nvidia-data/2021-05-28-15-07-56_e2e_sulaoja_20_30.bag\",\n",
    "#     \"/home/romet/data/datasets/ut/nvidia-data/2021-05-28-15-17-19_e2e_sulaoja_20_30.bag\",\n",
    "#     \"/home/romet/data/datasets/ut/nvidia-data/2021-05-28-15-19-48_e2e_sulaoja_20_30.bag\",\n",
    "#     \"/home/romet/data/datasets/ut/nvidia-data/2021-06-07-14-06-31_e2e_rec_ss6.bag\", \n",
    "#     \"/home/romet/data/datasets/ut/nvidia-data/2021-06-07-14-09-18_e2e_rec_ss6.bag\", \n",
    "#     \"/home/romet/data/datasets/ut/nvidia-data/2021-06-07-14-20-07_e2e_rec_ss6.bag\", \n",
    "#    \"/home/romet/data/datasets/ut/nvidia-data/2021-06-10-14-02-24_e2e_ss12_backwards.bag\",\n",
    "    \n",
    "     #\"/home/romet/data/datasets/ut/nvidia-data/2021-06-14-11-08-19_e2e_rec_ss14.bag\",\n",
    "     #\"/home/romet/data/datasets/ut/nvidia-data/2021-06-14-11-22-05_e2e_rec_ss14.bag\",\n",
    "     #\"/home/romet/data/datasets/ut/nvidia-data/2021-06-14-11-43-48_e2e_rec_ss14_backwards.bag\"\n",
    "    \n",
    "   \n",
    "    #\"/home/romet/data/datasets/ut/nvidia-data/2021-06-10-15-03-16_e2e_ss3_backwards.bag\"\n",
    "     \n",
    "    #\"/home/romet/data/datasets/ut/nvidia-data/2021-06-09-15-42-05_e2e_rec_ss3_backwards.bag\",\n",
    "    #\"/home/romet/data/datasets/ut/nvidia-data/2021-06-09-16-24-59_e2e_rec_ss13.bag\",\n",
    "    #\"/home/romet/data/datasets/ut/nvidia-data/2021-06-09-16-50-22_e2e_rec_ss13_backwards.bag\"\n",
    "    \n",
    "    #\"/home/romet/data/datasets/ut/nvidia-data/2021-06-10-14-44-24_e2e_ss3_backwards.bag\",\n",
    "    #\"/home/romet/data/datasets/ut/nvidia-data/2021-06-07-14-36-16_e2e_rec_ss6.bag\"\n",
    "    \n",
    "#     \"/home/romet/data/datasets/ut/nvidia-data/2021-06-09-13-55-03_e2e_rec_ss2_backwards.bag\",\n",
    "#     \"/home/romet/data/datasets/ut/nvidia-data/2021-06-09-14-58-11_e2e_rec_ss3.bag\", \n",
    "#     \"/home/romet/data/datasets/ut/nvidia-data/2021-06-10-12-59-59_e2e_ss4.bag\",\n",
    "#     \"/home/romet/data/datasets/ut/nvidia-data/2021-06-10-13-19-22_e2e_ss4_backwards.bag\",\n",
    "#     \"/home/romet/data/datasets/ut/nvidia-data/2021-06-10-13-51-34_e2e_ss12.bag\"\n",
    "    \n",
    "    \"/home/romet/data/datasets/ut/nvidia-data/2021-06-09-13-14-51_e2e_rec_ss2.bag\"\n",
    "]\n",
    "\n",
    "importer = NvidiaDriveImporter(bags)\n",
    "importer.import_bags()"
   ]
  },
  {
   "cell_type": "code",
   "execution_count": null,
   "id": "894d6569",
   "metadata": {
    "collapsed": true
   },
   "outputs": [],
   "source": []
  }
 ],
 "metadata": {
  "kernelspec": {
   "display_name": "Python 3",
   "language": "python",
   "name": "python3"
  },
  "language_info": {
   "codemirror_mode": {
    "name": "ipython",
    "version": 3
   },
   "file_extension": ".py",
   "mimetype": "text/x-python",
   "name": "python",
   "nbconvert_exporter": "python",
   "pygments_lexer": "ipython3",
   "version": "3.8.5"
  }
 },
 "nbformat": 4,
 "nbformat_minor": 5
}