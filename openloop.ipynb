{
 "cells": [
  {
   "cell_type": "code",
   "execution_count": 1,
   "id": "d623e8d5",
   "metadata": {},
   "outputs": [],
   "source": [
    "import numpy as np\n",
    "import pandas as pd\n",
    "import matplotlib.pyplot as plt\n",
    "from pathlib import Path\n",
    "from tqdm.auto import tqdm\n",
    "\n",
    "import torch\n",
    "import torch.nn as nn\n",
    "import torchvision\n",
    "from torchvision import transforms\n",
    "\n",
    "from dataloading.nvidia import NvidiaDataset, NvidiaTrainDataset, NvidiaValidationDataset, NvidiaCropWide, Normalize\n",
    "from network import PilotNet\n",
    "from trainer import Trainer\n",
    "\n",
    "%load_ext autoreload\n",
    "%autoreload 2"
   ]
  },
  {
   "cell_type": "code",
   "execution_count": 2,
   "id": "22427700",
   "metadata": {},
   "outputs": [
    {
     "name": "stdout",
     "output_type": "stream",
     "text": [
      "/media/romet/data2/datasets/rally-estonia/dataset/2021-10-26-10-49-06_e2e_rec_ss20_elva: 33045\n",
      "/media/romet/data2/datasets/rally-estonia/dataset/2021-10-26-11-08-59_e2e_rec_ss20_elva_back: 33281\n"
     ]
    }
   ],
   "source": [
    "root_path = Path(\"/media/romet/data2/datasets/rally-estonia/dataset\")\n",
    "tr = transforms.Compose([NvidiaCropWide(), Normalize()])\n",
    "data_paths = [\n",
    "    root_path / '2021-10-26-10-49-06_e2e_rec_ss20_elva',\n",
    "    root_path / '2021-10-26-11-08-59_e2e_rec_ss20_elva_back']\n",
    "nvidia_ds = NvidiaDataset(data_paths, tr)\n",
    "\n",
    "# nvidia_ds.frames[\"turn_signal\"] = nvidia_ds.frames[\"turn_signal\"].astype(int)\n",
    "# nvidia_ds.frames = nvidia_ds.frames[nvidia_ds.frames.turn_signal==1]\n",
    "\n",
    "nvidia_loader = torch.utils.data.DataLoader(nvidia_ds, batch_size=64, shuffle=False,\n",
    "                                         num_workers=32, pin_memory=True, persistent_workers=True)\n",
    "len(nvidia_loader);"
   ]
  },
  {
   "cell_type": "code",
   "execution_count": 3,
   "id": "9fa419d4",
   "metadata": {},
   "outputs": [],
   "source": [
    "nvidia = PilotNet()\n",
    "nvidia.load_state_dict(torch.load(f\"models/20211103012304_autumn-v3/best.pt\"))\n",
    "device = torch.device('cuda' if torch.cuda.is_available() else 'cpu')\n",
    "nvidia = nvidia.to(device);"
   ]
  },
  {
   "cell_type": "code",
   "execution_count": 4,
   "id": "d334508f",
   "metadata": {},
   "outputs": [
    {
     "data": {
      "application/vnd.jupyter.widget-view+json": {
       "model_id": "19edee17ea2c41018d7f4f47a41cc98c",
       "version_major": 2,
       "version_minor": 0
      },
      "text/plain": [
       "  0%|          | 0/977 [00:00<?, ?it/s]"
      ]
     },
     "metadata": {},
     "output_type": "display_data"
    },
    {
     "data": {
      "text/plain": [
       "{'mae': 5.866918793786334,\n",
       " 'rmse': 9.314956467847319,\n",
       " 'max': 184.31200166227163,\n",
       " 'whiteness': 75.57912,\n",
       " 'expert_whiteness': 52.90005527856042}"
      ]
     },
     "execution_count": 4,
     "metadata": {},
     "output_type": "execute_result"
    }
   ],
   "source": [
    "trainer = Trainer()\n",
    "nvidia_metrics = trainer.calculate_open_loop_metrics(nvidia, nvidia_loader, 30)\n",
    "nvidia_metrics"
   ]
  },
  {
   "cell_type": "code",
   "execution_count": 5,
   "id": "8e689593",
   "metadata": {},
   "outputs": [
    {
     "name": "stdout",
     "output_type": "stream",
     "text": [
      "/media/romet/data2/datasets/rally-estonia/dataset/2021-10-26-10-49-06_e2e_rec_ss20_elva: 11016\n",
      "/media/romet/data2/datasets/rally-estonia/dataset/2021-10-26-11-08-59_e2e_rec_ss20_elva_back: 11094\n"
     ]
    }
   ],
   "source": [
    "from dataloading.ouster import OusterCrop, OusterNormalize, OusterDataset\n",
    "tr = transforms.Compose([OusterCrop(), OusterNormalize()])\n",
    "ouster_ds = OusterDataset(data_paths, transform=tr)\n",
    "\n",
    "# ouster_ds.frames[\"turn_signal\"] = ouster_ds.frames[\"turn_signal\"].astype(int)\n",
    "# ouster_ds.frames = ouster_ds.frames[ouster_ds.frames.turn_signal==1]\n",
    "\n",
    "ouster_loader = torch.utils.data.DataLoader(ouster_ds, batch_size=64, shuffle=False,\n",
    "                                         num_workers=32, pin_memory=True, persistent_workers=True)"
   ]
  },
  {
   "cell_type": "code",
   "execution_count": 6,
   "id": "0893132b",
   "metadata": {},
   "outputs": [],
   "source": [
    "ouster_model = PilotNet()\n",
    "ouster_model.load_state_dict(torch.load(f\"models/20211115214225_lidar-v3/best.pt\"))\n",
    "ouster_model = ouster_model.to(device);"
   ]
  },
  {
   "cell_type": "code",
   "execution_count": 7,
   "id": "21b75eec",
   "metadata": {},
   "outputs": [
    {
     "data": {
      "application/vnd.jupyter.widget-view+json": {
       "model_id": "641804ac177349928f5785fc4535d3ac",
       "version_major": 2,
       "version_minor": 0
      },
      "text/plain": [
       "  0%|          | 0/326 [00:00<?, ?it/s]"
      ]
     },
     "metadata": {},
     "output_type": "display_data"
    },
    {
     "name": "stderr",
     "output_type": "stream",
     "text": [
      "[W pthreadpool-cpp.cc:90] Warning: Leaking Caffe2 thread-pool after fork. (function pthreadpool)\n",
      "[W pthreadpool-cpp.cc:90] Warning: Leaking Caffe2 thread-pool after fork. (function pthreadpool)\n",
      "[W pthreadpool-cpp.cc:90] Warning: Leaking Caffe2 thread-pool after fork. (function pthreadpool)\n",
      "[W pthreadpool-cpp.cc:90] Warning: Leaking Caffe2 thread-pool after fork. (function pthreadpool)\n",
      "[W pthreadpool-cpp.cc:90] Warning: Leaking Caffe2 thread-pool after fork. (function pthreadpool)\n",
      "[W pthreadpool-cpp.cc:90] Warning: Leaking Caffe2 thread-pool after fork. (function pthreadpool)\n",
      "[W pthreadpool-cpp.cc:90] Warning: Leaking Caffe2 thread-pool after fork. (function pthreadpool)\n",
      "[W pthreadpool-cpp.cc:90] Warning: Leaking Caffe2 thread-pool after fork. (function pthreadpool)\n",
      "[W pthreadpool-cpp.cc:90] Warning: Leaking Caffe2 thread-pool after fork. (function pthreadpool)\n",
      "[W pthreadpool-cpp.cc:90] Warning: Leaking Caffe2 thread-pool after fork. (function pthreadpool)\n",
      "[W pthreadpool-cpp.cc:90] Warning: Leaking Caffe2 thread-pool after fork. (function pthreadpool)\n",
      "[W pthreadpool-cpp.cc:90] Warning: Leaking Caffe2 thread-pool after fork. (function pthreadpool)\n",
      "[W pthreadpool-cpp.cc:90] Warning: Leaking Caffe2 thread-pool after fork. (function pthreadpool)\n",
      "[W pthreadpool-cpp.cc:90] Warning: Leaking Caffe2 thread-pool after fork. (function pthreadpool)\n",
      "[W pthreadpool-cpp.cc:90] Warning: Leaking Caffe2 thread-pool after fork. (function pthreadpool)\n",
      "[W pthreadpool-cpp.cc:90] Warning: Leaking Caffe2 thread-pool after fork. (function pthreadpool)\n",
      "[W pthreadpool-cpp.cc:90] Warning: Leaking Caffe2 thread-pool after fork. (function pthreadpool)\n",
      "[W pthreadpool-cpp.cc:90] Warning: Leaking Caffe2 thread-pool after fork. (function pthreadpool)\n",
      "[W pthreadpool-cpp.cc:90] Warning: Leaking Caffe2 thread-pool after fork. (function pthreadpool)\n",
      "[W pthreadpool-cpp.cc:90] Warning: Leaking Caffe2 thread-pool after fork. (function pthreadpool)\n",
      "[W pthreadpool-cpp.cc:90] Warning: Leaking Caffe2 thread-pool after fork. (function pthreadpool)\n",
      "[W pthreadpool-cpp.cc:90] Warning: Leaking Caffe2 thread-pool after fork. (function pthreadpool)\n",
      "[W pthreadpool-cpp.cc:90] Warning: Leaking Caffe2 thread-pool after fork. (function pthreadpool)\n",
      "[W pthreadpool-cpp.cc:90] Warning: Leaking Caffe2 thread-pool after fork. (function pthreadpool)\n",
      "[W pthreadpool-cpp.cc:90] Warning: Leaking Caffe2 thread-pool after fork. (function pthreadpool)\n",
      "[W pthreadpool-cpp.cc:90] Warning: Leaking Caffe2 thread-pool after fork. (function pthreadpool)\n",
      "[W pthreadpool-cpp.cc:90] Warning: Leaking Caffe2 thread-pool after fork. (function pthreadpool)\n",
      "[W pthreadpool-cpp.cc:90] Warning: Leaking Caffe2 thread-pool after fork. (function pthreadpool)\n",
      "[W pthreadpool-cpp.cc:90] Warning: Leaking Caffe2 thread-pool after fork. (function pthreadpool)\n",
      "[W pthreadpool-cpp.cc:90] Warning: Leaking Caffe2 thread-pool after fork. (function pthreadpool)\n",
      "[W pthreadpool-cpp.cc:90] Warning: Leaking Caffe2 thread-pool after fork. (function pthreadpool)\n",
      "[W pthreadpool-cpp.cc:90] Warning: Leaking Caffe2 thread-pool after fork. (function pthreadpool)\n"
     ]
    },
    {
     "data": {
      "text/plain": [
       "{'mae': 5.449213296351707,\n",
       " 'rmse': 8.887391789811598,\n",
       " 'max': 293.40379198589966,\n",
       " 'whiteness': 44.506634,\n",
       " 'expert_whiteness': 32.727281029741896}"
      ]
     },
     "execution_count": 7,
     "metadata": {},
     "output_type": "execute_result"
    }
   ],
   "source": [
    "ouster_metrics = trainer.calculate_open_loop_metrics(ouster_model, ouster_loader, 10)\n",
    "ouster_metrics"
   ]
  },
  {
   "cell_type": "code",
   "execution_count": 8,
   "id": "7c31a567",
   "metadata": {},
   "outputs": [
    {
     "data": {
      "text/html": [
       "<div>\n",
       "<style scoped>\n",
       "    .dataframe tbody tr th:only-of-type {\n",
       "        vertical-align: middle;\n",
       "    }\n",
       "\n",
       "    .dataframe tbody tr th {\n",
       "        vertical-align: top;\n",
       "    }\n",
       "\n",
       "    .dataframe thead th {\n",
       "        text-align: right;\n",
       "    }\n",
       "</style>\n",
       "<table border=\"1\" class=\"dataframe\">\n",
       "  <thead>\n",
       "    <tr style=\"text-align: right;\">\n",
       "      <th></th>\n",
       "      <th>model</th>\n",
       "      <th>mae</th>\n",
       "      <th>rmse</th>\n",
       "      <th>max</th>\n",
       "      <th>whiteness</th>\n",
       "      <th>expert_whiteness</th>\n",
       "    </tr>\n",
       "  </thead>\n",
       "  <tbody>\n",
       "    <tr>\n",
       "      <th>0</th>\n",
       "      <td>nvidia</td>\n",
       "      <td>5.866919</td>\n",
       "      <td>9.314956</td>\n",
       "      <td>184.312002</td>\n",
       "      <td>75.579117</td>\n",
       "      <td>52.900055</td>\n",
       "    </tr>\n",
       "    <tr>\n",
       "      <th>1</th>\n",
       "      <td>ouster</td>\n",
       "      <td>5.449213</td>\n",
       "      <td>8.887392</td>\n",
       "      <td>293.403792</td>\n",
       "      <td>44.506634</td>\n",
       "      <td>32.727281</td>\n",
       "    </tr>\n",
       "  </tbody>\n",
       "</table>\n",
       "</div>"
      ],
      "text/plain": [
       "    model       mae      rmse         max  whiteness  expert_whiteness\n",
       "0  nvidia  5.866919  9.314956  184.312002  75.579117         52.900055\n",
       "1  ouster  5.449213  8.887392  293.403792  44.506634         32.727281"
      ]
     },
     "execution_count": 8,
     "metadata": {},
     "output_type": "execute_result"
    }
   ],
   "source": [
    "metrics_df = pd.DataFrame(columns=[\"model\", \"mae\", \"rmse\", \"max\", \"whiteness\", \"expert_whiteness\"])\n",
    "\n",
    "nvidia_metrics[\"model\"] = \"nvidia\"\n",
    "metrics_df = metrics_df.append(nvidia_metrics, ignore_index=True)\n",
    "\n",
    "ouster_metrics[\"model\"] = \"ouster\"\n",
    "metrics_df = metrics_df.append(ouster_metrics, ignore_index=True)\n",
    "\n",
    "metrics_df"
   ]
  },
  {
   "cell_type": "code",
   "execution_count": null,
   "id": "f53351b7",
   "metadata": {},
   "outputs": [],
   "source": []
  }
 ],
 "metadata": {
  "kernelspec": {
   "display_name": "Python 3 (ipykernel)",
   "language": "python",
   "name": "python3"
  },
  "language_info": {
   "codemirror_mode": {
    "name": "ipython",
    "version": 3
   },
   "file_extension": ".py",
   "mimetype": "text/x-python",
   "name": "python",
   "nbconvert_exporter": "python",
   "pygments_lexer": "ipython3",
   "version": "3.9.6"
  }
 },
 "nbformat": 4,
 "nbformat_minor": 5
}
