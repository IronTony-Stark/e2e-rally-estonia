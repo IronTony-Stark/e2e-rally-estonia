{
 "cells": [
  {
   "cell_type": "code",
   "execution_count": 1,
   "id": "f1197580",
   "metadata": {},
   "outputs": [],
   "source": [
    "import numpy as np\n",
    "import pandas as pd\n",
    "import matplotlib.pyplot as plt\n",
    "from pathlib import Path\n",
    "from tqdm.auto import tqdm\n",
    "\n",
    "import torch\n",
    "import torch.nn as nn\n",
    "from torch.utils.data import ConcatDataset\n",
    "import torchvision\n",
    "from torchvision import transforms\n",
    "\n",
    "from dataloading.nvidia import NvidiaCropWide, Normalize, NvidiaDataset\n",
    "from network import PilotNet\n",
    "from trainer import Trainer\n",
    "\n",
    "import wandb\n",
    "\n",
    "%load_ext autoreload\n",
    "%autoreload 2"
   ]
  },
  {
   "cell_type": "markdown",
   "id": "cc2cc6b8",
   "metadata": {},
   "source": [
    "## Datasets"
   ]
  },
  {
   "cell_type": "code",
   "execution_count": 2,
   "id": "f7788f9c",
   "metadata": {},
   "outputs": [],
   "source": [
    "root_path = Path(\"/home/romet/data/datasets/ut/nvidia-data\")\n",
    "\n",
    "train_paths = [\n",
    "    root_path / \"2021-05-20-12-36-10_e2e_sulaoja_20_30\",\n",
    "    root_path / \"2021-05-20-12-43-17_e2e_sulaoja_20_30\", \n",
    "    root_path / \"2021-05-20-12-51-29_e2e_sulaoja_20_30\",\n",
    "    root_path / \"2021-05-20-13-44-06_e2e_sulaoja_10_10\",\n",
    "    root_path / \"2021-05-20-13-51-21_e2e_sulaoja_10_10\",\n",
    "    root_path / \"2021-05-20-13-59-00_e2e_sulaoja_10_10\",\n",
    "    root_path / \"2021-05-28-15-07-56_e2e_sulaoja_20_30\",\n",
    "    root_path / \"2021-05-28-15-17-19_e2e_sulaoja_20_30\",               \n",
    "    root_path / \"2021-06-07-14-06-31_e2e_rec_ss6\",\n",
    "    root_path / \"2021-06-07-14-09-18_e2e_rec_ss6\",\n",
    "    root_path / \"2021-06-07-14-36-16_e2e_rec_ss6\",\n",
    "    root_path / \"2021-06-09-13-14-51_e2e_rec_ss2\",\n",
    "    root_path / \"2021-06-09-13-55-03_e2e_rec_ss2_backwards\",\n",
    "    root_path / \"2021-06-09-14-58-11_e2e_rec_ss3\",\n",
    "    root_path / \"2021-06-09-15-42-05_e2e_rec_ss3_backwards\",\n",
    "    root_path / \"2021-06-09-16-24-59_e2e_rec_ss13\",\n",
    "    root_path / \"2021-06-09-16-50-22_e2e_rec_ss13_backwards\",\n",
    "    root_path / \"2021-06-10-12-59-59_e2e_ss4\",\n",
    "    root_path / \"2021-06-10-13-19-22_e2e_ss4_backwards\",\n",
    "    root_path / \"2021-06-10-13-51-34_e2e_ss12\",\n",
    "    root_path / \"2021-06-10-14-02-24_e2e_ss12_backwards\",\n",
    "    root_path / \"2021-06-10-14-44-24_e2e_ss3_backwards\",\n",
    "    root_path / \"2021-06-10-15-03-16_e2e_ss3_backwards\",\n",
    "    root_path / \"2021-06-14-11-08-19_e2e_rec_ss14\",\n",
    "    root_path / \"2021-06-14-11-43-48_e2e_rec_ss14_backwards\"\n",
    "]\n",
    "\n",
    "#train_paths_sidecameras = [root_path / \"2021-05-28-15-07-56_e2e_sulaoja_20_30\",\n",
    "#                      root_path / \"2021-05-28-15-17-19_e2e_sulaoja_20_30\"]\n",
    "\n",
    "tr = transforms.Compose([NvidiaCropWide(), Normalize()])\n",
    "trainsetFront = NvidiaDataset(train_paths, camera=\"front_wide\", transform=tr)\n",
    "\n",
    "#tr_left = transforms.Compose([NvidiaCropWide(), Normalize()])\n",
    "#trainsetLeft = NvidiaDataset(train_paths_sidecameras, transform=tr_left, camera=\"left\", steering_correction=-0.167)\n",
    "\n",
    "#tr_right = transforms.Compose([NvidiaCropWide(), Normalize()])\n",
    "#trainsetRight = NvidiaDataset(train_paths_sidecameras, transform=tr_right, camera=\"right\", steering_correction=0.004)\n",
    "\n",
    "#trainset = ConcatDataset([trainsetFront, trainsetLeft, trainsetRight])\n",
    "\n",
    "trainloader = torch.utils.data.DataLoader(trainsetFront, batch_size=64, shuffle=True,\n",
    "                                         num_workers=6, pin_memory=True, persistent_workers=True)"
   ]
  },
  {
   "cell_type": "code",
   "execution_count": 3,
   "id": "cbef27bf",
   "metadata": {},
   "outputs": [],
   "source": [
    "valid_paths = [\n",
    "                root_path / \"2021-05-28-15-19-48_e2e_sulaoja_20_30\",\n",
    "                root_path / \"2021-06-07-14-20-07_e2e_rec_ss6\",\n",
    "                root_path / \"2021-06-14-11-22-05_e2e_rec_ss14\"\n",
    "              ]\n",
    "validset = NvidiaDataset(valid_paths, camera=\"front_wide\", transform=tr)\n",
    "validloader = torch.utils.data.DataLoader(validset, batch_size=64, shuffle=False,\n",
    "                                         num_workers=3, pin_memory=True, persistent_workers=True)"
   ]
  },
  {
   "cell_type": "markdown",
   "id": "9e2b6318",
   "metadata": {},
   "source": [
    "## Train model"
   ]
  },
  {
   "cell_type": "code",
   "execution_count": 4,
   "id": "c0284be0",
   "metadata": {
    "scrolled": false
   },
   "outputs": [
    {
     "name": "stderr",
     "output_type": "stream",
     "text": [
      "Failed to detect the name of this notebook, you can set it manually with the WANDB_NOTEBOOK_NAME environment variable to enable code saving.\n",
      "\u001b[34m\u001b[1mwandb\u001b[0m: Currently logged in as: \u001b[33mrometaidla\u001b[0m (use `wandb login --relogin` to force relogin)\n",
      "\u001b[34m\u001b[1mwandb\u001b[0m: wandb version 0.10.32 is available!  To upgrade, please run:\n",
      "\u001b[34m\u001b[1mwandb\u001b[0m:  $ pip install wandb --upgrade\n"
     ]
    },
    {
     "data": {
      "text/html": [
       "\n",
       "                Tracking run with wandb version 0.10.31<br/>\n",
       "                Syncing run <strong style=\"color:#cdcd00\">easy-night-30</strong> to <a href=\"https://wandb.ai\" target=\"_blank\">Weights & Biases</a> <a href=\"https://docs.wandb.com/integrations/jupyter.html\" target=\"_blank\">(Documentation)</a>.<br/>\n",
       "                Project page: <a href=\"https://wandb.ai/rometaidla/lanefollowing-ut\" target=\"_blank\">https://wandb.ai/rometaidla/lanefollowing-ut</a><br/>\n",
       "                Run page: <a href=\"https://wandb.ai/rometaidla/lanefollowing-ut/runs/3tygkf7b\" target=\"_blank\">https://wandb.ai/rometaidla/lanefollowing-ut/runs/3tygkf7b</a><br/>\n",
       "                Run data is saved locally in <code>/home/romet/Projects/nvidia-e2e/wandb/run-20210616_231339-3tygkf7b</code><br/><br/>\n",
       "            "
      ],
      "text/plain": [
       "<IPython.core.display.HTML object>"
      ]
     },
     "metadata": {},
     "output_type": "display_data"
    },
    {
     "data": {
      "application/vnd.jupyter.widget-view+json": {
       "model_id": "ac035a8c712649fa8f5a2b2ca8abe4b9",
       "version_major": 2,
       "version_minor": 0
      },
      "text/plain": [
       "  0%|          | 0/7937 [00:00<?, ?it/s]"
      ]
     },
     "metadata": {},
     "output_type": "display_data"
    },
    {
     "data": {
      "application/vnd.jupyter.widget-view+json": {
       "model_id": "0280ffac587c48368dd840c2b32d8239",
       "version_major": 2,
       "version_minor": 0
      },
      "text/plain": [
       "  0%|          | 0/973 [00:00<?, ?it/s]"
      ]
     },
     "metadata": {},
     "output_type": "display_data"
    },
    {
     "name": "stdout",
     "output_type": "stream",
     "text": [
      "Saving best model.\n"
     ]
    },
    {
     "data": {
      "application/vnd.jupyter.widget-view+json": {
       "model_id": "64124067fa10486284428bd323de223e",
       "version_major": 2,
       "version_minor": 0
      },
      "text/plain": [
       "  0%|          | 0/7937 [00:00<?, ?it/s]"
      ]
     },
     "metadata": {},
     "output_type": "display_data"
    },
    {
     "data": {
      "application/vnd.jupyter.widget-view+json": {
       "model_id": "734a921163e247a6a030c3dd4fe09d34",
       "version_major": 2,
       "version_minor": 0
      },
      "text/plain": [
       "  0%|          | 0/973 [00:00<?, ?it/s]"
      ]
     },
     "metadata": {},
     "output_type": "display_data"
    },
    {
     "name": "stdout",
     "output_type": "stream",
     "text": [
      "Saving best model.\n"
     ]
    },
    {
     "data": {
      "application/vnd.jupyter.widget-view+json": {
       "model_id": "49ee2955d3034a9f93f08611064684ed",
       "version_major": 2,
       "version_minor": 0
      },
      "text/plain": [
       "  0%|          | 0/7937 [00:00<?, ?it/s]"
      ]
     },
     "metadata": {},
     "output_type": "display_data"
    },
    {
     "data": {
      "application/vnd.jupyter.widget-view+json": {
       "model_id": "e860056374204081866b6accc78c02e5",
       "version_major": 2,
       "version_minor": 0
      },
      "text/plain": [
       "  0%|          | 0/973 [00:00<?, ?it/s]"
      ]
     },
     "metadata": {},
     "output_type": "display_data"
    },
    {
     "data": {
      "application/vnd.jupyter.widget-view+json": {
       "model_id": "044a47f8eabe48898f3619585929c49d",
       "version_major": 2,
       "version_minor": 0
      },
      "text/plain": [
       "  0%|          | 0/7937 [00:00<?, ?it/s]"
      ]
     },
     "metadata": {},
     "output_type": "display_data"
    },
    {
     "data": {
      "application/vnd.jupyter.widget-view+json": {
       "model_id": "3406296058d749c59457030fcd95628f",
       "version_major": 2,
       "version_minor": 0
      },
      "text/plain": [
       "  0%|          | 0/973 [00:00<?, ?it/s]"
      ]
     },
     "metadata": {},
     "output_type": "display_data"
    },
    {
     "data": {
      "application/vnd.jupyter.widget-view+json": {
       "model_id": "2bef125e685944d78d8b07a0131994da",
       "version_major": 2,
       "version_minor": 0
      },
      "text/plain": [
       "  0%|          | 0/7937 [00:00<?, ?it/s]"
      ]
     },
     "metadata": {},
     "output_type": "display_data"
    },
    {
     "data": {
      "application/vnd.jupyter.widget-view+json": {
       "model_id": "d3b88053fb4942c58d72a2427a792a9c",
       "version_major": 2,
       "version_minor": 0
      },
      "text/plain": [
       "  0%|          | 0/973 [00:00<?, ?it/s]"
      ]
     },
     "metadata": {},
     "output_type": "display_data"
    },
    {
     "name": "stdout",
     "output_type": "stream",
     "text": [
      "Saving best model.\n"
     ]
    },
    {
     "data": {
      "application/vnd.jupyter.widget-view+json": {
       "model_id": "9d24c399a09e44b1b13b7a59d6f7e019",
       "version_major": 2,
       "version_minor": 0
      },
      "text/plain": [
       "  0%|          | 0/7937 [00:00<?, ?it/s]"
      ]
     },
     "metadata": {},
     "output_type": "display_data"
    },
    {
     "data": {
      "application/vnd.jupyter.widget-view+json": {
       "model_id": "a72319ab0337496c8552555f28ea88d1",
       "version_major": 2,
       "version_minor": 0
      },
      "text/plain": [
       "  0%|          | 0/973 [00:00<?, ?it/s]"
      ]
     },
     "metadata": {},
     "output_type": "display_data"
    },
    {
     "data": {
      "application/vnd.jupyter.widget-view+json": {
       "model_id": "322d9b0587c84ed3a742be41fd51b4fb",
       "version_major": 2,
       "version_minor": 0
      },
      "text/plain": [
       "  0%|          | 0/7937 [00:00<?, ?it/s]"
      ]
     },
     "metadata": {},
     "output_type": "display_data"
    },
    {
     "data": {
      "application/vnd.jupyter.widget-view+json": {
       "model_id": "4deb739a70b24f67be12f9b719784e29",
       "version_major": 2,
       "version_minor": 0
      },
      "text/plain": [
       "  0%|          | 0/973 [00:00<?, ?it/s]"
      ]
     },
     "metadata": {},
     "output_type": "display_data"
    },
    {
     "data": {
      "application/vnd.jupyter.widget-view+json": {
       "model_id": "b768c7a92eb64b54a5cf3ba586eb6ae2",
       "version_major": 2,
       "version_minor": 0
      },
      "text/plain": [
       "  0%|          | 0/7937 [00:00<?, ?it/s]"
      ]
     },
     "metadata": {},
     "output_type": "display_data"
    },
    {
     "data": {
      "application/vnd.jupyter.widget-view+json": {
       "model_id": "ad49b8bf3bff403397cb2d638677755a",
       "version_major": 2,
       "version_minor": 0
      },
      "text/plain": [
       "  0%|          | 0/973 [00:00<?, ?it/s]"
      ]
     },
     "metadata": {},
     "output_type": "display_data"
    },
    {
     "name": "stdout",
     "output_type": "stream",
     "text": [
      "Saving best model.\n"
     ]
    },
    {
     "data": {
      "application/vnd.jupyter.widget-view+json": {
       "model_id": "37de454281ee43a59915b9c78b36143c",
       "version_major": 2,
       "version_minor": 0
      },
      "text/plain": [
       "  0%|          | 0/7937 [00:00<?, ?it/s]"
      ]
     },
     "metadata": {},
     "output_type": "display_data"
    },
    {
     "name": "stderr",
     "output_type": "stream",
     "text": [
      "\u001b[34m\u001b[1mwandb\u001b[0m: Network error resolved after 0:02:52.822523, resuming normal operation.\n",
      "\u001b[34m\u001b[1mwandb\u001b[0m: 500 encountered ({\"error\":\"Error 1040: Too many connections\"}), retrying request\n",
      "\u001b[34m\u001b[1mwandb\u001b[0m: 500 encountered ({\"error\":\"Error 1040: Too many connections\"}), retrying request\n",
      "\u001b[34m\u001b[1mwandb\u001b[0m: Network error resolved after 0:00:35.698622, resuming normal operation.\n",
      "\u001b[34m\u001b[1mwandb\u001b[0m: 500 encountered ({\"error\":\"Error 1040: Too many connections\"}), retrying request\n",
      "\u001b[34m\u001b[1mwandb\u001b[0m: Network error resolved after 0:01:14.730210, resuming normal operation.\n"
     ]
    },
    {
     "data": {
      "application/vnd.jupyter.widget-view+json": {
       "model_id": "6d0d27e8e0d1427691cf592c0eeb98ed",
       "version_major": 2,
       "version_minor": 0
      },
      "text/plain": [
       "  0%|          | 0/973 [00:00<?, ?it/s]"
      ]
     },
     "metadata": {},
     "output_type": "display_data"
    },
    {
     "data": {
      "application/vnd.jupyter.widget-view+json": {
       "model_id": "4e435c87b82e40aa81c2294f2fcccaf6",
       "version_major": 2,
       "version_minor": 0
      },
      "text/plain": [
       "  0%|          | 0/7937 [00:00<?, ?it/s]"
      ]
     },
     "metadata": {},
     "output_type": "display_data"
    },
    {
     "data": {
      "application/vnd.jupyter.widget-view+json": {
       "model_id": "3d841fbcf6dd4de4aa9ad6182217dbcf",
       "version_major": 2,
       "version_minor": 0
      },
      "text/plain": [
       "  0%|          | 0/973 [00:00<?, ?it/s]"
      ]
     },
     "metadata": {},
     "output_type": "display_data"
    },
    {
     "data": {
      "application/vnd.jupyter.widget-view+json": {
       "model_id": "69db21f597364ffbb646fc26a795e064",
       "version_major": 2,
       "version_minor": 0
      },
      "text/plain": [
       "  0%|          | 0/7937 [00:00<?, ?it/s]"
      ]
     },
     "metadata": {},
     "output_type": "display_data"
    },
    {
     "data": {
      "application/vnd.jupyter.widget-view+json": {
       "model_id": "dc4364f55950487384e7aa23a7dd52ed",
       "version_major": 2,
       "version_minor": 0
      },
      "text/plain": [
       "  0%|          | 0/973 [00:00<?, ?it/s]"
      ]
     },
     "metadata": {},
     "output_type": "display_data"
    },
    {
     "data": {
      "application/vnd.jupyter.widget-view+json": {
       "model_id": "225d6593c6224488b6bfe8d2f65ebda2",
       "version_major": 2,
       "version_minor": 0
      },
      "text/plain": [
       "  0%|          | 0/7937 [00:00<?, ?it/s]"
      ]
     },
     "metadata": {},
     "output_type": "display_data"
    },
    {
     "data": {
      "application/vnd.jupyter.widget-view+json": {
       "model_id": "a8557a51b1404e79b4e4b52c5f445711",
       "version_major": 2,
       "version_minor": 0
      },
      "text/plain": [
       "  0%|          | 0/973 [00:00<?, ?it/s]"
      ]
     },
     "metadata": {},
     "output_type": "display_data"
    },
    {
     "data": {
      "application/vnd.jupyter.widget-view+json": {
       "model_id": "9ebbcf22ad2444ffb0256711248dd8e1",
       "version_major": 2,
       "version_minor": 0
      },
      "text/plain": [
       "  0%|          | 0/7937 [00:00<?, ?it/s]"
      ]
     },
     "metadata": {},
     "output_type": "display_data"
    },
    {
     "data": {
      "application/vnd.jupyter.widget-view+json": {
       "model_id": "7bd4c6901e144c348511909db3c7a31e",
       "version_major": 2,
       "version_minor": 0
      },
      "text/plain": [
       "  0%|          | 0/973 [00:00<?, ?it/s]"
      ]
     },
     "metadata": {},
     "output_type": "display_data"
    },
    {
     "data": {
      "application/vnd.jupyter.widget-view+json": {
       "model_id": "9b72272fde7946f9b6624dfaeac5f258",
       "version_major": 2,
       "version_minor": 0
      },
      "text/plain": [
       "  0%|          | 0/7937 [00:00<?, ?it/s]"
      ]
     },
     "metadata": {},
     "output_type": "display_data"
    },
    {
     "data": {
      "application/vnd.jupyter.widget-view+json": {
       "model_id": "59ddb97f6a5543c4a8a84f8d2eb0e46a",
       "version_major": 2,
       "version_minor": 0
      },
      "text/plain": [
       "  0%|          | 0/973 [00:00<?, ?it/s]"
      ]
     },
     "metadata": {},
     "output_type": "display_data"
    },
    {
     "data": {
      "application/vnd.jupyter.widget-view+json": {
       "model_id": "8b7a46b62ca5414aa67accd7b6b9b94b",
       "version_major": 2,
       "version_minor": 0
      },
      "text/plain": [
       "  0%|          | 0/7937 [00:00<?, ?it/s]"
      ]
     },
     "metadata": {},
     "output_type": "display_data"
    },
    {
     "data": {
      "application/vnd.jupyter.widget-view+json": {
       "model_id": "cfec94ec474248969cdfadc116bef02e",
       "version_major": 2,
       "version_minor": 0
      },
      "text/plain": [
       "  0%|          | 0/973 [00:00<?, ?it/s]"
      ]
     },
     "metadata": {},
     "output_type": "display_data"
    },
    {
     "data": {
      "application/vnd.jupyter.widget-view+json": {
       "model_id": "3e92b9b7496e4f75a0d5f89ccecc6f3d",
       "version_major": 2,
       "version_minor": 0
      },
      "text/plain": [
       "  0%|          | 0/7937 [00:00<?, ?it/s]"
      ]
     },
     "metadata": {},
     "output_type": "display_data"
    },
    {
     "data": {
      "application/vnd.jupyter.widget-view+json": {
       "model_id": "195904d9c36e4d60873c635cf290c523",
       "version_major": 2,
       "version_minor": 0
      },
      "text/plain": [
       "  0%|          | 0/973 [00:00<?, ?it/s]"
      ]
     },
     "metadata": {},
     "output_type": "display_data"
    },
    {
     "data": {
      "application/vnd.jupyter.widget-view+json": {
       "model_id": "653f3bd235ac433da9039f9a48ee2f6c",
       "version_major": 2,
       "version_minor": 0
      },
      "text/plain": [
       "  0%|          | 0/7937 [00:00<?, ?it/s]"
      ]
     },
     "metadata": {},
     "output_type": "display_data"
    },
    {
     "data": {
      "application/vnd.jupyter.widget-view+json": {
       "model_id": "c4cc857ac5854192addcd02c5371d311",
       "version_major": 2,
       "version_minor": 0
      },
      "text/plain": [
       "  0%|          | 0/973 [00:00<?, ?it/s]"
      ]
     },
     "metadata": {},
     "output_type": "display_data"
    },
    {
     "data": {
      "application/vnd.jupyter.widget-view+json": {
       "model_id": "d884a87315eb46c5a3483db8b4739286",
       "version_major": 2,
       "version_minor": 0
      },
      "text/plain": [
       "  0%|          | 0/7937 [00:00<?, ?it/s]"
      ]
     },
     "metadata": {},
     "output_type": "display_data"
    },
    {
     "data": {
      "application/vnd.jupyter.widget-view+json": {
       "model_id": "84814d26a9594b10a7d7bb6f27662af8",
       "version_major": 2,
       "version_minor": 0
      },
      "text/plain": [
       "  0%|          | 0/973 [00:00<?, ?it/s]"
      ]
     },
     "metadata": {},
     "output_type": "display_data"
    },
    {
     "name": "stdout",
     "output_type": "stream",
     "text": [
      "Early stopping, on epoch: 18.\n"
     ]
    },
    {
     "data": {
      "text/plain": [
       "0.1429302476907392"
      ]
     },
     "execution_count": 4,
     "metadata": {},
     "output_type": "execute_result"
    }
   ],
   "source": [
    "n_epochs = 100\n",
    "learning_rate = 1e-3\n",
    "weight_decay = 0.01\n",
    "model_name = f\"models/1-pilotnet-base/wide-v2\"\n",
    "\n",
    "model = PilotNet()\n",
    "criterion = nn.L1Loss()\n",
    "optimizer = torch.optim.AdamW(model.parameters(), lr=learning_rate, betas=(0.9, 0.999), \n",
    "                              eps=1e-08, weight_decay=weight_decay, amsgrad=False)\n",
    "\n",
    "device = torch.device('cuda' if torch.cuda.is_available() else 'cpu')\n",
    "model = model.to(device)\n",
    "criterion = criterion.to(device)\n",
    "\n",
    "trainer = Trainer(model_name, wandb_logging=True)\n",
    "trainer.train(model, trainloader, validloader, optimizer, criterion, n_epochs)"
   ]
  },
  {
   "cell_type": "markdown",
   "id": "cbae442e",
   "metadata": {},
   "source": [
    "## Save models"
   ]
  },
  {
   "cell_type": "code",
   "execution_count": 5,
   "id": "864cd214",
   "metadata": {},
   "outputs": [],
   "source": [
    "torch.save(model.state_dict(), f\"{model_name}/last.pt\")\n",
    "# wandb.save(f\"{model_name}/last.pt\")\n",
    "# wandb.save(f\"{model_name}/best.pt\")"
   ]
  },
  {
   "cell_type": "code",
   "execution_count": 6,
   "id": "95f965ef",
   "metadata": {},
   "outputs": [],
   "source": [
    "# model_name = f\"models/1-pilotnet-base/1cam-batch-v1\"\n",
    "# trainer = Trainer(model_name, wandb_logging=False)"
   ]
  },
  {
   "cell_type": "code",
   "execution_count": 7,
   "id": "1a73a315",
   "metadata": {},
   "outputs": [],
   "source": [
    "device = torch.device('cuda' if torch.cuda.is_available() else 'cpu')\n",
    "data = iter(validloader).next()\n",
    "inputs = data['image'].to(device)\n",
    "best_model = trainer.load_model(f\"{model_name}/best.pt\")\n",
    "best_model.eval()\n",
    "ONNX_FILE_PATH = f\"{model_name}/best.onnx\"\n",
    "torch.onnx.export(best_model, inputs, ONNX_FILE_PATH)\n",
    "#wandb.save(f\"{model_name}/best.onnx\")"
   ]
  },
  {
   "cell_type": "code",
   "execution_count": 8,
   "id": "3205fb05",
   "metadata": {},
   "outputs": [],
   "source": [
    "import onnx\n",
    "onnx.checker.check_model(f\"{model_name}/best.onnx\")"
   ]
  },
  {
   "cell_type": "code",
   "execution_count": null,
   "id": "87628380",
   "metadata": {},
   "outputs": [],
   "source": []
  },
  {
   "cell_type": "code",
   "execution_count": null,
   "id": "f07f2e07",
   "metadata": {},
   "outputs": [],
   "source": []
  }
 ],
 "metadata": {
  "kernelspec": {
   "display_name": "lanefollowing",
   "language": "python",
   "name": "lanefollowing"
  },
  "language_info": {
   "codemirror_mode": {
    "name": "ipython",
    "version": 3
   },
   "file_extension": ".py",
   "mimetype": "text/x-python",
   "name": "python",
   "nbconvert_exporter": "python",
   "pygments_lexer": "ipython3",
   "version": "3.8.10"
  }
 },
 "nbformat": 4,
 "nbformat_minor": 5
}
