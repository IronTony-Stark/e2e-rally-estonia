{
 "cells": [
  {
   "cell_type": "code",
   "execution_count": 1,
   "id": "b9344e3f",
   "metadata": {},
   "outputs": [],
   "source": [
    "import numpy as np\n",
    "import pandas as pd\n",
    "import matplotlib.pyplot as plt\n",
    "from pathlib import Path\n",
    "import random\n",
    "import cv2\n",
    "import math\n",
    "import shutil\n",
    "from skimage import io\n",
    "import os\n",
    "from moviepy.editor import ImageSequenceClip\n",
    "\n",
    "from tqdm.auto import tqdm\n",
    "from dataloading.nvidia import NvidiaCropWide, Normalize, NvidiaDataset\n",
    "\n",
    "%load_ext autoreload\n",
    "%autoreload 2"
   ]
  },
  {
   "cell_type": "code",
   "execution_count": 2,
   "id": "5475fdc6",
   "metadata": {},
   "outputs": [],
   "source": [
    "import math\n",
    "import cv2\n",
    "import shutil\n",
    "from skimage import io\n",
    "import os\n",
    "from moviepy.editor import ImageSequenceClip\n",
    "\n",
    "\n",
    "def draw_steering_angle(frame, steering_angle, steering_wheel_radius, steering_position, size, color):\n",
    "    steering_angle_rad = math.radians(steering_angle)\n",
    "    x = steering_wheel_radius * np.cos(np.pi / 2 + steering_angle_rad)\n",
    "    y = steering_wheel_radius * np.sin(np.pi / 2 + steering_angle_rad)\n",
    "    cv2.circle(frame, (steering_position[0] + int(x), steering_position[1] - int(y)), size, color, thickness=-1)\n",
    "    \n",
    "def draw_frames(dataset, predicted_angles, predicted_speed, temp_frames_folder):\n",
    "    \n",
    "    for frame_index, data in tqdm(enumerate(dataset), total=len(dataset)):\n",
    "        \n",
    "        frame = data[\"image\"].permute(1, 2, 0).cpu().numpy()\n",
    "        true_angle = math.degrees(data[\"steering_angle\"])\n",
    "        pred_angle = math.degrees(predicted_angles[frame_index])\n",
    "        \n",
    "        true_speed = data[\"vehicle_speed\"] * 3.6\n",
    "        pred_speed = predicted_speed[frame_index] * 3.6\n",
    "        \n",
    "        cv2.putText(frame, 'True: {:.2f} deg, {:.2f} km/h'.format(true_angle, true_speed), (10, 1150), cv2.FONT_HERSHEY_SIMPLEX, 1, (0, 255, 0), 2,\n",
    "                    cv2.LINE_AA)\n",
    "        cv2.putText(frame, 'Pred: {:.2f} deg, {:.2f} km/h'.format(pred_angle, pred_speed), (10, 1200), cv2.FONT_HERSHEY_SIMPLEX, 1, (255, 0, 0), 2,\n",
    "                    cv2.LINE_AA)\n",
    "    \n",
    "        radius = 200\n",
    "        steering_pos = (960, 1200)\n",
    "        cv2.circle(frame, steering_pos, radius, (255, 255, 255), 7)\n",
    "        \n",
    "        cv2.rectangle(frame, (905, 1200), (955, 1200-int(3*true_speed)), (0,255,0), cv2.FILLED)\n",
    "        cv2.rectangle(frame, (965, 1200), (1015, 1200-int(3*pred_speed)), (255, 0,0), cv2.FILLED)\n",
    "        \n",
    "\n",
    "        draw_steering_angle(frame, true_angle, radius, steering_pos, 13, (0, 255, 0))\n",
    "        draw_steering_angle(frame, pred_angle, radius, steering_pos, 9, (255, 0, 0))\n",
    "            \n",
    "        io.imsave(f\"{temp_frames_folder}/{frame_index + 1:05}.jpg\", frame)\n",
    "        \n",
    "\n",
    "def convert_frames_to_video(frames_folder, output_video_path, fps=25):\n",
    "    output_folder = Path(os.path.split(output_video_path)[:-1][0])\n",
    "    output_folder.mkdir(parents=True, exist_ok=True)\n",
    "\n",
    "    p = Path(frames_folder).glob('**/*.jpg')\n",
    "    image_list = sorted([str(x) for x in p if x.is_file()])\n",
    "\n",
    "    print(\"Creating video {}, FPS={}\".format(frames_folder, fps))\n",
    "    clip = ImageSequenceClip(image_list, fps=fps)\n",
    "    clip.write_videofile(output_video_path)"
   ]
  },
  {
   "cell_type": "code",
   "execution_count": 3,
   "id": "58343d0c",
   "metadata": {},
   "outputs": [],
   "source": [
    "root_path = Path(\"/home/romet/projects/ut/wp4/dataset\")\n",
    "valid_paths = [root_path / \"2021-05-28-15-19-48_e2e_sulaoja_20_30\"]\n",
    "validset = NvidiaDataset(valid_paths, camera=\"front_wide\")"
   ]
  },
  {
   "cell_type": "code",
   "execution_count": 4,
   "id": "62cdea00",
   "metadata": {},
   "outputs": [
    {
     "data": {
      "application/vnd.jupyter.widget-view+json": {
       "model_id": "7647dcb1c1fc4d18854cac3e14423062",
       "version_major": 2,
       "version_minor": 0
      },
      "text/plain": [
       "  0%|          | 0/520 [00:00<?, ?it/s]"
      ]
     },
     "metadata": {},
     "output_type": "display_data"
    }
   ],
   "source": [
    "from dataloading.nvidia import NvidiaCropWide, Normalize, NvidiaDataset\n",
    "from trainer import Trainer\n",
    "from torchvision import transforms\n",
    "\n",
    "trainer = Trainer(\"\")\n",
    "torch_model = trainer.load_model(f\"models/1-pilotnet-steering-v1/best.pt\")\n",
    "torch_model.eval()\n",
    "\n",
    "tr = transforms.Compose([NvidiaCropWide(), Normalize()])\n",
    "validset_tr = NvidiaDataset(valid_paths, tr)\n",
    "steering_predictions = trainer.predict(torch_model, validset_tr)"
   ]
  },
  {
   "cell_type": "code",
   "execution_count": 5,
   "id": "a6f9ab85",
   "metadata": {},
   "outputs": [
    {
     "data": {
      "application/vnd.jupyter.widget-view+json": {
       "model_id": "e7d99f4c407c4ce3ab5e08fb3875da2f",
       "version_major": 2,
       "version_minor": 0
      },
      "text/plain": [
       "  0%|          | 0/520 [00:00<?, ?it/s]"
      ]
     },
     "metadata": {},
     "output_type": "display_data"
    }
   ],
   "source": [
    "trainer = Trainer(\"\")\n",
    "torch_model = trainer.load_model(f\"models/1-pilotnet-steering-speed-v1/best.pt\")\n",
    "torch_model.eval()\n",
    "\n",
    "tr = transforms.Compose([NvidiaCropWide(), Normalize()])\n",
    "validset_tr = NvidiaDataset(valid_paths, tr)\n",
    "speed_predictions = trainer.predict(torch_model, validset_tr)"
   ]
  },
  {
   "cell_type": "code",
   "execution_count": 6,
   "id": "daf7d44f",
   "metadata": {},
   "outputs": [
    {
     "data": {
      "application/vnd.jupyter.widget-view+json": {
       "model_id": "4a0b930a83cc48d69bb76bbe22b39d83",
       "version_major": 2,
       "version_minor": 0
      },
      "text/plain": [
       "  0%|          | 0/33240 [00:00<?, ?it/s]"
      ]
     },
     "metadata": {},
     "output_type": "display_data"
    },
    {
     "name": "stdout",
     "output_type": "stream",
     "text": [
      "Creating video temp_frames, FPS=30.0\n",
      "Moviepy - Building video output/test.mp4.\n",
      "Moviepy - Writing video output/test.mp4\n",
      "\n"
     ]
    },
    {
     "name": "stderr",
     "output_type": "stream",
     "text": [
      "                                                                                                                                          \r"
     ]
    },
    {
     "name": "stdout",
     "output_type": "stream",
     "text": [
      "Moviepy - Done !\n",
      "Moviepy - video ready output/test.mp4\n"
     ]
    }
   ],
   "source": [
    "temp_frames_folder = Path(\"./temp_frames\")\n",
    "shutil.rmtree(temp_frames_folder, ignore_errors=True)\n",
    "temp_frames_folder.mkdir()\n",
    "\n",
    "draw_frames(validset, steering_predictions, speed_predictions, temp_frames_folder)\n",
    "output_video = \"output/test.mp4\"\n",
    "convert_frames_to_video(temp_frames_folder, output_video, fps=30.0)\n",
    "\n",
    "shutil.rmtree(temp_frames_folder, ignore_errors=True)"
   ]
  },
  {
   "cell_type": "code",
   "execution_count": 7,
   "id": "2dedaf65",
   "metadata": {},
   "outputs": [
    {
     "data": {
      "text/html": [
       "\n",
       "<video width=\"640\" height=\"480\" controls>\n",
       "  <source src=\"output/test.mp4\" type=\"video/mp4\">\n",
       "</video>\n"
      ],
      "text/plain": [
       "<IPython.core.display.HTML object>"
      ]
     },
     "execution_count": 7,
     "metadata": {},
     "output_type": "execute_result"
    }
   ],
   "source": [
    "from IPython.display import HTML\n",
    "\n",
    "\n",
    "HTML(f\"\"\"\n",
    "<video width=\"640\" height=\"480\" controls>\n",
    "  <source src=\"{output_video}\" type=\"video/mp4\">\n",
    "</video>\n",
    "\"\"\")"
   ]
  },
  {
   "cell_type": "code",
   "execution_count": null,
   "id": "a73b6b9f",
   "metadata": {},
   "outputs": [],
   "source": []
  }
 ],
 "metadata": {
  "kernelspec": {
   "display_name": "Python 3 (ipykernel)",
   "language": "python",
   "name": "python3"
  },
  "language_info": {
   "codemirror_mode": {
    "name": "ipython",
    "version": 3
   },
   "file_extension": ".py",
   "mimetype": "text/x-python",
   "name": "python",
   "nbconvert_exporter": "python",
   "pygments_lexer": "ipython3",
   "version": "3.9.6"
  }
 },
 "nbformat": 4,
 "nbformat_minor": 5
}
